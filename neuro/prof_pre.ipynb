{
 "cells": [
  {
   "attachments": {},
   "cell_type": "markdown",
   "id": "5a49ac22",
   "metadata": {},
   "source": [
    "# Presynaptic profiles analysis\n",
    "\n",
    "---\n",
    "\n",
    "Presynaptic axonal terminals with GCamp5f"
   ]
  },
  {
   "cell_type": "code",
   "execution_count": null,
   "id": "fad8eac8",
   "metadata": {},
   "outputs": [],
   "source": [
    "import sys\n",
    "import os\n",
    "import yaml\n",
    "\n",
    "import matplotlib.pyplot as plt\n",
    "import plotly.express as px\n",
    "\n",
    "import numpy as np\n",
    "import numpy.polynomial.polynomial as poly\n",
    "import pandas as pd\n",
    "import peakutils\n",
    "import scikit_posthocs as sp\n",
    "\n",
    "from scipy import signal\n",
    "from scipy import stats\n",
    "from scipy import ndimage\n",
    "\n",
    "from skimage import io\n",
    "from sklearn import preprocessing"
   ]
  },
  {
   "attachments": {},
   "cell_type": "markdown",
   "id": "16e68eba",
   "metadata": {},
   "source": [
    "## Full frame analysis"
   ]
  },
  {
   "attachments": {},
   "cell_type": "markdown",
   "id": "ce6bb1ec",
   "metadata": {},
   "source": [
    "### Data & metadata uploading"
   ]
  },
  {
   "attachments": {},
   "cell_type": "markdown",
   "id": "54085d88",
   "metadata": {},
   "source": [
    "#### Single data"
   ]
  },
  {
   "cell_type": "code",
   "execution_count": null,
   "id": "933a8459",
   "metadata": {},
   "outputs": [],
   "source": [
    "samp_name = 'A0011'\n",
    "samp_path = os.path.join(''.join(sys.path[0].split('neuro')), 'data_neuro', samp_name)\n",
    "\n",
    "# sample YAML metadata file uploading\n",
    "with open(f'{samp_path}/{samp_name}_meta.yaml') as f:\n",
    "    samp_meta = yaml.safe_load(f)\n",
    "\n",
    "# sample img series uploading\n",
    "img = io.imread(f'{samp_path}/{samp_name}_pre_mov_cor.tif')\n",
    "plt.figure(figsize=(10,10))\n",
    "plt.imshow(np.max(img, axis=0), cmap='jet')\n",
    "\n",
    "\n",
    "# time parameters (from meta file)\n",
    "total_reg_t = samp_meta['Reg_time']\n",
    "frame_time = total_reg_t / img.shape[0]\n",
    "time_line = np.linspace(0, total_reg_t, num=img.shape[0])\n",
    "\n",
    "# treatment parameters (from meta file)\n",
    "treatment_dict = {}\n",
    "for samp in samp_meta['Events']:\n",
    "    treat_name = f\"{samp['Type']}_{samp['Freq']}\"\n",
    "    start_time = samp['Time']/1000\n",
    "    end_time = start_time + samp['Duration']\n",
    "    treatment_dict.update({treat_name:[start_time, end_time]})\n",
    "for k,v in treatment_dict.items():  # app time print\n",
    "    print(k, ':', np.around(v, 1))\n",
    "\n",
    "application_lines_dict = {t:np.linspace(treatment_dict[t][0], treatment_dict[t][1]) for t in treatment_dict}\n"
   ]
  },
  {
   "attachments": {},
   "cell_type": "markdown",
   "id": "f3eeff4d",
   "metadata": {},
   "source": [
    "#### Multiple data"
   ]
  },
  {
   "cell_type": "code",
   "execution_count": null,
   "id": "3c3054f8",
   "metadata": {},
   "outputs": [],
   "source": [
    "class PreReg():\n",
    "    \"\"\" Presynapse full-frame registration\n",
    "\n",
    "    \"\"\"\n",
    "    def __init__(self, samp_name):\n",
    "        self.samp_name = samp_name\n",
    "        self.samp_path = os.path.join(''.join(sys.path[0].split('neuro')), 'data_neuro', samp_name)\n",
    "        \n",
    "        self.samp_plot_save_path = f'{self.samp_path}/pre_plot'\n",
    "        if not os.path.exists(self.samp_plot_save_path):\n",
    "             os.makedirs(self.samp_plot_save_path)\n",
    "\n",
    "        self.img_series = io.imread(f'{self.samp_path}/{self.samp_name}_pre_mov_cor.tif')\n",
    "        self.total_prof = np.asarray([np.mean(frame) for frame in self.img_series])\n",
    "\n",
    "        with open(f'{self.samp_path}/{self.samp_name}_meta.yaml') as f:\n",
    "            self.samp_meta = yaml.safe_load(f)\n",
    "\n",
    "        self.total_reg_t = self.samp_meta['Reg_time']\n",
    "        self.frame_time = self.total_reg_t / self.img_series.shape[0]\n",
    "        self.time_line = np.linspace(0, self.total_reg_t, num=self.img_series.shape[0])\n",
    "\n",
    "        print(f'{self.samp_name} ({self.samp_meta[\"Treat\"]})')\n",
    "        self.treat_dict, self.app_line_dict = self.treat_calc(self.samp_meta)\n",
    "\n",
    "\n",
    "    @staticmethod\n",
    "    def treat_calc(samp_meta):\n",
    "        treat_dict = {}\n",
    "        for samp in samp_meta['Events']:\n",
    "            treat_name = f\"{samp['Type']}_{samp['Freq']}\"\n",
    "            start_time = samp['Time']/1000\n",
    "            end_time = start_time + samp['Duration']\n",
    "            treat_dict.update({treat_name:[start_time, end_time]})\n",
    "        for k,v in treat_dict.items():  # app time print\n",
    "            print(k, ':', np.around(v, 1))\n",
    "\n",
    "        application_lines_dict = {t:np.linspace(treat_dict[t][0], treat_dict[t][1]) \\\n",
    "                                  for t in treat_dict}\n",
    "    \n",
    "        return treat_dict, application_lines_dict\n",
    "    \n",
    "\n",
    "    def plot_tot_profile(self, save_debug_plot=False):\n",
    "        plt.figure(figsize=(10, 4))\n",
    "        plt.plot(self.time_line, self.total_prof)\n",
    "\n",
    "        for line_name in self.app_line_dict:\n",
    "                line_lim = self.app_line_dict[line_name]\n",
    "                plt.plot(line_lim, [np.min(self.total_prof)] * len(line_lim),\n",
    "                         label=line_name, linewidth=4)\n",
    "\n",
    "        plt.xlabel('Time, s')\n",
    "        plt.ylabel('I, a.u.')\n",
    "        plt.title(f'PRE {self.samp_name} ({self.samp_meta[\"Treat\"]}) FOV integral')    \n",
    "        plt.tight_layout()    \n",
    "        plt.legend()\n",
    "        if save_debug_plot:\n",
    "                plt.savefig(f'{self.samp_plot_save_path}/{self.samp_name}_pre_total_prof.png', dpi=300)\n",
    "        else:\n",
    "            plt.show()\n",
    "        plt.close()\n",
    "\n",
    "\n",
    "    def LF_stims(self, stim_ext_sec=15, LF_min_distance_sec=8, save_debug_plot=True):\n",
    "        \"\"\" Extraction of low-frequency stimulation (0.1 Hz)\n",
    "\n",
    "        \"\"\"\n",
    "        self.LF_min_distance_frames = int(LF_min_distance_sec / self.frame_time)\n",
    "        if self.LF_min_distance_frames < 1:\n",
    "            self.LF_min_distance_frames = 1\n",
    "\n",
    "        self.LF_dF_stim_prof = {}\n",
    "        self.LF_stim_df = pd.DataFrame(columns=['samp',\n",
    "                                                'treat',\n",
    "                                                'stim',\n",
    "                                                'amp_raw',\n",
    "                                                'amp_dF'])\n",
    "\n",
    "        for l_n in self.treat_dict:\n",
    "                if l_n in ['A+C_0.1', 'C_0.1']:\n",
    "                        line_name = l_n\n",
    "                        t_lim = self.treat_dict[line_name]\n",
    "                        time_mask = (self.time_line>=(t_lim[0]-stim_ext_sec)) & \\\n",
    "                                    (self.time_line<=(t_lim[1]+stim_ext_sec))\n",
    "\n",
    "                        stim_prof_raw = self.total_prof[time_mask]\n",
    "                        stim_prof_base = peakutils.baseline(stim_prof_raw, 4)\n",
    "                        stim_prof = (stim_prof_raw - stim_prof_base) \\\n",
    "                                     + np.mean(stim_prof_base)\n",
    "                        stim_time = self.time_line[:len(stim_prof-3)]\n",
    "\n",
    "                        F_0 = np.mean(stim_prof[:stim_ext_sec])\n",
    "                        dF_stim_prof = (stim_prof-F_0)/F_0\n",
    "                        dF_stim_prof_raw = (stim_prof_raw-np.mean(stim_prof_raw[:stim_ext_sec]))\\\n",
    "                                            / np.mean(stim_prof_raw[:10])\n",
    "                        self.LF_dF_stim_prof.update({line_name:dF_stim_prof})\n",
    "\n",
    "                        peaks, properties = signal.find_peaks(dF_stim_prof,\n",
    "                                                              height=np.max(dF_stim_prof)*0.25,\n",
    "                                                              distance=self.LF_min_distance_frames)\n",
    "                        \n",
    "                        stim_df = pd.DataFrame({'samp':np.full(len(peaks), self.samp_name),\n",
    "                                                'treat':np.full(len(peaks), self.samp_meta[\"Treat\"]), \n",
    "                                                'stim':np.full(len(peaks), line_name),\n",
    "                                                'amp_raw':stim_prof[peaks],\n",
    "                                                'amp_dF':dF_stim_prof[peaks]})\n",
    "                        self.LF_stim_df = pd.concat([self.LF_stim_df, stim_df],\n",
    "                                                    ignore_index=True)\n",
    "\n",
    "                        plt.figure(figsize=(10, 4))\n",
    "                        plt.plot(stim_time, dF_stim_prof,\n",
    "                                    label='No base')\n",
    "                        plt.plot(stim_time, dF_stim_prof_raw,\n",
    "                                    label='Raw', linestyle='--', linewidth=0.75)\n",
    "                        plt.plot(stim_time[peaks], dF_stim_prof[peaks], 'x',\n",
    "                                    label='Peak', color='r')\n",
    "                        plt.title(f'PRE {self.samp_name} ({self.samp_meta[\"Treat\"]}), {line_name} ({len(peaks)} peaks)')\n",
    "                        plt.xlabel('Time, s')\n",
    "                        plt.ylabel('ΔF/F')\n",
    "                        plt.legend()\n",
    "                        plt.tight_layout()\n",
    "                        if save_debug_plot:\n",
    "                             plt.savefig(f'{self.samp_plot_save_path}/{self.samp_name}_{line_name}_pre_peaks_prof.png', dpi=300)\n",
    "                        else:\n",
    "                            plt.show()\n",
    "                        plt.close()\n",
    "\n",
    "                        if save_debug_plot:\n",
    "                            # raw prof\n",
    "                            plt.figure(figsize=(10, 4))\n",
    "                            plt.plot(stim_time, stim_prof, label='raw no base')\n",
    "                            plt.plot(stim_time, stim_prof_raw, label='raw', linestyle='--')\n",
    "                            plt.plot(stim_time, stim_prof_base, label='baseline', linestyle=':')\n",
    "                            plt.hlines(y=min(stim_prof_raw), xmin=0, xmax=stim_ext_sec-1,\n",
    "                                    label='F0 win.', linewidth=4)\n",
    "                            plt.title(f'PRE {self.samp_name} ({self.samp_meta[\"Treat\"]}), {line_name}, raw baseline extraction')\n",
    "                            plt.legend()\n",
    "                            plt.xlabel('Time, s')\n",
    "                            plt.ylabel('I, a.u.')\n",
    "                            plt.tight_layout()\n",
    "                            plt.savefig(f'{self.samp_plot_save_path}/{self.samp_name}_{line_name}_pre_raw_prof.png', dpi=300)\n",
    "                            plt.close()\n",
    "\n",
    "                            # # dF prof\n",
    "                            # plt.figure(figsize=(10, 4))\n",
    "                            # plt.plot(stim_time, dF_stim_prof, label='dF no base')\n",
    "                            # plt.plot(stim_time, dF_stim_prof_raw, label='dF raw', linestyle='--')\n",
    "                            # plt.hlines(y=min(dF_stim_prof_raw), xmin=0, xmax=stim_ext_sec-1,\n",
    "                            #         label='F0 win.', linewidth=4)\n",
    "                            # plt.title(f'{self.samp_name}, {line_name}, dF baseline extraction')\n",
    "                            # plt.legend()\n",
    "                            # plt.tight_layout()\n",
    "                            # plt.savefig(f'{self.samp_plot_save_path}/{self.samp_name}_{line_name}_dF_prof.png', dpi=300)\n",
    "                            # plt.close()\n",
    "\n",
    "\n",
    "    def HF_stims(self, stim_ext_l=10, stim_ext_r=40, HF_min_distance_sec=8, save_debug_plot=True):\n",
    "        \"\"\" Extraction of high-frequency stimulation (10 Hz)\n",
    "\n",
    "        \"\"\"\n",
    "        self.HF_min_distance_frames = int(HF_min_distance_sec / self.frame_time)\n",
    "        if self.HF_min_distance_frames < 1:\n",
    "            self.HF_min_distance_frames = 1\n",
    "\n",
    "        self.HF_dF_stim_prof = {}\n",
    "        self.HF_stim_df = pd.DataFrame(columns=['samp',\n",
    "                                                'treat',\n",
    "                                                'stim',\n",
    "                                                'amp_raw',\n",
    "                                                'amp_dF',\n",
    "                                                'FWHM',\n",
    "                                                'AUC',\n",
    "                                                'rise',\n",
    "                                                'decay'])\n",
    "        \n",
    "        plt.figure(figsize=(7, 8))\n",
    "        for l_n in self.treat_dict:\n",
    "                if l_n in ['A+C_10.0', 'C_10.0', 'A_10.0']:\n",
    "                        line_name = l_n\n",
    "                        t_lim = self.treat_dict[line_name]\n",
    "                        time_mask = (self.time_line>=(t_lim[0]-stim_ext_l)) & \\\n",
    "                                    (self.time_line<=(t_lim[1]+stim_ext_r))\n",
    "\n",
    "                        stim_prof = self.total_prof[time_mask]\n",
    "                        stim_time = self.time_line[:len(stim_prof)]\n",
    "\n",
    "                        F_0 = np.mean(stim_prof[:stim_ext_l])\n",
    "                        dF_stim_prof = (stim_prof-F_0)/F_0\n",
    "                        self.HF_dF_stim_prof.update({line_name:dF_stim_prof})\n",
    "\n",
    "                        peaks, prop = signal.find_peaks(dF_stim_prof,\n",
    "                                                        height=np.max(dF_stim_prof)*0.25,\n",
    "                                                        distance=self.HF_min_distance_frames,\n",
    "                                                        prominence=(np.max(dF_stim_prof) \\\n",
    "                                                                    -np.min(dF_stim_prof))*0.5,\n",
    "                                                        rel_height=0.98,\n",
    "                                                        width=1)\n",
    "                        fwhm_prop = signal.peak_widths(x=dF_stim_prof, peaks=peaks,\n",
    "                                                       rel_height=0.5,\n",
    "                                                       prominence_data=(prop['prominences'], prop['left_bases'], prop['right_bases']))\n",
    "                        \n",
    "                        prom = prop['prominences']\n",
    "                        prom_h = dF_stim_prof[peaks] - prom\n",
    "                        base_w = np.sort(np.asarray([*prop['left_ips'], \\\n",
    "                                                     *prop['right_ips']], dtype=int))\n",
    "                        base_pairs =  np.asarray(list(zip(prop['left_ips'], \\\n",
    "                                                          prop['right_ips'])), dtype=int)\n",
    "                        \n",
    "                        fwhm_y = fwhm_prop[1]\n",
    "                        fwhm_l = stim_time[np.asarray(fwhm_prop[2], dtype=int)]\n",
    "                        fwhm_r = stim_time[np.asarray(fwhm_prop[3]+1, dtype=int)]\n",
    "\n",
    "                        stim_df = pd.DataFrame({'samp':np.full(len(peaks), self.samp_name),\n",
    "                                                'treat':np.full(len(peaks), self.samp_meta[\"Treat\"]), \n",
    "                                                'stim':np.full(len(peaks), line_name),\n",
    "                                                'amp_raw':stim_prof[peaks],\n",
    "                                                'amp_dF':dF_stim_prof[peaks],\n",
    "                                                'FWHM':fwhm_prop[1] * self.frame_time,\n",
    "                                                'AUC':[np.sum(dF_stim_prof[bp[0]:bp[1]]) for bp in base_pairs],\n",
    "                                                'rise':(peaks-prop['left_ips'])*self.frame_time,\n",
    "                                                'decay':(prop['right_ips']-peaks)*self.frame_time})\n",
    "                        self.HF_stim_df = pd.concat([self.HF_stim_df, stim_df],\n",
    "                                                    ignore_index=True)\n",
    "\n",
    "                        # peak with prop plotting\n",
    "                        plt.vlines(x=stim_time[peaks],\n",
    "                                   ymin=prom_h, ymax=dF_stim_prof[peaks], color='red')\n",
    "                        plt.hlines(y=fwhm_y, xmin=fwhm_l, xmax=fwhm_r, color='red')\n",
    "                        plt.plot(stim_time[peaks], dF_stim_prof[peaks], 'x', markersize=5, \n",
    "                                 color='r')\n",
    "                        plt.plot(stim_time[base_w], dF_stim_prof[base_w], '.', markersize=10,\n",
    "                                 color='red')\n",
    "                        for peak_num in range(base_pairs.shape[0]):\n",
    "                            base_width = base_pairs[peak_num]\n",
    "                            peak_base_val = prop['width_heights'][peak_num]\n",
    "                            plt.fill_between(x=stim_time[base_width[0]:base_width[1]], \n",
    "                                             y1=dF_stim_prof[base_width[0]:base_width[1]],\n",
    "                                             y2=np.full((base_width[1]-base_width[0]), peak_base_val), \n",
    "                                             color=\"red\",\n",
    "                                             alpha=0.1)\n",
    "                        plt.plot(stim_time, dF_stim_prof, label=line_name)\n",
    "\n",
    "        plt.title(f'PRE {self.samp_name} ({self.samp_meta[\"Treat\"]}), dF')\n",
    "        plt.xlabel('Time, s')\n",
    "        plt.ylabel('ΔF/F')\n",
    "        plt.legend()\n",
    "        plt.tight_layout()\n",
    "        if save_debug_plot:\n",
    "            plt.savefig(f'{self.samp_plot_save_path}/{self.samp_name}_{line_name}_pre_peaks_prof.png', dpi=300)\n",
    "        else:\n",
    "            plt.show()\n",
    "        plt.close()\n",
    "             "
   ]
  },
  {
   "cell_type": "code",
   "execution_count": null,
   "id": "0b2a4037",
   "metadata": {},
   "outputs": [],
   "source": [
    "ctrl_reg = PreReg('A0011')\n",
    "ctrl_reg.plot_tot_profile(save_debug_plot=True)\n",
    "ctrl_reg.LF_stims(stim_ext_sec=10, save_debug_plot=True)\n",
    "ctrl_reg.HF_stims(stim_ext_l=25, stim_ext_r=30, save_debug_plot=True)\n"
   ]
  },
  {
   "cell_type": "code",
   "execution_count": null,
   "id": "b2f26752",
   "metadata": {},
   "outputs": [],
   "source": [
    "ctrl5_reg = PreReg('A0005')\n",
    "bicuc_reg = PreReg('A0012')\n",
    "noglu_reg = PreReg('A0013')"
   ]
  },
  {
   "cell_type": "code",
   "execution_count": null,
   "id": "9a9d8497",
   "metadata": {},
   "outputs": [],
   "source": [
    "ctrl5_reg.plot_tot_profile(save_debug_plot=True)\n",
    "ctrl5_reg.LF_stims(stim_ext_sec=10)\n",
    "ctrl5_reg.HF_stims(stim_ext_l=25, stim_ext_r=30)\n",
    "\n",
    "bicuc_reg.plot_tot_profile(save_debug_plot=True)\n",
    "bicuc_reg.LF_stims(stim_ext_sec=10)\n",
    "bicuc_reg.HF_stims(stim_ext_l=25, stim_ext_r=30)\n",
    "\n",
    "noglu_reg.plot_tot_profile(save_debug_plot=True)\n",
    "noglu_reg.LF_stims(stim_ext_sec=10)\n",
    "noglu_reg.HF_stims(stim_ext_l=25, stim_ext_r=30)"
   ]
  },
  {
   "attachments": {},
   "cell_type": "markdown",
   "id": "f12a0b4b",
   "metadata": {},
   "source": [
    "## Stat"
   ]
  },
  {
   "attachments": {},
   "cell_type": "markdown",
   "id": "c8e1fb7e",
   "metadata": {},
   "source": [
    "### DF combine"
   ]
  },
  {
   "cell_type": "code",
   "execution_count": null,
   "id": "b828d990",
   "metadata": {},
   "outputs": [],
   "source": [
    "LF_tot = pd.concat((ctrl_reg.LF_stim_df, bicuc_reg.LF_stim_df, noglu_reg.LF_stim_df), ignore_index=True)\n",
    "HF_tot = pd.concat((ctrl_reg.HF_stim_df, bicuc_reg.HF_stim_df, noglu_reg.HF_stim_df), ignore_index=True)"
   ]
  },
  {
   "cell_type": "code",
   "execution_count": null,
   "id": "63c095a4",
   "metadata": {},
   "outputs": [],
   "source": [
    "LF_tot"
   ]
  },
  {
   "attachments": {},
   "cell_type": "markdown",
   "id": "7d0ba298",
   "metadata": {},
   "source": [
    "### LF stim. stat"
   ]
  },
  {
   "attachments": {},
   "cell_type": "markdown",
   "id": "a11ca6b1",
   "metadata": {},
   "source": [
    "#### Box-plot"
   ]
  },
  {
   "cell_type": "code",
   "execution_count": null,
   "id": "5a9d9a70",
   "metadata": {},
   "outputs": [],
   "source": [
    "fig = px.box(LF_tot, x='treat' , y='amp_dF', color='treat', points='all', facet_col='stim')\n",
    "fig.show()"
   ]
  },
  {
   "attachments": {},
   "cell_type": "markdown",
   "id": "99365b9e",
   "metadata": {},
   "source": [
    "#### A+C stim. HSD-test"
   ]
  },
  {
   "cell_type": "code",
   "execution_count": null,
   "id": "f38025e1",
   "metadata": {},
   "outputs": [],
   "source": [
    "# https://blog.4dcu.be/programming/2021/12/30/Posthoc-Statannotations.html\n",
    "\n",
    "group_0 = ctrl_reg.LF_stim_df['amp_dF'][ctrl_reg.LF_stim_df['stim'] == 'A+C_0.1']\n",
    "group_1 = bicuc_reg.LF_stim_df['amp_dF'][bicuc_reg.LF_stim_df['stim'] == 'A+C_0.1']\n",
    "group_2 = noglu_reg.LF_stim_df['amp_dF'][noglu_reg.LF_stim_df['stim'] == 'A+C_0.1']\n",
    "\n",
    "ac_lf_krus_test = stats.kruskal(group_0, group_1, group_2)\n",
    "print(ac_lf_krus_test)\n",
    "\n",
    "ac_lf_dunn_test = sp.posthoc_dunn([group_0, group_1, group_2])\n",
    "ac_lf_dunn_test\n"
   ]
  },
  {
   "attachments": {},
   "cell_type": "markdown",
   "id": "9bbe62cb",
   "metadata": {},
   "source": [
    "#### C stim. U-test"
   ]
  },
  {
   "cell_type": "code",
   "execution_count": null,
   "id": "e20bfffd",
   "metadata": {},
   "outputs": [],
   "source": [
    "c_lf_group_0 = ctrl_reg.LF_stim_df['amp_dF'][ctrl_reg.LF_stim_df['stim'] == 'C_0.1']\n",
    "c_lf_group_1 = bicuc_reg.LF_stim_df['amp_dF'][bicuc_reg.LF_stim_df['stim'] == 'C_0.1']\n",
    "\n",
    "c_lf_u_test = stats.mannwhitneyu(c_lf_group_0, c_lf_group_1)\n",
    "print(c_lf_u_test)"
   ]
  },
  {
   "attachments": {},
   "cell_type": "markdown",
   "id": "78ef2c84",
   "metadata": {},
   "source": [
    "### LF treat. stat"
   ]
  },
  {
   "attachments": {},
   "cell_type": "markdown",
   "id": "e0904ac1",
   "metadata": {},
   "source": [
    "#### Box-plot"
   ]
  },
  {
   "cell_type": "code",
   "execution_count": null,
   "id": "5e98f20c",
   "metadata": {},
   "outputs": [],
   "source": [
    "fig = px.box(LF_tot, x='stim' , y='amp_dF', color='stim', points='all', facet_col='treat')\n",
    "fig.show()"
   ]
  },
  {
   "attachments": {},
   "cell_type": "markdown",
   "id": "4dcffdc9",
   "metadata": {},
   "source": [
    "#### Ctrl U-test"
   ]
  },
  {
   "cell_type": "code",
   "execution_count": null,
   "id": "f8749dae",
   "metadata": {},
   "outputs": [],
   "source": [
    "ctrl_lf_group_0 = ctrl_reg.LF_stim_df['amp_dF'][ctrl_reg.LF_stim_df['stim'] == 'C_0.1']\n",
    "ctrl_lf_group_1 = ctrl_reg.LF_stim_df['amp_dF'][ctrl_reg.LF_stim_df['stim'] == 'A+C_0.1']\n",
    "\n",
    "ctrl_lf_u_test = stats.mannwhitneyu(ctrl_lf_group_0, ctrl_lf_group_1)\n",
    "print(ctrl_lf_u_test)"
   ]
  },
  {
   "attachments": {},
   "cell_type": "markdown",
   "id": "1e01c3fc",
   "metadata": {},
   "source": [
    "#### Bicuc. U-test"
   ]
  },
  {
   "cell_type": "code",
   "execution_count": null,
   "id": "3289d020",
   "metadata": {},
   "outputs": [],
   "source": [
    "ctrl_reg.LF_stim_df"
   ]
  },
  {
   "cell_type": "code",
   "execution_count": null,
   "id": "c7ee92f9",
   "metadata": {},
   "outputs": [],
   "source": [
    "bicuc_lf_group_0 = bicuc_reg.LF_stim_df['amp_dF'][bicuc_reg.LF_stim_df['stim'] == 'C_0.1']\n",
    "bicuc_lf_group_1 = bicuc_reg.LF_stim_df['amp_dF'][bicuc_reg.LF_stim_df['stim'] == 'A+C_0.1']\n",
    "\n",
    "bicuc_lf_u_test = stats.mannwhitneyu(bicuc_lf_group_0, bicuc_lf_group_1)\n",
    "print(bicuc_lf_u_test)"
   ]
  },
  {
   "attachments": {},
   "cell_type": "markdown",
   "id": "ffcbdde8",
   "metadata": {},
   "source": [
    "#### HF stat"
   ]
  },
  {
   "cell_type": "code",
   "execution_count": null,
   "id": "c766b96a",
   "metadata": {},
   "outputs": [],
   "source": [
    "ctrl_group_1 = ctrl_reg.LF_stim_df['amp_dF'][ctrl_reg.LF_stim_df['stim'] == 'A+C_0.1']\n",
    "ctrl_group_2 = ctrl_reg.LF_stim_df['amp_dF'][ctrl_reg.LF_stim_df['stim'] == 'C_0.1']\n",
    "\n",
    "ctrl_u_val, ctrl_p_val = stats.mannwhitneyu(ctrl_group_1, ctrl_group_2)\n",
    "print(f'U-test p-value={ctrl_p_val}')\n",
    "\n",
    "fig = px.box(ctrl_reg.LF_stim_df, x='stim' , y='amp_dF', color='stim', points=\"all\")\n",
    "fig.show()"
   ]
  },
  {
   "cell_type": "code",
   "execution_count": null,
   "id": "9b459341",
   "metadata": {},
   "outputs": [],
   "source": [
    "bicuc_group_1 = bicuc_reg.LF_stim_df['amp_dF'][bicuc_reg.LF_stim_df['stim'] == 'A+C_0.1']\n",
    "bicuc_group_2 = bicuc_reg.LF_stim_df['amp_dF'][bicuc_reg.LF_stim_df['stim'] == 'C_0.1']\n",
    "\n",
    "bicuc_u_val, bicuc_p_val = stats.mannwhitneyu(bicuc_group_1, bicuc_group_2)\n",
    "print(f'U-test p-value={bicuc_p_val}')\n",
    "\n",
    "fig = px.box(bicuc_reg.LF_stim_df, x='stim' , y='amp_dF', color='stim', points=\"all\")\n",
    "fig.show()"
   ]
  },
  {
   "cell_type": "code",
   "execution_count": null,
   "id": "17e1a7c4",
   "metadata": {},
   "outputs": [],
   "source": [
    "crop_up_df = LF_up_df[LF_up_df['cur'] >= 40].drop(['time', 'cur'], axis=1)\n",
    "LF_total_df = pd.concat([LF_stim_df, crop_up_df], ignore_index=True)\n",
    "\n",
    "group_0 = LF_total_df['amp_dF'][LF_total_df['stim'] == 'A+C_0.1']\n",
    "group_1 = LF_total_df['amp_dF'][LF_total_df['stim'] == 'C_0.1']\n",
    "group_2 = LF_total_df['amp_dF'][LF_total_df['stim'] == 'A+C_10-150_0.1']\n",
    "hsd_test = stats.tukey_hsd(group_0, group_1, group_2)\n",
    "print(hsd_test)\n",
    "\n",
    "fig = px.box(LF_total_df, x='stim' , y='amp_dF', color='stim', points=\"all\")\n",
    "fig.show()"
   ]
  }
 ],
 "metadata": {
  "kernelspec": {
   "display_name": "caiman",
   "language": "python",
   "name": "python3"
  },
  "language_info": {
   "codemirror_mode": {
    "name": "ipython",
    "version": 3
   },
   "file_extension": ".py",
   "mimetype": "text/x-python",
   "name": "python",
   "nbconvert_exporter": "python",
   "pygments_lexer": "ipython3",
   "version": "3.10.8"
  },
  "vscode": {
   "interpreter": {
    "hash": "29b2b70970d54890c2ecd25b23b96024fbcef9a6a76cf3bb8bb780f56e497e25"
   }
  }
 },
 "nbformat": 4,
 "nbformat_minor": 5
}
