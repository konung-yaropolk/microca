{
 "cells": [
  {
   "attachments": {},
   "cell_type": "markdown",
   "id": "5a49ac22",
   "metadata": {},
   "source": [
    "# Presynaptic profiles analysis\n",
    "\n",
    "---\n",
    "\n",
    "Pre-synaptic axonal terminals with GCamp5f"
   ]
  },
  {
   "cell_type": "code",
   "execution_count": 3,
   "id": "fad8eac8",
   "metadata": {},
   "outputs": [],
   "source": [
    "import sys\n",
    "import os\n",
    "import yaml\n",
    "\n",
    "import matplotlib.pyplot as plt\n",
    "import plotly.express as px\n",
    "\n",
    "import numpy as np\n",
    "import numpy.polynomial.polynomial as poly\n",
    "import pandas as pd\n",
    "import peakutils\n",
    "\n",
    "from scipy import signal\n",
    "from scipy import stats\n",
    "from scipy import ndimage\n",
    "\n",
    "from skimage import io\n",
    "from sklearn import preprocessing"
   ]
  },
  {
   "attachments": {},
   "cell_type": "markdown",
   "id": "16e68eba",
   "metadata": {},
   "source": [
    "## Full frame analysis"
   ]
  },
  {
   "attachments": {},
   "cell_type": "markdown",
   "id": "ce6bb1ec",
   "metadata": {},
   "source": [
    "### Data & metadata uploading"
   ]
  },
  {
   "attachments": {},
   "cell_type": "markdown",
   "id": "54085d88",
   "metadata": {},
   "source": [
    "#### Single data"
   ]
  },
  {
   "cell_type": "code",
   "execution_count": null,
   "id": "933a8459",
   "metadata": {},
   "outputs": [],
   "source": [
    "samp_name = 'A0011'\n",
    "samp_path = os.path.join(''.join(sys.path[0].split('neuro')), 'data_neuro', samp_name)\n",
    "\n",
    "# sample YAML metadata file uploading\n",
    "with open(f'{samp_path}/{samp_name}_meta.yaml') as f:\n",
    "    samp_meta = yaml.safe_load(f)\n",
    "\n",
    "# sample img series uploading\n",
    "img = io.imread(f'{samp_path}/{samp_name}_pre_mov_cor.tif')\n",
    "plt.figure(figsize=(10,10))\n",
    "plt.imshow(np.max(img, axis=0), cmap='jet')\n",
    "\n",
    "\n",
    "# time parameters (from meta file)\n",
    "total_reg_t = samp_meta['Reg_time']\n",
    "frame_time = total_reg_t / img.shape[0]\n",
    "time_line = np.linspace(0, total_reg_t, num=img.shape[0])\n",
    "\n",
    "# treatment parameters (from meta file)\n",
    "treatment_dict = {}\n",
    "for samp in samp_meta['Events']:\n",
    "    treat_name = f\"{samp['Type']}_{samp['Freq']}\"\n",
    "    start_time = samp['Time']/1000\n",
    "    end_time = start_time + samp['Duration']\n",
    "    treatment_dict.update({treat_name:[start_time, end_time]})\n",
    "for k,v in treatment_dict.items():  # app time print\n",
    "    print(k, ':', np.around(v, 1))\n",
    "\n",
    "application_lines_dict = {t:np.linspace(treatment_dict[t][0], treatment_dict[t][1]) for t in treatment_dict}\n"
   ]
  },
  {
   "attachments": {},
   "cell_type": "markdown",
   "id": "f3eeff4d",
   "metadata": {},
   "source": [
    "#### Multiple data"
   ]
  },
  {
   "cell_type": "code",
   "execution_count": 64,
   "id": "3c3054f8",
   "metadata": {},
   "outputs": [],
   "source": [
    "class pre_reg():\n",
    "    \"\"\" Presynapse full-frame registration\n",
    "\n",
    "    \"\"\"\n",
    "    def __init__(self, samp_name):\n",
    "        self.samp_name = samp_name\n",
    "        self.samp_path = os.path.join(''.join(sys.path[0].split('neuro')), 'data_neuro', samp_name)\n",
    "        \n",
    "        self.samp_plot_save_path = f'{self.samp_path}/plot'\n",
    "        if not os.path.exists(self.samp_plot_save_path):\n",
    "             os.makedirs(self.samp_plot_save_path)\n",
    "\n",
    "        self.img_series = io.imread(f'{self.samp_path}/{self.samp_name}_pre_mov_cor.tif')\n",
    "        self.total_prof = np.asarray([np.mean(frame) for frame in self.img_series])\n",
    "\n",
    "        with open(f'{self.samp_path}/{self.samp_name}_meta.yaml') as f:\n",
    "            self.samp_meta = yaml.safe_load(f)\n",
    "\n",
    "        self.total_reg_t = self.samp_meta['Reg_time']\n",
    "        self.frame_time = self.total_reg_t / self.img_series.shape[0]\n",
    "        self.time_line = np.linspace(0, self.total_reg_t, num=self.img_series.shape[0])\n",
    "\n",
    "        print(f'{self.samp_name} ({self.samp_meta[\"Treat\"]})')\n",
    "        self.treat_dict, self.app_line_dict = self.treat_calc(self.samp_meta)\n",
    "\n",
    "\n",
    "    @staticmethod\n",
    "    def treat_calc(samp_meta):\n",
    "        treat_dict = {}\n",
    "        for samp in samp_meta['Events']:\n",
    "            treat_name = f\"{samp['Type']}_{samp['Freq']}\"\n",
    "            start_time = samp['Time']/1000\n",
    "            end_time = start_time + samp['Duration']\n",
    "            treat_dict.update({treat_name:[start_time, end_time]})\n",
    "        for k,v in treat_dict.items():  # app time print\n",
    "            print(k, ':', np.around(v, 1))\n",
    "\n",
    "        application_lines_dict = {t:np.linspace(treat_dict[t][0], treat_dict[t][1]) \\\n",
    "                                  for t in treat_dict}\n",
    "    \n",
    "        return treat_dict, application_lines_dict\n",
    "    \n",
    "\n",
    "    def plot_tot_profile(self):\n",
    "        plt.figure(figsize=(10, 4))\n",
    "        plt.plot(self.time_line, self.total_prof)\n",
    "\n",
    "        for line_name in self.app_line_dict:\n",
    "                line_lim = self.app_line_dict[line_name]\n",
    "                plt.plot(line_lim, [np.min(self.total_prof)] * len(line_lim),\n",
    "                         label=line_name, linewidth=4)\n",
    "\n",
    "        plt.xlabel('Time, s')\n",
    "        plt.ylabel('I, a.u.')\n",
    "        plt.title(f'{self.samp_name} ({self.samp_meta[\"Treat\"]})')        \n",
    "        plt.legend()\n",
    "\n",
    "\n",
    "    def LF_stims(self, stim_ext_sec=15, LF_min_distance_sec=8, save_debug_plot=False):\n",
    "        \"\"\" Extraction of low-frequency stimulation (0.1 Hz)\n",
    "\n",
    "        \"\"\"\n",
    "        self.LF_min_distance_frames = int(LF_min_distance_sec / self.frame_time)\n",
    "        if self.LF_min_distance_frames < 1:\n",
    "            self.LF_min_distance_frames = 1\n",
    "\n",
    "        self.LF_dF_stim_prof = {}\n",
    "        self.LF_stim_df = pd.DataFrame(columns=['stim',\n",
    "                                                'amp_raw',\n",
    "                                                'amp_dF'])\n",
    "\n",
    "        for line_name in self.treat_dict:\n",
    "                if line_name in ['A+C_0.1', 'C_0.1']:\n",
    "                        t_lim = self.treat_dict[line_name]\n",
    "                        time_mask = (self.time_line>=(t_lim[0]-stim_ext_sec)) & \\\n",
    "                                    (self.time_line<=(t_lim[1]+stim_ext_sec))\n",
    "\n",
    "                        stim_prof_raw = self.total_prof[time_mask]\n",
    "                        stim_prof_base = peakutils.baseline(stim_prof_raw, 4)\n",
    "                        stim_prof = (stim_prof_raw - stim_prof_base) \\\n",
    "                                     + np.mean(stim_prof_base)\n",
    "                        stim_time = self.time_line[:len(stim_prof-3)]\n",
    "\n",
    "                        F_0 = np.mean(stim_prof[:stim_ext_sec])\n",
    "                        dF_stim_prof = (stim_prof-F_0)/F_0\n",
    "                        dF_stim_prof_raw = (stim_prof_raw-np.mean(stim_prof_raw[:stim_ext_sec]))\\\n",
    "                                            / np.mean(stim_prof_raw[:10])\n",
    "                        self.LF_dF_stim_prof.update({line_name:dF_stim_prof})\n",
    "\n",
    "                        peaks, properties = signal.find_peaks(dF_stim_prof,\n",
    "                                                              height=np.max(dF_stim_prof)*0.25,\n",
    "                                                              distance=self.LF_min_distance_frames)\n",
    "                        \n",
    "                        stim_df = pd.DataFrame({'stim':np.full(len(peaks), line_name),\n",
    "                                                'amp_raw':stim_prof[peaks],\n",
    "                                                'amp_dF':dF_stim_prof[peaks]})\n",
    "                        self.LF_stim_df = pd.concat([self.LF_stim_df, stim_df],\n",
    "                                                    ignore_index=True)\n",
    "\n",
    "                        plt.figure(figsize=(10, 4))\n",
    "                        plt.plot(stim_time, dF_stim_prof,\n",
    "                                    label='No base')\n",
    "                        plt.plot(stim_time, dF_stim_prof_raw,\n",
    "                                    label='Raw', linestyle='--', linewidth=0.75)\n",
    "                        plt.plot(stim_time[peaks], dF_stim_prof[peaks], 'x',\n",
    "                                    label='peaks', color='r')\n",
    "                        plt.title(f'{self.samp_name} ({self.samp_meta[\"Treat\"]}), {line_name} ({len(peaks)} peaks)')\n",
    "                        plt.xlabel('Time, s')\n",
    "                        plt.ylabel('ΔF/F')\n",
    "                        plt.legend()\n",
    "                        if save_debug_plot:\n",
    "                             plt.savefig(f'{self.samp_plot_save_path}/{self.samp_name}_{line_name}_peaks_prof.png', dpi=300)\n",
    "                        else:\n",
    "                            plt.show()\n",
    "                        plt.close()\n",
    "\n",
    "                        if save_debug_plot:\n",
    "                            # raw prof\n",
    "                            plt.figure(figsize=(10, 4))\n",
    "                            plt.plot(stim_time, stim_prof, label='raw no base')\n",
    "                            plt.plot(stim_time, stim_prof_raw, label='raw', linestyle='--')\n",
    "                            plt.plot(stim_time, stim_prof_base, label='baseline', linestyle=':')\n",
    "                            plt.hlines(y=min(stim_prof_raw), xmin=0, xmax=stim_ext_sec-1,\n",
    "                                    label='F0 win.', linewidth=4)\n",
    "                            plt.title(f'{self.samp_name}, {line_name}, raw baseline extraction')\n",
    "                            plt.legend()\n",
    "                            plt.savefig(f'{self.samp_plot_save_path}/{self.samp_name}_{line_name}_raw_prof.png', dpi=300)\n",
    "                            plt.close()\n",
    "\n",
    "                            # dF prof\n",
    "                            plt.figure(figsize=(10, 4))\n",
    "                            plt.plot(stim_time, dF_stim_prof, label='dF no base')\n",
    "                            plt.plot(stim_time, dF_stim_prof_raw, label='dF raw', linestyle='--')\n",
    "                            plt.hlines(y=min(dF_stim_prof_raw), xmin=0, xmax=stim_ext_sec-1,\n",
    "                                    label='F0 win.', linewidth=4)\n",
    "                            plt.title(f'{self.samp_name}, {line_name}, dF baseline extraction')\n",
    "                            plt.legend()\n",
    "                            plt.savefig(f'{self.samp_plot_save_path}/{self.samp_name}_{line_name}_dF_prof.png', dpi=300)\n",
    "                            plt.close()\n",
    "\n",
    "\n",
    "    def HF_stims(self, stim_ext_l=10, stim_ext_r=40, HF_min_distance_sec=8, save_debug_plot=False):\n",
    "        \"\"\" Extraction of high-frequency stimulation (10 Hz)\n",
    "\n",
    "        \"\"\"\n",
    "        self.HF_min_distance_frames = int(HF_min_distance_sec / self.frame_time)\n",
    "        if self.HF_min_distance_frames < 1:\n",
    "            self.HF_min_distance_frames = 1\n",
    "\n",
    "        self.HF_dF_stim_prof = {}\n",
    "        self.HF_stim_df = pd.DataFrame(columns=['stim',\n",
    "                                                'amp_raw',\n",
    "                                                'amp_dF',\n",
    "                                                'AUC',\n",
    "                                                'rise',\n",
    "                                                'decay'])\n",
    "        \n",
    "        plt.figure(figsize=(10, 6))\n",
    "        for line_name in self.treat_dict:\n",
    "                if line_name in ['A+C_10.0', 'C_10.0', 'A_10.0']:\n",
    "                        t_lim = self.treat_dict[line_name]\n",
    "                        time_mask = (self.time_line>=(t_lim[0]-stim_ext_l)) & \\\n",
    "                                    (self.time_line<=(t_lim[1]+stim_ext_r))\n",
    "\n",
    "                        stim_prof = self.total_prof[time_mask]\n",
    "                        stim_time = self.time_line[:len(stim_prof)]\n",
    "\n",
    "                        F_0 = np.mean(stim_prof[:stim_ext_l])\n",
    "                        dF_stim_prof = (stim_prof-F_0)/F_0\n",
    "                        self.HF_dF_stim_prof.update({line_name:dF_stim_prof})\n",
    "\n",
    "                        peaks, prop = signal.find_peaks(dF_stim_prof,\n",
    "                                                        height=np.max(dF_stim_prof)*0.25,\n",
    "                                                        distance=self.HF_min_distance_frames,\n",
    "                                                        prominence=(np.max(dF_stim_prof) \\\n",
    "                                                                    -np.min(dF_stim_prof))*0.5,\n",
    "                                                        rel_height=0.98,\n",
    "                                                        width=1)\n",
    "                        print(prop)\n",
    "\n",
    "                        prom = prop['prominences']\n",
    "                        prom_h = dF_stim_prof[peaks] - prom\n",
    "                        width_w = np.sort(np.asarray([*prop['left_ips'], \\\n",
    "                                                      *prop['right_ips']], dtype=int))\n",
    "                        width_pairs =  np.asarray(list(zip(prop['left_ips'], \\\n",
    "                                                           prop['right_ips'])), dtype=int)\n",
    "                        \n",
    "                        plt.vlines(x=stim_time[peaks],\n",
    "                                   ymin=prom_h, ymax=dF_stim_prof[peaks], color='red')\n",
    "                        # plt.hlines(y=fwhm_y, xmin=fwhm_l, xmax=fwhm_r, color='red')\n",
    "                        plt.plot(stim_time[peaks], dF_stim_prof[peaks], 'x', markersize=5, \n",
    "                                 color='r')\n",
    "                        plt.plot(stim_time[width_w], dF_stim_prof[width_w], '.', markersize=10,\n",
    "                                 color='red')\n",
    "                        for peak_num in range(width_pairs.shape[0]):\n",
    "                            peak_width = width_pairs[peak_num]\n",
    "                            peak_base_val = prop['width_heights'][peak_num]\n",
    "                            plt.fill_between(x=stim_time[peak_width[0]:peak_width[1]], \n",
    "                                             y1=dF_stim_prof[peak_width[0]:peak_width[1]],\n",
    "                                             y2=np.full((peak_width[1]-peak_width[0]), peak_base_val), \n",
    "                                             color=\"red\",\n",
    "                                             alpha=0.1)\n",
    "                        plt.plot(stim_time, dF_stim_prof, label=line_name)\n",
    "\n",
    "        plt.title(f'{self.samp_name} ({self.samp_meta[\"Treat\"]}), dF')\n",
    "        plt.legend()\n",
    "\n",
    "\n",
    "        # plt.figure(figsize=(4, 10))\n",
    "        # for stim_name in self.HF_dF_stim_prof.keys():\n",
    "        #     one_prof = self.HF_dF_stim_prof[stim_name]\n",
    "        #     plt.plot(stim_time, one_prof, label=stim_name)\n",
    "        # # plt.plot(stim_time, stim_prof, label='raw', linestyle='--')\n",
    "        # # plt.plot(stim_time, stim_prof_base, label='baseline', linestyle=':')\n",
    "        # # plt.hlines(y=min(stim_prof_raw), xmin=0, xmax=stim_ext_sec-1,\n",
    "        # #         label='F0 win.', linewidth=4)\n",
    "        # plt.title(f'{self.samp_name}, {line_name}, raw')\n",
    "        # plt.legend()\n",
    "\n",
    "        # # dF prof\n",
    "        # plt.figure(figsize=(10, 4))\n",
    "        # plt.plot(stim_time, dF_stim_prof, label='dF')\n",
    "        # # plt.plot(stim_time, dF_stim_prof_raw, label='dF raw', linestyle='--')\n",
    "        # # plt.hlines(y=min(dF_stim_prof_raw), xmin=0, xmax=stim_ext_sec-1,\n",
    "        # #         label='F0 win.', linewidth=4)stim_ext_sec\n",
    "        # plt.title(f'{self.samp_name}, {line_name}, dF')\n",
    "        # plt.legend()\n"
   ]
  },
  {
   "cell_type": "code",
   "execution_count": 65,
   "id": "0b2a4037",
   "metadata": {},
   "outputs": [
    {
     "name": "stdout",
     "output_type": "stream",
     "text": [
      "A0011 (Ctrl)\n",
      "A+C_10.0 : [36.2 38.2]\n",
      "C_10.0 : [70.6 72.6]\n",
      "A_10.0 : [111.1 114. ]\n",
      "A+C_0.1 : [150.1 250.1]\n",
      "C_0.1 : [279.3 379.3]\n",
      "A+C_10-150_0.1 : [409.9 559.9]\n"
     ]
    }
   ],
   "source": [
    "# ctrl5_reg = pre_reg('A0005')\n",
    "ctrl_reg = pre_reg('A0011')\n",
    "# bicuc_reg = pre_reg('A0012')\n",
    "# noglu_reg = pre_reg('A0013')"
   ]
  },
  {
   "cell_type": "code",
   "execution_count": null,
   "id": "24e192d9",
   "metadata": {},
   "outputs": [],
   "source": [
    "# ctrl5_reg.plot_tot_profile()\n",
    "# ctrl5_reg.LF_stims(stim_ext_sec=10)"
   ]
  },
  {
   "cell_type": "code",
   "execution_count": null,
   "id": "9ca22cb8",
   "metadata": {},
   "outputs": [],
   "source": [
    "# ctrl5_group_1 = ctrl5_reg.LF_stim_df['amp_dF'][ctrl5_reg.LF_stim_df['stim'] == 'A+C_0.1']\n",
    "# ctrl5_group_2 = ctrl5_reg.LF_stim_df['amp_dF'][ctrl5_reg.LF_stim_df['stim'] == 'C_0.1']\n",
    "\n",
    "# ctrl5_u_val, ctrl5_p_val = stats.mannwhitneyu(ctrl5_group_1, ctrl5_group_2)\n",
    "# print(f'U-test p-value={ctrl5_p_val}')\n",
    "\n",
    "# fig = px.box(ctrl5_reg.LF_stim_df, x='stim' , y='amp_dF', color='stim', points=\"all\")\n",
    "# fig.show()"
   ]
  },
  {
   "cell_type": "code",
   "execution_count": 66,
   "id": "9a9d8497",
   "metadata": {},
   "outputs": [
    {
     "name": "stdout",
     "output_type": "stream",
     "text": [
      "{'peak_heights': array([0.43868324]), 'prominences': array([0.44347659]), 'left_bases': array([9]), 'right_bases': array([91]), 'widths': array([24.53888374]), 'width_heights': array([0.00407618]), 'left_ips': array([39.84790434]), 'right_ips': array([64.38678808])}\n",
      "{'peak_heights': array([0.3674967]), 'prominences': array([0.36862591]), 'left_bases': array([34]), 'right_bases': array([91]), 'widths': array([27.89273933]), 'width_heights': array([0.00624331]), 'left_ips': array([40.38751208]), 'right_ips': array([68.28025141])}\n",
      "{'peak_heights': array([0.06456333]), 'prominences': array([0.06768988]), 'left_bases': array([31]), 'right_bases': array([59]), 'widths': array([18.52071653]), 'width_heights': array([-0.00177275]), 'left_ips': array([39.20984846]), 'right_ips': array([57.73056499])}\n"
     ]
    },
    {
     "data": {
      "image/png": "[encoded data removed]",
      "text/plain": [
       "<Figure size 1000x400 with 1 Axes>"
      ]
     },
     "metadata": {},
     "output_type": "display_data"
    },
    {
     "data": {
      "image/png": "[encoded data removed]",
      "text/plain": [
       "<Figure size 1000x600 with 1 Axes>"
      ]
     },
     "metadata": {},
     "output_type": "display_data"
    }
   ],
   "source": [
    "ctrl_reg.plot_tot_profile()\n",
    "# ctrl_reg.LF_stims(stim_ext_sec=10)\n",
    "ctrl_reg.HF_stims(stim_ext_l=25, stim_ext_r=30, save_debug_plot=True)"
   ]
  },
  {
   "cell_type": "code",
   "execution_count": null,
   "id": "c766b96a",
   "metadata": {},
   "outputs": [],
   "source": [
    "ctrl_group_1 = ctrl_reg.LF_stim_df['amp_dF'][ctrl_reg.LF_stim_df['stim'] == 'A+C_0.1']\n",
    "ctrl_group_2 = ctrl_reg.LF_stim_df['amp_dF'][ctrl_reg.LF_stim_df['stim'] == 'C_0.1']\n",
    "\n",
    "ctrl_u_val, ctrl_p_val = stats.mannwhitneyu(ctrl_group_1, ctrl_group_2)\n",
    "print(f'U-test p-value={ctrl_p_val}')\n",
    "\n",
    "fig = px.box(ctrl_reg.LF_stim_df, x='stim' , y='amp_dF', color='stim', points=\"all\")\n",
    "fig.show()"
   ]
  },
  {
   "cell_type": "code",
   "execution_count": null,
   "id": "f625a128",
   "metadata": {},
   "outputs": [],
   "source": [
    "bicuc_reg.plot_tot_profile()\n",
    "bicuc_reg.LF_stims(stim_ext_sec=10)"
   ]
  },
  {
   "cell_type": "code",
   "execution_count": null,
   "id": "9b459341",
   "metadata": {},
   "outputs": [],
   "source": [
    "bicuc_group_1 = bicuc_reg.LF_stim_df['amp_dF'][bicuc_reg.LF_stim_df['stim'] == 'A+C_0.1']\n",
    "bicuc_group_2 = bicuc_reg.LF_stim_df['amp_dF'][bicuc_reg.LF_stim_df['stim'] == 'C_0.1']\n",
    "\n",
    "bicuc_u_val, bicuc_p_val = stats.mannwhitneyu(bicuc_group_1, bicuc_group_2)\n",
    "print(f'U-test p-value={bicuc_p_val}')\n",
    "\n",
    "fig = px.box(bicuc_reg.LF_stim_df, x='stim' , y='amp_dF', color='stim', points=\"all\")\n",
    "fig.show()"
   ]
  },
  {
   "attachments": {},
   "cell_type": "markdown",
   "id": "7fd8d909",
   "metadata": {},
   "source": [
    "### 0.1 Hz stim. 150 uA"
   ]
  },
  {
   "attachments": {},
   "cell_type": "markdown",
   "id": "4c48be27",
   "metadata": {},
   "source": [
    "Profiles"
   ]
  },
  {
   "cell_type": "code",
   "execution_count": null,
   "id": "99d7d482",
   "metadata": {},
   "outputs": [],
   "source": [
    "stim_ext_sec = 15\n",
    "\n",
    "# min_distance_sec = ctrl_reg.plot_tot_profile()\n",
    "min_distance_frames = int(8 / frame_time)\n",
    "if min_distance_frames < 1:\n",
    "    min_distance_frames = 1\n",
    "\n",
    "LF_dF_stim_prof = {}\n",
    "LF_stim_df = pd.DataFrame(columns=['stim',\n",
    "                                   'amp_raw',\n",
    "                                   'amp_dF'])\n",
    "\n",
    "for line_name in treatment_dict:\n",
    "        if line_name in ['A+C_0.1', 'C_0.1']:\n",
    "                t_lim = treatment_dict[line_name]\n",
    "                time_mask = (time_line>=(t_lim[0]-stim_ext_sec)) & \\\n",
    "                            (time_line<=(t_lim[1]+stim_ext_sec))\n",
    "\n",
    "                stim_prof = prof[time_mask]\n",
    "                F_0 = np.mean(stim_prof[:stim_ext_sec-5])\n",
    "                dF_stim_prof = (stim_prof-F_0)/F_0\n",
    "                LF_dF_stim_prof.update({line_name:dF_stim_prof})\n",
    "\n",
    "                stim_time = time_line[:len(stim_prof)]\n",
    "\n",
    "                peaks, properties = signal.find_peaks(dF_stim_prof,\n",
    "                                                      height=np.max(dF_stim_prof)*0.1,\n",
    "                                                      distance=min_distance_frames)\n",
    "                \n",
    "                stim_df = pd.DataFrame({'stim':np.full(len(peaks), line_name),\n",
    "                                        'amp_raw':stim_prof[peaks],\n",
    "                                        'amp_dF':dF_stim_prof[peaks]})\n",
    "                LF_stim_df = pd.concat([LF_stim_df, stim_df], ignore_index=True)\n",
    "\n",
    "                plt.figure(figsize=(10, 4))\n",
    "                plt.plot(stim_time, dF_stim_prof)\n",
    "                plt.plot(stim_time[peaks], dF_stim_prof[peaks], 'x')\n",
    "                plt.title(line_name)"
   ]
  },
  {
   "attachments": {},
   "cell_type": "markdown",
   "id": "1582d5d8",
   "metadata": {},
   "source": [
    "Stat."
   ]
  },
  {
   "cell_type": "code",
   "execution_count": null,
   "id": "b685b44e",
   "metadata": {},
   "outputs": [],
   "source": [
    "group_1 = LF_stim_df['amp_dF'][LF_stim_df['stim'] == 'A+C_0.1']\n",
    "group_2 = LF_stim_df['amp_dF'][LF_stim_df['stim'] == 'C_0.1']\n",
    "\n",
    "u_val, p_val = stats.mannwhitneyu(group_1, group_2)\n",
    "print(f'U-test p-value={p_val}')\n",
    "\n",
    "fig = px.box(LF_stim_df, x='stim' , y='amp_dF', color='stim', points=\"all\")\n",
    "fig.show()"
   ]
  },
  {
   "attachments": {},
   "cell_type": "markdown",
   "id": "62ab0093",
   "metadata": {},
   "source": [
    "### 0.1 Hz 10-150 uA"
   ]
  },
  {
   "attachments": {},
   "cell_type": "markdown",
   "id": "c14948ac",
   "metadata": {},
   "source": [
    "Profile"
   ]
  },
  {
   "cell_type": "code",
   "execution_count": null,
   "id": "5ad19bb0",
   "metadata": {},
   "outputs": [],
   "source": [
    "stim_ext_sec = 15\n",
    "\n",
    "min_distance_sec = 8\n",
    "min_distance_frames = int(min_distance_sec / frame_time)\n",
    "if min_distance_frames < 1:\n",
    "    min_distance_frames = 1\n",
    "\n",
    "LF_dF_up_prof = {}\n",
    "LF_up_df = pd.DataFrame(columns=['stim',\n",
    "                                 'time',\n",
    "                                 'amp_raw',\n",
    "                                 'amp_dF',\n",
    "                                 'cur'])\n",
    "\n",
    "for line_name in treatment_dict:\n",
    "        if line_name in ['A+C_10-150_0.1']:\n",
    "                t_lim = treatment_dict[line_name]\n",
    "                time_mask = (time_line>=(t_lim[0]-stim_ext_sec)) & \\\n",
    "                            (time_line<=(t_lim[1]+stim_ext_sec))\n",
    "\n",
    "                stim_prof = prof[time_mask]\n",
    "                F_0 = np.mean(stim_prof[:stim_ext_sec-5])\n",
    "                dF_stim_prof = (stim_prof-F_0)/F_0\n",
    "                LF_dF_up_prof.update({line_name:dF_stim_prof})\n",
    "\n",
    "                stim_time = time_line[:len(stim_prof)]\n",
    "\n",
    "                peaks, properties = signal.find_peaks(dF_stim_prof,\n",
    "                                                      height=np.max(dF_stim_prof)*0.1,\n",
    "                                                      distance=min_distance_frames)\n",
    "                \n",
    "                # stim_val = ['150', '140', '130', '120', '110', '100', '90', '80', '70', '60', '50', '40', '30', '20', '10']\n",
    "                stim_val = range(10, 160, 10)\n",
    "                stim_df = pd.DataFrame({'stim':np.full(len(peaks), line_name),\n",
    "                                        'time':stim_time[peaks],\n",
    "                                        'amp_raw':stim_prof[peaks],\n",
    "                                        'amp_dF':dF_stim_prof[peaks,],\n",
    "                                        'cur': stim_val})  # list(reversed(stim_val))\n",
    "                LF_up_df = pd.concat([LF_up_df, stim_df], ignore_index=True)\n",
    "\n",
    "                plt.figure(figsize=(10, 4))\n",
    "                plt.plot(stim_time, dF_stim_prof)\n",
    "                plt.plot(stim_time[peaks], dF_stim_prof[peaks], 'x')\n",
    "                plt.title(line_name)"
   ]
  },
  {
   "attachments": {},
   "cell_type": "markdown",
   "id": "4c5ac756",
   "metadata": {},
   "source": [
    "Stat."
   ]
  },
  {
   "cell_type": "code",
   "execution_count": null,
   "id": "0b24ab84",
   "metadata": {},
   "outputs": [],
   "source": [
    "fig = px.line(LF_up_df, x='cur', y='amp_dF', markers=True)\n",
    "fig.show()"
   ]
  },
  {
   "cell_type": "code",
   "execution_count": null,
   "id": "17e1a7c4",
   "metadata": {},
   "outputs": [],
   "source": [
    "crop_up_df = LF_up_df[LF_up_df['cur'] >= 40].drop(['time', 'cur'], axis=1)\n",
    "LF_total_df = pd.concat([LF_stim_df, crop_up_df], ignore_index=True)\n",
    "\n",
    "group_0 = LF_total_df['amp_dF'][LF_total_df['stim'] == 'A+C_0.1']\n",
    "group_1 = LF_total_df['amp_dF'][LF_total_df['stim'] == 'C_0.1']\n",
    "group_2 = LF_total_df['amp_dF'][LF_total_df['stim'] == 'A+C_10-150_0.1']\n",
    "hsd_test = stats.tukey_hsd(group_0, group_1, group_2)\n",
    "print(hsd_test)\n",
    "\n",
    "fig = px.box(LF_total_df, x='stim' , y='amp_dF', color='stim', points=\"all\")\n",
    "fig.show()"
   ]
  },
  {
   "attachments": {},
   "cell_type": "markdown",
   "id": "78f393e6",
   "metadata": {},
   "source": [
    "### 10 Hz stims. 150 uA"
   ]
  },
  {
   "cell_type": "code",
   "execution_count": null,
   "id": "4ff65abe",
   "metadata": {},
   "outputs": [],
   "source": [
    "stim_ext_sec = 15\n",
    "\n",
    "HF_dF_stim_prof = {}\n",
    "for line_name in treatment_dict:\n",
    "        if line_name.split('_')[-1] == '10.0':\n",
    "                t_lim = treatment_dict[line_name]\n",
    "                time_mask = (time_line>=(t_lim[0]-stim_ext_sec)) & (time_line<=(t_lim[1]+stim_ext_sec))\n",
    "                \n",
    "                stim_prof = prof[time_mask]\n",
    "                F_0 = np.mean(stim_prof[:stim_ext_sec-5])\n",
    "                dF_stim_prof = (stim_prof-F_0)/F_0\n",
    "\n",
    "                HF_dF_stim_prof.update({line_name:dF_stim_prof})\n",
    "\n",
    "                plt.figure(figsize=(10, 4))\n",
    "                plt.plot(time_line[:len(stim_prof)], dF_stim_prof)\n",
    "                plt.title(line_name)\n",
    "                # plt.plot(line_lim, [np.min(prof)] * len(line_lim), label=line_name, linewidth=4)\n",
    "print(HF_dF_stim_prof.keys())"
   ]
  }
 ],
 "metadata": {
  "kernelspec": {
   "display_name": "caiman",
   "language": "python",
   "name": "python3"
  },
  "language_info": {
   "codemirror_mode": {
    "name": "ipython",
    "version": 3
   },
   "file_extension": ".py",
   "mimetype": "text/x-python",
   "name": "python",
   "nbconvert_exporter": "python",
   "pygments_lexer": "ipython3",
   "version": "3.10.8"
  },
  "vscode": {
   "interpreter": {
    "hash": "29b2b70970d54890c2ecd25b23b96024fbcef9a6a76cf3bb8bb780f56e497e25"
   }
  }
 },
 "nbformat": 4,
 "nbformat_minor": 5
}
