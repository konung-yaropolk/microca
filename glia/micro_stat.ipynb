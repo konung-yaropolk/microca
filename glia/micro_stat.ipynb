{
 "cells": [
  {
   "attachments": {},
   "cell_type": "markdown",
   "metadata": {},
   "source": [
    "# Statistical analysis\n",
    "\n",
    "---"
   ]
  },
  {
   "cell_type": "code",
   "execution_count": 1,
   "metadata": {},
   "outputs": [],
   "source": [
    "import os\n",
    "import sys\n",
    "import glob\n",
    "import logging\n",
    "import time\n",
    "\n",
    "import matplotlib.pyplot as plt\n",
    "import plotly.express as px\n",
    "\n",
    "import numpy as np\n",
    "import pandas as pd\n",
    "from clustergram import Clustergram as CGram\n",
    "from itertools import combinations\n",
    "\n",
    "import scipy\n",
    "from scipy import signal\n",
    "from scipy import stats\n",
    "\n",
    "from sklearn.decomposition import PCA\n",
    "from sklearn.discriminant_analysis import LinearDiscriminantAnalysis as LDA\n",
    "from sklearn.manifold import TSNE\n",
    "from sklearn.linear_model import LogisticRegression as LR"
   ]
  },
  {
   "attachments": {},
   "cell_type": "markdown",
   "metadata": {},
   "source": [
    "# Data frames combining"
   ]
  },
  {
   "cell_type": "code",
   "execution_count": 3,
   "metadata": {},
   "outputs": [
    {
     "name": "stdout",
     "output_type": "stream",
     "text": [
      "/home/wisstock/bio/scripts/microca/data_glia/C0002\n",
      "/home/wisstock/bio/scripts/microca/data_glia/D0001\n",
      "/home/wisstock/bio/scripts/microca/data_glia/E0002\n"
     ]
    }
   ],
   "source": [
    "samp_list = ['C0002', 'D0001', 'E0002']\n",
    "data_path = os.path.join(''.join(sys.path[0].split('glia')), 'data_glia')\n",
    "\n",
    "components_df_list = []\n",
    "peaks_df_list = []\n",
    "for samp_to_upload in samp_list:\n",
    "    samp_upload_path = f'{data_path}/{samp_to_upload}'\n",
    "    components_df_list.append(pd.read_csv(f'{samp_upload_path}/components_df.csv'))\n",
    "    peaks_df_list.append(pd.read_csv(f'{samp_upload_path}/peaks_properties_df.csv'))\n",
    "    print(samp_upload_path)\n",
    "\n",
    "total_component_df = pd.concat(components_df_list)\n",
    "total_component_df.to_csv(f'{data_path}/total_components_df.csv')\n",
    "\n",
    "total_peak_df = pd.concat(peaks_df_list)\n",
    "total_peak_df.to_csv(f'{data_path}/total_peaks_properties_df.csv')"
   ]
  },
  {
   "attachments": {},
   "cell_type": "markdown",
   "metadata": {},
   "source": [
    "# Preprocessing"
   ]
  },
  {
   "attachments": {},
   "cell_type": "markdown",
   "metadata": {},
   "source": [
    "#### DF uploading"
   ]
  },
  {
   "cell_type": "code",
   "execution_count": 18,
   "metadata": {},
   "outputs": [
    {
     "name": "stdout",
     "output_type": "stream",
     "text": [
      "  reg_name  frame_num      time  comp  profile_raw   profile_C  profile_ddf\n",
      "0    C0002          0  0.000000     0    53.587025 -161.175541     0.019450\n",
      "1    C0002          1  1.091983     0    52.102883 -161.175541     0.005571\n",
      "2    C0002          2  2.183965     0    51.916756 -161.175541    -0.006909\n",
      "3    C0002          3  3.275948     0    52.376493 -161.175541     0.023312\n",
      "4    C0002          4  4.367931     0    53.452555 -161.175541     0.028068\n"
     ]
    }
   ],
   "source": [
    "samp_list = ['C0002', 'D0001', 'E0002']\n",
    "data_path = os.path.join(''.join(sys.path[0].split('glia')), 'data_glia')\n",
    "\n",
    "total_component_df = pd.read_csv(f'{data_path}/total_components_df.csv')\n",
    "print(total_component_df.head())\n",
    "\n",
    "total_peak_df = pd.read_csv(f'{data_path}/total_peaks_properties_df.csv')\n",
    "print(total_peak_df.head())"
   ]
  },
  {
   "attachments": {},
   "cell_type": "markdown",
   "metadata": {},
   "source": [
    "### DF sorting"
   ]
  },
  {
   "attachments": {},
   "cell_type": "markdown",
   "metadata": {},
   "source": [
    "#### Mark profiles inactive in ctrl period "
   ]
  },
  {
   "cell_type": "code",
   "execution_count": 65,
   "metadata": {},
   "outputs": [
    {
     "name": "stdout",
     "output_type": "stream",
     "text": [
      "C0002 1 (1, 12) ['C5a']\n",
      "C0002 15 (5, 12) ['C5a', 'wash']\n",
      "C0002 16 (1, 12) ['C5a']\n",
      "D0001 5 (2, 12) ['wash']\n",
      "D0001 11 (4, 12) ['wash']\n",
      "D0001 14 (6, 12) ['C5a', 'wash']\n",
      "E0002 15 (2, 12) ['wash']\n",
      "E0002 16 (8, 12) ['C5a', 'wash']\n",
      "E0002 14 (4, 12) ['C5a', 'wash']\n"
     ]
    }
   ],
   "source": [
    "sort_peaks_df = total_peak_df.copy()\n",
    "groups = sort_peaks_df.comp.unique()\n",
    "\n",
    "no_ctrl_comp = {}\n",
    "for s in range(len(samp_list)):\n",
    "    s_val = samp_list[s]\n",
    "    comps = []\n",
    "    for g in range(len(groups)):\n",
    "        g_val = groups[g]\n",
    "        df = sort_peaks_df[(sort_peaks_df['sample'] == s_val) & (sort_peaks_df['comp'] == g_val)]\n",
    "        app_val = list(df.app_group.unique())\n",
    "        if app_val:\n",
    "            if 'ctrl' in app_val:\n",
    "                continue\n",
    "            else:\n",
    "                comps.append(g_val)\n",
    "                print(s_val, g_val, df.shape, app_val)\n",
    "        else:\n",
    "            continue\n",
    "    no_ctrl_comp.update({s_val:comps})"
   ]
  },
  {
   "cell_type": "code",
   "execution_count": 73,
   "metadata": {},
   "outputs": [
    {
     "name": "stdout",
     "output_type": "stream",
     "text": [
      "(604, 12)\n",
      "(99000, 7)\n"
     ]
    }
   ],
   "source": [
    "print(total_peak_df.shape)\n",
    "print(total_component_df.shape)"
   ]
  },
  {
   "attachments": {},
   "cell_type": "markdown",
   "metadata": {},
   "source": [
    "#### No ctrl DF creation"
   ]
  },
  {
   "cell_type": "code",
   "execution_count": 68,
   "metadata": {},
   "outputs": [
    {
     "name": "stdout",
     "output_type": "stream",
     "text": [
      "(33, 12)\n",
      "(15000, 7)\n"
     ]
    }
   ],
   "source": [
    "no_ctrl_peaks_df = []\n",
    "no_ctrl_prof_df = []\n",
    "for samp in samp_list:\n",
    "    sel_prof = no_ctrl_comp[samp]\n",
    "    no_ctrl_peaks_df.append(total_peak_df[(total_peak_df['sample'] == samp) & (total_peak_df['comp'].isin(sel_prof))])\n",
    "    no_ctrl_prof_df.append(total_component_df[(total_component_df['reg_name'] == samp) & (total_component_df['comp'].isin(sel_prof))])\n",
    "\n",
    "no_ctrl_peaks_df = pd.concat(no_ctrl_peaks_df)\n",
    "no_ctrl_prof_df = pd.concat(no_ctrl_prof_df)\n",
    "\n",
    "print(no_ctrl_peaks_df.shape)\n",
    "print(no_ctrl_prof_df.shape)"
   ]
  },
  {
   "attachments": {},
   "cell_type": "markdown",
   "metadata": {},
   "source": [
    "#### Ctrl DF creation"
   ]
  },
  {
   "cell_type": "code",
   "execution_count": 72,
   "metadata": {},
   "outputs": [
    {
     "name": "stdout",
     "output_type": "stream",
     "text": [
      "(571, 12)\n",
      "(84000, 7)\n"
     ]
    }
   ],
   "source": [
    "ctrl_peaks_df = total_peak_df.copy()\n",
    "ctrl_prof_df = total_component_df.copy()\n",
    "\n",
    "ctrl_peaks_df = ctrl_peaks_df.drop(index=list(no_ctrl_peaks_df.index))\n",
    "ctrl_prof_df = ctrl_prof_df.drop(index=list(no_ctrl_prof_df.index))\n",
    "\n",
    "print(ctrl_peaks_df.shape)\n",
    "print(ctrl_prof_df.shape)"
   ]
  },
  {
   "attachments": {},
   "cell_type": "markdown",
   "metadata": {},
   "source": [
    "# Descriptive stat."
   ]
  },
  {
   "attachments": {},
   "cell_type": "markdown",
   "metadata": {},
   "source": [
    "### Pairwise KS-test"
   ]
  },
  {
   "cell_type": "code",
   "execution_count": null,
   "metadata": {},
   "outputs": [],
   "source": [
    "stat_param = 'amp_dF'"
   ]
  },
  {
   "attachments": {},
   "cell_type": "markdown",
   "metadata": {},
   "source": [
    "#### No ctrl profiles"
   ]
  },
  {
   "cell_type": "code",
   "execution_count": 63,
   "metadata": {},
   "outputs": [
    {
     "name": "stdout",
     "output_type": "stream",
     "text": [
      "Sample C0002\n",
      "KS test for ('C5a', 'wash') groups, p-value=0.09523809523809523\n",
      "\n",
      "Sample D0001\n",
      "KS test for ('C5a', 'wash') groups, p-value=0.3333333333333333\n",
      "\n",
      "Sample E0002\n",
      "KS test for ('C5a', 'wash') groups, p-value=0.30769230769230765\n",
      "\n"
     ]
    },
    {
     "name": "stderr",
     "output_type": "stream",
     "text": [
      "/tmp/ipykernel_20152/404121007.py:7: UserWarning:\n",
      "\n",
      "Boolean Series key will be reindexed to match DataFrame index.\n",
      "\n"
     ]
    }
   ],
   "source": [
    "groups = no_ctrl_peaks_df.app_group.unique()\n",
    "groups_combinations = list(combinations(groups, 2))\n",
    "\n",
    "for samp in samp_list:\n",
    "    samp_df = no_ctrl_peaks_df[no_ctrl_df['sample'] == samp]\n",
    "    print(f'Sample {samp}')\n",
    "    for g_comb in groups_combinations:\n",
    "        group_1 = samp_df[stat_param][samp_df['app_group'] == g_comb[0]]\n",
    "        group_2 = samp_df[stat_param][samp_df['app_group'] == g_comb[1]]\n",
    "        ks_test = stats.ks_2samp(group_1, group_2)\n",
    "        print(f'KS test for {g_comb} groups, p-value={ks_test[1]}')\n",
    "    print('')"
   ]
  },
  {
   "cell_type": "code",
   "execution_count": 64,
   "metadata": {},
   "outputs": [
    {
     "data": {
      "application/vnd.plotly.v1+json": {
       "config": {
        "plotlyServerURL": "https://plot.ly"
       },
       "data": [
        {
         "hovertemplate": "app_group=C5a<br>sample=C0002<br>amp_dF=%{x}<br>probability=%{y}<extra></extra>",
         "legendgroup": "C5a",
         "line": {
          "dash": "solid",
          "shape": "hv"
         },
         "marker": {
          "color": "#636efa",
          "symbol": "circle"
         },
         "mode": "lines",
         "name": "C5a",
         "orientation": "v",
         "showlegend": true,
         "type": "scatter",
         "x": [
          0.504644053156995,
          0.555536368242909,
          0.810253835915774,
          1.07193676354694,
          1.22893878779793
         ],
         "xaxis": "x",
         "y": [
          0.2,
          0.4,
          0.6,
          0.8,
          1
         ],
         "yaxis": "y"
        },
        {
         "hovertemplate": "app_group=wash<br>sample=C0002<br>amp_dF=%{x}<br>probability=%{y}<extra></extra>",
         "legendgroup": "wash",
         "line": {
          "dash": "solid",
          "shape": "hv"
         },
         "marker": {
          "color": "#EF553B",
          "symbol": "circle"
         },
         "mode": "lines",
         "name": "wash",
         "orientation": "v",
         "showlegend": true,
         "type": "scatter",
         "x": [
          0.209086371389513,
          0.209766913875891
         ],
         "xaxis": "x",
         "y": [
          0.5,
          1
         ],
         "yaxis": "y"
        }
       ],
       "frames": [
        {
         "data": [
          {
           "hovertemplate": "app_group=C5a<br>sample=C0002<br>amp_dF=%{x}<br>probability=%{y}<extra></extra>",
           "legendgroup": "C5a",
           "line": {
            "dash": "solid",
            "shape": "hv"
           },
           "marker": {
            "color": "#636efa",
            "symbol": "circle"
           },
           "mode": "lines",
           "name": "C5a",
           "orientation": "v",
           "showlegend": true,
           "type": "scatter",
           "x": [
            0.504644053156995,
            0.555536368242909,
            0.810253835915774,
            1.07193676354694,
            1.22893878779793
           ],
           "xaxis": "x",
           "y": [
            0.2,
            0.4,
            0.6,
            0.8,
            1
           ],
           "yaxis": "y"
          },
          {
           "hovertemplate": "app_group=wash<br>sample=C0002<br>amp_dF=%{x}<br>probability=%{y}<extra></extra>",
           "legendgroup": "wash",
           "line": {
            "dash": "solid",
            "shape": "hv"
           },
           "marker": {
            "color": "#EF553B",
            "symbol": "circle"
           },
           "mode": "lines",
           "name": "wash",
           "orientation": "v",
           "showlegend": true,
           "type": "scatter",
           "x": [
            0.209086371389513,
            0.209766913875891
           ],
           "xaxis": "x",
           "y": [
            0.5,
            1
           ],
           "yaxis": "y"
          }
         ],
         "name": "C0002"
        },
        {
         "data": [
          {
           "hovertemplate": "app_group=C5a<br>sample=D0001<br>amp_dF=%{x}<br>probability=%{y}<extra></extra>",
           "legendgroup": "C5a",
           "line": {
            "dash": "solid",
            "shape": "hv"
           },
           "marker": {
            "color": "#636efa",
            "symbol": "circle"
           },
           "mode": "lines",
           "name": "C5a",
           "orientation": "v",
           "showlegend": true,
           "type": "scatter",
           "x": [
            0.220447291942987
           ],
           "xaxis": "x",
           "y": [
            1
           ],
           "yaxis": "y"
          },
          {
           "hovertemplate": "app_group=wash<br>sample=D0001<br>amp_dF=%{x}<br>probability=%{y}<extra></extra>",
           "legendgroup": "wash",
           "line": {
            "dash": "solid",
            "shape": "hv"
           },
           "marker": {
            "color": "#EF553B",
            "symbol": "circle"
           },
           "mode": "lines",
           "name": "wash",
           "orientation": "v",
           "showlegend": true,
           "type": "scatter",
           "x": [
            0.176174431423808,
            0.246411253138089,
            0.254759172561261,
            0.282766536663016,
            0.287569714266888,
            0.411892349568057,
            1.10423053246355,
            1.17172703796745,
            1.31984726420839,
            2.19691565486086,
            5.23543074833909
           ],
           "xaxis": "x",
           "y": [
            0.09090909090909091,
            0.18181818181818182,
            0.2727272727272727,
            0.36363636363636365,
            0.45454545454545453,
            0.5454545454545454,
            0.6363636363636364,
            0.7272727272727273,
            0.8181818181818182,
            0.9090909090909091,
            1
           ],
           "yaxis": "y"
          }
         ],
         "name": "D0001"
        },
        {
         "data": [
          {
           "hovertemplate": "app_group=C5a<br>sample=E0002<br>amp_dF=%{x}<br>probability=%{y}<extra></extra>",
           "legendgroup": "C5a",
           "line": {
            "dash": "solid",
            "shape": "hv"
           },
           "marker": {
            "color": "#636efa",
            "symbol": "circle"
           },
           "mode": "lines",
           "name": "C5a",
           "orientation": "v",
           "showlegend": true,
           "type": "scatter",
           "x": [
            0.61749049504171,
            3.13202694904164,
            3.51093230605892
           ],
           "xaxis": "x",
           "y": [
            0.3333333333333333,
            0.6666666666666666,
            1
           ],
           "yaxis": "y"
          },
          {
           "hovertemplate": "app_group=wash<br>sample=E0002<br>amp_dF=%{x}<br>probability=%{y}<extra></extra>",
           "legendgroup": "wash",
           "line": {
            "dash": "solid",
            "shape": "hv"
           },
           "marker": {
            "color": "#EF553B",
            "symbol": "circle"
           },
           "mode": "lines",
           "name": "wash",
           "orientation": "v",
           "showlegend": true,
           "type": "scatter",
           "x": [
            0.323637985660495,
            0.388240815911003,
            0.688160951090383,
            0.701815237141216,
            0.771098864326482,
            0.844897109552915,
            1.33340819602036,
            1.92921257044631,
            2.02474691271451,
            3.08723718096057,
            3.4333819726515
           ],
           "xaxis": "x",
           "y": [
            0.09090909090909091,
            0.18181818181818182,
            0.2727272727272727,
            0.36363636363636365,
            0.45454545454545453,
            0.5454545454545454,
            0.6363636363636364,
            0.7272727272727273,
            0.8181818181818182,
            0.9090909090909091,
            1
           ],
           "yaxis": "y"
          }
         ],
         "name": "E0002"
        }
       ],
       "layout": {
        "legend": {
         "title": {
          "text": "app_group"
         },
         "tracegroupgap": 0
        },
        "margin": {
         "t": 60
        },
        "sliders": [
         {
          "active": 0,
          "currentvalue": {
           "prefix": "sample="
          },
          "len": 0.9,
          "pad": {
           "b": 10,
           "t": 60
          },
          "steps": [
           {
            "args": [
             [
              "C0002"
             ],
             {
              "frame": {
               "duration": 0,
               "redraw": false
              },
              "fromcurrent": true,
              "mode": "immediate",
              "transition": {
               "duration": 0,
               "easing": "linear"
              }
             }
            ],
            "label": "C0002",
            "method": "animate"
           },
           {
            "args": [
             [
              "D0001"
             ],
             {
              "frame": {
               "duration": 0,
               "redraw": false
              },
              "fromcurrent": true,
              "mode": "immediate",
              "transition": {
               "duration": 0,
               "easing": "linear"
              }
             }
            ],
            "label": "D0001",
            "method": "animate"
           },
           {
            "args": [
             [
              "E0002"
             ],
             {
              "frame": {
               "duration": 0,
               "redraw": false
              },
              "fromcurrent": true,
              "mode": "immediate",
              "transition": {
               "duration": 0,
               "easing": "linear"
              }
             }
            ],
            "label": "E0002",
            "method": "animate"
           }
          ],
          "x": 0.1,
          "xanchor": "left",
          "y": 0,
          "yanchor": "top"
         }
        ],
        "template": {
         "data": {
          "bar": [
           {
            "error_x": {
             "color": "#2a3f5f"
            },
            "error_y": {
             "color": "#2a3f5f"
            },
            "marker": {
             "line": {
              "color": "#E5ECF6",
              "width": 0.5
             },
             "pattern": {
              "fillmode": "overlay",
              "size": 10,
              "solidity": 0.2
             }
            },
            "type": "bar"
           }
          ],
          "barpolar": [
           {
            "marker": {
             "line": {
              "color": "#E5ECF6",
              "width": 0.5
             },
             "pattern": {
              "fillmode": "overlay",
              "size": 10,
              "solidity": 0.2
             }
            },
            "type": "barpolar"
           }
          ],
          "carpet": [
           {
            "aaxis": {
             "endlinecolor": "#2a3f5f",
             "gridcolor": "white",
             "linecolor": "white",
             "minorgridcolor": "white",
             "startlinecolor": "#2a3f5f"
            },
            "baxis": {
             "endlinecolor": "#2a3f5f",
             "gridcolor": "white",
             "linecolor": "white",
             "minorgridcolor": "white",
             "startlinecolor": "#2a3f5f"
            },
            "type": "carpet"
           }
          ],
          "choropleth": [
           {
            "colorbar": {
             "outlinewidth": 0,
             "ticks": ""
            },
            "type": "choropleth"
           }
          ],
          "contour": [
           {
            "colorbar": {
             "outlinewidth": 0,
             "ticks": ""
            },
            "colorscale": [
             [
              0,
              "#0d0887"
             ],
             [
              0.1111111111111111,
              "#46039f"
             ],
             [
              0.2222222222222222,
              "#7201a8"
             ],
             [
              0.3333333333333333,
              "#9c179e"
             ],
             [
              0.4444444444444444,
              "#bd3786"
             ],
             [
              0.5555555555555556,
              "#d8576b"
             ],
             [
              0.6666666666666666,
              "#ed7953"
             ],
             [
              0.7777777777777778,
              "#fb9f3a"
             ],
             [
              0.8888888888888888,
              "#fdca26"
             ],
             [
              1,
              "#f0f921"
             ]
            ],
            "type": "contour"
           }
          ],
          "contourcarpet": [
           {
            "colorbar": {
             "outlinewidth": 0,
             "ticks": ""
            },
            "type": "contourcarpet"
           }
          ],
          "heatmap": [
           {
            "colorbar": {
             "outlinewidth": 0,
             "ticks": ""
            },
            "colorscale": [
             [
              0,
              "#0d0887"
             ],
             [
              0.1111111111111111,
              "#46039f"
             ],
             [
              0.2222222222222222,
              "#7201a8"
             ],
             [
              0.3333333333333333,
              "#9c179e"
             ],
             [
              0.4444444444444444,
              "#bd3786"
             ],
             [
              0.5555555555555556,
              "#d8576b"
             ],
             [
              0.6666666666666666,
              "#ed7953"
             ],
             [
              0.7777777777777778,
              "#fb9f3a"
             ],
             [
              0.8888888888888888,
              "#fdca26"
             ],
             [
              1,
              "#f0f921"
             ]
            ],
            "type": "heatmap"
           }
          ],
          "heatmapgl": [
           {
            "colorbar": {
             "outlinewidth": 0,
             "ticks": ""
            },
            "colorscale": [
             [
              0,
              "#0d0887"
             ],
             [
              0.1111111111111111,
              "#46039f"
             ],
             [
              0.2222222222222222,
              "#7201a8"
             ],
             [
              0.3333333333333333,
              "#9c179e"
             ],
             [
              0.4444444444444444,
              "#bd3786"
             ],
             [
              0.5555555555555556,
              "#d8576b"
             ],
             [
              0.6666666666666666,
              "#ed7953"
             ],
             [
              0.7777777777777778,
              "#fb9f3a"
             ],
             [
              0.8888888888888888,
              "#fdca26"
             ],
             [
              1,
              "#f0f921"
             ]
            ],
            "type": "heatmapgl"
           }
          ],
          "histogram": [
           {
            "marker": {
             "pattern": {
              "fillmode": "overlay",
              "size": 10,
              "solidity": 0.2
             }
            },
            "type": "histogram"
           }
          ],
          "histogram2d": [
           {
            "colorbar": {
             "outlinewidth": 0,
             "ticks": ""
            },
            "colorscale": [
             [
              0,
              "#0d0887"
             ],
             [
              0.1111111111111111,
              "#46039f"
             ],
             [
              0.2222222222222222,
              "#7201a8"
             ],
             [
              0.3333333333333333,
              "#9c179e"
             ],
             [
              0.4444444444444444,
              "#bd3786"
             ],
             [
              0.5555555555555556,
              "#d8576b"
             ],
             [
              0.6666666666666666,
              "#ed7953"
             ],
             [
              0.7777777777777778,
              "#fb9f3a"
             ],
             [
              0.8888888888888888,
              "#fdca26"
             ],
             [
              1,
              "#f0f921"
             ]
            ],
            "type": "histogram2d"
           }
          ],
          "histogram2dcontour": [
           {
            "colorbar": {
             "outlinewidth": 0,
             "ticks": ""
            },
            "colorscale": [
             [
              0,
              "#0d0887"
             ],
             [
              0.1111111111111111,
              "#46039f"
             ],
             [
              0.2222222222222222,
              "#7201a8"
             ],
             [
              0.3333333333333333,
              "#9c179e"
             ],
             [
              0.4444444444444444,
              "#bd3786"
             ],
             [
              0.5555555555555556,
              "#d8576b"
             ],
             [
              0.6666666666666666,
              "#ed7953"
             ],
             [
              0.7777777777777778,
              "#fb9f3a"
             ],
             [
              0.8888888888888888,
              "#fdca26"
             ],
             [
              1,
              "#f0f921"
             ]
            ],
            "type": "histogram2dcontour"
           }
          ],
          "mesh3d": [
           {
            "colorbar": {
             "outlinewidth": 0,
             "ticks": ""
            },
            "type": "mesh3d"
           }
          ],
          "parcoords": [
           {
            "line": {
             "colorbar": {
              "outlinewidth": 0,
              "ticks": ""
             }
            },
            "type": "parcoords"
           }
          ],
          "pie": [
           {
            "automargin": true,
            "type": "pie"
           }
          ],
          "scatter": [
           {
            "fillpattern": {
             "fillmode": "overlay",
             "size": 10,
             "solidity": 0.2
            },
            "type": "scatter"
           }
          ],
          "scatter3d": [
           {
            "line": {
             "colorbar": {
              "outlinewidth": 0,
              "ticks": ""
             }
            },
            "marker": {
             "colorbar": {
              "outlinewidth": 0,
              "ticks": ""
             }
            },
            "type": "scatter3d"
           }
          ],
          "scattercarpet": [
           {
            "marker": {
             "colorbar": {
              "outlinewidth": 0,
              "ticks": ""
             }
            },
            "type": "scattercarpet"
           }
          ],
          "scattergeo": [
           {
            "marker": {
             "colorbar": {
              "outlinewidth": 0,
              "ticks": ""
             }
            },
            "type": "scattergeo"
           }
          ],
          "scattergl": [
           {
            "marker": {
             "colorbar": {
              "outlinewidth": 0,
              "ticks": ""
             }
            },
            "type": "scattergl"
           }
          ],
          "scattermapbox": [
           {
            "marker": {
             "colorbar": {
              "outlinewidth": 0,
              "ticks": ""
             }
            },
            "type": "scattermapbox"
           }
          ],
          "scatterpolar": [
           {
            "marker": {
             "colorbar": {
              "outlinewidth": 0,
              "ticks": ""
             }
            },
            "type": "scatterpolar"
           }
          ],
          "scatterpolargl": [
           {
            "marker": {
             "colorbar": {
              "outlinewidth": 0,
              "ticks": ""
             }
            },
            "type": "scatterpolargl"
           }
          ],
          "scatterternary": [
           {
            "marker": {
             "colorbar": {
              "outlinewidth": 0,
              "ticks": ""
             }
            },
            "type": "scatterternary"
           }
          ],
          "surface": [
           {
            "colorbar": {
             "outlinewidth": 0,
             "ticks": ""
            },
            "colorscale": [
             [
              0,
              "#0d0887"
             ],
             [
              0.1111111111111111,
              "#46039f"
             ],
             [
              0.2222222222222222,
              "#7201a8"
             ],
             [
              0.3333333333333333,
              "#9c179e"
             ],
             [
              0.4444444444444444,
              "#bd3786"
             ],
             [
              0.5555555555555556,
              "#d8576b"
             ],
             [
              0.6666666666666666,
              "#ed7953"
             ],
             [
              0.7777777777777778,
              "#fb9f3a"
             ],
             [
              0.8888888888888888,
              "#fdca26"
             ],
             [
              1,
              "#f0f921"
             ]
            ],
            "type": "surface"
           }
          ],
          "table": [
           {
            "cells": {
             "fill": {
              "color": "#EBF0F8"
             },
             "line": {
              "color": "white"
             }
            },
            "header": {
             "fill": {
              "color": "#C8D4E3"
             },
             "line": {
              "color": "white"
             }
            },
            "type": "table"
           }
          ]
         },
         "layout": {
          "annotationdefaults": {
           "arrowcolor": "#2a3f5f",
           "arrowhead": 0,
           "arrowwidth": 1
          },
          "autotypenumbers": "strict",
          "coloraxis": {
           "colorbar": {
            "outlinewidth": 0,
            "ticks": ""
           }
          },
          "colorscale": {
           "diverging": [
            [
             0,
             "#8e0152"
            ],
            [
             0.1,
             "#c51b7d"
            ],
            [
             0.2,
             "#de77ae"
            ],
            [
             0.3,
             "#f1b6da"
            ],
            [
             0.4,
             "#fde0ef"
            ],
            [
             0.5,
             "#f7f7f7"
            ],
            [
             0.6,
             "#e6f5d0"
            ],
            [
             0.7,
             "#b8e186"
            ],
            [
             0.8,
             "#7fbc41"
            ],
            [
             0.9,
             "#4d9221"
            ],
            [
             1,
             "#276419"
            ]
           ],
           "sequential": [
            [
             0,
             "#0d0887"
            ],
            [
             0.1111111111111111,
             "#46039f"
            ],
            [
             0.2222222222222222,
             "#7201a8"
            ],
            [
             0.3333333333333333,
             "#9c179e"
            ],
            [
             0.4444444444444444,
             "#bd3786"
            ],
            [
             0.5555555555555556,
             "#d8576b"
            ],
            [
             0.6666666666666666,
             "#ed7953"
            ],
            [
             0.7777777777777778,
             "#fb9f3a"
            ],
            [
             0.8888888888888888,
             "#fdca26"
            ],
            [
             1,
             "#f0f921"
            ]
           ],
           "sequentialminus": [
            [
             0,
             "#0d0887"
            ],
            [
             0.1111111111111111,
             "#46039f"
            ],
            [
             0.2222222222222222,
             "#7201a8"
            ],
            [
             0.3333333333333333,
             "#9c179e"
            ],
            [
             0.4444444444444444,
             "#bd3786"
            ],
            [
             0.5555555555555556,
             "#d8576b"
            ],
            [
             0.6666666666666666,
             "#ed7953"
            ],
            [
             0.7777777777777778,
             "#fb9f3a"
            ],
            [
             0.8888888888888888,
             "#fdca26"
            ],
            [
             1,
             "#f0f921"
            ]
           ]
          },
          "colorway": [
           "#636efa",
           "#EF553B",
           "#00cc96",
           "#ab63fa",
           "#FFA15A",
           "#19d3f3",
           "#FF6692",
           "#B6E880",
           "#FF97FF",
           "#FECB52"
          ],
          "font": {
           "color": "#2a3f5f"
          },
          "geo": {
           "bgcolor": "white",
           "lakecolor": "white",
           "landcolor": "#E5ECF6",
           "showlakes": true,
           "showland": true,
           "subunitcolor": "white"
          },
          "hoverlabel": {
           "align": "left"
          },
          "hovermode": "closest",
          "mapbox": {
           "style": "light"
          },
          "paper_bgcolor": "white",
          "plot_bgcolor": "#E5ECF6",
          "polar": {
           "angularaxis": {
            "gridcolor": "white",
            "linecolor": "white",
            "ticks": ""
           },
           "bgcolor": "#E5ECF6",
           "radialaxis": {
            "gridcolor": "white",
            "linecolor": "white",
            "ticks": ""
           }
          },
          "scene": {
           "xaxis": {
            "backgroundcolor": "#E5ECF6",
            "gridcolor": "white",
            "gridwidth": 2,
            "linecolor": "white",
            "showbackground": true,
            "ticks": "",
            "zerolinecolor": "white"
           },
           "yaxis": {
            "backgroundcolor": "#E5ECF6",
            "gridcolor": "white",
            "gridwidth": 2,
            "linecolor": "white",
            "showbackground": true,
            "ticks": "",
            "zerolinecolor": "white"
           },
           "zaxis": {
            "backgroundcolor": "#E5ECF6",
            "gridcolor": "white",
            "gridwidth": 2,
            "linecolor": "white",
            "showbackground": true,
            "ticks": "",
            "zerolinecolor": "white"
           }
          },
          "shapedefaults": {
           "line": {
            "color": "#2a3f5f"
           }
          },
          "ternary": {
           "aaxis": {
            "gridcolor": "white",
            "linecolor": "white",
            "ticks": ""
           },
           "baxis": {
            "gridcolor": "white",
            "linecolor": "white",
            "ticks": ""
           },
           "bgcolor": "#E5ECF6",
           "caxis": {
            "gridcolor": "white",
            "linecolor": "white",
            "ticks": ""
           }
          },
          "title": {
           "x": 0.05
          },
          "xaxis": {
           "automargin": true,
           "gridcolor": "white",
           "linecolor": "white",
           "ticks": "",
           "title": {
            "standoff": 15
           },
           "zerolinecolor": "white",
           "zerolinewidth": 2
          },
          "yaxis": {
           "automargin": true,
           "gridcolor": "white",
           "linecolor": "white",
           "ticks": "",
           "title": {
            "standoff": 15
           },
           "zerolinecolor": "white",
           "zerolinewidth": 2
          }
         }
        },
        "updatemenus": [
         {
          "buttons": [
           {
            "args": [
             null,
             {
              "frame": {
               "duration": 500,
               "redraw": false
              },
              "fromcurrent": true,
              "mode": "immediate",
              "transition": {
               "duration": 500,
               "easing": "linear"
              }
             }
            ],
            "label": "&#9654;",
            "method": "animate"
           },
           {
            "args": [
             [
              null
             ],
             {
              "frame": {
               "duration": 0,
               "redraw": false
              },
              "fromcurrent": true,
              "mode": "immediate",
              "transition": {
               "duration": 0,
               "easing": "linear"
              }
             }
            ],
            "label": "&#9724;",
            "method": "animate"
           }
          ],
          "direction": "left",
          "pad": {
           "r": 10,
           "t": 70
          },
          "showactive": false,
          "type": "buttons",
          "x": 0.1,
          "xanchor": "right",
          "y": 0,
          "yanchor": "top"
         }
        ],
        "xaxis": {
         "anchor": "y",
         "domain": [
          0,
          1
         ],
         "title": {
          "text": "amp_dF"
         }
        },
        "yaxis": {
         "anchor": "x",
         "domain": [
          0,
          1
         ],
         "rangemode": "tozero",
         "title": {
          "text": "probability"
         }
        }
       }
      }
     },
     "metadata": {},
     "output_type": "display_data"
    },
    {
     "data": {
      "application/vnd.plotly.v1+json": {
       "config": {
        "plotlyServerURL": "https://plot.ly"
       },
       "data": [
        {
         "alignmentgroup": "True",
         "bingroup": "x",
         "hovertemplate": "app_group=C5a<br>sample=C0002<br>amp_dF=%{x}<br>count=%{y}<extra></extra>",
         "legendgroup": "C5a",
         "marker": {
          "color": "#636efa",
          "opacity": 0.75,
          "pattern": {
           "shape": ""
          }
         },
         "name": "C5a",
         "offsetgroup": "C5a",
         "orientation": "v",
         "showlegend": true,
         "type": "histogram",
         "x": [
          1.22893878779793,
          0.555536368242909,
          0.810253835915774,
          0.504644053156995,
          1.07193676354694
         ],
         "xaxis": "x",
         "yaxis": "y"
        },
        {
         "alignmentgroup": "True",
         "hovertemplate": "app_group=C5a<br>sample=C0002<br>amp_dF=%{x}<extra></extra>",
         "legendgroup": "C5a",
         "marker": {
          "color": "#636efa"
         },
         "name": "C5a",
         "notched": true,
         "offsetgroup": "C5a",
         "showlegend": false,
         "type": "box",
         "x": [
          1.22893878779793,
          0.555536368242909,
          0.810253835915774,
          0.504644053156995,
          1.07193676354694
         ],
         "xaxis": "x2",
         "yaxis": "y2"
        },
        {
         "alignmentgroup": "True",
         "bingroup": "x",
         "hovertemplate": "app_group=wash<br>sample=C0002<br>amp_dF=%{x}<br>count=%{y}<extra></extra>",
         "legendgroup": "wash",
         "marker": {
          "color": "#EF553B",
          "opacity": 0.75,
          "pattern": {
           "shape": ""
          }
         },
         "name": "wash",
         "offsetgroup": "wash",
         "orientation": "v",
         "showlegend": true,
         "type": "histogram",
         "x": [
          0.209766913875891,
          0.209086371389513
         ],
         "xaxis": "x",
         "yaxis": "y"
        },
        {
         "alignmentgroup": "True",
         "hovertemplate": "app_group=wash<br>sample=C0002<br>amp_dF=%{x}<extra></extra>",
         "legendgroup": "wash",
         "marker": {
          "color": "#EF553B"
         },
         "name": "wash",
         "notched": true,
         "offsetgroup": "wash",
         "showlegend": false,
         "type": "box",
         "x": [
          0.209766913875891,
          0.209086371389513
         ],
         "xaxis": "x2",
         "yaxis": "y2"
        }
       ],
       "frames": [
        {
         "data": [
          {
           "alignmentgroup": "True",
           "bingroup": "x",
           "hovertemplate": "app_group=C5a<br>sample=C0002<br>amp_dF=%{x}<br>count=%{y}<extra></extra>",
           "legendgroup": "C5a",
           "marker": {
            "color": "#636efa",
            "opacity": 0.75,
            "pattern": {
             "shape": ""
            }
           },
           "name": "C5a",
           "offsetgroup": "C5a",
           "orientation": "v",
           "showlegend": true,
           "type": "histogram",
           "x": [
            1.22893878779793,
            0.555536368242909,
            0.810253835915774,
            0.504644053156995,
            1.07193676354694
           ],
           "xaxis": "x",
           "yaxis": "y"
          },
          {
           "alignmentgroup": "True",
           "hovertemplate": "app_group=C5a<br>sample=C0002<br>amp_dF=%{x}<extra></extra>",
           "legendgroup": "C5a",
           "marker": {
            "color": "#636efa"
           },
           "name": "C5a",
           "notched": true,
           "offsetgroup": "C5a",
           "showlegend": false,
           "type": "box",
           "x": [
            1.22893878779793,
            0.555536368242909,
            0.810253835915774,
            0.504644053156995,
            1.07193676354694
           ],
           "xaxis": "x2",
           "yaxis": "y2"
          },
          {
           "alignmentgroup": "True",
           "bingroup": "x",
           "hovertemplate": "app_group=wash<br>sample=C0002<br>amp_dF=%{x}<br>count=%{y}<extra></extra>",
           "legendgroup": "wash",
           "marker": {
            "color": "#EF553B",
            "opacity": 0.75,
            "pattern": {
             "shape": ""
            }
           },
           "name": "wash",
           "offsetgroup": "wash",
           "orientation": "v",
           "showlegend": true,
           "type": "histogram",
           "x": [
            0.209766913875891,
            0.209086371389513
           ],
           "xaxis": "x",
           "yaxis": "y"
          },
          {
           "alignmentgroup": "True",
           "hovertemplate": "app_group=wash<br>sample=C0002<br>amp_dF=%{x}<extra></extra>",
           "legendgroup": "wash",
           "marker": {
            "color": "#EF553B"
           },
           "name": "wash",
           "notched": true,
           "offsetgroup": "wash",
           "showlegend": false,
           "type": "box",
           "x": [
            0.209766913875891,
            0.209086371389513
           ],
           "xaxis": "x2",
           "yaxis": "y2"
          }
         ],
         "name": "C0002"
        },
        {
         "data": [
          {
           "alignmentgroup": "True",
           "bingroup": "x",
           "hovertemplate": "app_group=C5a<br>sample=D0001<br>amp_dF=%{x}<br>count=%{y}<extra></extra>",
           "legendgroup": "C5a",
           "marker": {
            "color": "#636efa",
            "opacity": 0.75,
            "pattern": {
             "shape": ""
            }
           },
           "name": "C5a",
           "offsetgroup": "C5a",
           "orientation": "v",
           "showlegend": true,
           "type": "histogram",
           "x": [
            0.220447291942987
           ],
           "xaxis": "x",
           "yaxis": "y"
          },
          {
           "alignmentgroup": "True",
           "hovertemplate": "app_group=C5a<br>sample=D0001<br>amp_dF=%{x}<extra></extra>",
           "legendgroup": "C5a",
           "marker": {
            "color": "#636efa"
           },
           "name": "C5a",
           "notched": true,
           "offsetgroup": "C5a",
           "showlegend": false,
           "type": "box",
           "x": [
            0.220447291942987
           ],
           "xaxis": "x2",
           "yaxis": "y2"
          },
          {
           "alignmentgroup": "True",
           "bingroup": "x",
           "hovertemplate": "app_group=wash<br>sample=D0001<br>amp_dF=%{x}<br>count=%{y}<extra></extra>",
           "legendgroup": "wash",
           "marker": {
            "color": "#EF553B",
            "opacity": 0.75,
            "pattern": {
             "shape": ""
            }
           },
           "name": "wash",
           "offsetgroup": "wash",
           "orientation": "v",
           "showlegend": true,
           "type": "histogram",
           "x": [
            5.23543074833909,
            1.17172703796745,
            0.282766536663016,
            0.287569714266888,
            0.411892349568057,
            2.19691565486086,
            1.31984726420839,
            0.254759172561261,
            0.176174431423808,
            1.10423053246355,
            0.246411253138089
           ],
           "xaxis": "x",
           "yaxis": "y"
          },
          {
           "alignmentgroup": "True",
           "hovertemplate": "app_group=wash<br>sample=D0001<br>amp_dF=%{x}<extra></extra>",
           "legendgroup": "wash",
           "marker": {
            "color": "#EF553B"
           },
           "name": "wash",
           "notched": true,
           "offsetgroup": "wash",
           "showlegend": false,
           "type": "box",
           "x": [
            5.23543074833909,
            1.17172703796745,
            0.282766536663016,
            0.287569714266888,
            0.411892349568057,
            2.19691565486086,
            1.31984726420839,
            0.254759172561261,
            0.176174431423808,
            1.10423053246355,
            0.246411253138089
           ],
           "xaxis": "x2",
           "yaxis": "y2"
          }
         ],
         "name": "D0001"
        },
        {
         "data": [
          {
           "alignmentgroup": "True",
           "bingroup": "x",
           "hovertemplate": "app_group=C5a<br>sample=E0002<br>amp_dF=%{x}<br>count=%{y}<extra></extra>",
           "legendgroup": "C5a",
           "marker": {
            "color": "#636efa",
            "opacity": 0.75,
            "pattern": {
             "shape": ""
            }
           },
           "name": "C5a",
           "offsetgroup": "C5a",
           "orientation": "v",
           "showlegend": true,
           "type": "histogram",
           "x": [
            3.13202694904164,
            3.51093230605892,
            0.61749049504171
           ],
           "xaxis": "x",
           "yaxis": "y"
          },
          {
           "alignmentgroup": "True",
           "hovertemplate": "app_group=C5a<br>sample=E0002<br>amp_dF=%{x}<extra></extra>",
           "legendgroup": "C5a",
           "marker": {
            "color": "#636efa"
           },
           "name": "C5a",
           "notched": true,
           "offsetgroup": "C5a",
           "showlegend": false,
           "type": "box",
           "x": [
            3.13202694904164,
            3.51093230605892,
            0.61749049504171
           ],
           "xaxis": "x2",
           "yaxis": "y2"
          },
          {
           "alignmentgroup": "True",
           "bingroup": "x",
           "hovertemplate": "app_group=wash<br>sample=E0002<br>amp_dF=%{x}<br>count=%{y}<extra></extra>",
           "legendgroup": "wash",
           "marker": {
            "color": "#EF553B",
            "opacity": 0.75,
            "pattern": {
             "shape": ""
            }
           },
           "name": "wash",
           "offsetgroup": "wash",
           "orientation": "v",
           "showlegend": true,
           "type": "histogram",
           "x": [
            0.388240815911003,
            0.771098864326482,
            1.92921257044631,
            0.323637985660495,
            0.688160951090383,
            0.844897109552915,
            1.33340819602036,
            3.08723718096057,
            3.4333819726515,
            2.02474691271451,
            0.701815237141216
           ],
           "xaxis": "x",
           "yaxis": "y"
          },
          {
           "alignmentgroup": "True",
           "hovertemplate": "app_group=wash<br>sample=E0002<br>amp_dF=%{x}<extra></extra>",
           "legendgroup": "wash",
           "marker": {
            "color": "#EF553B"
           },
           "name": "wash",
           "notched": true,
           "offsetgroup": "wash",
           "showlegend": false,
           "type": "box",
           "x": [
            0.388240815911003,
            0.771098864326482,
            1.92921257044631,
            0.323637985660495,
            0.688160951090383,
            0.844897109552915,
            1.33340819602036,
            3.08723718096057,
            3.4333819726515,
            2.02474691271451,
            0.701815237141216
           ],
           "xaxis": "x2",
           "yaxis": "y2"
          }
         ],
         "name": "E0002"
        }
       ],
       "layout": {
        "barmode": "relative",
        "legend": {
         "title": {
          "text": "app_group"
         },
         "tracegroupgap": 0
        },
        "margin": {
         "t": 60
        },
        "sliders": [
         {
          "active": 0,
          "currentvalue": {
           "prefix": "sample="
          },
          "len": 0.9,
          "pad": {
           "b": 10,
           "t": 60
          },
          "steps": [
           {
            "args": [
             [
              "C0002"
             ],
             {
              "frame": {
               "duration": 0,
               "redraw": true
              },
              "fromcurrent": true,
              "mode": "immediate",
              "transition": {
               "duration": 0,
               "easing": "linear"
              }
             }
            ],
            "label": "C0002",
            "method": "animate"
           },
           {
            "args": [
             [
              "D0001"
             ],
             {
              "frame": {
               "duration": 0,
               "redraw": true
              },
              "fromcurrent": true,
              "mode": "immediate",
              "transition": {
               "duration": 0,
               "easing": "linear"
              }
             }
            ],
            "label": "D0001",
            "method": "animate"
           },
           {
            "args": [
             [
              "E0002"
             ],
             {
              "frame": {
               "duration": 0,
               "redraw": true
              },
              "fromcurrent": true,
              "mode": "immediate",
              "transition": {
               "duration": 0,
               "easing": "linear"
              }
             }
            ],
            "label": "E0002",
            "method": "animate"
           }
          ],
          "x": 0.1,
          "xanchor": "left",
          "y": 0,
          "yanchor": "top"
         }
        ],
        "template": {
         "data": {
          "bar": [
           {
            "error_x": {
             "color": "#2a3f5f"
            },
            "error_y": {
             "color": "#2a3f5f"
            },
            "marker": {
             "line": {
              "color": "#E5ECF6",
              "width": 0.5
             },
             "pattern": {
              "fillmode": "overlay",
              "size": 10,
              "solidity": 0.2
             }
            },
            "type": "bar"
           }
          ],
          "barpolar": [
           {
            "marker": {
             "line": {
              "color": "#E5ECF6",
              "width": 0.5
             },
             "pattern": {
              "fillmode": "overlay",
              "size": 10,
              "solidity": 0.2
             }
            },
            "type": "barpolar"
           }
          ],
          "carpet": [
           {
            "aaxis": {
             "endlinecolor": "#2a3f5f",
             "gridcolor": "white",
             "linecolor": "white",
             "minorgridcolor": "white",
             "startlinecolor": "#2a3f5f"
            },
            "baxis": {
             "endlinecolor": "#2a3f5f",
             "gridcolor": "white",
             "linecolor": "white",
             "minorgridcolor": "white",
             "startlinecolor": "#2a3f5f"
            },
            "type": "carpet"
           }
          ],
          "choropleth": [
           {
            "colorbar": {
             "outlinewidth": 0,
             "ticks": ""
            },
            "type": "choropleth"
           }
          ],
          "contour": [
           {
            "colorbar": {
             "outlinewidth": 0,
             "ticks": ""
            },
            "colorscale": [
             [
              0,
              "#0d0887"
             ],
             [
              0.1111111111111111,
              "#46039f"
             ],
             [
              0.2222222222222222,
              "#7201a8"
             ],
             [
              0.3333333333333333,
              "#9c179e"
             ],
             [
              0.4444444444444444,
              "#bd3786"
             ],
             [
              0.5555555555555556,
              "#d8576b"
             ],
             [
              0.6666666666666666,
              "#ed7953"
             ],
             [
              0.7777777777777778,
              "#fb9f3a"
             ],
             [
              0.8888888888888888,
              "#fdca26"
             ],
             [
              1,
              "#f0f921"
             ]
            ],
            "type": "contour"
           }
          ],
          "contourcarpet": [
           {
            "colorbar": {
             "outlinewidth": 0,
             "ticks": ""
            },
            "type": "contourcarpet"
           }
          ],
          "heatmap": [
           {
            "colorbar": {
             "outlinewidth": 0,
             "ticks": ""
            },
            "colorscale": [
             [
              0,
              "#0d0887"
             ],
             [
              0.1111111111111111,
              "#46039f"
             ],
             [
              0.2222222222222222,
              "#7201a8"
             ],
             [
              0.3333333333333333,
              "#9c179e"
             ],
             [
              0.4444444444444444,
              "#bd3786"
             ],
             [
              0.5555555555555556,
              "#d8576b"
             ],
             [
              0.6666666666666666,
              "#ed7953"
             ],
             [
              0.7777777777777778,
              "#fb9f3a"
             ],
             [
              0.8888888888888888,
              "#fdca26"
             ],
             [
              1,
              "#f0f921"
             ]
            ],
            "type": "heatmap"
           }
          ],
          "heatmapgl": [
           {
            "colorbar": {
             "outlinewidth": 0,
             "ticks": ""
            },
            "colorscale": [
             [
              0,
              "#0d0887"
             ],
             [
              0.1111111111111111,
              "#46039f"
             ],
             [
              0.2222222222222222,
              "#7201a8"
             ],
             [
              0.3333333333333333,
              "#9c179e"
             ],
             [
              0.4444444444444444,
              "#bd3786"
             ],
             [
              0.5555555555555556,
              "#d8576b"
             ],
             [
              0.6666666666666666,
              "#ed7953"
             ],
             [
              0.7777777777777778,
              "#fb9f3a"
             ],
             [
              0.8888888888888888,
              "#fdca26"
             ],
             [
              1,
              "#f0f921"
             ]
            ],
            "type": "heatmapgl"
           }
          ],
          "histogram": [
           {
            "marker": {
             "pattern": {
              "fillmode": "overlay",
              "size": 10,
              "solidity": 0.2
             }
            },
            "type": "histogram"
           }
          ],
          "histogram2d": [
           {
            "colorbar": {
             "outlinewidth": 0,
             "ticks": ""
            },
            "colorscale": [
             [
              0,
              "#0d0887"
             ],
             [
              0.1111111111111111,
              "#46039f"
             ],
             [
              0.2222222222222222,
              "#7201a8"
             ],
             [
              0.3333333333333333,
              "#9c179e"
             ],
             [
              0.4444444444444444,
              "#bd3786"
             ],
             [
              0.5555555555555556,
              "#d8576b"
             ],
             [
              0.6666666666666666,
              "#ed7953"
             ],
             [
              0.7777777777777778,
              "#fb9f3a"
             ],
             [
              0.8888888888888888,
              "#fdca26"
             ],
             [
              1,
              "#f0f921"
             ]
            ],
            "type": "histogram2d"
           }
          ],
          "histogram2dcontour": [
           {
            "colorbar": {
             "outlinewidth": 0,
             "ticks": ""
            },
            "colorscale": [
             [
              0,
              "#0d0887"
             ],
             [
              0.1111111111111111,
              "#46039f"
             ],
             [
              0.2222222222222222,
              "#7201a8"
             ],
             [
              0.3333333333333333,
              "#9c179e"
             ],
             [
              0.4444444444444444,
              "#bd3786"
             ],
             [
              0.5555555555555556,
              "#d8576b"
             ],
             [
              0.6666666666666666,
              "#ed7953"
             ],
             [
              0.7777777777777778,
              "#fb9f3a"
             ],
             [
              0.8888888888888888,
              "#fdca26"
             ],
             [
              1,
              "#f0f921"
             ]
            ],
            "type": "histogram2dcontour"
           }
          ],
          "mesh3d": [
           {
            "colorbar": {
             "outlinewidth": 0,
             "ticks": ""
            },
            "type": "mesh3d"
           }
          ],
          "parcoords": [
           {
            "line": {
             "colorbar": {
              "outlinewidth": 0,
              "ticks": ""
             }
            },
            "type": "parcoords"
           }
          ],
          "pie": [
           {
            "automargin": true,
            "type": "pie"
           }
          ],
          "scatter": [
           {
            "fillpattern": {
             "fillmode": "overlay",
             "size": 10,
             "solidity": 0.2
            },
            "type": "scatter"
           }
          ],
          "scatter3d": [
           {
            "line": {
             "colorbar": {
              "outlinewidth": 0,
              "ticks": ""
             }
            },
            "marker": {
             "colorbar": {
              "outlinewidth": 0,
              "ticks": ""
             }
            },
            "type": "scatter3d"
           }
          ],
          "scattercarpet": [
           {
            "marker": {
             "colorbar": {
              "outlinewidth": 0,
              "ticks": ""
             }
            },
            "type": "scattercarpet"
           }
          ],
          "scattergeo": [
           {
            "marker": {
             "colorbar": {
              "outlinewidth": 0,
              "ticks": ""
             }
            },
            "type": "scattergeo"
           }
          ],
          "scattergl": [
           {
            "marker": {
             "colorbar": {
              "outlinewidth": 0,
              "ticks": ""
             }
            },
            "type": "scattergl"
           }
          ],
          "scattermapbox": [
           {
            "marker": {
             "colorbar": {
              "outlinewidth": 0,
              "ticks": ""
             }
            },
            "type": "scattermapbox"
           }
          ],
          "scatterpolar": [
           {
            "marker": {
             "colorbar": {
              "outlinewidth": 0,
              "ticks": ""
             }
            },
            "type": "scatterpolar"
           }
          ],
          "scatterpolargl": [
           {
            "marker": {
             "colorbar": {
              "outlinewidth": 0,
              "ticks": ""
             }
            },
            "type": "scatterpolargl"
           }
          ],
          "scatterternary": [
           {
            "marker": {
             "colorbar": {
              "outlinewidth": 0,
              "ticks": ""
             }
            },
            "type": "scatterternary"
           }
          ],
          "surface": [
           {
            "colorbar": {
             "outlinewidth": 0,
             "ticks": ""
            },
            "colorscale": [
             [
              0,
              "#0d0887"
             ],
             [
              0.1111111111111111,
              "#46039f"
             ],
             [
              0.2222222222222222,
              "#7201a8"
             ],
             [
              0.3333333333333333,
              "#9c179e"
             ],
             [
              0.4444444444444444,
              "#bd3786"
             ],
             [
              0.5555555555555556,
              "#d8576b"
             ],
             [
              0.6666666666666666,
              "#ed7953"
             ],
             [
              0.7777777777777778,
              "#fb9f3a"
             ],
             [
              0.8888888888888888,
              "#fdca26"
             ],
             [
              1,
              "#f0f921"
             ]
            ],
            "type": "surface"
           }
          ],
          "table": [
           {
            "cells": {
             "fill": {
              "color": "#EBF0F8"
             },
             "line": {
              "color": "white"
             }
            },
            "header": {
             "fill": {
              "color": "#C8D4E3"
             },
             "line": {
              "color": "white"
             }
            },
            "type": "table"
           }
          ]
         },
         "layout": {
          "annotationdefaults": {
           "arrowcolor": "#2a3f5f",
           "arrowhead": 0,
           "arrowwidth": 1
          },
          "autotypenumbers": "strict",
          "coloraxis": {
           "colorbar": {
            "outlinewidth": 0,
            "ticks": ""
           }
          },
          "colorscale": {
           "diverging": [
            [
             0,
             "#8e0152"
            ],
            [
             0.1,
             "#c51b7d"
            ],
            [
             0.2,
             "#de77ae"
            ],
            [
             0.3,
             "#f1b6da"
            ],
            [
             0.4,
             "#fde0ef"
            ],
            [
             0.5,
             "#f7f7f7"
            ],
            [
             0.6,
             "#e6f5d0"
            ],
            [
             0.7,
             "#b8e186"
            ],
            [
             0.8,
             "#7fbc41"
            ],
            [
             0.9,
             "#4d9221"
            ],
            [
             1,
             "#276419"
            ]
           ],
           "sequential": [
            [
             0,
             "#0d0887"
            ],
            [
             0.1111111111111111,
             "#46039f"
            ],
            [
             0.2222222222222222,
             "#7201a8"
            ],
            [
             0.3333333333333333,
             "#9c179e"
            ],
            [
             0.4444444444444444,
             "#bd3786"
            ],
            [
             0.5555555555555556,
             "#d8576b"
            ],
            [
             0.6666666666666666,
             "#ed7953"
            ],
            [
             0.7777777777777778,
             "#fb9f3a"
            ],
            [
             0.8888888888888888,
             "#fdca26"
            ],
            [
             1,
             "#f0f921"
            ]
           ],
           "sequentialminus": [
            [
             0,
             "#0d0887"
            ],
            [
             0.1111111111111111,
             "#46039f"
            ],
            [
             0.2222222222222222,
             "#7201a8"
            ],
            [
             0.3333333333333333,
             "#9c179e"
            ],
            [
             0.4444444444444444,
             "#bd3786"
            ],
            [
             0.5555555555555556,
             "#d8576b"
            ],
            [
             0.6666666666666666,
             "#ed7953"
            ],
            [
             0.7777777777777778,
             "#fb9f3a"
            ],
            [
             0.8888888888888888,
             "#fdca26"
            ],
            [
             1,
             "#f0f921"
            ]
           ]
          },
          "colorway": [
           "#636efa",
           "#EF553B",
           "#00cc96",
           "#ab63fa",
           "#FFA15A",
           "#19d3f3",
           "#FF6692",
           "#B6E880",
           "#FF97FF",
           "#FECB52"
          ],
          "font": {
           "color": "#2a3f5f"
          },
          "geo": {
           "bgcolor": "white",
           "lakecolor": "white",
           "landcolor": "#E5ECF6",
           "showlakes": true,
           "showland": true,
           "subunitcolor": "white"
          },
          "hoverlabel": {
           "align": "left"
          },
          "hovermode": "closest",
          "mapbox": {
           "style": "light"
          },
          "paper_bgcolor": "white",
          "plot_bgcolor": "#E5ECF6",
          "polar": {
           "angularaxis": {
            "gridcolor": "white",
            "linecolor": "white",
            "ticks": ""
           },
           "bgcolor": "#E5ECF6",
           "radialaxis": {
            "gridcolor": "white",
            "linecolor": "white",
            "ticks": ""
           }
          },
          "scene": {
           "xaxis": {
            "backgroundcolor": "#E5ECF6",
            "gridcolor": "white",
            "gridwidth": 2,
            "linecolor": "white",
            "showbackground": true,
            "ticks": "",
            "zerolinecolor": "white"
           },
           "yaxis": {
            "backgroundcolor": "#E5ECF6",
            "gridcolor": "white",
            "gridwidth": 2,
            "linecolor": "white",
            "showbackground": true,
            "ticks": "",
            "zerolinecolor": "white"
           },
           "zaxis": {
            "backgroundcolor": "#E5ECF6",
            "gridcolor": "white",
            "gridwidth": 2,
            "linecolor": "white",
            "showbackground": true,
            "ticks": "",
            "zerolinecolor": "white"
           }
          },
          "shapedefaults": {
           "line": {
            "color": "#2a3f5f"
           }
          },
          "ternary": {
           "aaxis": {
            "gridcolor": "white",
            "linecolor": "white",
            "ticks": ""
           },
           "baxis": {
            "gridcolor": "white",
            "linecolor": "white",
            "ticks": ""
           },
           "bgcolor": "#E5ECF6",
           "caxis": {
            "gridcolor": "white",
            "linecolor": "white",
            "ticks": ""
           }
          },
          "title": {
           "x": 0.05
          },
          "xaxis": {
           "automargin": true,
           "gridcolor": "white",
           "linecolor": "white",
           "ticks": "",
           "title": {
            "standoff": 15
           },
           "zerolinecolor": "white",
           "zerolinewidth": 2
          },
          "yaxis": {
           "automargin": true,
           "gridcolor": "white",
           "linecolor": "white",
           "ticks": "",
           "title": {
            "standoff": 15
           },
           "zerolinecolor": "white",
           "zerolinewidth": 2
          }
         }
        },
        "updatemenus": [
         {
          "buttons": [
           {
            "args": [
             null,
             {
              "frame": {
               "duration": 500,
               "redraw": true
              },
              "fromcurrent": true,
              "mode": "immediate",
              "transition": {
               "duration": 500,
               "easing": "linear"
              }
             }
            ],
            "label": "&#9654;",
            "method": "animate"
           },
           {
            "args": [
             [
              null
             ],
             {
              "frame": {
               "duration": 0,
               "redraw": true
              },
              "fromcurrent": true,
              "mode": "immediate",
              "transition": {
               "duration": 0,
               "easing": "linear"
              }
             }
            ],
            "label": "&#9724;",
            "method": "animate"
           }
          ],
          "direction": "left",
          "pad": {
           "r": 10,
           "t": 70
          },
          "showactive": false,
          "type": "buttons",
          "x": 0.1,
          "xanchor": "right",
          "y": 0,
          "yanchor": "top"
         }
        ],
        "xaxis": {
         "anchor": "y",
         "domain": [
          0,
          1
         ],
         "title": {
          "text": "amp_dF"
         }
        },
        "xaxis2": {
         "anchor": "y2",
         "domain": [
          0,
          1
         ],
         "matches": "x",
         "showgrid": true,
         "showticklabels": false
        },
        "yaxis": {
         "anchor": "x",
         "domain": [
          0,
          0.7326
         ],
         "title": {
          "text": "count"
         }
        },
        "yaxis2": {
         "anchor": "x2",
         "domain": [
          0.7426,
          1
         ],
         "matches": "y2",
         "showgrid": false,
         "showline": false,
         "showticklabels": false,
         "ticks": ""
        }
       }
      }
     },
     "metadata": {},
     "output_type": "display_data"
    }
   ],
   "source": [
    "# https://towardsdatascience.com/comparing-sample-distributions-with-the-kolmogorov-smirnov-ks-test-a2292ad6fee5\n",
    "fig = px.ecdf(no_ctrl_peaks_df,\n",
    "              x=stat_param,\n",
    "              color='app_group',\n",
    "              animation_frame='sample')\n",
    "fig.show()\n",
    "\n",
    "fig = px.histogram(no_ctrl_peaks_df,\n",
    "              x=stat_param,\n",
    "              color='app_group',\n",
    "              animation_frame='sample',\n",
    "              marginal='box',\n",
    "              opacity=0.75)\n",
    "fig.show()"
   ]
  },
  {
   "attachments": {},
   "cell_type": "markdown",
   "metadata": {},
   "source": [
    "#### Ctrl profiles"
   ]
  },
  {
   "cell_type": "code",
   "execution_count": 74,
   "metadata": {},
   "outputs": [
    {
     "name": "stdout",
     "output_type": "stream",
     "text": [
      "Sample C0002\n",
      "KS test for ('ctrl', 'C5a') groups, p-value=0.3472258786959526\n",
      "KS test for ('ctrl', 'wash') groups, p-value=0.2779570292596386\n",
      "KS test for ('C5a', 'wash') groups, p-value=0.9282546824423102\n",
      "\n",
      "\n",
      "Sample D0001\n",
      "KS test for ('ctrl', 'C5a') groups, p-value=0.3500297587761064\n",
      "KS test for ('ctrl', 'wash') groups, p-value=0.2889770690630442\n",
      "KS test for ('C5a', 'wash') groups, p-value=0.005465063712677011\n",
      "\n",
      "\n",
      "Sample E0002\n",
      "KS test for ('ctrl', 'C5a') groups, p-value=0.375982705124828\n",
      "KS test for ('ctrl', 'wash') groups, p-value=0.29944282343681644\n",
      "KS test for ('C5a', 'wash') groups, p-value=0.584916237791796\n",
      "\n",
      "\n"
     ]
    }
   ],
   "source": [
    "groups = ctrl_peaks_df.app_group.unique()\n",
    "groups_combinations = list(combinations(groups, 2))\n",
    "\n",
    "for samp in samp_list:\n",
    "    samp_df = ctrl_peaks_df[ctrl_peaks_df['sample'] == samp]\n",
    "    print(f'Sample {samp}')\n",
    "    for g_comb in groups_combinations:\n",
    "        group_1 = samp_df[stat_param][samp_df['app_group'] == g_comb[0]]\n",
    "        group_2 = samp_df[stat_param][samp_df['app_group'] == g_comb[1]]\n",
    "        ks_test = stats.ks_2samp(group_1, group_2)\n",
    "        print(f'KS test for {g_comb} groups, p-value={ks_test[1]}')\n",
    "    print('')\n",
    "    print('')"
   ]
  },
  {
   "cell_type": "code",
   "execution_count": 75,
   "metadata": {},
   "outputs": [
    {
     "data": {
      "application/vnd.plotly.v1+json": {
       "config": {
        "plotlyServerURL": "https://plot.ly"
       },
       "data": [
        {
         "hovertemplate": "app_group=ctrl<br>sample=C0002<br>amp_dF=%{x}<br>probability=%{y}<extra></extra>",
         "legendgroup": "ctrl",
         "line": {
          "dash": "solid",
          "shape": "hv"
         },
         "marker": {
          "color": "#636efa",
          "symbol": "circle"
         },
         "mode": "lines",
         "name": "ctrl",
         "orientation": "v",
         "showlegend": true,
         "type": "scatter",
         "x": [
          0.274355329657974,
          0.35002211856511,
          0.356421535047906,
          0.375559794722213,
          0.429076530032163,
          0.494040039409657,
          0.609040033732567,
          0.628052409116181,
          0.655653257446929,
          0.688293777772778,
          0.691287680895432,
          0.747221920165079,
          0.871392330589923,
          0.876834626469618,
          0.940587455760045,
          0.951544991431743,
          0.958518021096533,
          1.01488275316934,
          1.02614031594313,
          1.06536204548565,
          1.07937335449354,
          1.08505755419644,
          1.09212154356826,
          1.12699189673671,
          1.13849253976591,
          1.20589570089039,
          1.23960921342631,
          1.28891132372863,
          1.36983815072613,
          1.39434429903583,
          1.45445798611449,
          1.49655941083077
         ],
         "xaxis": "x",
         "y": [
          0.03125,
          0.0625,
          0.09375,
          0.125,
          0.15625,
          0.1875,
          0.21875,
          0.25,
          0.28125,
          0.3125,
          0.34375,
          0.375,
          0.40625,
          0.4375,
          0.46875,
          0.5,
          0.53125,
          0.5625,
          0.59375,
          0.625,
          0.65625,
          0.6875,
          0.71875,
          0.75,
          0.78125,
          0.8125,
          0.84375,
          0.875,
          0.90625,
          0.9375,
          0.96875,
          1
         ],
         "yaxis": "y"
        },
        {
         "hovertemplate": "app_group=C5a<br>sample=C0002<br>amp_dF=%{x}<br>probability=%{y}<extra></extra>",
         "legendgroup": "C5a",
         "line": {
          "dash": "solid",
          "shape": "hv"
         },
         "marker": {
          "color": "#EF553B",
          "symbol": "circle"
         },
         "mode": "lines",
         "name": "C5a",
         "orientation": "v",
         "showlegend": true,
         "type": "scatter",
         "x": [
          0.256074154540838,
          0.266068555920846,
          0.283436429932582,
          0.296912880834007,
          0.316647811986762,
          0.337661722408713,
          0.379645899656813,
          0.425853271914546,
          0.427280260586349,
          0.445590219437185,
          0.453489797138013,
          0.460434486951673,
          0.463268703317847,
          0.464158606575273,
          0.475139070385387,
          0.477005275362802,
          0.507573735208971,
          0.520058573386519,
          0.534118428927402,
          0.548437964296393,
          0.577977037471549,
          0.583391644357098,
          0.639229140147631,
          0.649484925885708,
          0.651643391142087,
          0.717903039967348,
          0.758134613400367,
          0.800201503682796,
          0.817600238208053,
          0.830737505945799,
          0.840394518866033,
          0.843002918396433,
          0.876614045234179,
          0.87836094533107,
          0.882271615986776,
          0.888738964558251,
          0.891708594202711,
          0.897790285388664,
          0.998290331422827,
          1.00554015454648,
          1.049735065444,
          1.07350652060841,
          1.07387883077294,
          1.09861322729676,
          1.10940480007841,
          1.1269835140631,
          1.18235917619124,
          1.22848246017294,
          1.23641019690047,
          1.24981349951075,
          1.30898585507508,
          1.30989169864359,
          1.31910814913987,
          1.42155720250302,
          1.46550702771603,
          1.50704611752122,
          1.51802313929521,
          1.53717559591653,
          1.58001409153129,
          1.58219245074676
         ],
         "xaxis": "x",
         "y": [
          0.016666666666666666,
          0.03333333333333333,
          0.05,
          0.06666666666666667,
          0.08333333333333333,
          0.1,
          0.11666666666666667,
          0.13333333333333333,
          0.15,
          0.16666666666666666,
          0.18333333333333332,
          0.2,
          0.21666666666666667,
          0.23333333333333334,
          0.25,
          0.26666666666666666,
          0.2833333333333333,
          0.3,
          0.31666666666666665,
          0.3333333333333333,
          0.35,
          0.36666666666666664,
          0.38333333333333336,
          0.4,
          0.4166666666666667,
          0.43333333333333335,
          0.45,
          0.4666666666666667,
          0.48333333333333334,
          0.5,
          0.5166666666666667,
          0.5333333333333333,
          0.55,
          0.5666666666666667,
          0.5833333333333334,
          0.6,
          0.6166666666666667,
          0.6333333333333333,
          0.65,
          0.6666666666666666,
          0.6833333333333333,
          0.7,
          0.7166666666666667,
          0.7333333333333333,
          0.75,
          0.7666666666666667,
          0.7833333333333333,
          0.8,
          0.8166666666666667,
          0.8333333333333334,
          0.85,
          0.8666666666666667,
          0.8833333333333333,
          0.9,
          0.9166666666666666,
          0.9333333333333333,
          0.95,
          0.9666666666666667,
          0.9833333333333333,
          1
         ],
         "yaxis": "y"
        },
        {
         "hovertemplate": "app_group=wash<br>sample=C0002<br>amp_dF=%{x}<br>probability=%{y}<extra></extra>",
         "legendgroup": "wash",
         "line": {
          "dash": "solid",
          "shape": "hv"
         },
         "marker": {
          "color": "#00cc96",
          "symbol": "circle"
         },
         "mode": "lines",
         "name": "wash",
         "orientation": "v",
         "showlegend": true,
         "type": "scatter",
         "x": [
          0.243632139343347,
          0.257505461007506,
          0.261718306837055,
          0.263275971738397,
          0.305421387040555,
          0.329406369751027,
          0.34394167735693,
          0.353070354110069,
          0.36687379913795,
          0.388092138553774,
          0.391364979852278,
          0.391493872098454,
          0.395297882721763,
          0.399774743125718,
          0.40123158612116,
          0.402706252729704,
          0.403690450627384,
          0.415614445106218,
          0.424838974455856,
          0.43364389481687,
          0.437097190646759,
          0.439324847469769,
          0.459996484189757,
          0.471966190888085,
          0.475536765253723,
          0.483308697398186,
          0.49006144804,
          0.494656140589342,
          0.503539534790098,
          0.513765624037981,
          0.519721547270859,
          0.526518403497168,
          0.538483500024469,
          0.581197669891158,
          0.588939166454612,
          0.604089970049518,
          0.623792854663699,
          0.624986840904707,
          0.631225022567171,
          0.635302941839423,
          0.63540090429766,
          0.65510826675575,
          0.656391201202382,
          0.658565755534077,
          0.683969992099034,
          0.688079020985373,
          0.702708785207289,
          0.704108353156208,
          0.713219364777991,
          0.715656067556684,
          0.734466257005789,
          0.738988886010203,
          0.754420145720246,
          0.758210376975157,
          0.766745488125228,
          0.767248879381078,
          0.770048850295124,
          0.777898440359613,
          0.798427853054283,
          0.798476752276343,
          0.809856813049062,
          0.816870763570914,
          0.842227146485151,
          0.842757947534834,
          0.875447653861708,
          0.892845824495563,
          0.91527284153379,
          0.940607631194494,
          0.976599222939583,
          0.991421687741925,
          1.00171002305593,
          1.00351506667871,
          1.01695256325298,
          1.02546998405865,
          1.03598616518873,
          1.0373845495343,
          1.06437634442584,
          1.07804869072014,
          1.09628080238301,
          1.11037900923076,
          1.11365329642174,
          1.13245770893412,
          1.14299229603702,
          1.1432346257793,
          1.15007090461317,
          1.16267825705427,
          1.19366955502324,
          1.20575036617086,
          1.21189748898958,
          1.2275712478127,
          1.24111880985149,
          1.25963898812302,
          1.26649737846256,
          1.26716573497155,
          1.27079500285626,
          1.27724457414666,
          1.28215093867558,
          1.28601800158752,
          1.29476214544246,
          1.31241181926252,
          1.31313894290926,
          1.31838326897694,
          1.36265868278916,
          1.36485933948789,
          1.37174406322437,
          1.40095580609507,
          1.45571057730841,
          1.45962337471012,
          1.4869756380696,
          1.49505143006601,
          1.52646119297268,
          1.54043360615732,
          1.55528017612704
         ],
         "xaxis": "x",
         "y": [
          0.008849557522123894,
          0.017699115044247787,
          0.02654867256637168,
          0.035398230088495575,
          0.04424778761061947,
          0.05309734513274336,
          0.061946902654867256,
          0.07079646017699115,
          0.07964601769911504,
          0.08849557522123894,
          0.09734513274336283,
          0.10619469026548672,
          0.11504424778761062,
          0.12389380530973451,
          0.13274336283185842,
          0.1415929203539823,
          0.1504424778761062,
          0.1592920353982301,
          0.168141592920354,
          0.17699115044247787,
          0.18584070796460178,
          0.19469026548672566,
          0.20353982300884957,
          0.21238938053097345,
          0.22123893805309736,
          0.23008849557522124,
          0.23893805309734514,
          0.24778761061946902,
          0.25663716814159293,
          0.26548672566371684,
          0.2743362831858407,
          0.2831858407079646,
          0.2920353982300885,
          0.3008849557522124,
          0.30973451327433627,
          0.3185840707964602,
          0.3274336283185841,
          0.336283185840708,
          0.34513274336283184,
          0.35398230088495575,
          0.36283185840707965,
          0.37168141592920356,
          0.3805309734513274,
          0.3893805309734513,
          0.39823008849557523,
          0.40707964601769914,
          0.415929203539823,
          0.4247787610619469,
          0.4336283185840708,
          0.4424778761061947,
          0.45132743362831856,
          0.46017699115044247,
          0.4690265486725664,
          0.4778761061946903,
          0.48672566371681414,
          0.49557522123893805,
          0.504424778761062,
          0.5132743362831859,
          0.5221238938053098,
          0.5309734513274337,
          0.5398230088495575,
          0.5486725663716814,
          0.5575221238938053,
          0.5663716814159292,
          0.5752212389380531,
          0.584070796460177,
          0.5929203539823009,
          0.6017699115044248,
          0.6106194690265486,
          0.6194690265486725,
          0.6283185840707964,
          0.6371681415929203,
          0.6460176991150443,
          0.6548672566371682,
          0.6637168141592921,
          0.672566371681416,
          0.6814159292035398,
          0.6902654867256637,
          0.6991150442477876,
          0.7079646017699115,
          0.7168141592920354,
          0.7256637168141593,
          0.7345132743362832,
          0.7433628318584071,
          0.7522123893805309,
          0.7610619469026548,
          0.7699115044247787,
          0.7787610619469026,
          0.7876106194690266,
          0.7964601769911505,
          0.8053097345132744,
          0.8141592920353983,
          0.8230088495575221,
          0.831858407079646,
          0.8407079646017699,
          0.8495575221238938,
          0.8584070796460177,
          0.8672566371681416,
          0.8761061946902655,
          0.8849557522123894,
          0.8938053097345132,
          0.9026548672566371,
          0.911504424778761,
          0.9203539823008849,
          0.9292035398230089,
          0.9380530973451328,
          0.9469026548672567,
          0.9557522123893806,
          0.9646017699115044,
          0.9734513274336283,
          0.9823008849557522,
          0.9911504424778761,
          1
         ],
         "yaxis": "y"
        }
       ],
       "frames": [
        {
         "data": [
          {
           "hovertemplate": "app_group=ctrl<br>sample=C0002<br>amp_dF=%{x}<br>probability=%{y}<extra></extra>",
           "legendgroup": "ctrl",
           "line": {
            "dash": "solid",
            "shape": "hv"
           },
           "marker": {
            "color": "#636efa",
            "symbol": "circle"
           },
           "mode": "lines",
           "name": "ctrl",
           "orientation": "v",
           "showlegend": true,
           "type": "scatter",
           "x": [
            0.274355329657974,
            0.35002211856511,
            0.356421535047906,
            0.375559794722213,
            0.429076530032163,
            0.494040039409657,
            0.609040033732567,
            0.628052409116181,
            0.655653257446929,
            0.688293777772778,
            0.691287680895432,
            0.747221920165079,
            0.871392330589923,
            0.876834626469618,
            0.940587455760045,
            0.951544991431743,
            0.958518021096533,
            1.01488275316934,
            1.02614031594313,
            1.06536204548565,
            1.07937335449354,
            1.08505755419644,
            1.09212154356826,
            1.12699189673671,
            1.13849253976591,
            1.20589570089039,
            1.23960921342631,
            1.28891132372863,
            1.36983815072613,
            1.39434429903583,
            1.45445798611449,
            1.49655941083077
           ],
           "xaxis": "x",
           "y": [
            0.03125,
            0.0625,
            0.09375,
            0.125,
            0.15625,
            0.1875,
            0.21875,
            0.25,
            0.28125,
            0.3125,
            0.34375,
            0.375,
            0.40625,
            0.4375,
            0.46875,
            0.5,
            0.53125,
            0.5625,
            0.59375,
            0.625,
            0.65625,
            0.6875,
            0.71875,
            0.75,
            0.78125,
            0.8125,
            0.84375,
            0.875,
            0.90625,
            0.9375,
            0.96875,
            1
           ],
           "yaxis": "y"
          },
          {
           "hovertemplate": "app_group=C5a<br>sample=C0002<br>amp_dF=%{x}<br>probability=%{y}<extra></extra>",
           "legendgroup": "C5a",
           "line": {
            "dash": "solid",
            "shape": "hv"
           },
           "marker": {
            "color": "#EF553B",
            "symbol": "circle"
           },
           "mode": "lines",
           "name": "C5a",
           "orientation": "v",
           "showlegend": true,
           "type": "scatter",
           "x": [
            0.256074154540838,
            0.266068555920846,
            0.283436429932582,
            0.296912880834007,
            0.316647811986762,
            0.337661722408713,
            0.379645899656813,
            0.425853271914546,
            0.427280260586349,
            0.445590219437185,
            0.453489797138013,
            0.460434486951673,
            0.463268703317847,
            0.464158606575273,
            0.475139070385387,
            0.477005275362802,
            0.507573735208971,
            0.520058573386519,
            0.534118428927402,
            0.548437964296393,
            0.577977037471549,
            0.583391644357098,
            0.639229140147631,
            0.649484925885708,
            0.651643391142087,
            0.717903039967348,
            0.758134613400367,
            0.800201503682796,
            0.817600238208053,
            0.830737505945799,
            0.840394518866033,
            0.843002918396433,
            0.876614045234179,
            0.87836094533107,
            0.882271615986776,
            0.888738964558251,
            0.891708594202711,
            0.897790285388664,
            0.998290331422827,
            1.00554015454648,
            1.049735065444,
            1.07350652060841,
            1.07387883077294,
            1.09861322729676,
            1.10940480007841,
            1.1269835140631,
            1.18235917619124,
            1.22848246017294,
            1.23641019690047,
            1.24981349951075,
            1.30898585507508,
            1.30989169864359,
            1.31910814913987,
            1.42155720250302,
            1.46550702771603,
            1.50704611752122,
            1.51802313929521,
            1.53717559591653,
            1.58001409153129,
            1.58219245074676
           ],
           "xaxis": "x",
           "y": [
            0.016666666666666666,
            0.03333333333333333,
            0.05,
            0.06666666666666667,
            0.08333333333333333,
            0.1,
            0.11666666666666667,
            0.13333333333333333,
            0.15,
            0.16666666666666666,
            0.18333333333333332,
            0.2,
            0.21666666666666667,
            0.23333333333333334,
            0.25,
            0.26666666666666666,
            0.2833333333333333,
            0.3,
            0.31666666666666665,
            0.3333333333333333,
            0.35,
            0.36666666666666664,
            0.38333333333333336,
            0.4,
            0.4166666666666667,
            0.43333333333333335,
            0.45,
            0.4666666666666667,
            0.48333333333333334,
            0.5,
            0.5166666666666667,
            0.5333333333333333,
            0.55,
            0.5666666666666667,
            0.5833333333333334,
            0.6,
            0.6166666666666667,
            0.6333333333333333,
            0.65,
            0.6666666666666666,
            0.6833333333333333,
            0.7,
            0.7166666666666667,
            0.7333333333333333,
            0.75,
            0.7666666666666667,
            0.7833333333333333,
            0.8,
            0.8166666666666667,
            0.8333333333333334,
            0.85,
            0.8666666666666667,
            0.8833333333333333,
            0.9,
            0.9166666666666666,
            0.9333333333333333,
            0.95,
            0.9666666666666667,
            0.9833333333333333,
            1
           ],
           "yaxis": "y"
          },
          {
           "hovertemplate": "app_group=wash<br>sample=C0002<br>amp_dF=%{x}<br>probability=%{y}<extra></extra>",
           "legendgroup": "wash",
           "line": {
            "dash": "solid",
            "shape": "hv"
           },
           "marker": {
            "color": "#00cc96",
            "symbol": "circle"
           },
           "mode": "lines",
           "name": "wash",
           "orientation": "v",
           "showlegend": true,
           "type": "scatter",
           "x": [
            0.243632139343347,
            0.257505461007506,
            0.261718306837055,
            0.263275971738397,
            0.305421387040555,
            0.329406369751027,
            0.34394167735693,
            0.353070354110069,
            0.36687379913795,
            0.388092138553774,
            0.391364979852278,
            0.391493872098454,
            0.395297882721763,
            0.399774743125718,
            0.40123158612116,
            0.402706252729704,
            0.403690450627384,
            0.415614445106218,
            0.424838974455856,
            0.43364389481687,
            0.437097190646759,
            0.439324847469769,
            0.459996484189757,
            0.471966190888085,
            0.475536765253723,
            0.483308697398186,
            0.49006144804,
            0.494656140589342,
            0.503539534790098,
            0.513765624037981,
            0.519721547270859,
            0.526518403497168,
            0.538483500024469,
            0.581197669891158,
            0.588939166454612,
            0.604089970049518,
            0.623792854663699,
            0.624986840904707,
            0.631225022567171,
            0.635302941839423,
            0.63540090429766,
            0.65510826675575,
            0.656391201202382,
            0.658565755534077,
            0.683969992099034,
            0.688079020985373,
            0.702708785207289,
            0.704108353156208,
            0.713219364777991,
            0.715656067556684,
            0.734466257005789,
            0.738988886010203,
            0.754420145720246,
            0.758210376975157,
            0.766745488125228,
            0.767248879381078,
            0.770048850295124,
            0.777898440359613,
            0.798427853054283,
            0.798476752276343,
            0.809856813049062,
            0.816870763570914,
            0.842227146485151,
            0.842757947534834,
            0.875447653861708,
            0.892845824495563,
            0.91527284153379,
            0.940607631194494,
            0.976599222939583,
            0.991421687741925,
            1.00171002305593,
            1.00351506667871,
            1.01695256325298,
            1.02546998405865,
            1.03598616518873,
            1.0373845495343,
            1.06437634442584,
            1.07804869072014,
            1.09628080238301,
            1.11037900923076,
            1.11365329642174,
            1.13245770893412,
            1.14299229603702,
            1.1432346257793,
            1.15007090461317,
            1.16267825705427,
            1.19366955502324,
            1.20575036617086,
            1.21189748898958,
            1.2275712478127,
            1.24111880985149,
            1.25963898812302,
            1.26649737846256,
            1.26716573497155,
            1.27079500285626,
            1.27724457414666,
            1.28215093867558,
            1.28601800158752,
            1.29476214544246,
            1.31241181926252,
            1.31313894290926,
            1.31838326897694,
            1.36265868278916,
            1.36485933948789,
            1.37174406322437,
            1.40095580609507,
            1.45571057730841,
            1.45962337471012,
            1.4869756380696,
            1.49505143006601,
            1.52646119297268,
            1.54043360615732,
            1.55528017612704
           ],
           "xaxis": "x",
           "y": [
            0.008849557522123894,
            0.017699115044247787,
            0.02654867256637168,
            0.035398230088495575,
            0.04424778761061947,
            0.05309734513274336,
            0.061946902654867256,
            0.07079646017699115,
            0.07964601769911504,
            0.08849557522123894,
            0.09734513274336283,
            0.10619469026548672,
            0.11504424778761062,
            0.12389380530973451,
            0.13274336283185842,
            0.1415929203539823,
            0.1504424778761062,
            0.1592920353982301,
            0.168141592920354,
            0.17699115044247787,
            0.18584070796460178,
            0.19469026548672566,
            0.20353982300884957,
            0.21238938053097345,
            0.22123893805309736,
            0.23008849557522124,
            0.23893805309734514,
            0.24778761061946902,
            0.25663716814159293,
            0.26548672566371684,
            0.2743362831858407,
            0.2831858407079646,
            0.2920353982300885,
            0.3008849557522124,
            0.30973451327433627,
            0.3185840707964602,
            0.3274336283185841,
            0.336283185840708,
            0.34513274336283184,
            0.35398230088495575,
            0.36283185840707965,
            0.37168141592920356,
            0.3805309734513274,
            0.3893805309734513,
            0.39823008849557523,
            0.40707964601769914,
            0.415929203539823,
            0.4247787610619469,
            0.4336283185840708,
            0.4424778761061947,
            0.45132743362831856,
            0.46017699115044247,
            0.4690265486725664,
            0.4778761061946903,
            0.48672566371681414,
            0.49557522123893805,
            0.504424778761062,
            0.5132743362831859,
            0.5221238938053098,
            0.5309734513274337,
            0.5398230088495575,
            0.5486725663716814,
            0.5575221238938053,
            0.5663716814159292,
            0.5752212389380531,
            0.584070796460177,
            0.5929203539823009,
            0.6017699115044248,
            0.6106194690265486,
            0.6194690265486725,
            0.6283185840707964,
            0.6371681415929203,
            0.6460176991150443,
            0.6548672566371682,
            0.6637168141592921,
            0.672566371681416,
            0.6814159292035398,
            0.6902654867256637,
            0.6991150442477876,
            0.7079646017699115,
            0.7168141592920354,
            0.7256637168141593,
            0.7345132743362832,
            0.7433628318584071,
            0.7522123893805309,
            0.7610619469026548,
            0.7699115044247787,
            0.7787610619469026,
            0.7876106194690266,
            0.7964601769911505,
            0.8053097345132744,
            0.8141592920353983,
            0.8230088495575221,
            0.831858407079646,
            0.8407079646017699,
            0.8495575221238938,
            0.8584070796460177,
            0.8672566371681416,
            0.8761061946902655,
            0.8849557522123894,
            0.8938053097345132,
            0.9026548672566371,
            0.911504424778761,
            0.9203539823008849,
            0.9292035398230089,
            0.9380530973451328,
            0.9469026548672567,
            0.9557522123893806,
            0.9646017699115044,
            0.9734513274336283,
            0.9823008849557522,
            0.9911504424778761,
            1
           ],
           "yaxis": "y"
          }
         ],
         "name": "C0002"
        },
        {
         "data": [
          {
           "hovertemplate": "app_group=ctrl<br>sample=D0001<br>amp_dF=%{x}<br>probability=%{y}<extra></extra>",
           "legendgroup": "ctrl",
           "line": {
            "dash": "solid",
            "shape": "hv"
           },
           "marker": {
            "color": "#636efa",
            "symbol": "circle"
           },
           "mode": "lines",
           "name": "ctrl",
           "orientation": "v",
           "showlegend": true,
           "type": "scatter",
           "x": [
            0.108517313282179,
            0.120244384761947,
            0.122979429018168,
            0.123886949986861,
            0.124162160532618,
            0.12629990627248,
            0.148114589853249,
            0.150813801301532,
            0.153672275700764,
            0.166473551846109,
            0.168091985927455,
            0.183768697099213,
            0.195905774914016,
            0.202946109697696,
            0.225624914490876,
            0.236252976987511,
            0.260676336576391,
            0.310055012689843,
            0.320025299353754,
            0.349735634542282,
            0.415005898793525,
            0.465189387946155,
            0.48712991962556,
            0.565809031203187,
            0.603755907600733,
            0.61965029518552,
            0.620711155930162,
            0.640901646776805,
            0.750186441004533,
            0.900852570135215,
            1.07317492154335,
            1.16183305892245,
            1.1984169805718,
            1.25002866215602,
            1.26136388390696,
            1.27766548122563,
            1.33786858892241,
            1.34439093185633,
            1.4359450487575,
            1.66212013041208,
            1.68958310797285,
            1.94288605317736,
            1.97713795796754,
            1.98150441579578,
            2.12813221267848,
            2.69301211070025
           ],
           "xaxis": "x",
           "y": [
            0.021739130434782608,
            0.043478260869565216,
            0.06521739130434782,
            0.08695652173913043,
            0.10869565217391304,
            0.13043478260869565,
            0.15217391304347827,
            0.17391304347826086,
            0.1956521739130435,
            0.21739130434782608,
            0.2391304347826087,
            0.2608695652173913,
            0.2826086956521739,
            0.30434782608695654,
            0.32608695652173914,
            0.34782608695652173,
            0.3695652173913043,
            0.391304347826087,
            0.41304347826086957,
            0.43478260869565216,
            0.45652173913043476,
            0.4782608695652174,
            0.5,
            0.5217391304347826,
            0.5434782608695652,
            0.5652173913043478,
            0.5869565217391305,
            0.6086956521739131,
            0.6304347826086957,
            0.6521739130434783,
            0.6739130434782609,
            0.6956521739130435,
            0.717391304347826,
            0.7391304347826086,
            0.7608695652173914,
            0.782608695652174,
            0.8043478260869565,
            0.8260869565217391,
            0.8478260869565217,
            0.8695652173913043,
            0.8913043478260869,
            0.9130434782608695,
            0.9347826086956522,
            0.9565217391304348,
            0.9782608695652174,
            1
           ],
           "yaxis": "y"
          },
          {
           "hovertemplate": "app_group=C5a<br>sample=D0001<br>amp_dF=%{x}<br>probability=%{y}<extra></extra>",
           "legendgroup": "C5a",
           "line": {
            "dash": "solid",
            "shape": "hv"
           },
           "marker": {
            "color": "#EF553B",
            "symbol": "circle"
           },
           "mode": "lines",
           "name": "C5a",
           "orientation": "v",
           "showlegend": true,
           "type": "scatter",
           "x": [
            0.110398949689891,
            0.116446976595622,
            0.143070395138081,
            0.148705965399242,
            0.1511988531492,
            0.165875679884199,
            0.17259148470072,
            0.182435477150017,
            0.200800475007968,
            0.232743420815176,
            0.275086171332157,
            0.396843085190935,
            0.402685090076319,
            0.457755475528239,
            0.468781037298618,
            0.500314507148027,
            0.513094593683025,
            0.555692249064628,
            0.589326477220845,
            0.796551840632824,
            0.797641484542071,
            0.804168887483115,
            0.866084500506461,
            0.999652644659121,
            1.21359397547285,
            1.23707698780823,
            1.24230777636628,
            1.28549569942549,
            1.28594082929634,
            1.31029532241873,
            1.31471770327003,
            1.37932083506402,
            1.47072750596981,
            1.80011417459017,
            2.00955424709144,
            2.05413095455721,
            2.17444753922982,
            2.24152326744999,
            2.24806477915847,
            2.30897422462233,
            2.42268135499692,
            2.43835791715643,
            2.71122717656828
           ],
           "xaxis": "x",
           "y": [
            0.023255813953488372,
            0.046511627906976744,
            0.06976744186046512,
            0.09302325581395349,
            0.11627906976744186,
            0.13953488372093023,
            0.16279069767441862,
            0.18604651162790697,
            0.20930232558139536,
            0.23255813953488372,
            0.2558139534883721,
            0.27906976744186046,
            0.3023255813953488,
            0.32558139534883723,
            0.3488372093023256,
            0.37209302325581395,
            0.3953488372093023,
            0.4186046511627907,
            0.4418604651162791,
            0.46511627906976744,
            0.4883720930232558,
            0.5116279069767442,
            0.5348837209302325,
            0.5581395348837209,
            0.5813953488372093,
            0.6046511627906976,
            0.627906976744186,
            0.6511627906976745,
            0.6744186046511628,
            0.6976744186046512,
            0.7209302325581395,
            0.7441860465116279,
            0.7674418604651163,
            0.7906976744186046,
            0.813953488372093,
            0.8372093023255814,
            0.8604651162790697,
            0.8837209302325582,
            0.9069767441860465,
            0.9302325581395349,
            0.9534883720930233,
            0.9767441860465116,
            1
           ],
           "yaxis": "y"
          },
          {
           "hovertemplate": "app_group=wash<br>sample=D0001<br>amp_dF=%{x}<br>probability=%{y}<extra></extra>",
           "legendgroup": "wash",
           "line": {
            "dash": "solid",
            "shape": "hv"
           },
           "marker": {
            "color": "#00cc96",
            "symbol": "circle"
           },
           "mode": "lines",
           "name": "wash",
           "orientation": "v",
           "showlegend": true,
           "type": "scatter",
           "x": [
            0.081167513126442,
            0.106872800402885,
            0.123803612899091,
            0.128567339081093,
            0.135667199333942,
            0.140990474678056,
            0.143461438798784,
            0.143607184987925,
            0.152186737874081,
            0.162878203317829,
            0.163077811157828,
            0.163921577672082,
            0.164676227117654,
            0.166290292526264,
            0.174481575562605,
            0.176838020098704,
            0.178726472552751,
            0.180085177523614,
            0.181033503003477,
            0.182987177299796,
            0.183513241087952,
            0.18624369102966,
            0.191753340844786,
            0.192758113027455,
            0.196218876049076,
            0.196271960032736,
            0.207553122661097,
            0.220849579818958,
            0.23539505552683,
            0.240775999245883,
            0.244301198501673,
            0.244668248520862,
            0.25152996658813,
            0.257462455149894,
            0.25811671036424,
            0.259690655246518,
            0.261723381843506,
            0.261950078481196,
            0.266023027487167,
            0.272339837752934,
            0.277827691270341,
            0.29466358507582,
            0.314187860244977,
            0.316900757366708,
            0.326041641399083,
            0.339965302974342,
            0.342961652178283,
            0.348022087732292,
            0.348240115882281,
            0.349987613115196,
            0.371663475576104,
            0.40169342520298,
            0.409203951851389,
            0.418637509580716,
            0.419911091719033,
            0.455419045479358,
            0.455821089192583,
            0.487698055880643,
            0.490434329792396,
            0.533358739010988,
            0.53397712169551,
            0.537688874467012,
            0.57810968773914,
            0.58406207840397,
            0.5902935402046,
            0.595002740725151,
            0.660938362778685,
            0.665043615915346,
            0.683954946713224,
            0.69331656450608,
            0.695954795443058,
            0.697623177744974,
            0.749736992358355,
            0.775698866888769,
            0.781120195141044,
            0.788351057974537,
            0.826864617762177,
            0.842761477037877,
            0.84462027468455,
            0.868595100462013,
            0.87030474249425,
            0.912076837653376,
            0.916159853573521,
            0.924734329921436,
            0.943812050647914,
            0.960410898927296,
            0.983249259303305,
            1.0135580632377,
            1.01739784012546,
            1.01960219820439,
            1.03334733976306,
            1.03402991357225,
            1.05338596927207,
            1.092843352581,
            1.12399321947634,
            1.13154317223537,
            1.13248690086299,
            1.13503649266646,
            1.15323899012169,
            1.18075177498339,
            1.20033001047055,
            1.22684496349561,
            1.22719281241321,
            1.25131321608186,
            1.28704599282461,
            1.28907111443295,
            1.29662700331558,
            1.29926434959914,
            1.31671279796193,
            1.36700708698733,
            1.6779425634569,
            1.82577962370341,
            1.87452356042842,
            2.10402249915633,
            2.11399706650237,
            2.27259892238239,
            2.40285670756364,
            3.23264792697225
           ],
           "xaxis": "x",
           "y": [
            0.00847457627118644,
            0.01694915254237288,
            0.025423728813559324,
            0.03389830508474576,
            0.0423728813559322,
            0.05084745762711865,
            0.059322033898305086,
            0.06779661016949153,
            0.07627118644067797,
            0.0847457627118644,
            0.09322033898305085,
            0.1016949152542373,
            0.11016949152542373,
            0.11864406779661017,
            0.1271186440677966,
            0.13559322033898305,
            0.1440677966101695,
            0.15254237288135594,
            0.16101694915254236,
            0.1694915254237288,
            0.17796610169491525,
            0.1864406779661017,
            0.19491525423728814,
            0.2033898305084746,
            0.211864406779661,
            0.22033898305084745,
            0.2288135593220339,
            0.23728813559322035,
            0.2457627118644068,
            0.2542372881355932,
            0.2627118644067797,
            0.2711864406779661,
            0.2796610169491525,
            0.288135593220339,
            0.2966101694915254,
            0.3050847457627119,
            0.3135593220338983,
            0.3220338983050847,
            0.3305084745762712,
            0.3389830508474576,
            0.3474576271186441,
            0.3559322033898305,
            0.3644067796610169,
            0.3728813559322034,
            0.3813559322033898,
            0.3898305084745763,
            0.3983050847457627,
            0.4067796610169492,
            0.4152542372881356,
            0.423728813559322,
            0.4322033898305085,
            0.4406779661016949,
            0.4491525423728814,
            0.4576271186440678,
            0.4661016949152542,
            0.4745762711864407,
            0.4830508474576271,
            0.4915254237288136,
            0.5,
            0.5084745762711864,
            0.5169491525423728,
            0.5254237288135594,
            0.5338983050847458,
            0.5423728813559322,
            0.5508474576271186,
            0.559322033898305,
            0.5677966101694916,
            0.576271186440678,
            0.5847457627118644,
            0.5932203389830508,
            0.6016949152542372,
            0.6101694915254238,
            0.6186440677966102,
            0.6271186440677966,
            0.635593220338983,
            0.6440677966101694,
            0.652542372881356,
            0.6610169491525424,
            0.6694915254237288,
            0.6779661016949152,
            0.6864406779661016,
            0.6949152542372882,
            0.7033898305084746,
            0.711864406779661,
            0.7203389830508474,
            0.7288135593220338,
            0.7372881355932204,
            0.7457627118644068,
            0.7542372881355932,
            0.7627118644067796,
            0.7711864406779662,
            0.7796610169491526,
            0.788135593220339,
            0.7966101694915254,
            0.8050847457627118,
            0.8135593220338984,
            0.8220338983050848,
            0.8305084745762712,
            0.8389830508474576,
            0.847457627118644,
            0.8559322033898306,
            0.864406779661017,
            0.8728813559322034,
            0.8813559322033898,
            0.8898305084745762,
            0.8983050847457628,
            0.9067796610169492,
            0.9152542372881356,
            0.923728813559322,
            0.9322033898305084,
            0.940677966101695,
            0.9491525423728814,
            0.9576271186440678,
            0.9661016949152542,
            0.9745762711864406,
            0.9830508474576272,
            0.9915254237288136,
            1
           ],
           "yaxis": "y"
          }
         ],
         "name": "D0001"
        },
        {
         "data": [
          {
           "hovertemplate": "app_group=ctrl<br>sample=E0002<br>amp_dF=%{x}<br>probability=%{y}<extra></extra>",
           "legendgroup": "ctrl",
           "line": {
            "dash": "solid",
            "shape": "hv"
           },
           "marker": {
            "color": "#636efa",
            "symbol": "circle"
           },
           "mode": "lines",
           "name": "ctrl",
           "orientation": "v",
           "showlegend": true,
           "type": "scatter",
           "x": [
            0.085352032518041,
            0.100427334992436,
            0.100947563212017,
            0.114297824932751,
            0.140116289112161,
            0.143908033698611,
            0.17545164271675,
            0.217254483671291,
            0.341946989192876,
            0.397121320275278,
            0.420164338040609,
            0.425291211765315,
            0.500375044456619,
            0.586442408835418,
            0.637346784343325,
            0.716704544687958,
            1.05312682831308,
            2.640167560808
           ],
           "xaxis": "x",
           "y": [
            0.05555555555555555,
            0.1111111111111111,
            0.16666666666666666,
            0.2222222222222222,
            0.2777777777777778,
            0.3333333333333333,
            0.3888888888888889,
            0.4444444444444444,
            0.5,
            0.5555555555555556,
            0.6111111111111112,
            0.6666666666666666,
            0.7222222222222222,
            0.7777777777777778,
            0.8333333333333334,
            0.8888888888888888,
            0.9444444444444444,
            1
           ],
           "yaxis": "y"
          },
          {
           "hovertemplate": "app_group=C5a<br>sample=E0002<br>amp_dF=%{x}<br>probability=%{y}<extra></extra>",
           "legendgroup": "C5a",
           "line": {
            "dash": "solid",
            "shape": "hv"
           },
           "marker": {
            "color": "#EF553B",
            "symbol": "circle"
           },
           "mode": "lines",
           "name": "C5a",
           "orientation": "v",
           "showlegend": true,
           "type": "scatter",
           "x": [
            0.0666543080180901,
            0.0761143707758533,
            0.0782876710191571,
            0.148505896708661,
            0.169788009017526,
            0.176626804301808,
            0.183576347641586,
            0.191776009155579,
            0.230374360256047,
            0.239139298934664,
            0.259037860207377,
            0.26521912817036,
            0.27768158653297,
            0.296369971292705,
            0.303270179057944,
            0.310913336345711,
            0.332148997210531,
            0.341982696393774,
            0.386443427479554,
            0.395589338784525,
            0.396388420927675,
            0.879415363118343,
            0.882570734243374,
            0.978147169174824,
            1.10594150214182,
            1.62339920949047,
            2.09057946392613,
            2.43633425714044,
            2.48493799944399,
            2.8002777413707,
            2.82985960940369,
            2.90630709225051,
            4.63110851882241
           ],
           "xaxis": "x",
           "y": [
            0.030303030303030304,
            0.06060606060606061,
            0.09090909090909091,
            0.12121212121212122,
            0.15151515151515152,
            0.18181818181818182,
            0.21212121212121213,
            0.24242424242424243,
            0.2727272727272727,
            0.30303030303030304,
            0.3333333333333333,
            0.36363636363636365,
            0.3939393939393939,
            0.42424242424242425,
            0.45454545454545453,
            0.48484848484848486,
            0.5151515151515151,
            0.5454545454545454,
            0.5757575757575758,
            0.6060606060606061,
            0.6363636363636364,
            0.6666666666666666,
            0.696969696969697,
            0.7272727272727273,
            0.7575757575757576,
            0.7878787878787878,
            0.8181818181818182,
            0.8484848484848485,
            0.8787878787878788,
            0.9090909090909091,
            0.9393939393939394,
            0.9696969696969697,
            1
           ],
           "yaxis": "y"
          },
          {
           "hovertemplate": "app_group=wash<br>sample=E0002<br>amp_dF=%{x}<br>probability=%{y}<extra></extra>",
           "legendgroup": "wash",
           "line": {
            "dash": "solid",
            "shape": "hv"
           },
           "marker": {
            "color": "#00cc96",
            "symbol": "circle"
           },
           "mode": "lines",
           "name": "wash",
           "orientation": "v",
           "showlegend": true,
           "type": "scatter",
           "x": [
            0.0608779070158888,
            0.0642990945014369,
            0.0687595675402983,
            0.0889289906032203,
            0.0983986964026965,
            0.104591322627509,
            0.105457269218144,
            0.105629169536784,
            0.114579618383449,
            0.136065154766555,
            0.144162481787502,
            0.14702920509738,
            0.149886791638207,
            0.15076872183558,
            0.153129756000803,
            0.153394751383257,
            0.170945031192021,
            0.17248173503471,
            0.179936515140151,
            0.180894861819443,
            0.205938375128482,
            0.207178032427608,
            0.218463645564832,
            0.232518584454071,
            0.233742119708915,
            0.235231488870015,
            0.237450854079973,
            0.23755589187348,
            0.239141954884795,
            0.243160404492627,
            0.24400454860646,
            0.249563336209673,
            0.25007936063044,
            0.255884819174032,
            0.25717026293925,
            0.262562764994275,
            0.262929970834934,
            0.266956000876664,
            0.270611372134809,
            0.270853923991106,
            0.277712645052771,
            0.284519966194072,
            0.316722313830152,
            0.332108201698933,
            0.33535535626181,
            0.335852091241063,
            0.336275672218131,
            0.36341240331774,
            0.367077811289066,
            0.37772811478136,
            0.382851759978224,
            0.393500101215295,
            0.393887948050928,
            0.409804079090956,
            0.419863815595985,
            0.420191963726518,
            0.425811613298429,
            0.428010143870385,
            0.437462023575816,
            0.441766509873122,
            0.475082638052726,
            0.483310583597722,
            0.529450755730938,
            0.532562241875319,
            0.534083897471108,
            0.557846131244246,
            0.597975285336404,
            0.622378163011541,
            0.623920082447672,
            0.63065391163962,
            0.638817542118725,
            0.676976711325772,
            0.68440113199103,
            0.687974735522231,
            0.691617989207729,
            0.695470907114859,
            0.721310279012416,
            0.724490289951183,
            0.75791000349881,
            0.812552301081584,
            0.846170175360875,
            0.885891996822278,
            0.895083594796656,
            0.964881790833822,
            0.965330126513406,
            0.971087628570862,
            0.987661855605838,
            1.00560053456298,
            1.03979330657506,
            1.15176740149553,
            1.2555828267225,
            1.35549115621882,
            1.39940835978305,
            1.44460391303348,
            1.46295646034743,
            1.57790488400726,
            1.70869589212352,
            1.7561905981773,
            1.85757005095166,
            1.93439963513516,
            2.04905842083594,
            2.15794249453376,
            2.18457310370974,
            2.512905857246,
            2.53726908513268,
            2.63656561646973,
            3.28916631370144,
            4.72750462944335
           ],
           "xaxis": "x",
           "y": [
            0.009259259259259259,
            0.018518518518518517,
            0.027777777777777776,
            0.037037037037037035,
            0.046296296296296294,
            0.05555555555555555,
            0.06481481481481481,
            0.07407407407407407,
            0.08333333333333333,
            0.09259259259259259,
            0.10185185185185185,
            0.1111111111111111,
            0.12037037037037036,
            0.12962962962962962,
            0.1388888888888889,
            0.14814814814814814,
            0.1574074074074074,
            0.16666666666666666,
            0.17592592592592593,
            0.18518518518518517,
            0.19444444444444445,
            0.2037037037037037,
            0.21296296296296297,
            0.2222222222222222,
            0.23148148148148148,
            0.24074074074074073,
            0.25,
            0.25925925925925924,
            0.26851851851851855,
            0.2777777777777778,
            0.28703703703703703,
            0.2962962962962963,
            0.3055555555555556,
            0.3148148148148148,
            0.32407407407407407,
            0.3333333333333333,
            0.3425925925925926,
            0.35185185185185186,
            0.3611111111111111,
            0.37037037037037035,
            0.37962962962962965,
            0.3888888888888889,
            0.39814814814814814,
            0.4074074074074074,
            0.4166666666666667,
            0.42592592592592593,
            0.4351851851851852,
            0.4444444444444444,
            0.4537037037037037,
            0.46296296296296297,
            0.4722222222222222,
            0.48148148148148145,
            0.49074074074074076,
            0.5,
            0.5092592592592593,
            0.5185185185185185,
            0.5277777777777778,
            0.5370370370370371,
            0.5462962962962963,
            0.5555555555555556,
            0.5648148148148148,
            0.5740740740740741,
            0.5833333333333334,
            0.5925925925925926,
            0.6018518518518519,
            0.6111111111111112,
            0.6203703703703703,
            0.6296296296296297,
            0.6388888888888888,
            0.6481481481481481,
            0.6574074074074074,
            0.6666666666666666,
            0.6759259259259259,
            0.6851851851851852,
            0.6944444444444444,
            0.7037037037037037,
            0.7129629629629629,
            0.7222222222222222,
            0.7314814814814815,
            0.7407407407407407,
            0.75,
            0.7592592592592593,
            0.7685185185185185,
            0.7777777777777778,
            0.7870370370370371,
            0.7962962962962963,
            0.8055555555555556,
            0.8148148148148148,
            0.8240740740740741,
            0.8333333333333334,
            0.8425925925925926,
            0.8518518518518519,
            0.8611111111111112,
            0.8703703703703703,
            0.8796296296296297,
            0.8888888888888888,
            0.8981481481481481,
            0.9074074074074074,
            0.9166666666666666,
            0.9259259259259259,
            0.9351851851851852,
            0.9444444444444444,
            0.9537037037037037,
            0.9629629629629629,
            0.9722222222222222,
            0.9814814814814815,
            0.9907407407407407,
            1
           ],
           "yaxis": "y"
          }
         ],
         "name": "E0002"
        }
       ],
       "layout": {
        "legend": {
         "title": {
          "text": "app_group"
         },
         "tracegroupgap": 0
        },
        "margin": {
         "t": 60
        },
        "sliders": [
         {
          "active": 0,
          "currentvalue": {
           "prefix": "sample="
          },
          "len": 0.9,
          "pad": {
           "b": 10,
           "t": 60
          },
          "steps": [
           {
            "args": [
             [
              "C0002"
             ],
             {
              "frame": {
               "duration": 0,
               "redraw": false
              },
              "fromcurrent": true,
              "mode": "immediate",
              "transition": {
               "duration": 0,
               "easing": "linear"
              }
             }
            ],
            "label": "C0002",
            "method": "animate"
           },
           {
            "args": [
             [
              "D0001"
             ],
             {
              "frame": {
               "duration": 0,
               "redraw": false
              },
              "fromcurrent": true,
              "mode": "immediate",
              "transition": {
               "duration": 0,
               "easing": "linear"
              }
             }
            ],
            "label": "D0001",
            "method": "animate"
           },
           {
            "args": [
             [
              "E0002"
             ],
             {
              "frame": {
               "duration": 0,
               "redraw": false
              },
              "fromcurrent": true,
              "mode": "immediate",
              "transition": {
               "duration": 0,
               "easing": "linear"
              }
             }
            ],
            "label": "E0002",
            "method": "animate"
           }
          ],
          "x": 0.1,
          "xanchor": "left",
          "y": 0,
          "yanchor": "top"
         }
        ],
        "template": {
         "data": {
          "bar": [
           {
            "error_x": {
             "color": "#2a3f5f"
            },
            "error_y": {
             "color": "#2a3f5f"
            },
            "marker": {
             "line": {
              "color": "#E5ECF6",
              "width": 0.5
             },
             "pattern": {
              "fillmode": "overlay",
              "size": 10,
              "solidity": 0.2
             }
            },
            "type": "bar"
           }
          ],
          "barpolar": [
           {
            "marker": {
             "line": {
              "color": "#E5ECF6",
              "width": 0.5
             },
             "pattern": {
              "fillmode": "overlay",
              "size": 10,
              "solidity": 0.2
             }
            },
            "type": "barpolar"
           }
          ],
          "carpet": [
           {
            "aaxis": {
             "endlinecolor": "#2a3f5f",
             "gridcolor": "white",
             "linecolor": "white",
             "minorgridcolor": "white",
             "startlinecolor": "#2a3f5f"
            },
            "baxis": {
             "endlinecolor": "#2a3f5f",
             "gridcolor": "white",
             "linecolor": "white",
             "minorgridcolor": "white",
             "startlinecolor": "#2a3f5f"
            },
            "type": "carpet"
           }
          ],
          "choropleth": [
           {
            "colorbar": {
             "outlinewidth": 0,
             "ticks": ""
            },
            "type": "choropleth"
           }
          ],
          "contour": [
           {
            "colorbar": {
             "outlinewidth": 0,
             "ticks": ""
            },
            "colorscale": [
             [
              0,
              "#0d0887"
             ],
             [
              0.1111111111111111,
              "#46039f"
             ],
             [
              0.2222222222222222,
              "#7201a8"
             ],
             [
              0.3333333333333333,
              "#9c179e"
             ],
             [
              0.4444444444444444,
              "#bd3786"
             ],
             [
              0.5555555555555556,
              "#d8576b"
             ],
             [
              0.6666666666666666,
              "#ed7953"
             ],
             [
              0.7777777777777778,
              "#fb9f3a"
             ],
             [
              0.8888888888888888,
              "#fdca26"
             ],
             [
              1,
              "#f0f921"
             ]
            ],
            "type": "contour"
           }
          ],
          "contourcarpet": [
           {
            "colorbar": {
             "outlinewidth": 0,
             "ticks": ""
            },
            "type": "contourcarpet"
           }
          ],
          "heatmap": [
           {
            "colorbar": {
             "outlinewidth": 0,
             "ticks": ""
            },
            "colorscale": [
             [
              0,
              "#0d0887"
             ],
             [
              0.1111111111111111,
              "#46039f"
             ],
             [
              0.2222222222222222,
              "#7201a8"
             ],
             [
              0.3333333333333333,
              "#9c179e"
             ],
             [
              0.4444444444444444,
              "#bd3786"
             ],
             [
              0.5555555555555556,
              "#d8576b"
             ],
             [
              0.6666666666666666,
              "#ed7953"
             ],
             [
              0.7777777777777778,
              "#fb9f3a"
             ],
             [
              0.8888888888888888,
              "#fdca26"
             ],
             [
              1,
              "#f0f921"
             ]
            ],
            "type": "heatmap"
           }
          ],
          "heatmapgl": [
           {
            "colorbar": {
             "outlinewidth": 0,
             "ticks": ""
            },
            "colorscale": [
             [
              0,
              "#0d0887"
             ],
             [
              0.1111111111111111,
              "#46039f"
             ],
             [
              0.2222222222222222,
              "#7201a8"
             ],
             [
              0.3333333333333333,
              "#9c179e"
             ],
             [
              0.4444444444444444,
              "#bd3786"
             ],
             [
              0.5555555555555556,
              "#d8576b"
             ],
             [
              0.6666666666666666,
              "#ed7953"
             ],
             [
              0.7777777777777778,
              "#fb9f3a"
             ],
             [
              0.8888888888888888,
              "#fdca26"
             ],
             [
              1,
              "#f0f921"
             ]
            ],
            "type": "heatmapgl"
           }
          ],
          "histogram": [
           {
            "marker": {
             "pattern": {
              "fillmode": "overlay",
              "size": 10,
              "solidity": 0.2
             }
            },
            "type": "histogram"
           }
          ],
          "histogram2d": [
           {
            "colorbar": {
             "outlinewidth": 0,
             "ticks": ""
            },
            "colorscale": [
             [
              0,
              "#0d0887"
             ],
             [
              0.1111111111111111,
              "#46039f"
             ],
             [
              0.2222222222222222,
              "#7201a8"
             ],
             [
              0.3333333333333333,
              "#9c179e"
             ],
             [
              0.4444444444444444,
              "#bd3786"
             ],
             [
              0.5555555555555556,
              "#d8576b"
             ],
             [
              0.6666666666666666,
              "#ed7953"
             ],
             [
              0.7777777777777778,
              "#fb9f3a"
             ],
             [
              0.8888888888888888,
              "#fdca26"
             ],
             [
              1,
              "#f0f921"
             ]
            ],
            "type": "histogram2d"
           }
          ],
          "histogram2dcontour": [
           {
            "colorbar": {
             "outlinewidth": 0,
             "ticks": ""
            },
            "colorscale": [
             [
              0,
              "#0d0887"
             ],
             [
              0.1111111111111111,
              "#46039f"
             ],
             [
              0.2222222222222222,
              "#7201a8"
             ],
             [
              0.3333333333333333,
              "#9c179e"
             ],
             [
              0.4444444444444444,
              "#bd3786"
             ],
             [
              0.5555555555555556,
              "#d8576b"
             ],
             [
              0.6666666666666666,
              "#ed7953"
             ],
             [
              0.7777777777777778,
              "#fb9f3a"
             ],
             [
              0.8888888888888888,
              "#fdca26"
             ],
             [
              1,
              "#f0f921"
             ]
            ],
            "type": "histogram2dcontour"
           }
          ],
          "mesh3d": [
           {
            "colorbar": {
             "outlinewidth": 0,
             "ticks": ""
            },
            "type": "mesh3d"
           }
          ],
          "parcoords": [
           {
            "line": {
             "colorbar": {
              "outlinewidth": 0,
              "ticks": ""
             }
            },
            "type": "parcoords"
           }
          ],
          "pie": [
           {
            "automargin": true,
            "type": "pie"
           }
          ],
          "scatter": [
           {
            "fillpattern": {
             "fillmode": "overlay",
             "size": 10,
             "solidity": 0.2
            },
            "type": "scatter"
           }
          ],
          "scatter3d": [
           {
            "line": {
             "colorbar": {
              "outlinewidth": 0,
              "ticks": ""
             }
            },
            "marker": {
             "colorbar": {
              "outlinewidth": 0,
              "ticks": ""
             }
            },
            "type": "scatter3d"
           }
          ],
          "scattercarpet": [
           {
            "marker": {
             "colorbar": {
              "outlinewidth": 0,
              "ticks": ""
             }
            },
            "type": "scattercarpet"
           }
          ],
          "scattergeo": [
           {
            "marker": {
             "colorbar": {
              "outlinewidth": 0,
              "ticks": ""
             }
            },
            "type": "scattergeo"
           }
          ],
          "scattergl": [
           {
            "marker": {
             "colorbar": {
              "outlinewidth": 0,
              "ticks": ""
             }
            },
            "type": "scattergl"
           }
          ],
          "scattermapbox": [
           {
            "marker": {
             "colorbar": {
              "outlinewidth": 0,
              "ticks": ""
             }
            },
            "type": "scattermapbox"
           }
          ],
          "scatterpolar": [
           {
            "marker": {
             "colorbar": {
              "outlinewidth": 0,
              "ticks": ""
             }
            },
            "type": "scatterpolar"
           }
          ],
          "scatterpolargl": [
           {
            "marker": {
             "colorbar": {
              "outlinewidth": 0,
              "ticks": ""
             }
            },
            "type": "scatterpolargl"
           }
          ],
          "scatterternary": [
           {
            "marker": {
             "colorbar": {
              "outlinewidth": 0,
              "ticks": ""
             }
            },
            "type": "scatterternary"
           }
          ],
          "surface": [
           {
            "colorbar": {
             "outlinewidth": 0,
             "ticks": ""
            },
            "colorscale": [
             [
              0,
              "#0d0887"
             ],
             [
              0.1111111111111111,
              "#46039f"
             ],
             [
              0.2222222222222222,
              "#7201a8"
             ],
             [
              0.3333333333333333,
              "#9c179e"
             ],
             [
              0.4444444444444444,
              "#bd3786"
             ],
             [
              0.5555555555555556,
              "#d8576b"
             ],
             [
              0.6666666666666666,
              "#ed7953"
             ],
             [
              0.7777777777777778,
              "#fb9f3a"
             ],
             [
              0.8888888888888888,
              "#fdca26"
             ],
             [
              1,
              "#f0f921"
             ]
            ],
            "type": "surface"
           }
          ],
          "table": [
           {
            "cells": {
             "fill": {
              "color": "#EBF0F8"
             },
             "line": {
              "color": "white"
             }
            },
            "header": {
             "fill": {
              "color": "#C8D4E3"
             },
             "line": {
              "color": "white"
             }
            },
            "type": "table"
           }
          ]
         },
         "layout": {
          "annotationdefaults": {
           "arrowcolor": "#2a3f5f",
           "arrowhead": 0,
           "arrowwidth": 1
          },
          "autotypenumbers": "strict",
          "coloraxis": {
           "colorbar": {
            "outlinewidth": 0,
            "ticks": ""
           }
          },
          "colorscale": {
           "diverging": [
            [
             0,
             "#8e0152"
            ],
            [
             0.1,
             "#c51b7d"
            ],
            [
             0.2,
             "#de77ae"
            ],
            [
             0.3,
             "#f1b6da"
            ],
            [
             0.4,
             "#fde0ef"
            ],
            [
             0.5,
             "#f7f7f7"
            ],
            [
             0.6,
             "#e6f5d0"
            ],
            [
             0.7,
             "#b8e186"
            ],
            [
             0.8,
             "#7fbc41"
            ],
            [
             0.9,
             "#4d9221"
            ],
            [
             1,
             "#276419"
            ]
           ],
           "sequential": [
            [
             0,
             "#0d0887"
            ],
            [
             0.1111111111111111,
             "#46039f"
            ],
            [
             0.2222222222222222,
             "#7201a8"
            ],
            [
             0.3333333333333333,
             "#9c179e"
            ],
            [
             0.4444444444444444,
             "#bd3786"
            ],
            [
             0.5555555555555556,
             "#d8576b"
            ],
            [
             0.6666666666666666,
             "#ed7953"
            ],
            [
             0.7777777777777778,
             "#fb9f3a"
            ],
            [
             0.8888888888888888,
             "#fdca26"
            ],
            [
             1,
             "#f0f921"
            ]
           ],
           "sequentialminus": [
            [
             0,
             "#0d0887"
            ],
            [
             0.1111111111111111,
             "#46039f"
            ],
            [
             0.2222222222222222,
             "#7201a8"
            ],
            [
             0.3333333333333333,
             "#9c179e"
            ],
            [
             0.4444444444444444,
             "#bd3786"
            ],
            [
             0.5555555555555556,
             "#d8576b"
            ],
            [
             0.6666666666666666,
             "#ed7953"
            ],
            [
             0.7777777777777778,
             "#fb9f3a"
            ],
            [
             0.8888888888888888,
             "#fdca26"
            ],
            [
             1,
             "#f0f921"
            ]
           ]
          },
          "colorway": [
           "#636efa",
           "#EF553B",
           "#00cc96",
           "#ab63fa",
           "#FFA15A",
           "#19d3f3",
           "#FF6692",
           "#B6E880",
           "#FF97FF",
           "#FECB52"
          ],
          "font": {
           "color": "#2a3f5f"
          },
          "geo": {
           "bgcolor": "white",
           "lakecolor": "white",
           "landcolor": "#E5ECF6",
           "showlakes": true,
           "showland": true,
           "subunitcolor": "white"
          },
          "hoverlabel": {
           "align": "left"
          },
          "hovermode": "closest",
          "mapbox": {
           "style": "light"
          },
          "paper_bgcolor": "white",
          "plot_bgcolor": "#E5ECF6",
          "polar": {
           "angularaxis": {
            "gridcolor": "white",
            "linecolor": "white",
            "ticks": ""
           },
           "bgcolor": "#E5ECF6",
           "radialaxis": {
            "gridcolor": "white",
            "linecolor": "white",
            "ticks": ""
           }
          },
          "scene": {
           "xaxis": {
            "backgroundcolor": "#E5ECF6",
            "gridcolor": "white",
            "gridwidth": 2,
            "linecolor": "white",
            "showbackground": true,
            "ticks": "",
            "zerolinecolor": "white"
           },
           "yaxis": {
            "backgroundcolor": "#E5ECF6",
            "gridcolor": "white",
            "gridwidth": 2,
            "linecolor": "white",
            "showbackground": true,
            "ticks": "",
            "zerolinecolor": "white"
           },
           "zaxis": {
            "backgroundcolor": "#E5ECF6",
            "gridcolor": "white",
            "gridwidth": 2,
            "linecolor": "white",
            "showbackground": true,
            "ticks": "",
            "zerolinecolor": "white"
           }
          },
          "shapedefaults": {
           "line": {
            "color": "#2a3f5f"
           }
          },
          "ternary": {
           "aaxis": {
            "gridcolor": "white",
            "linecolor": "white",
            "ticks": ""
           },
           "baxis": {
            "gridcolor": "white",
            "linecolor": "white",
            "ticks": ""
           },
           "bgcolor": "#E5ECF6",
           "caxis": {
            "gridcolor": "white",
            "linecolor": "white",
            "ticks": ""
           }
          },
          "title": {
           "x": 0.05
          },
          "xaxis": {
           "automargin": true,
           "gridcolor": "white",
           "linecolor": "white",
           "ticks": "",
           "title": {
            "standoff": 15
           },
           "zerolinecolor": "white",
           "zerolinewidth": 2
          },
          "yaxis": {
           "automargin": true,
           "gridcolor": "white",
           "linecolor": "white",
           "ticks": "",
           "title": {
            "standoff": 15
           },
           "zerolinecolor": "white",
           "zerolinewidth": 2
          }
         }
        },
        "updatemenus": [
         {
          "buttons": [
           {
            "args": [
             null,
             {
              "frame": {
               "duration": 500,
               "redraw": false
              },
              "fromcurrent": true,
              "mode": "immediate",
              "transition": {
               "duration": 500,
               "easing": "linear"
              }
             }
            ],
            "label": "&#9654;",
            "method": "animate"
           },
           {
            "args": [
             [
              null
             ],
             {
              "frame": {
               "duration": 0,
               "redraw": false
              },
              "fromcurrent": true,
              "mode": "immediate",
              "transition": {
               "duration": 0,
               "easing": "linear"
              }
             }
            ],
            "label": "&#9724;",
            "method": "animate"
           }
          ],
          "direction": "left",
          "pad": {
           "r": 10,
           "t": 70
          },
          "showactive": false,
          "type": "buttons",
          "x": 0.1,
          "xanchor": "right",
          "y": 0,
          "yanchor": "top"
         }
        ],
        "xaxis": {
         "anchor": "y",
         "domain": [
          0,
          1
         ],
         "title": {
          "text": "amp_dF"
         }
        },
        "yaxis": {
         "anchor": "x",
         "domain": [
          0,
          1
         ],
         "rangemode": "tozero",
         "title": {
          "text": "probability"
         }
        }
       }
      }
     },
     "metadata": {},
     "output_type": "display_data"
    },
    {
     "data": {
      "application/vnd.plotly.v1+json": {
       "config": {
        "plotlyServerURL": "https://plot.ly"
       },
       "data": [
        {
         "alignmentgroup": "True",
         "bingroup": "x",
         "hovertemplate": "app_group=ctrl<br>sample=C0002<br>amp_dF=%{x}<br>count=%{y}<extra></extra>",
         "legendgroup": "ctrl",
         "marker": {
          "color": "#636efa",
          "opacity": 0.75,
          "pattern": {
           "shape": ""
          }
         },
         "name": "ctrl",
         "offsetgroup": "ctrl",
         "orientation": "v",
         "showlegend": true,
         "type": "histogram",
         "x": [
          1.45445798611449,
          0.747221920165079,
          1.39434429903583,
          1.01488275316934,
          1.07937335449354,
          0.35002211856511,
          1.36983815072613,
          0.356421535047906,
          1.20589570089039,
          0.951544991431743,
          0.494040039409657,
          1.09212154356826,
          0.375559794722213,
          0.688293777772778,
          0.628052409116181,
          0.429076530032163,
          0.655653257446929,
          1.23960921342631,
          0.876834626469618,
          1.49655941083077,
          1.08505755419644,
          1.28891132372863,
          1.13849253976591,
          1.06536204548565,
          0.691287680895432,
          0.609040033732567,
          0.274355329657974,
          1.12699189673671,
          0.940587455760045,
          0.958518021096533,
          0.871392330589923,
          1.02614031594313
         ],
         "xaxis": "x",
         "yaxis": "y"
        },
        {
         "alignmentgroup": "True",
         "hovertemplate": "app_group=ctrl<br>sample=C0002<br>amp_dF=%{x}<extra></extra>",
         "legendgroup": "ctrl",
         "marker": {
          "color": "#636efa"
         },
         "name": "ctrl",
         "notched": true,
         "offsetgroup": "ctrl",
         "showlegend": false,
         "type": "box",
         "x": [
          1.45445798611449,
          0.747221920165079,
          1.39434429903583,
          1.01488275316934,
          1.07937335449354,
          0.35002211856511,
          1.36983815072613,
          0.356421535047906,
          1.20589570089039,
          0.951544991431743,
          0.494040039409657,
          1.09212154356826,
          0.375559794722213,
          0.688293777772778,
          0.628052409116181,
          0.429076530032163,
          0.655653257446929,
          1.23960921342631,
          0.876834626469618,
          1.49655941083077,
          1.08505755419644,
          1.28891132372863,
          1.13849253976591,
          1.06536204548565,
          0.691287680895432,
          0.609040033732567,
          0.274355329657974,
          1.12699189673671,
          0.940587455760045,
          0.958518021096533,
          0.871392330589923,
          1.02614031594313
         ],
         "xaxis": "x2",
         "yaxis": "y2"
        },
        {
         "alignmentgroup": "True",
         "bingroup": "x",
         "hovertemplate": "app_group=C5a<br>sample=C0002<br>amp_dF=%{x}<br>count=%{y}<extra></extra>",
         "legendgroup": "C5a",
         "marker": {
          "color": "#EF553B",
          "opacity": 0.75,
          "pattern": {
           "shape": ""
          }
         },
         "name": "C5a",
         "offsetgroup": "C5a",
         "orientation": "v",
         "showlegend": true,
         "type": "histogram",
         "x": [
          1.07387883077294,
          1.42155720250302,
          1.22848246017294,
          1.18235917619124,
          0.464158606575273,
          0.534118428927402,
          0.897790285388664,
          1.24981349951075,
          1.31910814913987,
          0.758134613400367,
          0.717903039967348,
          1.30989169864359,
          0.876614045234179,
          0.830737505945799,
          0.651643391142087,
          0.453489797138013,
          0.840394518866033,
          0.583391644357098,
          0.445590219437185,
          0.379645899656813,
          0.427280260586349,
          0.888738964558251,
          0.337661722408713,
          0.463268703317847,
          0.87836094533107,
          0.507573735208971,
          1.049735065444,
          0.425853271914546,
          0.520058573386519,
          0.460434486951673,
          0.475139070385387,
          0.843002918396433,
          0.639229140147631,
          1.10940480007841,
          1.07350652060841,
          0.800201503682796,
          0.817600238208053,
          1.58001409153129,
          1.53717559591653,
          1.58219245074676,
          1.46550702771603,
          1.51802313929521,
          1.50704611752122,
          1.30898585507508,
          0.477005275362802,
          0.283436429932582,
          0.649484925885708,
          0.256074154540838,
          0.266068555920846,
          0.316647811986762,
          0.577977037471549,
          0.548437964296393,
          0.296912880834007,
          0.891708594202711,
          1.23641019690047,
          0.998290331422827,
          1.09861322729676,
          1.1269835140631,
          0.882271615986776,
          1.00554015454648
         ],
         "xaxis": "x",
         "yaxis": "y"
        },
        {
         "alignmentgroup": "True",
         "hovertemplate": "app_group=C5a<br>sample=C0002<br>amp_dF=%{x}<extra></extra>",
         "legendgroup": "C5a",
         "marker": {
          "color": "#EF553B"
         },
         "name": "C5a",
         "notched": true,
         "offsetgroup": "C5a",
         "showlegend": false,
         "type": "box",
         "x": [
          1.07387883077294,
          1.42155720250302,
          1.22848246017294,
          1.18235917619124,
          0.464158606575273,
          0.534118428927402,
          0.897790285388664,
          1.24981349951075,
          1.31910814913987,
          0.758134613400367,
          0.717903039967348,
          1.30989169864359,
          0.876614045234179,
          0.830737505945799,
          0.651643391142087,
          0.453489797138013,
          0.840394518866033,
          0.583391644357098,
          0.445590219437185,
          0.379645899656813,
          0.427280260586349,
          0.888738964558251,
          0.337661722408713,
          0.463268703317847,
          0.87836094533107,
          0.507573735208971,
          1.049735065444,
          0.425853271914546,
          0.520058573386519,
          0.460434486951673,
          0.475139070385387,
          0.843002918396433,
          0.639229140147631,
          1.10940480007841,
          1.07350652060841,
          0.800201503682796,
          0.817600238208053,
          1.58001409153129,
          1.53717559591653,
          1.58219245074676,
          1.46550702771603,
          1.51802313929521,
          1.50704611752122,
          1.30898585507508,
          0.477005275362802,
          0.283436429932582,
          0.649484925885708,
          0.256074154540838,
          0.266068555920846,
          0.316647811986762,
          0.577977037471549,
          0.548437964296393,
          0.296912880834007,
          0.891708594202711,
          1.23641019690047,
          0.998290331422827,
          1.09861322729676,
          1.1269835140631,
          0.882271615986776,
          1.00554015454648
         ],
         "xaxis": "x2",
         "yaxis": "y2"
        },
        {
         "alignmentgroup": "True",
         "bingroup": "x",
         "hovertemplate": "app_group=wash<br>sample=C0002<br>amp_dF=%{x}<br>count=%{y}<extra></extra>",
         "legendgroup": "wash",
         "marker": {
          "color": "#00cc96",
          "opacity": 0.75,
          "pattern": {
           "shape": ""
          }
         },
         "name": "wash",
         "offsetgroup": "wash",
         "orientation": "v",
         "showlegend": true,
         "type": "histogram",
         "x": [
          0.588939166454612,
          1.16267825705427,
          0.991421687741925,
          1.28601800158752,
          0.892845824495563,
          1.09628080238301,
          1.14299229603702,
          1.02546998405865,
          1.11365329642174,
          1.13245770893412,
          1.1432346257793,
          0.403690450627384,
          1.29476214544246,
          0.395297882721763,
          0.940607631194494,
          0.842227146485151,
          1.00171002305593,
          0.754420145720246,
          0.758210376975157,
          0.526518403497168,
          0.798427853054283,
          0.766745488125228,
          0.519721547270859,
          0.688079020985373,
          0.65510826675575,
          0.704108353156208,
          0.513765624037981,
          0.683969992099034,
          0.770048850295124,
          0.538483500024469,
          0.734466257005789,
          0.604089970049518,
          0.631225022567171,
          0.388092138553774,
          0.658565755534077,
          0.439324847469769,
          0.402706252729704,
          1.27079500285626,
          0.483308697398186,
          0.437097190646759,
          0.36687379913795,
          0.494656140589342,
          0.424838974455856,
          0.475536765253723,
          0.329406369751027,
          0.471966190888085,
          0.391364979852278,
          0.976599222939583,
          0.624986840904707,
          0.40123158612116,
          0.656391201202382,
          1.01695256325298,
          1.26716573497155,
          1.28215093867558,
          0.816870763570914,
          0.63540090429766,
          1.11037900923076,
          1.21189748898958,
          1.31313894290926,
          1.19366955502324,
          0.49006144804,
          0.43364389481687,
          0.415614445106218,
          1.54043360615732,
          1.55528017612704,
          1.24111880985149,
          1.36265868278916,
          0.809856813049062,
          1.27724457414666,
          1.40095580609507,
          1.4869756380696,
          1.45962337471012,
          1.31241181926252,
          1.52646119297268,
          1.45571057730841,
          1.36485933948789,
          1.49505143006601,
          1.26649737846256,
          1.07804869072014,
          1.20575036617086,
          0.257505461007506,
          0.391493872098454,
          0.702708785207289,
          0.767248879381078,
          0.261718306837055,
          0.399774743125718,
          0.305421387040555,
          0.623792854663699,
          0.263275971738397,
          0.842757947534834,
          1.00351506667871,
          0.777898440359613,
          0.713219364777991,
          0.243632139343347,
          1.03598616518873,
          0.91527284153379,
          0.34394167735693,
          0.875447653861708,
          1.25963898812302,
          0.353070354110069,
          0.715656067556684,
          1.2275712478127,
          1.06437634442584,
          1.0373845495343,
          0.798476752276343,
          0.635302941839423,
          1.15007090461317,
          0.738988886010203,
          0.581197669891158,
          1.31838326897694,
          0.503539534790098,
          0.459996484189757,
          1.37174406322437
         ],
         "xaxis": "x",
         "yaxis": "y"
        },
        {
         "alignmentgroup": "True",
         "hovertemplate": "app_group=wash<br>sample=C0002<br>amp_dF=%{x}<extra></extra>",
         "legendgroup": "wash",
         "marker": {
          "color": "#00cc96"
         },
         "name": "wash",
         "notched": true,
         "offsetgroup": "wash",
         "showlegend": false,
         "type": "box",
         "x": [
          0.588939166454612,
          1.16267825705427,
          0.991421687741925,
          1.28601800158752,
          0.892845824495563,
          1.09628080238301,
          1.14299229603702,
          1.02546998405865,
          1.11365329642174,
          1.13245770893412,
          1.1432346257793,
          0.403690450627384,
          1.29476214544246,
          0.395297882721763,
          0.940607631194494,
          0.842227146485151,
          1.00171002305593,
          0.754420145720246,
          0.758210376975157,
          0.526518403497168,
          0.798427853054283,
          0.766745488125228,
          0.519721547270859,
          0.688079020985373,
          0.65510826675575,
          0.704108353156208,
          0.513765624037981,
          0.683969992099034,
          0.770048850295124,
          0.538483500024469,
          0.734466257005789,
          0.604089970049518,
          0.631225022567171,
          0.388092138553774,
          0.658565755534077,
          0.439324847469769,
          0.402706252729704,
          1.27079500285626,
          0.483308697398186,
          0.437097190646759,
          0.36687379913795,
          0.494656140589342,
          0.424838974455856,
          0.475536765253723,
          0.329406369751027,
          0.471966190888085,
          0.391364979852278,
          0.976599222939583,
          0.624986840904707,
          0.40123158612116,
          0.656391201202382,
          1.01695256325298,
          1.26716573497155,
          1.28215093867558,
          0.816870763570914,
          0.63540090429766,
          1.11037900923076,
          1.21189748898958,
          1.31313894290926,
          1.19366955502324,
          0.49006144804,
          0.43364389481687,
          0.415614445106218,
          1.54043360615732,
          1.55528017612704,
          1.24111880985149,
          1.36265868278916,
          0.809856813049062,
          1.27724457414666,
          1.40095580609507,
          1.4869756380696,
          1.45962337471012,
          1.31241181926252,
          1.52646119297268,
          1.45571057730841,
          1.36485933948789,
          1.49505143006601,
          1.26649737846256,
          1.07804869072014,
          1.20575036617086,
          0.257505461007506,
          0.391493872098454,
          0.702708785207289,
          0.767248879381078,
          0.261718306837055,
          0.399774743125718,
          0.305421387040555,
          0.623792854663699,
          0.263275971738397,
          0.842757947534834,
          1.00351506667871,
          0.777898440359613,
          0.713219364777991,
          0.243632139343347,
          1.03598616518873,
          0.91527284153379,
          0.34394167735693,
          0.875447653861708,
          1.25963898812302,
          0.353070354110069,
          0.715656067556684,
          1.2275712478127,
          1.06437634442584,
          1.0373845495343,
          0.798476752276343,
          0.635302941839423,
          1.15007090461317,
          0.738988886010203,
          0.581197669891158,
          1.31838326897694,
          0.503539534790098,
          0.459996484189757,
          1.37174406322437
         ],
         "xaxis": "x2",
         "yaxis": "y2"
        }
       ],
       "frames": [
        {
         "data": [
          {
           "alignmentgroup": "True",
           "bingroup": "x",
           "hovertemplate": "app_group=ctrl<br>sample=C0002<br>amp_dF=%{x}<br>count=%{y}<extra></extra>",
           "legendgroup": "ctrl",
           "marker": {
            "color": "#636efa",
            "opacity": 0.75,
            "pattern": {
             "shape": ""
            }
           },
           "name": "ctrl",
           "offsetgroup": "ctrl",
           "orientation": "v",
           "showlegend": true,
           "type": "histogram",
           "x": [
            1.45445798611449,
            0.747221920165079,
            1.39434429903583,
            1.01488275316934,
            1.07937335449354,
            0.35002211856511,
            1.36983815072613,
            0.356421535047906,
            1.20589570089039,
            0.951544991431743,
            0.494040039409657,
            1.09212154356826,
            0.375559794722213,
            0.688293777772778,
            0.628052409116181,
            0.429076530032163,
            0.655653257446929,
            1.23960921342631,
            0.876834626469618,
            1.49655941083077,
            1.08505755419644,
            1.28891132372863,
            1.13849253976591,
            1.06536204548565,
            0.691287680895432,
            0.609040033732567,
            0.274355329657974,
            1.12699189673671,
            0.940587455760045,
            0.958518021096533,
            0.871392330589923,
            1.02614031594313
           ],
           "xaxis": "x",
           "yaxis": "y"
          },
          {
           "alignmentgroup": "True",
           "hovertemplate": "app_group=ctrl<br>sample=C0002<br>amp_dF=%{x}<extra></extra>",
           "legendgroup": "ctrl",
           "marker": {
            "color": "#636efa"
           },
           "name": "ctrl",
           "notched": true,
           "offsetgroup": "ctrl",
           "showlegend": false,
           "type": "box",
           "x": [
            1.45445798611449,
            0.747221920165079,
            1.39434429903583,
            1.01488275316934,
            1.07937335449354,
            0.35002211856511,
            1.36983815072613,
            0.356421535047906,
            1.20589570089039,
            0.951544991431743,
            0.494040039409657,
            1.09212154356826,
            0.375559794722213,
            0.688293777772778,
            0.628052409116181,
            0.429076530032163,
            0.655653257446929,
            1.23960921342631,
            0.876834626469618,
            1.49655941083077,
            1.08505755419644,
            1.28891132372863,
            1.13849253976591,
            1.06536204548565,
            0.691287680895432,
            0.609040033732567,
            0.274355329657974,
            1.12699189673671,
            0.940587455760045,
            0.958518021096533,
            0.871392330589923,
            1.02614031594313
           ],
           "xaxis": "x2",
           "yaxis": "y2"
          },
          {
           "alignmentgroup": "True",
           "bingroup": "x",
           "hovertemplate": "app_group=C5a<br>sample=C0002<br>amp_dF=%{x}<br>count=%{y}<extra></extra>",
           "legendgroup": "C5a",
           "marker": {
            "color": "#EF553B",
            "opacity": 0.75,
            "pattern": {
             "shape": ""
            }
           },
           "name": "C5a",
           "offsetgroup": "C5a",
           "orientation": "v",
           "showlegend": true,
           "type": "histogram",
           "x": [
            1.07387883077294,
            1.42155720250302,
            1.22848246017294,
            1.18235917619124,
            0.464158606575273,
            0.534118428927402,
            0.897790285388664,
            1.24981349951075,
            1.31910814913987,
            0.758134613400367,
            0.717903039967348,
            1.30989169864359,
            0.876614045234179,
            0.830737505945799,
            0.651643391142087,
            0.453489797138013,
            0.840394518866033,
            0.583391644357098,
            0.445590219437185,
            0.379645899656813,
            0.427280260586349,
            0.888738964558251,
            0.337661722408713,
            0.463268703317847,
            0.87836094533107,
            0.507573735208971,
            1.049735065444,
            0.425853271914546,
            0.520058573386519,
            0.460434486951673,
            0.475139070385387,
            0.843002918396433,
            0.639229140147631,
            1.10940480007841,
            1.07350652060841,
            0.800201503682796,
            0.817600238208053,
            1.58001409153129,
            1.53717559591653,
            1.58219245074676,
            1.46550702771603,
            1.51802313929521,
            1.50704611752122,
            1.30898585507508,
            0.477005275362802,
            0.283436429932582,
            0.649484925885708,
            0.256074154540838,
            0.266068555920846,
            0.316647811986762,
            0.577977037471549,
            0.548437964296393,
            0.296912880834007,
            0.891708594202711,
            1.23641019690047,
            0.998290331422827,
            1.09861322729676,
            1.1269835140631,
            0.882271615986776,
            1.00554015454648
           ],
           "xaxis": "x",
           "yaxis": "y"
          },
          {
           "alignmentgroup": "True",
           "hovertemplate": "app_group=C5a<br>sample=C0002<br>amp_dF=%{x}<extra></extra>",
           "legendgroup": "C5a",
           "marker": {
            "color": "#EF553B"
           },
           "name": "C5a",
           "notched": true,
           "offsetgroup": "C5a",
           "showlegend": false,
           "type": "box",
           "x": [
            1.07387883077294,
            1.42155720250302,
            1.22848246017294,
            1.18235917619124,
            0.464158606575273,
            0.534118428927402,
            0.897790285388664,
            1.24981349951075,
            1.31910814913987,
            0.758134613400367,
            0.717903039967348,
            1.30989169864359,
            0.876614045234179,
            0.830737505945799,
            0.651643391142087,
            0.453489797138013,
            0.840394518866033,
            0.583391644357098,
            0.445590219437185,
            0.379645899656813,
            0.427280260586349,
            0.888738964558251,
            0.337661722408713,
            0.463268703317847,
            0.87836094533107,
            0.507573735208971,
            1.049735065444,
            0.425853271914546,
            0.520058573386519,
            0.460434486951673,
            0.475139070385387,
            0.843002918396433,
            0.639229140147631,
            1.10940480007841,
            1.07350652060841,
            0.800201503682796,
            0.817600238208053,
            1.58001409153129,
            1.53717559591653,
            1.58219245074676,
            1.46550702771603,
            1.51802313929521,
            1.50704611752122,
            1.30898585507508,
            0.477005275362802,
            0.283436429932582,
            0.649484925885708,
            0.256074154540838,
            0.266068555920846,
            0.316647811986762,
            0.577977037471549,
            0.548437964296393,
            0.296912880834007,
            0.891708594202711,
            1.23641019690047,
            0.998290331422827,
            1.09861322729676,
            1.1269835140631,
            0.882271615986776,
            1.00554015454648
           ],
           "xaxis": "x2",
           "yaxis": "y2"
          },
          {
           "alignmentgroup": "True",
           "bingroup": "x",
           "hovertemplate": "app_group=wash<br>sample=C0002<br>amp_dF=%{x}<br>count=%{y}<extra></extra>",
           "legendgroup": "wash",
           "marker": {
            "color": "#00cc96",
            "opacity": 0.75,
            "pattern": {
             "shape": ""
            }
           },
           "name": "wash",
           "offsetgroup": "wash",
           "orientation": "v",
           "showlegend": true,
           "type": "histogram",
           "x": [
            0.588939166454612,
            1.16267825705427,
            0.991421687741925,
            1.28601800158752,
            0.892845824495563,
            1.09628080238301,
            1.14299229603702,
            1.02546998405865,
            1.11365329642174,
            1.13245770893412,
            1.1432346257793,
            0.403690450627384,
            1.29476214544246,
            0.395297882721763,
            0.940607631194494,
            0.842227146485151,
            1.00171002305593,
            0.754420145720246,
            0.758210376975157,
            0.526518403497168,
            0.798427853054283,
            0.766745488125228,
            0.519721547270859,
            0.688079020985373,
            0.65510826675575,
            0.704108353156208,
            0.513765624037981,
            0.683969992099034,
            0.770048850295124,
            0.538483500024469,
            0.734466257005789,
            0.604089970049518,
            0.631225022567171,
            0.388092138553774,
            0.658565755534077,
            0.439324847469769,
            0.402706252729704,
            1.27079500285626,
            0.483308697398186,
            0.437097190646759,
            0.36687379913795,
            0.494656140589342,
            0.424838974455856,
            0.475536765253723,
            0.329406369751027,
            0.471966190888085,
            0.391364979852278,
            0.976599222939583,
            0.624986840904707,
            0.40123158612116,
            0.656391201202382,
            1.01695256325298,
            1.26716573497155,
            1.28215093867558,
            0.816870763570914,
            0.63540090429766,
            1.11037900923076,
            1.21189748898958,
            1.31313894290926,
            1.19366955502324,
            0.49006144804,
            0.43364389481687,
            0.415614445106218,
            1.54043360615732,
            1.55528017612704,
            1.24111880985149,
            1.36265868278916,
            0.809856813049062,
            1.27724457414666,
            1.40095580609507,
            1.4869756380696,
            1.45962337471012,
            1.31241181926252,
            1.52646119297268,
            1.45571057730841,
            1.36485933948789,
            1.49505143006601,
            1.26649737846256,
            1.07804869072014,
            1.20575036617086,
            0.257505461007506,
            0.391493872098454,
            0.702708785207289,
            0.767248879381078,
            0.261718306837055,
            0.399774743125718,
            0.305421387040555,
            0.623792854663699,
            0.263275971738397,
            0.842757947534834,
            1.00351506667871,
            0.777898440359613,
            0.713219364777991,
            0.243632139343347,
            1.03598616518873,
            0.91527284153379,
            0.34394167735693,
            0.875447653861708,
            1.25963898812302,
            0.353070354110069,
            0.715656067556684,
            1.2275712478127,
            1.06437634442584,
            1.0373845495343,
            0.798476752276343,
            0.635302941839423,
            1.15007090461317,
            0.738988886010203,
            0.581197669891158,
            1.31838326897694,
            0.503539534790098,
            0.459996484189757,
            1.37174406322437
           ],
           "xaxis": "x",
           "yaxis": "y"
          },
          {
           "alignmentgroup": "True",
           "hovertemplate": "app_group=wash<br>sample=C0002<br>amp_dF=%{x}<extra></extra>",
           "legendgroup": "wash",
           "marker": {
            "color": "#00cc96"
           },
           "name": "wash",
           "notched": true,
           "offsetgroup": "wash",
           "showlegend": false,
           "type": "box",
           "x": [
            0.588939166454612,
            1.16267825705427,
            0.991421687741925,
            1.28601800158752,
            0.892845824495563,
            1.09628080238301,
            1.14299229603702,
            1.02546998405865,
            1.11365329642174,
            1.13245770893412,
            1.1432346257793,
            0.403690450627384,
            1.29476214544246,
            0.395297882721763,
            0.940607631194494,
            0.842227146485151,
            1.00171002305593,
            0.754420145720246,
            0.758210376975157,
            0.526518403497168,
            0.798427853054283,
            0.766745488125228,
            0.519721547270859,
            0.688079020985373,
            0.65510826675575,
            0.704108353156208,
            0.513765624037981,
            0.683969992099034,
            0.770048850295124,
            0.538483500024469,
            0.734466257005789,
            0.604089970049518,
            0.631225022567171,
            0.388092138553774,
            0.658565755534077,
            0.439324847469769,
            0.402706252729704,
            1.27079500285626,
            0.483308697398186,
            0.437097190646759,
            0.36687379913795,
            0.494656140589342,
            0.424838974455856,
            0.475536765253723,
            0.329406369751027,
            0.471966190888085,
            0.391364979852278,
            0.976599222939583,
            0.624986840904707,
            0.40123158612116,
            0.656391201202382,
            1.01695256325298,
            1.26716573497155,
            1.28215093867558,
            0.816870763570914,
            0.63540090429766,
            1.11037900923076,
            1.21189748898958,
            1.31313894290926,
            1.19366955502324,
            0.49006144804,
            0.43364389481687,
            0.415614445106218,
            1.54043360615732,
            1.55528017612704,
            1.24111880985149,
            1.36265868278916,
            0.809856813049062,
            1.27724457414666,
            1.40095580609507,
            1.4869756380696,
            1.45962337471012,
            1.31241181926252,
            1.52646119297268,
            1.45571057730841,
            1.36485933948789,
            1.49505143006601,
            1.26649737846256,
            1.07804869072014,
            1.20575036617086,
            0.257505461007506,
            0.391493872098454,
            0.702708785207289,
            0.767248879381078,
            0.261718306837055,
            0.399774743125718,
            0.305421387040555,
            0.623792854663699,
            0.263275971738397,
            0.842757947534834,
            1.00351506667871,
            0.777898440359613,
            0.713219364777991,
            0.243632139343347,
            1.03598616518873,
            0.91527284153379,
            0.34394167735693,
            0.875447653861708,
            1.25963898812302,
            0.353070354110069,
            0.715656067556684,
            1.2275712478127,
            1.06437634442584,
            1.0373845495343,
            0.798476752276343,
            0.635302941839423,
            1.15007090461317,
            0.738988886010203,
            0.581197669891158,
            1.31838326897694,
            0.503539534790098,
            0.459996484189757,
            1.37174406322437
           ],
           "xaxis": "x2",
           "yaxis": "y2"
          }
         ],
         "name": "C0002"
        },
        {
         "data": [
          {
           "alignmentgroup": "True",
           "bingroup": "x",
           "hovertemplate": "app_group=ctrl<br>sample=D0001<br>amp_dF=%{x}<br>count=%{y}<extra></extra>",
           "legendgroup": "ctrl",
           "marker": {
            "color": "#636efa",
            "opacity": 0.75,
            "pattern": {
             "shape": ""
            }
           },
           "name": "ctrl",
           "offsetgroup": "ctrl",
           "orientation": "v",
           "showlegend": true,
           "type": "histogram",
           "x": [
            1.98150441579578,
            2.12813221267848,
            1.25002866215602,
            1.26136388390696,
            1.33786858892241,
            0.640901646776805,
            2.69301211070025,
            0.900852570135215,
            0.620711155930162,
            0.750186441004533,
            1.27766548122563,
            1.1984169805718,
            1.34439093185633,
            1.94288605317736,
            0.168091985927455,
            0.415005898793525,
            0.236252976987511,
            1.4359450487575,
            0.465189387946155,
            0.48712991962556,
            1.68958310797285,
            0.320025299353754,
            1.97713795796754,
            0.166473551846109,
            0.195905774914016,
            1.07317492154335,
            0.153672275700764,
            1.16183305892245,
            0.202946109697696,
            0.124162160532618,
            0.61965029518552,
            1.66212013041208,
            0.349735634542282,
            0.108517313282179,
            0.12629990627248,
            0.225624914490876,
            0.150813801301532,
            0.148114589853249,
            0.183768697099213,
            0.260676336576391,
            0.123886949986861,
            0.603755907600733,
            0.122979429018168,
            0.120244384761947,
            0.310055012689843,
            0.565809031203187
           ],
           "xaxis": "x",
           "yaxis": "y"
          },
          {
           "alignmentgroup": "True",
           "hovertemplate": "app_group=ctrl<br>sample=D0001<br>amp_dF=%{x}<extra></extra>",
           "legendgroup": "ctrl",
           "marker": {
            "color": "#636efa"
           },
           "name": "ctrl",
           "notched": true,
           "offsetgroup": "ctrl",
           "showlegend": false,
           "type": "box",
           "x": [
            1.98150441579578,
            2.12813221267848,
            1.25002866215602,
            1.26136388390696,
            1.33786858892241,
            0.640901646776805,
            2.69301211070025,
            0.900852570135215,
            0.620711155930162,
            0.750186441004533,
            1.27766548122563,
            1.1984169805718,
            1.34439093185633,
            1.94288605317736,
            0.168091985927455,
            0.415005898793525,
            0.236252976987511,
            1.4359450487575,
            0.465189387946155,
            0.48712991962556,
            1.68958310797285,
            0.320025299353754,
            1.97713795796754,
            0.166473551846109,
            0.195905774914016,
            1.07317492154335,
            0.153672275700764,
            1.16183305892245,
            0.202946109697696,
            0.124162160532618,
            0.61965029518552,
            1.66212013041208,
            0.349735634542282,
            0.108517313282179,
            0.12629990627248,
            0.225624914490876,
            0.150813801301532,
            0.148114589853249,
            0.183768697099213,
            0.260676336576391,
            0.123886949986861,
            0.603755907600733,
            0.122979429018168,
            0.120244384761947,
            0.310055012689843,
            0.565809031203187
           ],
           "xaxis": "x2",
           "yaxis": "y2"
          },
          {
           "alignmentgroup": "True",
           "bingroup": "x",
           "hovertemplate": "app_group=C5a<br>sample=D0001<br>amp_dF=%{x}<br>count=%{y}<extra></extra>",
           "legendgroup": "C5a",
           "marker": {
            "color": "#EF553B",
            "opacity": 0.75,
            "pattern": {
             "shape": ""
            }
           },
           "name": "C5a",
           "offsetgroup": "C5a",
           "orientation": "v",
           "showlegend": true,
           "type": "histogram",
           "x": [
            2.00955424709144,
            2.05413095455721,
            1.80011417459017,
            0.796551840632824,
            0.468781037298618,
            1.23707698780823,
            1.21359397547285,
            1.28549569942549,
            0.182435477150017,
            0.396843085190935,
            0.116446976595622,
            0.555692249064628,
            1.47072750596981,
            1.37932083506402,
            1.31471770327003,
            0.513094593683025,
            0.866084500506461,
            2.24152326744999,
            0.500314507148027,
            0.1511988531492,
            0.999652644659121,
            0.457755475528239,
            1.28594082929634,
            1.24230777636628,
            2.43835791715643,
            2.42268135499692,
            2.71122717656828,
            2.30897422462233,
            2.24806477915847,
            0.110398949689891,
            0.17259148470072,
            0.200800475007968,
            0.275086171332157,
            0.165875679884199,
            1.31029532241873,
            0.402685090076319,
            0.232743420815176,
            0.148705965399242,
            0.143070395138081,
            0.804168887483115,
            0.797641484542071,
            2.17444753922982,
            0.589326477220845
           ],
           "xaxis": "x",
           "yaxis": "y"
          },
          {
           "alignmentgroup": "True",
           "hovertemplate": "app_group=C5a<br>sample=D0001<br>amp_dF=%{x}<extra></extra>",
           "legendgroup": "C5a",
           "marker": {
            "color": "#EF553B"
           },
           "name": "C5a",
           "notched": true,
           "offsetgroup": "C5a",
           "showlegend": false,
           "type": "box",
           "x": [
            2.00955424709144,
            2.05413095455721,
            1.80011417459017,
            0.796551840632824,
            0.468781037298618,
            1.23707698780823,
            1.21359397547285,
            1.28549569942549,
            0.182435477150017,
            0.396843085190935,
            0.116446976595622,
            0.555692249064628,
            1.47072750596981,
            1.37932083506402,
            1.31471770327003,
            0.513094593683025,
            0.866084500506461,
            2.24152326744999,
            0.500314507148027,
            0.1511988531492,
            0.999652644659121,
            0.457755475528239,
            1.28594082929634,
            1.24230777636628,
            2.43835791715643,
            2.42268135499692,
            2.71122717656828,
            2.30897422462233,
            2.24806477915847,
            0.110398949689891,
            0.17259148470072,
            0.200800475007968,
            0.275086171332157,
            0.165875679884199,
            1.31029532241873,
            0.402685090076319,
            0.232743420815176,
            0.148705965399242,
            0.143070395138081,
            0.804168887483115,
            0.797641484542071,
            2.17444753922982,
            0.589326477220845
           ],
           "xaxis": "x2",
           "yaxis": "y2"
          },
          {
           "alignmentgroup": "True",
           "bingroup": "x",
           "hovertemplate": "app_group=wash<br>sample=D0001<br>amp_dF=%{x}<br>count=%{y}<extra></extra>",
           "legendgroup": "wash",
           "marker": {
            "color": "#00cc96",
            "opacity": 0.75,
            "pattern": {
             "shape": ""
            }
           },
           "name": "wash",
           "offsetgroup": "wash",
           "orientation": "v",
           "showlegend": true,
           "type": "histogram",
           "x": [
            1.87452356042842,
            2.40285670756364,
            0.455821089192583,
            1.22719281241321,
            1.20033001047055,
            0.660938362778685,
            0.697623177744974,
            0.455419045479358,
            2.27259892238239,
            0.781120195141044,
            3.23264792697225,
            2.10402249915633,
            1.05338596927207,
            0.69331656450608,
            2.11399706650237,
            1.092843352581,
            0.326041641399083,
            0.183513241087952,
            0.18624369102966,
            1.03334733976306,
            0.240775999245883,
            1.82577962370341,
            0.259690655246518,
            0.162878203317829,
            0.196271960032736,
            0.220849579818958,
            0.409203951851389,
            0.25811671036424,
            0.181033503003477,
            0.23539505552683,
            0.123803612899091,
            0.983249259303305,
            0.342961652178283,
            0.143607184987925,
            0.916159853573521,
            1.18075177498339,
            1.15323899012169,
            1.36700708698733,
            0.924734329921436,
            1.29662700331558,
            1.13154317223537,
            1.31671279796193,
            0.943812050647914,
            0.749736992358355,
            0.788351057974537,
            0.775698866888769,
            0.316900757366708,
            1.28907111443295,
            1.13503649266646,
            0.180085177523614,
            1.12399321947634,
            0.25152996658813,
            1.29926434959914,
            1.13248690086299,
            1.28704599282461,
            0.272339837752934,
            0.143461438798784,
            0.182987177299796,
            0.665043615915346,
            0.683954946713224,
            0.135667199333942,
            0.207553122661097,
            0.40169342520298,
            0.87030474249425,
            0.487698055880643,
            0.58406207840397,
            0.371663475576104,
            1.6779425634569,
            0.081167513126442,
            0.348022087732292,
            0.826864617762177,
            0.349987613115196,
            1.01739784012546,
            1.0135580632377,
            0.595002740725151,
            0.53397712169551,
            0.419911091719033,
            0.5902935402046,
            0.178726472552751,
            0.261950078481196,
            0.163077811157828,
            0.152186737874081,
            0.695954795443058,
            0.868595100462013,
            0.533358739010988,
            0.348240115882281,
            0.537688874467012,
            1.03402991357225,
            0.314187860244977,
            0.261723381843506,
            0.490434329792396,
            0.29466358507582,
            0.960410898927296,
            0.842761477037877,
            0.128567339081093,
            0.266023027487167,
            1.25131321608186,
            0.176838020098704,
            0.339965302974342,
            0.192758113027455,
            0.140990474678056,
            0.257462455149894,
            0.106872800402885,
            0.57810968773914,
            1.01960219820439,
            0.912076837653376,
            0.244668248520862,
            0.84462027468455,
            1.22684496349561,
            0.191753340844786,
            0.163921577672082,
            0.174481575562605,
            0.277827691270341,
            0.164676227117654,
            0.196218876049076,
            0.244301198501673,
            0.166290292526264,
            0.418637509580716
           ],
           "xaxis": "x",
           "yaxis": "y"
          },
          {
           "alignmentgroup": "True",
           "hovertemplate": "app_group=wash<br>sample=D0001<br>amp_dF=%{x}<extra></extra>",
           "legendgroup": "wash",
           "marker": {
            "color": "#00cc96"
           },
           "name": "wash",
           "notched": true,
           "offsetgroup": "wash",
           "showlegend": false,
           "type": "box",
           "x": [
            1.87452356042842,
            2.40285670756364,
            0.455821089192583,
            1.22719281241321,
            1.20033001047055,
            0.660938362778685,
            0.697623177744974,
            0.455419045479358,
            2.27259892238239,
            0.781120195141044,
            3.23264792697225,
            2.10402249915633,
            1.05338596927207,
            0.69331656450608,
            2.11399706650237,
            1.092843352581,
            0.326041641399083,
            0.183513241087952,
            0.18624369102966,
            1.03334733976306,
            0.240775999245883,
            1.82577962370341,
            0.259690655246518,
            0.162878203317829,
            0.196271960032736,
            0.220849579818958,
            0.409203951851389,
            0.25811671036424,
            0.181033503003477,
            0.23539505552683,
            0.123803612899091,
            0.983249259303305,
            0.342961652178283,
            0.143607184987925,
            0.916159853573521,
            1.18075177498339,
            1.15323899012169,
            1.36700708698733,
            0.924734329921436,
            1.29662700331558,
            1.13154317223537,
            1.31671279796193,
            0.943812050647914,
            0.749736992358355,
            0.788351057974537,
            0.775698866888769,
            0.316900757366708,
            1.28907111443295,
            1.13503649266646,
            0.180085177523614,
            1.12399321947634,
            0.25152996658813,
            1.29926434959914,
            1.13248690086299,
            1.28704599282461,
            0.272339837752934,
            0.143461438798784,
            0.182987177299796,
            0.665043615915346,
            0.683954946713224,
            0.135667199333942,
            0.207553122661097,
            0.40169342520298,
            0.87030474249425,
            0.487698055880643,
            0.58406207840397,
            0.371663475576104,
            1.6779425634569,
            0.081167513126442,
            0.348022087732292,
            0.826864617762177,
            0.349987613115196,
            1.01739784012546,
            1.0135580632377,
            0.595002740725151,
            0.53397712169551,
            0.419911091719033,
            0.5902935402046,
            0.178726472552751,
            0.261950078481196,
            0.163077811157828,
            0.152186737874081,
            0.695954795443058,
            0.868595100462013,
            0.533358739010988,
            0.348240115882281,
            0.537688874467012,
            1.03402991357225,
            0.314187860244977,
            0.261723381843506,
            0.490434329792396,
            0.29466358507582,
            0.960410898927296,
            0.842761477037877,
            0.128567339081093,
            0.266023027487167,
            1.25131321608186,
            0.176838020098704,
            0.339965302974342,
            0.192758113027455,
            0.140990474678056,
            0.257462455149894,
            0.106872800402885,
            0.57810968773914,
            1.01960219820439,
            0.912076837653376,
            0.244668248520862,
            0.84462027468455,
            1.22684496349561,
            0.191753340844786,
            0.163921577672082,
            0.174481575562605,
            0.277827691270341,
            0.164676227117654,
            0.196218876049076,
            0.244301198501673,
            0.166290292526264,
            0.418637509580716
           ],
           "xaxis": "x2",
           "yaxis": "y2"
          }
         ],
         "name": "D0001"
        },
        {
         "data": [
          {
           "alignmentgroup": "True",
           "bingroup": "x",
           "hovertemplate": "app_group=ctrl<br>sample=E0002<br>amp_dF=%{x}<br>count=%{y}<extra></extra>",
           "legendgroup": "ctrl",
           "marker": {
            "color": "#636efa",
            "opacity": 0.75,
            "pattern": {
             "shape": ""
            }
           },
           "name": "ctrl",
           "offsetgroup": "ctrl",
           "orientation": "v",
           "showlegend": true,
           "type": "histogram",
           "x": [
            0.217254483671291,
            0.17545164271675,
            0.397121320275278,
            0.716704544687958,
            0.425291211765315,
            0.420164338040609,
            0.341946989192876,
            0.637346784343325,
            0.100947563212017,
            0.114297824932751,
            0.143908033698611,
            0.140116289112161,
            0.586442408835418,
            0.100427334992436,
            0.085352032518041,
            1.05312682831308,
            0.500375044456619,
            2.640167560808
           ],
           "xaxis": "x",
           "yaxis": "y"
          },
          {
           "alignmentgroup": "True",
           "hovertemplate": "app_group=ctrl<br>sample=E0002<br>amp_dF=%{x}<extra></extra>",
           "legendgroup": "ctrl",
           "marker": {
            "color": "#636efa"
           },
           "name": "ctrl",
           "notched": true,
           "offsetgroup": "ctrl",
           "showlegend": false,
           "type": "box",
           "x": [
            0.217254483671291,
            0.17545164271675,
            0.397121320275278,
            0.716704544687958,
            0.425291211765315,
            0.420164338040609,
            0.341946989192876,
            0.637346784343325,
            0.100947563212017,
            0.114297824932751,
            0.143908033698611,
            0.140116289112161,
            0.586442408835418,
            0.100427334992436,
            0.085352032518041,
            1.05312682831308,
            0.500375044456619,
            2.640167560808
           ],
           "xaxis": "x2",
           "yaxis": "y2"
          },
          {
           "alignmentgroup": "True",
           "bingroup": "x",
           "hovertemplate": "app_group=C5a<br>sample=E0002<br>amp_dF=%{x}<br>count=%{y}<extra></extra>",
           "legendgroup": "C5a",
           "marker": {
            "color": "#EF553B",
            "opacity": 0.75,
            "pattern": {
             "shape": ""
            }
           },
           "name": "C5a",
           "offsetgroup": "C5a",
           "orientation": "v",
           "showlegend": true,
           "type": "histogram",
           "x": [
            0.395589338784525,
            0.169788009017526,
            0.259037860207377,
            1.62339920949047,
            0.296369971292705,
            0.879415363118343,
            0.396388420927675,
            0.27768158653297,
            0.0666543080180901,
            0.0761143707758533,
            0.0782876710191571,
            0.386443427479554,
            0.310913336345711,
            0.26521912817036,
            0.239139298934664,
            0.341982696393774,
            0.176626804301808,
            0.332148997210531,
            0.978147169174824,
            0.230374360256047,
            0.191776009155579,
            0.183576347641586,
            1.10594150214182,
            0.148505896708661,
            0.882570734243374,
            2.48493799944399,
            0.303270179057944,
            2.82985960940369,
            2.8002777413707,
            2.09057946392613,
            2.90630709225051,
            2.43633425714044,
            4.63110851882241
           ],
           "xaxis": "x",
           "yaxis": "y"
          },
          {
           "alignmentgroup": "True",
           "hovertemplate": "app_group=C5a<br>sample=E0002<br>amp_dF=%{x}<extra></extra>",
           "legendgroup": "C5a",
           "marker": {
            "color": "#EF553B"
           },
           "name": "C5a",
           "notched": true,
           "offsetgroup": "C5a",
           "showlegend": false,
           "type": "box",
           "x": [
            0.395589338784525,
            0.169788009017526,
            0.259037860207377,
            1.62339920949047,
            0.296369971292705,
            0.879415363118343,
            0.396388420927675,
            0.27768158653297,
            0.0666543080180901,
            0.0761143707758533,
            0.0782876710191571,
            0.386443427479554,
            0.310913336345711,
            0.26521912817036,
            0.239139298934664,
            0.341982696393774,
            0.176626804301808,
            0.332148997210531,
            0.978147169174824,
            0.230374360256047,
            0.191776009155579,
            0.183576347641586,
            1.10594150214182,
            0.148505896708661,
            0.882570734243374,
            2.48493799944399,
            0.303270179057944,
            2.82985960940369,
            2.8002777413707,
            2.09057946392613,
            2.90630709225051,
            2.43633425714044,
            4.63110851882241
           ],
           "xaxis": "x2",
           "yaxis": "y2"
          },
          {
           "alignmentgroup": "True",
           "bingroup": "x",
           "hovertemplate": "app_group=wash<br>sample=E0002<br>amp_dF=%{x}<br>count=%{y}<extra></extra>",
           "legendgroup": "wash",
           "marker": {
            "color": "#00cc96",
            "opacity": 0.75,
            "pattern": {
             "shape": ""
            }
           },
           "name": "wash",
           "offsetgroup": "wash",
           "orientation": "v",
           "showlegend": true,
           "type": "histogram",
           "x": [
            1.70869589212352,
            0.597975285336404,
            0.695470907114859,
            0.428010143870385,
            1.15176740149553,
            0.335852091241063,
            1.85757005095166,
            1.46295646034743,
            0.534083897471108,
            0.68440113199103,
            0.36341240331774,
            0.987661855605838,
            0.243160404492627,
            0.24400454860646,
            0.336275672218131,
            1.44460391303348,
            2.53726908513268,
            2.04905842083594,
            0.316722313830152,
            0.255884819174032,
            0.895083594796656,
            0.277712645052771,
            0.232518584454071,
            0.420191963726518,
            0.638817542118725,
            3.28916631370144,
            2.15794249453376,
            0.532562241875319,
            0.393887948050928,
            0.475082638052726,
            2.63656561646973,
            0.419863815595985,
            0.37772811478136,
            0.266956000876664,
            0.393500101215295,
            0.270853923991106,
            0.262929970834934,
            0.153394751383257,
            0.144162481787502,
            0.105629169536784,
            0.0687595675402983,
            0.0983986964026965,
            0.0642990945014369,
            1.00560053456298,
            0.114579618383449,
            0.382851759978224,
            0.691617989207729,
            0.441766509873122,
            0.15076872183558,
            0.105457269218144,
            0.623920082447672,
            0.846170175360875,
            0.0608779070158888,
            0.964881790833822,
            0.75791000349881,
            0.676976711325772,
            0.63065391163962,
            0.483310583597722,
            0.557846131244246,
            0.284519966194072,
            0.205938375128482,
            0.25717026293925,
            0.724490289951183,
            0.425811613298429,
            0.136065154766555,
            0.270611372134809,
            0.249563336209673,
            0.233742119708915,
            0.235231488870015,
            0.179936515140151,
            0.207178032427608,
            0.23755589187348,
            0.237450854079973,
            1.39940835978305,
            1.7561905981773,
            0.971087628570862,
            0.965330126513406,
            1.35549115621882,
            0.153129756000803,
            1.57790488400726,
            0.17248173503471,
            0.0889289906032203,
            0.218463645564832,
            0.180894861819443,
            0.149886791638207,
            0.885891996822278,
            0.721310279012416,
            1.2555828267225,
            0.409804079090956,
            0.437462023575816,
            0.812552301081584,
            0.622378163011541,
            0.239141954884795,
            0.262562764994275,
            0.170945031192021,
            0.104591322627509,
            2.18457310370974,
            1.03979330657506,
            2.512905857246,
            0.367077811289066,
            0.529450755730938,
            0.25007936063044,
            0.14702920509738,
            1.93439963513516,
            0.332108201698933,
            0.33535535626181,
            4.72750462944335,
            0.687974735522231
           ],
           "xaxis": "x",
           "yaxis": "y"
          },
          {
           "alignmentgroup": "True",
           "hovertemplate": "app_group=wash<br>sample=E0002<br>amp_dF=%{x}<extra></extra>",
           "legendgroup": "wash",
           "marker": {
            "color": "#00cc96"
           },
           "name": "wash",
           "notched": true,
           "offsetgroup": "wash",
           "showlegend": false,
           "type": "box",
           "x": [
            1.70869589212352,
            0.597975285336404,
            0.695470907114859,
            0.428010143870385,
            1.15176740149553,
            0.335852091241063,
            1.85757005095166,
            1.46295646034743,
            0.534083897471108,
            0.68440113199103,
            0.36341240331774,
            0.987661855605838,
            0.243160404492627,
            0.24400454860646,
            0.336275672218131,
            1.44460391303348,
            2.53726908513268,
            2.04905842083594,
            0.316722313830152,
            0.255884819174032,
            0.895083594796656,
            0.277712645052771,
            0.232518584454071,
            0.420191963726518,
            0.638817542118725,
            3.28916631370144,
            2.15794249453376,
            0.532562241875319,
            0.393887948050928,
            0.475082638052726,
            2.63656561646973,
            0.419863815595985,
            0.37772811478136,
            0.266956000876664,
            0.393500101215295,
            0.270853923991106,
            0.262929970834934,
            0.153394751383257,
            0.144162481787502,
            0.105629169536784,
            0.0687595675402983,
            0.0983986964026965,
            0.0642990945014369,
            1.00560053456298,
            0.114579618383449,
            0.382851759978224,
            0.691617989207729,
            0.441766509873122,
            0.15076872183558,
            0.105457269218144,
            0.623920082447672,
            0.846170175360875,
            0.0608779070158888,
            0.964881790833822,
            0.75791000349881,
            0.676976711325772,
            0.63065391163962,
            0.483310583597722,
            0.557846131244246,
            0.284519966194072,
            0.205938375128482,
            0.25717026293925,
            0.724490289951183,
            0.425811613298429,
            0.136065154766555,
            0.270611372134809,
            0.249563336209673,
            0.233742119708915,
            0.235231488870015,
            0.179936515140151,
            0.207178032427608,
            0.23755589187348,
            0.237450854079973,
            1.39940835978305,
            1.7561905981773,
            0.971087628570862,
            0.965330126513406,
            1.35549115621882,
            0.153129756000803,
            1.57790488400726,
            0.17248173503471,
            0.0889289906032203,
            0.218463645564832,
            0.180894861819443,
            0.149886791638207,
            0.885891996822278,
            0.721310279012416,
            1.2555828267225,
            0.409804079090956,
            0.437462023575816,
            0.812552301081584,
            0.622378163011541,
            0.239141954884795,
            0.262562764994275,
            0.170945031192021,
            0.104591322627509,
            2.18457310370974,
            1.03979330657506,
            2.512905857246,
            0.367077811289066,
            0.529450755730938,
            0.25007936063044,
            0.14702920509738,
            1.93439963513516,
            0.332108201698933,
            0.33535535626181,
            4.72750462944335,
            0.687974735522231
           ],
           "xaxis": "x2",
           "yaxis": "y2"
          }
         ],
         "name": "E0002"
        }
       ],
       "layout": {
        "barmode": "relative",
        "legend": {
         "title": {
          "text": "app_group"
         },
         "tracegroupgap": 0
        },
        "margin": {
         "t": 60
        },
        "sliders": [
         {
          "active": 0,
          "currentvalue": {
           "prefix": "sample="
          },
          "len": 0.9,
          "pad": {
           "b": 10,
           "t": 60
          },
          "steps": [
           {
            "args": [
             [
              "C0002"
             ],
             {
              "frame": {
               "duration": 0,
               "redraw": true
              },
              "fromcurrent": true,
              "mode": "immediate",
              "transition": {
               "duration": 0,
               "easing": "linear"
              }
             }
            ],
            "label": "C0002",
            "method": "animate"
           },
           {
            "args": [
             [
              "D0001"
             ],
             {
              "frame": {
               "duration": 0,
               "redraw": true
              },
              "fromcurrent": true,
              "mode": "immediate",
              "transition": {
               "duration": 0,
               "easing": "linear"
              }
             }
            ],
            "label": "D0001",
            "method": "animate"
           },
           {
            "args": [
             [
              "E0002"
             ],
             {
              "frame": {
               "duration": 0,
               "redraw": true
              },
              "fromcurrent": true,
              "mode": "immediate",
              "transition": {
               "duration": 0,
               "easing": "linear"
              }
             }
            ],
            "label": "E0002",
            "method": "animate"
           }
          ],
          "x": 0.1,
          "xanchor": "left",
          "y": 0,
          "yanchor": "top"
         }
        ],
        "template": {
         "data": {
          "bar": [
           {
            "error_x": {
             "color": "#2a3f5f"
            },
            "error_y": {
             "color": "#2a3f5f"
            },
            "marker": {
             "line": {
              "color": "#E5ECF6",
              "width": 0.5
             },
             "pattern": {
              "fillmode": "overlay",
              "size": 10,
              "solidity": 0.2
             }
            },
            "type": "bar"
           }
          ],
          "barpolar": [
           {
            "marker": {
             "line": {
              "color": "#E5ECF6",
              "width": 0.5
             },
             "pattern": {
              "fillmode": "overlay",
              "size": 10,
              "solidity": 0.2
             }
            },
            "type": "barpolar"
           }
          ],
          "carpet": [
           {
            "aaxis": {
             "endlinecolor": "#2a3f5f",
             "gridcolor": "white",
             "linecolor": "white",
             "minorgridcolor": "white",
             "startlinecolor": "#2a3f5f"
            },
            "baxis": {
             "endlinecolor": "#2a3f5f",
             "gridcolor": "white",
             "linecolor": "white",
             "minorgridcolor": "white",
             "startlinecolor": "#2a3f5f"
            },
            "type": "carpet"
           }
          ],
          "choropleth": [
           {
            "colorbar": {
             "outlinewidth": 0,
             "ticks": ""
            },
            "type": "choropleth"
           }
          ],
          "contour": [
           {
            "colorbar": {
             "outlinewidth": 0,
             "ticks": ""
            },
            "colorscale": [
             [
              0,
              "#0d0887"
             ],
             [
              0.1111111111111111,
              "#46039f"
             ],
             [
              0.2222222222222222,
              "#7201a8"
             ],
             [
              0.3333333333333333,
              "#9c179e"
             ],
             [
              0.4444444444444444,
              "#bd3786"
             ],
             [
              0.5555555555555556,
              "#d8576b"
             ],
             [
              0.6666666666666666,
              "#ed7953"
             ],
             [
              0.7777777777777778,
              "#fb9f3a"
             ],
             [
              0.8888888888888888,
              "#fdca26"
             ],
             [
              1,
              "#f0f921"
             ]
            ],
            "type": "contour"
           }
          ],
          "contourcarpet": [
           {
            "colorbar": {
             "outlinewidth": 0,
             "ticks": ""
            },
            "type": "contourcarpet"
           }
          ],
          "heatmap": [
           {
            "colorbar": {
             "outlinewidth": 0,
             "ticks": ""
            },
            "colorscale": [
             [
              0,
              "#0d0887"
             ],
             [
              0.1111111111111111,
              "#46039f"
             ],
             [
              0.2222222222222222,
              "#7201a8"
             ],
             [
              0.3333333333333333,
              "#9c179e"
             ],
             [
              0.4444444444444444,
              "#bd3786"
             ],
             [
              0.5555555555555556,
              "#d8576b"
             ],
             [
              0.6666666666666666,
              "#ed7953"
             ],
             [
              0.7777777777777778,
              "#fb9f3a"
             ],
             [
              0.8888888888888888,
              "#fdca26"
             ],
             [
              1,
              "#f0f921"
             ]
            ],
            "type": "heatmap"
           }
          ],
          "heatmapgl": [
           {
            "colorbar": {
             "outlinewidth": 0,
             "ticks": ""
            },
            "colorscale": [
             [
              0,
              "#0d0887"
             ],
             [
              0.1111111111111111,
              "#46039f"
             ],
             [
              0.2222222222222222,
              "#7201a8"
             ],
             [
              0.3333333333333333,
              "#9c179e"
             ],
             [
              0.4444444444444444,
              "#bd3786"
             ],
             [
              0.5555555555555556,
              "#d8576b"
             ],
             [
              0.6666666666666666,
              "#ed7953"
             ],
             [
              0.7777777777777778,
              "#fb9f3a"
             ],
             [
              0.8888888888888888,
              "#fdca26"
             ],
             [
              1,
              "#f0f921"
             ]
            ],
            "type": "heatmapgl"
           }
          ],
          "histogram": [
           {
            "marker": {
             "pattern": {
              "fillmode": "overlay",
              "size": 10,
              "solidity": 0.2
             }
            },
            "type": "histogram"
           }
          ],
          "histogram2d": [
           {
            "colorbar": {
             "outlinewidth": 0,
             "ticks": ""
            },
            "colorscale": [
             [
              0,
              "#0d0887"
             ],
             [
              0.1111111111111111,
              "#46039f"
             ],
             [
              0.2222222222222222,
              "#7201a8"
             ],
             [
              0.3333333333333333,
              "#9c179e"
             ],
             [
              0.4444444444444444,
              "#bd3786"
             ],
             [
              0.5555555555555556,
              "#d8576b"
             ],
             [
              0.6666666666666666,
              "#ed7953"
             ],
             [
              0.7777777777777778,
              "#fb9f3a"
             ],
             [
              0.8888888888888888,
              "#fdca26"
             ],
             [
              1,
              "#f0f921"
             ]
            ],
            "type": "histogram2d"
           }
          ],
          "histogram2dcontour": [
           {
            "colorbar": {
             "outlinewidth": 0,
             "ticks": ""
            },
            "colorscale": [
             [
              0,
              "#0d0887"
             ],
             [
              0.1111111111111111,
              "#46039f"
             ],
             [
              0.2222222222222222,
              "#7201a8"
             ],
             [
              0.3333333333333333,
              "#9c179e"
             ],
             [
              0.4444444444444444,
              "#bd3786"
             ],
             [
              0.5555555555555556,
              "#d8576b"
             ],
             [
              0.6666666666666666,
              "#ed7953"
             ],
             [
              0.7777777777777778,
              "#fb9f3a"
             ],
             [
              0.8888888888888888,
              "#fdca26"
             ],
             [
              1,
              "#f0f921"
             ]
            ],
            "type": "histogram2dcontour"
           }
          ],
          "mesh3d": [
           {
            "colorbar": {
             "outlinewidth": 0,
             "ticks": ""
            },
            "type": "mesh3d"
           }
          ],
          "parcoords": [
           {
            "line": {
             "colorbar": {
              "outlinewidth": 0,
              "ticks": ""
             }
            },
            "type": "parcoords"
           }
          ],
          "pie": [
           {
            "automargin": true,
            "type": "pie"
           }
          ],
          "scatter": [
           {
            "fillpattern": {
             "fillmode": "overlay",
             "size": 10,
             "solidity": 0.2
            },
            "type": "scatter"
           }
          ],
          "scatter3d": [
           {
            "line": {
             "colorbar": {
              "outlinewidth": 0,
              "ticks": ""
             }
            },
            "marker": {
             "colorbar": {
              "outlinewidth": 0,
              "ticks": ""
             }
            },
            "type": "scatter3d"
           }
          ],
          "scattercarpet": [
           {
            "marker": {
             "colorbar": {
              "outlinewidth": 0,
              "ticks": ""
             }
            },
            "type": "scattercarpet"
           }
          ],
          "scattergeo": [
           {
            "marker": {
             "colorbar": {
              "outlinewidth": 0,
              "ticks": ""
             }
            },
            "type": "scattergeo"
           }
          ],
          "scattergl": [
           {
            "marker": {
             "colorbar": {
              "outlinewidth": 0,
              "ticks": ""
             }
            },
            "type": "scattergl"
           }
          ],
          "scattermapbox": [
           {
            "marker": {
             "colorbar": {
              "outlinewidth": 0,
              "ticks": ""
             }
            },
            "type": "scattermapbox"
           }
          ],
          "scatterpolar": [
           {
            "marker": {
             "colorbar": {
              "outlinewidth": 0,
              "ticks": ""
             }
            },
            "type": "scatterpolar"
           }
          ],
          "scatterpolargl": [
           {
            "marker": {
             "colorbar": {
              "outlinewidth": 0,
              "ticks": ""
             }
            },
            "type": "scatterpolargl"
           }
          ],
          "scatterternary": [
           {
            "marker": {
             "colorbar": {
              "outlinewidth": 0,
              "ticks": ""
             }
            },
            "type": "scatterternary"
           }
          ],
          "surface": [
           {
            "colorbar": {
             "outlinewidth": 0,
             "ticks": ""
            },
            "colorscale": [
             [
              0,
              "#0d0887"
             ],
             [
              0.1111111111111111,
              "#46039f"
             ],
             [
              0.2222222222222222,
              "#7201a8"
             ],
             [
              0.3333333333333333,
              "#9c179e"
             ],
             [
              0.4444444444444444,
              "#bd3786"
             ],
             [
              0.5555555555555556,
              "#d8576b"
             ],
             [
              0.6666666666666666,
              "#ed7953"
             ],
             [
              0.7777777777777778,
              "#fb9f3a"
             ],
             [
              0.8888888888888888,
              "#fdca26"
             ],
             [
              1,
              "#f0f921"
             ]
            ],
            "type": "surface"
           }
          ],
          "table": [
           {
            "cells": {
             "fill": {
              "color": "#EBF0F8"
             },
             "line": {
              "color": "white"
             }
            },
            "header": {
             "fill": {
              "color": "#C8D4E3"
             },
             "line": {
              "color": "white"
             }
            },
            "type": "table"
           }
          ]
         },
         "layout": {
          "annotationdefaults": {
           "arrowcolor": "#2a3f5f",
           "arrowhead": 0,
           "arrowwidth": 1
          },
          "autotypenumbers": "strict",
          "coloraxis": {
           "colorbar": {
            "outlinewidth": 0,
            "ticks": ""
           }
          },
          "colorscale": {
           "diverging": [
            [
             0,
             "#8e0152"
            ],
            [
             0.1,
             "#c51b7d"
            ],
            [
             0.2,
             "#de77ae"
            ],
            [
             0.3,
             "#f1b6da"
            ],
            [
             0.4,
             "#fde0ef"
            ],
            [
             0.5,
             "#f7f7f7"
            ],
            [
             0.6,
             "#e6f5d0"
            ],
            [
             0.7,
             "#b8e186"
            ],
            [
             0.8,
             "#7fbc41"
            ],
            [
             0.9,
             "#4d9221"
            ],
            [
             1,
             "#276419"
            ]
           ],
           "sequential": [
            [
             0,
             "#0d0887"
            ],
            [
             0.1111111111111111,
             "#46039f"
            ],
            [
             0.2222222222222222,
             "#7201a8"
            ],
            [
             0.3333333333333333,
             "#9c179e"
            ],
            [
             0.4444444444444444,
             "#bd3786"
            ],
            [
             0.5555555555555556,
             "#d8576b"
            ],
            [
             0.6666666666666666,
             "#ed7953"
            ],
            [
             0.7777777777777778,
             "#fb9f3a"
            ],
            [
             0.8888888888888888,
             "#fdca26"
            ],
            [
             1,
             "#f0f921"
            ]
           ],
           "sequentialminus": [
            [
             0,
             "#0d0887"
            ],
            [
             0.1111111111111111,
             "#46039f"
            ],
            [
             0.2222222222222222,
             "#7201a8"
            ],
            [
             0.3333333333333333,
             "#9c179e"
            ],
            [
             0.4444444444444444,
             "#bd3786"
            ],
            [
             0.5555555555555556,
             "#d8576b"
            ],
            [
             0.6666666666666666,
             "#ed7953"
            ],
            [
             0.7777777777777778,
             "#fb9f3a"
            ],
            [
             0.8888888888888888,
             "#fdca26"
            ],
            [
             1,
             "#f0f921"
            ]
           ]
          },
          "colorway": [
           "#636efa",
           "#EF553B",
           "#00cc96",
           "#ab63fa",
           "#FFA15A",
           "#19d3f3",
           "#FF6692",
           "#B6E880",
           "#FF97FF",
           "#FECB52"
          ],
          "font": {
           "color": "#2a3f5f"
          },
          "geo": {
           "bgcolor": "white",
           "lakecolor": "white",
           "landcolor": "#E5ECF6",
           "showlakes": true,
           "showland": true,
           "subunitcolor": "white"
          },
          "hoverlabel": {
           "align": "left"
          },
          "hovermode": "closest",
          "mapbox": {
           "style": "light"
          },
          "paper_bgcolor": "white",
          "plot_bgcolor": "#E5ECF6",
          "polar": {
           "angularaxis": {
            "gridcolor": "white",
            "linecolor": "white",
            "ticks": ""
           },
           "bgcolor": "#E5ECF6",
           "radialaxis": {
            "gridcolor": "white",
            "linecolor": "white",
            "ticks": ""
           }
          },
          "scene": {
           "xaxis": {
            "backgroundcolor": "#E5ECF6",
            "gridcolor": "white",
            "gridwidth": 2,
            "linecolor": "white",
            "showbackground": true,
            "ticks": "",
            "zerolinecolor": "white"
           },
           "yaxis": {
            "backgroundcolor": "#E5ECF6",
            "gridcolor": "white",
            "gridwidth": 2,
            "linecolor": "white",
            "showbackground": true,
            "ticks": "",
            "zerolinecolor": "white"
           },
           "zaxis": {
            "backgroundcolor": "#E5ECF6",
            "gridcolor": "white",
            "gridwidth": 2,
            "linecolor": "white",
            "showbackground": true,
            "ticks": "",
            "zerolinecolor": "white"
           }
          },
          "shapedefaults": {
           "line": {
            "color": "#2a3f5f"
           }
          },
          "ternary": {
           "aaxis": {
            "gridcolor": "white",
            "linecolor": "white",
            "ticks": ""
           },
           "baxis": {
            "gridcolor": "white",
            "linecolor": "white",
            "ticks": ""
           },
           "bgcolor": "#E5ECF6",
           "caxis": {
            "gridcolor": "white",
            "linecolor": "white",
            "ticks": ""
           }
          },
          "title": {
           "x": 0.05
          },
          "xaxis": {
           "automargin": true,
           "gridcolor": "white",
           "linecolor": "white",
           "ticks": "",
           "title": {
            "standoff": 15
           },
           "zerolinecolor": "white",
           "zerolinewidth": 2
          },
          "yaxis": {
           "automargin": true,
           "gridcolor": "white",
           "linecolor": "white",
           "ticks": "",
           "title": {
            "standoff": 15
           },
           "zerolinecolor": "white",
           "zerolinewidth": 2
          }
         }
        },
        "updatemenus": [
         {
          "buttons": [
           {
            "args": [
             null,
             {
              "frame": {
               "duration": 500,
               "redraw": true
              },
              "fromcurrent": true,
              "mode": "immediate",
              "transition": {
               "duration": 500,
               "easing": "linear"
              }
             }
            ],
            "label": "&#9654;",
            "method": "animate"
           },
           {
            "args": [
             [
              null
             ],
             {
              "frame": {
               "duration": 0,
               "redraw": true
              },
              "fromcurrent": true,
              "mode": "immediate",
              "transition": {
               "duration": 0,
               "easing": "linear"
              }
             }
            ],
            "label": "&#9724;",
            "method": "animate"
           }
          ],
          "direction": "left",
          "pad": {
           "r": 10,
           "t": 70
          },
          "showactive": false,
          "type": "buttons",
          "x": 0.1,
          "xanchor": "right",
          "y": 0,
          "yanchor": "top"
         }
        ],
        "xaxis": {
         "anchor": "y",
         "domain": [
          0,
          1
         ],
         "title": {
          "text": "amp_dF"
         }
        },
        "xaxis2": {
         "anchor": "y2",
         "domain": [
          0,
          1
         ],
         "matches": "x",
         "showgrid": true,
         "showticklabels": false
        },
        "yaxis": {
         "anchor": "x",
         "domain": [
          0,
          0.7326
         ],
         "title": {
          "text": "count"
         }
        },
        "yaxis2": {
         "anchor": "x2",
         "domain": [
          0.7426,
          1
         ],
         "matches": "y2",
         "showgrid": false,
         "showline": false,
         "showticklabels": false,
         "ticks": ""
        }
       }
      }
     },
     "metadata": {},
     "output_type": "display_data"
    }
   ],
   "source": [
    "fig = px.ecdf(ctrl_peaks_df,\n",
    "              x=stat_param,\n",
    "              color='app_group',\n",
    "              animation_frame='sample')\n",
    "fig.show()\n",
    "\n",
    "fig = px.histogram(ctrl_peaks_df,\n",
    "              x=stat_param,\n",
    "              color='app_group',\n",
    "              animation_frame='sample',\n",
    "              marginal='box',\n",
    "              opacity=0.75)\n",
    "fig.show()"
   ]
  },
  {
   "attachments": {},
   "cell_type": "markdown",
   "metadata": {},
   "source": [
    "# Dim. reduction and clasterization"
   ]
  },
  {
   "cell_type": "code",
   "execution_count": 85,
   "metadata": {},
   "outputs": [],
   "source": [
    "work_df = ctrl_peaks_df.copy()\n",
    "\n",
    "feature_col_list = ['rise', 'decay', 'FWHM', 'AUC_dF', 'amp_dF']\n",
    "factor_col_list = ['sample', 'comp', 'app_group']"
   ]
  },
  {
   "attachments": {},
   "cell_type": "markdown",
   "metadata": {},
   "source": [
    "#### Features importance estimation"
   ]
  },
  {
   "cell_type": "code",
   "execution_count": 76,
   "metadata": {},
   "outputs": [
    {
     "name": "stdout",
     "output_type": "stream",
     "text": [
      "PCA()\n"
     ]
    },
    {
     "data": {
      "image/png": "[encoded data removed]",
      "text/plain": [
       "<Figure size 640x480 with 1 Axes>"
      ]
     },
     "metadata": {},
     "output_type": "display_data"
    }
   ],
   "source": [
    "# https://python-bloggers.com/2021/01/3-essential-ways-to-calculate-feature-importance-in-python/\n",
    "# https://stackoverflow.com/questions/50796024/feature-variable-importance-after-a-pca-analysis\n",
    "\n",
    "test_features_vals = work_df[feature_col_list].values\n",
    "\n",
    "test_pca = PCA()\n",
    "test_features_pca = test_pca.fit(X=test_features_vals)\n",
    "\n",
    "print(test_features_pca)\n",
    "\n",
    "plt.plot(test_features_pca.explained_variance_ratio_.cumsum(), lw=3, color='#087E8B')\n",
    "plt.show()\n"
   ]
  },
  {
   "attachments": {},
   "cell_type": "markdown",
   "metadata": {},
   "source": [
    "## PCA"
   ]
  },
  {
   "attachments": {},
   "cell_type": "markdown",
   "metadata": {},
   "source": [
    "#### Features estimation"
   ]
  },
  {
   "cell_type": "code",
   "execution_count": 84,
   "metadata": {},
   "outputs": [
    {
     "name": "stdout",
     "output_type": "stream",
     "text": [
      "[[ 0.55987952  0.82599118]\n",
      " [ 0.80864734 -0.56191013]\n",
      " [ 0.03926402 -0.00941901]\n",
      " [ 0.17620361 -0.043633  ]\n",
      " [ 0.00591812 -0.00173974]]\n"
     ]
    },
    {
     "data": {
      "image/png": "[encoded data removed]",
      "text/plain": [
       "<Figure size 640x480 with 1 Axes>"
      ]
     },
     "metadata": {},
     "output_type": "display_data"
    }
   ],
   "source": [
    "# https://stackoverflow.com/questions/50796024/feature-variable-importance-after-a-pca-analysis\n",
    "\n",
    "def myplot(score,coeff,labels=None):\n",
    "    xs = score[:,0]\n",
    "    ys = score[:,1]\n",
    "    n = coeff.shape[0]\n",
    "    scalex = 1.0/(xs.max() - xs.min())\n",
    "    scaley = 1.0/(ys.max() - ys.min())\n",
    "    plt.scatter(xs * scalex,ys * scaley, c = ys)\n",
    "    for i in range(n):\n",
    "        plt.arrow(0, 0, coeff[i,0], coeff[i,1],color = 'r',alpha = 0.5)\n",
    "        if labels is None:\n",
    "            plt.text(coeff[i,0]* 1.15, coeff[i,1] * 1.15, \"Var\"+str(i+1), color = 'g', ha = 'center', va = 'center')\n",
    "        else:\n",
    "            plt.text(coeff[i,0]* 1.15, coeff[i,1] * 1.15, labels[i], color = 'g', ha = 'center', va = 'center')\n",
    "\n",
    "\n",
    "features = work_df[feature_col_list].values\n",
    "pca = PCA()\n",
    "principal = pca.fit_transform(features)\n",
    "\n",
    "print(np.transpose(pca.components_[0:2, :]))\n",
    "\n",
    "plt.xlim(-1,1)\n",
    "plt.ylim(-1,1)\n",
    "plt.xlabel(\"PC{}\".format(1))\n",
    "plt.ylabel(\"PC{}\".format(2))\n",
    "plt.grid()\n",
    "myplot(principal[:,0:2], np.transpose(pca.components_[0:2, :]))\n",
    "plt.show()"
   ]
  },
  {
   "attachments": {},
   "cell_type": "markdown",
   "metadata": {},
   "source": [
    "#### PCA calc"
   ]
  },
  {
   "cell_type": "code",
   "execution_count": 86,
   "metadata": {},
   "outputs": [],
   "source": [
    "def PCA_calc(features_vals, factor_df, n=2):\n",
    "    tic = time.perf_counter()\n",
    "\n",
    "    if n == 2:\n",
    "        ax_list = ['x', 'y']\n",
    "    elif n == 3:\n",
    "        ax_list = ['x', 'y', 'z']\n",
    "    else:\n",
    "        logging.fatal('Incorrect dimension number!')\n",
    "\n",
    "    pca = PCA(n_components=n)\n",
    "    principal_res = pca.fit_transform(features_vals)\n",
    "    df_principal = pd.DataFrame(data = principal_res,\n",
    "                                columns = ax_list)\n",
    "    df_principal = pd.concat([factor_df, df_principal], axis = 1)\n",
    "\n",
    "    toc = time.perf_counter()\n",
    "    logging.info(f'PCA calc in {toc - tic:0.4f} seconds')\n",
    "    return df_principal\n",
    "\n",
    "n_components = 3\n",
    "features_vals = work_df[feature_col_list].values\n",
    "factor_df = work_df[factor_col_list]\n",
    "\n",
    "pca_df = PCA_calc(features_vals=features_vals, factor_df=factor_df, n=n_components)"
   ]
  },
  {
   "attachments": {},
   "cell_type": "markdown",
   "metadata": {},
   "source": [
    "#### PCA plot"
   ]
  },
  {
   "cell_type": "code",
   "execution_count": 87,
   "metadata": {},
   "outputs": [
    {
     "data": {
      "application/vnd.plotly.v1+json": {
       "config": {
        "plotlyServerURL": "https://plot.ly"
       },
       "data": [
        {
         "hovertemplate": "app_group=ctrl<br>x=%{x}<br>y=%{y}<br>z=%{z}<extra></extra>",
         "legendgroup": "ctrl",
         "marker": {
          "color": "#636efa",
          "line": {
           "color": "DarkSlateGrey",
           "width": 2
          },
          "size": 8,
          "symbol": "circle"
         },
         "mode": "markers",
         "name": "ctrl",
         "scene": "scene",
         "showlegend": true,
         "type": "scatter3d",
         "x": [
          -8.637480627393876,
          -21.514582963600713,
          14.630749658873716,
          -24.20549688953825,
          0.2132918727411932,
          -18.586449583793453,
          35.50067981837239,
          -11.810487248256463,
          -8.05040010546116,
          -30.02342667629865,
          -14.865580271196734,
          -31.21466968371215,
          -1.3595922968341447,
          -8.620495595579873,
          -30.537537908664344,
          -5.318020905779235,
          -6.976463324445361,
          -16.611187688391954,
          -3.453227161667413,
          6.4863096370965225,
          -8.852473738736164,
          -0.5600699284280378,
          -20.535940267135715,
          6.659193253646525,
          -19.18287954070596,
          10.8485095873811,
          -17.570012190583647,
          -21.621510282503227,
          -8.397241935638094,
          -27.84382666676611,
          -3.7596526819257226,
          14.485653091288986,
          35.004313581583595,
          10.396624685631298,
          39.58382644684347,
          37.77044383838333,
          68.96641352538379,
          51.999110642384174,
          -3.5607069273030807,
          98.33864502064515,
          -13.251026145417178,
          15.536631808779541,
          13.112374787974714,
          -29.856105770845655,
          50.61994625562286,
          36.841718128142645,
          -30.60692134682499,
          -8.32740728506862,
          5.890167673110892,
          -13.955027930163407,
          62.831241970074274,
          8.520257620643571,
          18.879441019515085,
          -2.5650650470218803,
          23.16168010225502,
          11.555231521536967,
          -24.4331793435732,
          56.51648231635839,
          3.1557015419574084,
          -27.33704715216664,
          67.64060454000897,
          -6.163907612769584,
          -5.229096177670791,
          22.77155741695561,
          -14.378449836015891,
          -37.01565353313676,
          -36.763412803735186,
          -19.1502423834889,
          18.52159189176656,
          -36.02821748337512,
          -11.3968643099345,
          8.265660762970729,
          -33.13785558627804,
          5.618191121871224,
          18.898681170408743,
          22.227098240412236,
          9.752374666137667,
          59.78975025404508,
          0.48220405327962856,
          -4.123538880753702,
          25.588323160009082,
          -2.4004973052875567,
          -20.248046464274488,
          -20.420947185571556,
          -12.714658277306889,
          11.77351448933782,
          -7.709422098476225,
          49.79884103612723,
          13.194215806120516,
          -1.636769102724978,
          9.758213917618619,
          15.451369445483737,
          -6.973582148012951,
          null,
          null,
          null
         ],
         "y": [
          13.715646421389197,
          17.035143266021446,
          9.535188952375078,
          -0.8633592009397899,
          -8.620268505895,
          -5.019357422119455,
          8.71370545204125,
          13.18465300047804,
          -25.270928431386793,
          -4.952996780778638,
          -21.87221264470095,
          -16.112891944765867,
          -24.68898652491442,
          -14.333057035071395,
          2.02072973020362,
          31.064264581715285,
          20.414325959797285,
          -8.799946062085205,
          -4.6838066403780445,
          -16.887736718115427,
          -20.727261605923733,
          -32.78663220505216,
          -16.64992082779097,
          -18.3788217395428,
          7.768000149212006,
          -0.1929633480626601,
          -15.014059366043032,
          -1.2393146269393176,
          1.411347069781502,
          1.6172113919435647,
          13.034726094944421,
          0.22308941329464346,
          -54.82812221377233,
          61.62199341063474,
          38.106141681089696,
          47.620186342074234,
          24.65690528198765,
          -45.76307044123243,
          25.795052644300615,
          0.7022605313772116,
          -11.219801192003512,
          -11.645707413960718,
          -31.015192426764,
          -7.89706917189309,
          41.023236793613485,
          -42.407077112203254,
          -11.258510042900872,
          -10.861959846542424,
          -21.344165201782378,
          -14.59274943131544,
          35.110122926649815,
          35.94316228170911,
          -15.10102551338439,
          -21.090441962095582,
          24.17268666743721,
          41.23447687159558,
          6.000452653598924,
          -15.484836777239115,
          -37.48465750169715,
          24.717863525156098,
          13.161878697490978,
          41.94210594264802,
          18.72114812885287,
          27.1593977341561,
          -5.8160271832261055,
          -7.963611619520554,
          4.848460195812978,
          34.2524338643782,
          31.106362345583634,
          -6.106489747728179,
          -20.743673920547764,
          19.845938554803116,
          18.140260718189698,
          9.859805976627749,
          -30.737127318492654,
          -50.745124671601666,
          58.939518752755035,
          -4.189603254487144,
          -34.204300816385846,
          32.13987404604126,
          -27.010703992554095,
          -9.957693294546047,
          -17.109369626187608,
          -7.732399186788117,
          38.472918157565495,
          16.3731236374794,
          -13.904044113982762,
          8.01388427144177,
          -42.87278986354885,
          -31.44466475102509,
          52.8915684032861,
          -18.0602550021495,
          -14.480892917279197,
          null,
          null,
          null
         ],
         "z": [
          2.080678499003149,
          0.5492183594764879,
          -1.7628188074745834,
          1.9014086298656223,
          -3.882746247605792,
          -2.485801044227894,
          16.387572284130552,
          1.5852108145547592,
          -1.0594340851910107,
          0.6249197082115804,
          0.22473970284260872,
          -0.2557573632178682,
          -3.2168478343198132,
          -1.3961694882406688,
          0.8324111256429286,
          -0.9227894162391891,
          0.7235756822640868,
          0.07036959208166778,
          -2.303859694657543,
          -4.550969604152195,
          -0.6622526868699085,
          1.534498535480772,
          0.9036600339128812,
          -5.201551300794448,
          3.6533680855514445,
          -6.785553057203386,
          -3.1526543203667248,
          2.534221224694914,
          -0.994598349556705,
          2.098012135510086,
          1.8673097235147718,
          -3.757197661887488,
          -5.511000449117321,
          5.030497972142503,
          -8.862080188054355,
          -4.183263804961645,
          -10.412616673442212,
          37.76630881699184,
          -0.49490964019704764,
          122.36845321916775,
          -1.1555545715838575,
          -10.038188208847425,
          -8.849320185559607,
          -1.403991111872264,
          -10.813656760233886,
          0.47205418610475053,
          -0.2972957344185994,
          -4.482623311347904,
          1.452536911344424,
          0.21258005563444643,
          2.4322846688883666,
          -2.280856769105866,
          -8.375850629216604,
          -1.0663254879442225,
          -8.886617711778614,
          7.38423061986844,
          3.9571841651601827,
          -7.506217647999863,
          -9.125208591873333,
          -1.0525519695984078,
          -17.123031999236865,
          -2.1121286109884294,
          -4.380407090076475,
          -7.798680253381355,
          7.416785059740028,
          3.0672174828632595,
          0.5007022808106992,
          6.239010712528949,
          21.903077081967865,
          1.717810223730567,
          -5.632017954571321,
          -7.766373466770006,
          -0.5652348856430964,
          -6.633028931695953,
          10.653042856906334,
          3.354476572746016,
          -1.842896953576318,
          -4.1533259049039035,
          -7.381715581234373,
          7.583279414835569,
          -1.6129749611647686,
          7.27366823723728,
          -2.3091373510151305,
          -2.1285103561471583,
          -2.638341328031211,
          -5.467564198854627,
          -4.433670039289617,
          -2.521407229295862,
          -7.9926057145788905,
          -7.368476909278567,
          5.127412926651091,
          -8.679559731837681,
          -5.388935304383166,
          null,
          null,
          null
         ]
        },
        {
         "hovertemplate": "app_group=C5a<br>x=%{x}<br>y=%{y}<br>z=%{z}<extra></extra>",
         "legendgroup": "C5a",
         "marker": {
          "color": "#EF553B",
          "line": {
           "color": "DarkSlateGrey",
           "width": 2
          },
          "size": 8,
          "symbol": "diamond"
         },
         "mode": "markers",
         "name": "C5a",
         "scene": "scene",
         "showlegend": true,
         "type": "scatter3d",
         "x": [
          -19.198329255741555,
          1.147460747556041,
          -4.0434269390369675,
          -14.421082005214293,
          -37.17202890871894,
          -12.497916601092003,
          -24.58662518567073,
          0.46935290621302966,
          7.728308372679658,
          -33.6743771253751,
          -3.5307902245353624,
          -33.99605047206881,
          -31.914563340147733,
          -36.88368027022503,
          -7.368486918665093,
          -20.52437245142253,
          -2.5196019296744856,
          -3.748979869005916,
          -12.418081078796249,
          -24.58103134633214,
          -6.539700671965623,
          -6.987373065374755,
          -28.428522793584467,
          -1.5726968271130053,
          -19.885307010049466,
          3.892184136224712,
          -34.64442580721895,
          -17.811922347161186,
          -30.313443491804776,
          -17.108211108320017,
          -14.874212280108836,
          -20.585638102043767,
          4.177726692009807,
          8.040480102313525,
          -12.175399158374185,
          12.628933030073819,
          -26.846615262194724,
          -17.196141871640293,
          -5.839203826344368,
          -12.358142124518475,
          -5.690611720694625,
          -9.165456786385999,
          -11.492030215510429,
          -23.689853168513597,
          -20.761064963817535,
          21.523538324838547,
          -23.546000538984902,
          -14.429355950325894,
          3.22596129349925,
          -4.154721028930498,
          -2.8040329957776526,
          -36.59885073692147,
          0.4239356725322734,
          -27.835792036369977,
          1.6457664818900777,
          -0.1352031016163733,
          -3.3800449622424145,
          -17.09811533528878,
          -35.88832649619239,
          -17.154721228181693,
          32.59156662498254,
          29.82155031757454,
          49.28299208768522,
          -5.221010420911127,
          -17.9828024538343,
          -32.390122913344804,
          -20.52335136714012,
          -3.2224293577195646,
          26.579257350617475,
          22.49723194824648,
          45.18440495238332,
          34.97071554673562,
          -11.309580160771489,
          5.336214095874184,
          6.922046540893225,
          24.89934634488655,
          25.027130287861034,
          11.05326620586097,
          54.2699691286727,
          19.491799785306043,
          -19.68386561687867,
          25.323240341578995,
          16.367340845807178,
          29.56539707066412,
          -17.529931111308752,
          -33.49756357028128,
          69.21792056813865,
          5.88343410658663,
          59.55538184799679,
          11.359435300075392,
          -25.088456577150627,
          53.380685414764635,
          -1.1646894004108466,
          11.344536830777184,
          -23.13604417177499,
          -29.3449605622519,
          -43.294993415385555,
          -26.29338846763152,
          30.549619236227514,
          12.656797757069407,
          -30.011250305100862,
          -37.52199412275327,
          36.350119246401974,
          -27.57485664631704,
          53.05406265137768,
          6.472765123136876,
          69.48374420950167,
          19.48085056741916,
          0.4560671419532062,
          -15.55194405309157,
          0.7598773434748798,
          -21.1125718087272,
          -20.218421603789096,
          -5.050109366117421,
          -31.453012996667734,
          42.629832289673246,
          20.758556495714775,
          -27.12785822888748,
          23.35545203502875,
          -32.5534178740359,
          -25.899322026371866,
          53.913217902801655,
          27.358612744692213,
          -35.68738581279041,
          34.310251341595155,
          -17.84950623642648,
          40.975850655832964,
          -18.713288510609974,
          null,
          null,
          null,
          null,
          null,
          null,
          null,
          null
         ],
         "y": [
          14.223459373879566,
          0.1015295844325942,
          -0.19295659136750073,
          -15.53045532566039,
          -7.922912317923243,
          28.10096405638244,
          -8.669122560433648,
          3.1660312761818763,
          -25.490455657449967,
          -10.369237462587424,
          -8.614838449634004,
          -12.791263730492261,
          -11.59488742576966,
          2.406550743762876,
          15.113184354249324,
          -22.051224763547005,
          9.041117340259474,
          -8.560889704750357,
          0.037021971978795275,
          -0.7703913801617567,
          26.757776471582904,
          1.7207753792467957,
          -0.7394415146006161,
          -23.188022800217386,
          2.54357510522535,
          -5.71266003124956,
          7.514214476786648,
          1.2404661567562525,
          -3.4329913764636095,
          19.367578931686822,
          -13.969955021499409,
          0.6111701227600207,
          13.96644254679575,
          25.781685116509834,
          -17.27155240822407,
          -7.875509776237053,
          -8.372907273097036,
          27.684474299417484,
          15.787980970314127,
          -8.931249761732047,
          14.302824094396286,
          5.288246201416136,
          -25.340425795676573,
          -5.335558453263662,
          -13.697658820323777,
          0.719721891492137,
          15.827201511607125,
          6.723411628434736,
          19.60065022586196,
          15.63461491808524,
          -27.49089466971304,
          -7.011211949831015,
          -18.019602265126675,
          3.06361795933969,
          11.828216586814067,
          24.908935795121472,
          33.743910292386225,
          15.41523139969191,
          -6.134721024740737,
          8.58260009573571,
          -39.64513270548969,
          -49.73473598463382,
          -21.5727747466314,
          -23.97971325873448,
          15.964748929834073,
          1.795010132016873,
          13.44060519824885,
          34.64596283518436,
          52.22990181816451,
          -47.26463395589448,
          30.80757896959041,
          19.0157469603299,
          -11.436789078295567,
          15.710125852169032,
          11.639268849228978,
          57.76941360827822,
          -47.36539397233351,
          -39.04546555786288,
          1.2323087708921792,
          60.02768418224493,
          4.956824918947262,
          4.193376218073795,
          51.604786837767676,
          -57.94897557855211,
          -0.30680288628379815,
          -11.856357751171654,
          6.3331270224774325,
          -23.182258614084763,
          -7.434816504105693,
          -37.675526594282424,
          4.717595707210743,
          -3.1469989704999395,
          1.422418489989333,
          51.271583893675384,
          -0.4948518855395309,
          -9.468607105826043,
          -5.095225201113095,
          -3.129398778064752,
          -29.155399678809445,
          -33.39883776523644,
          9.351590748795717,
          -1.0013084328772393,
          -19.683731216389113,
          1.1368772228073598,
          25.60937785223898,
          58.83292626122733,
          -0.5436187307514121,
          -43.771723306509536,
          -30.254066783176185,
          -1.9716408194832071,
          -27.831982314727703,
          -23.337640302591932,
          4.047567192153222,
          38.81042960031436,
          -12.101143486771367,
          -18.73745952995881,
          -37.24737346034255,
          -5.020569651552906,
          42.68903616337314,
          -4.203030398229326,
          17.943246269434457,
          -18.51080182545063,
          -43.61781632602847,
          -6.187425535280343,
          23.15080981633666,
          -5.609050252365014,
          -39.098546618781484,
          14.060318699869825,
          null,
          null,
          null,
          null,
          null,
          null,
          null,
          null
         ],
         "z": [
          1.56079671733589,
          -2.5918170740669217,
          -0.7053077333270868,
          0.6111299676546355,
          2.0584191700694956,
          0.4773711117442397,
          0.2579154123666282,
          -3.0866542882372308,
          -2.329107132188707,
          1.1568388164733523,
          -2.4843534577546844,
          1.2074653798326507,
          0.7406548824190576,
          1.488710456442886,
          -2.8049888158212903,
          -0.40404545249199836,
          -4.586887934863043,
          -3.672696023016136,
          -2.71432491733571,
          -0.1354518168647119,
          1.1075482815763165,
          -1.7149490052514695,
          0.6946156796776399,
          -2.7707723463591813,
          -1.549658360895654,
          -2.4481020305835672,
          1.6372666406287568,
          -0.26846606680516966,
          0.6568380514029126,
          0.9601435057265236,
          -0.24814801326821373,
          1.3444045696677613,
          -1.923874131718637,
          -3.3036330101525486,
          -2.1338204271711585,
          -5.060777325629709,
          1.3405449827574987,
          5.027782113750008,
          2.1037641368261735,
          1.434835009066993,
          1.3204348566215878,
          8.02627154583516,
          1.9781506954390211,
          -0.1235425909513614,
          2.8794062693109996,
          -4.089416705640695,
          1.20731208590278,
          -2.3005873302597926,
          -5.7470730990270615,
          -2.1456834921820254,
          -0.922393038047513,
          1.7503082363545663,
          -4.020400421580423,
          3.726256139273463,
          -0.49487022200172126,
          -0.8163365987453634,
          -0.517129393343652,
          1.197100007236201,
          2.3111607644499843,
          -2.092280280999117,
          15.462143807980324,
          -2.212336932160277,
          3.1695323022563593,
          39.83335334514327,
          1.775276312599031,
          -0.6023337052869545,
          -1.8699284372805802,
          -2.5516863947178816,
          -8.455091143960892,
          -0.4315071684608541,
          -3.0936880465435994,
          -6.238264129862527,
          -4.034743778917685,
          -1.7646746832426563,
          -6.325356918277752,
          -2.8284215204924794,
          -13.397883178508506,
          -11.23064764427251,
          -15.7388967512354,
          -3.9306224649558827,
          -1.9845173924454884,
          -9.451961065772673,
          -3.791575423027064,
          -8.147439267792597,
          0.0540164577680851,
          0.688882245622788,
          -6.422393388631859,
          -5.121682114433541,
          -13.098991486516777,
          -8.035405143047214,
          -1.2116947087337624,
          -11.840863034938447,
          -4.5924387652783265,
          -0.9892154952702706,
          -0.4123581958574196,
          -0.23139096675294188,
          2.1810090334379533,
          5.9906030535332135,
          -2.8795648337147854,
          -9.50158299829843,
          -1.426547683882956,
          3.1944495655821052,
          -0.33975891594573776,
          -1.3059467133565532,
          31.401389288855224,
          1.8616172268011149,
          41.94247899767144,
          17.91656158251075,
          -7.720782923941015,
          -4.228082291832269,
          -7.8139020402853765,
          -4.921334263171426,
          -1.5030644035579208,
          0.5562953640022491,
          -1.5780558927400496,
          31.826668641760563,
          27.3784110516417,
          8.116266251183799,
          26.234608385944174,
          5.289469413256161,
          8.635717701512636,
          14.970292921644841,
          3.8100062730814614,
          3.3458859749665724,
          -10.30514074738891,
          -3.2171105460629,
          27.188118602063906,
          4.5101092319695315,
          null,
          null,
          null,
          null,
          null,
          null,
          null,
          null
         ]
        },
        {
         "hovertemplate": "app_group=wash<br>x=%{x}<br>y=%{y}<br>z=%{z}<extra></extra>",
         "legendgroup": "wash",
         "marker": {
          "color": "#00cc96",
          "line": {
           "color": "DarkSlateGrey",
           "width": 2
          },
          "size": 8,
          "symbol": "square"
         },
         "mode": "markers",
         "name": "wash",
         "scene": "scene",
         "showlegend": true,
         "type": "scatter3d",
         "x": [
          -32.10258486824011,
          -22.542223399051334,
          -11.471774807731416,
          -31.094046372723554,
          -11.450397643365276,
          -26.08957541271847,
          -14.12257522137731,
          -21.984366176110512,
          2.016468035733464,
          -21.505798359206974,
          -36.23429304594432,
          -19.658882183092768,
          10.363257583452311,
          -30.302325737079904,
          -15.59859321044776,
          -14.975361829779338,
          6.7475687152112975,
          -31.73310755453468,
          -4.743300528685957,
          -21.30362407057053,
          10.611575202731606,
          -38.61893048081913,
          0.5782083856784983,
          -10.842334208273707,
          -13.448720658330407,
          -8.836436798536377,
          6.817835695300716,
          -36.97444394967792,
          -11.46210359205624,
          -26.945539537578416,
          -16.110057589619135,
          0.5791668131464662,
          -20.666155216907836,
          -11.795039696321592,
          -4.661773839703985,
          -24.148682996674793,
          5.768628712716335,
          -33.98089300446228,
          -10.659120186893738,
          -31.174554855087457,
          15.549747263565926,
          -26.982844915450922,
          6.162155097396269,
          -23.135525957855098,
          -1.2982744178730508,
          -26.481626463626124,
          -8.190649405581578,
          -1.6156306327821277,
          -36.958448509513275,
          -38.74114002424836,
          8.011130130590388,
          -11.440031525974263,
          -20.25586917154291,
          -6.120312722536523,
          -43.0515706427312,
          11.730436994583998,
          -21.827057116230243,
          -13.664924685036254,
          4.863692407600562,
          -24.272523914632853,
          -20.172723698852344,
          4.521934985112262,
          6.346718693779655,
          -36.36156735709149,
          -7.920361870446206,
          -28.82820986768676,
          -37.82581440720578,
          -23.546117390759623,
          -2.605388701559975,
          22.73214033249745,
          -21.758118097556796,
          -14.819785078080894,
          0.9399847476722409,
          10.283155266486428,
          -32.713831224749455,
          -7.312661560775241,
          -2.8151227103394207,
          -16.969609986241082,
          -6.053861350351138,
          -12.969592645777958,
          -24.78294036401671,
          -18.52396721714159,
          2.044895801561813,
          -23.084133431750505,
          9.780218125012286,
          -32.80047300553976,
          3.9305537522351233,
          -37.8765135418789,
          0.22886132336140821,
          -16.979794215215517,
          -16.497280478155712,
          -7.955879779583863,
          -37.22627998711784,
          -10.806940029375781,
          -29.342654600080802,
          -14.437858519435041,
          -35.57151617120831,
          -26.57519976440596,
          1.5571858278644948,
          -32.8697174837376,
          11.598373065088158,
          -8.420801875875641,
          -18.05952449447225,
          14.571450208703057,
          -19.788995444781772,
          1.653538517592571,
          -23.486008068700514,
          -26.97422091643598,
          20.147069370713755,
          -20.349518569532812,
          -34.34298221971171,
          -6.424678889036855,
          27.986500271386088,
          65.89112438323713,
          48.86371256123545,
          27.915689729274916,
          21.967789667505155,
          -18.917371124882234,
          30.622780167457847,
          19.072385288887418,
          12.31056586425071,
          39.99688760376995,
          18.711454042644913,
          0.6750076755464182,
          7.499269158292302,
          -22.743891749472727,
          27.80039896332474,
          -14.097097968587589,
          31.535407514179983,
          -22.909211647798717,
          0.8389347597177118,
          29.87679952586799,
          -25.363900799917854,
          39.99751774614668,
          32.65316845565808,
          10.339511462232378,
          46.690750282628365,
          -34.81034646115059,
          0.2678158110729646,
          26.4513878376259,
          -17.510395450058915,
          -11.646482695387999,
          54.717902820741514,
          -4.430089614425656,
          -11.805886293495298,
          -42.58890041053435,
          16.83088938637475,
          28.635517769706233,
          25.901183108903712,
          59.114948173242716,
          21.82180441225939,
          22.727795684679485,
          -12.210537562770595,
          63.86185604701825,
          8.424177547583112,
          -24.895869166307588,
          -11.359652689265342,
          -41.28944155556677,
          25.700676830381187,
          -35.47595574589377,
          -24.188279424194203,
          11.751107747325234,
          49.5927169680954,
          63.8374110574377,
          -22.96489365415022,
          -13.126197095627756,
          58.352975502865306,
          -13.979886600920068,
          -6.387735552525948,
          -27.353727534262507,
          -37.732160281172824,
          -10.913425764799188,
          6.849691378264248,
          45.714661301973706,
          33.28761134552844,
          -41.92387604966507,
          26.973867588411824,
          31.002988272196117,
          10.860313447575464,
          63.21550153630863,
          -41.454049664107,
          -13.828605737615703,
          -33.7759750392907,
          19.457085171215667,
          3.294447150973337,
          -38.14836748371065,
          -34.35220774986393,
          -26.745352830610937,
          -15.071177812458494,
          31.75046008122381,
          -13.415381515399414,
          -28.38519612767188,
          49.902652276285274,
          -3.657030021582991,
          36.86456463300174,
          6.048670946870987,
          6.049337577189848,
          7.297368952406547,
          13.179953786019398,
          -27.930049736526097,
          -5.504959479913436,
          19.769217000507062,
          -33.82528613578277,
          19.56260459066449,
          -27.675429685583232,
          -7.036518809969412,
          -21.96063127009659,
          -24.800729066283075,
          -15.287824328821555,
          45.05884824232609,
          -14.541112090407418,
          -1.9789966257909515,
          30.462674634055045,
          40.29609991680312,
          30.849247999188364,
          -3.528694398907206,
          49.31022623013146,
          53.1160654194812,
          38.69357777958218,
          -41.875724342201146,
          -8.775562979849237,
          -26.003319174559852,
          -19.354617195751555,
          -26.733038428294723,
          -18.661253451563447,
          20.092789034986833,
          43.81767788793454,
          23.168589407781237,
          22.852143852199145,
          22.95650706005092,
          17.809778633094574,
          9.846515861239817,
          37.27855891756597,
          -22.94739674303701,
          -35.27417405021254,
          -31.94498089819708,
          21.86849213910109,
          27.40440627530397,
          -0.868611376800469,
          -1.1634914306177198,
          7.0248101653705755,
          14.425760249914708,
          -17.186971282940906,
          29.304925740199508,
          -20.67300762294314,
          28.43220842560109,
          3.9477906300173187,
          39.1790098285715,
          24.417283201360483,
          -32.8907372925711,
          34.494174603332866,
          7.511483616305041,
          38.19310316886046,
          -26.166819492381144,
          42.23853915121252,
          9.285872985781626,
          19.897182802804938,
          36.0143787478654,
          -26.657638070760303,
          17.77071266986159,
          13.651467439000685,
          0.35007356538617185,
          -19.422705470867648,
          -4.312493415442837,
          -41.34564721365063,
          26.53095007227188,
          -29.783326937453303,
          13.985875229834784,
          -3.5330090160850083,
          -35.75402014842151,
          -32.51911175538449,
          -3.4848084462733655,
          -41.50442670712981,
          -38.53170481672455,
          23.780499505027365,
          -28.317535261245975,
          -31.613564417031924,
          -12.971797521683436,
          -6.126850093775156,
          -5.442584009720907,
          4.81149037217944,
          -26.124919935067318,
          24.15331723895616,
          25.077549306824558,
          -15.205017264796542,
          -22.40323838971473,
          32.661107899899555,
          35.59242518658304,
          8.46104522328757,
          -14.455346577763054,
          -6.920381656461331,
          22.797233589207806,
          -33.4481012268284,
          11.421207730345758,
          42.78012365154204,
          -42.43335867112973,
          -14.264271102346816,
          19.106235969333323,
          27.986864425933437,
          -2.447279356752663,
          1.2286731829521784,
          14.254022042082907,
          -30.19714072178543,
          -8.604435991593714,
          -11.058593015932866,
          2.8872741655110477,
          13.53582228186385,
          9.412053352774308,
          -5.177759294709835,
          -11.524205009043925,
          54.134630351953035,
          51.61580371972348,
          -11.593318423496026,
          49.31322492231207,
          14.486243981569594,
          22.191359152584855,
          -11.433494605727374,
          null,
          null,
          null,
          null,
          null,
          null,
          null,
          null,
          null,
          null,
          null,
          null,
          null,
          null,
          null,
          null,
          null,
          null,
          null,
          null,
          null,
          null
         ],
         "y": [
          1.7497645437695226,
          7.283027655460839,
          -16.392296709622876,
          -1.3965772638735452,
          -8.497847535018886,
          -8.955538129807147,
          22.84164542273807,
          17.54647710851424,
          25.034568550029046,
          -16.014979004109193,
          -3.152352077490557,
          18.287268363449435,
          20.466657436958585,
          -12.783931029500817,
          -2.9942504658942095,
          -20.39651434501935,
          -23.79929072537122,
          9.558557690070442,
          -19.76963465562656,
          -11.061690863976235,
          -2.6362200927403014,
          -9.671818493363144,
          22.889009849296038,
          -3.64482993204254,
          -15.112717055499791,
          -19.67776798025539,
          23.97788087921191,
          -9.420685278701496,
          -27.191157638104247,
          20.74956469746036,
          9.377303214708142,
          29.735424076551187,
          -23.464058787935485,
          0.9360332414332165,
          -29.137938875176165,
          -3.7740274538478435,
          -28.165310839423427,
          -4.894966491315847,
          -16.988407323071623,
          -2.824464666768505,
          18.26144812536908,
          -8.338987873813156,
          -19.30889128533044,
          8.878344738060603,
          27.04053261514896,
          -11.359742437168268,
          20.056717505860636,
          -9.879069899196953,
          -5.4743863901632555,
          5.1048512071487755,
          -18.05558009264562,
          -3.102148915560007,
          -8.819473111999509,
          19.8074205745689,
          -5.151034030948192,
          14.334818282135007,
          -9.088788072595316,
          22.728335268754527,
          -28.99455796672504,
          -11.643278478957368,
          -13.184860626555635,
          22.83502579752499,
          11.191159348240323,
          -4.1740651247428255,
          13.143325284429388,
          -8.145574958999287,
          -3.416380205286112,
          16.22137746290389,
          33.946963167375,
          5.8182773618484145,
          5.640690576651289,
          -0.6852308958926392,
          8.448381822385887,
          -16.11619995706449,
          -10.606560396243013,
          2.196202715450446,
          -11.293669980404523,
          -13.714560384603194,
          23.74098208637805,
          13.866816604005923,
          2.177375558903828,
          9.71178869880398,
          28.978091810479704,
          -9.830423595574477,
          8.7622284649583,
          -7.030088538091923,
          -1.7716117740258768,
          -0.9020647125267253,
          11.521429069499584,
          11.436344386824823,
          8.420430545547983,
          -13.444219137259104,
          -0.009479414478364142,
          21.889566665056275,
          8.177053798749181,
          15.020210482789556,
          -3.7114975651208746,
          -4.49010082344906,
          -6.846010365399131,
          -5.564859459353667,
          1.0691815407586722,
          -15.83089156972412,
          26.84507991184605,
          21.39979409531299,
          -9.330172013933042,
          21.17451780915964,
          6.46324368683782,
          20.75674806175956,
          12.646762605771604,
          -19.592949997172326,
          -11.256634076887076,
          -8.819987613900354,
          50.43582576078229,
          12.281703450744038,
          12.160323423003996,
          -26.13972048869989,
          -43.586463708691916,
          -2.0652719594124966,
          -24.17470129433876,
          -21.98031330375016,
          38.291150784521875,
          21.843724002816334,
          30.528943144385405,
          33.54888181305105,
          -0.3284236435565758,
          16.61794982332526,
          9.228726439323113,
          -17.447857894230644,
          37.20825549006505,
          -5.937580015252019,
          48.879641688715736,
          55.22349002897237,
          8.72670353808381,
          -46.07601127376749,
          -42.026231245849765,
          -45.963476143037184,
          -24.48240515014438,
          -4.305749961694227,
          19.329781768955144,
          -13.9534683214458,
          10.067309180901292,
          18.07478894370262,
          21.615287101289745,
          -29.168564747937836,
          -22.349689655616178,
          -4.219865291327664,
          -6.185309697550013,
          -50.88644244146014,
          -38.64796841321296,
          -18.36137587996158,
          -37.769532553154825,
          6.017888104075267,
          19.659812709996764,
          6.082304740618413,
          -33.927246189766485,
          16.494330448830162,
          -3.1480160255138387,
          0.05681804640701014,
          -0.4994091323008713,
          -12.681205669576935,
          -4.439669624919232,
          -9.00115538132693,
          -32.16408364678754,
          9.241679614702038,
          -1.9834648718459646,
          33.9453225877456,
          39.89664926465886,
          28.768845456052063,
          -9.240439519342734,
          1.0743219674462827,
          -11.72832198771325,
          16.054379791317757,
          -0.16688334926872872,
          39.217449823259905,
          23.767512719533315,
          -4.778074307293387,
          -31.42499905669114,
          44.17228896773093,
          59.27524039852235,
          -11.750294731675902,
          -10.28137396560606,
          -4.2430273556369915,
          1.4818665749094047,
          -16.68874718538385,
          7.4168611676178635,
          -11.230857135734878,
          9.900879201494792,
          -7.352986474472609,
          -26.140584102432637,
          -55.730165638398574,
          41.503870482955016,
          17.488718769257744,
          -12.927363136078144,
          -15.432932453760998,
          -5.233426236448605,
          53.502561428282014,
          45.61991705166242,
          42.42025019864408,
          3.3888295679764253,
          -5.220738759292993,
          38.88879145270421,
          47.08447685073174,
          -2.44698416464721,
          22.698519359206525,
          -6.728867674362118,
          12.073690778729787,
          10.644679198964086,
          7.143565983893027,
          23.049088149756674,
          15.730609852833245,
          23.91624745494118,
          -5.863370384403673,
          -30.974390698653817,
          -12.38743213249491,
          4.931073680280073,
          -7.582770190356168,
          -11.97862096138513,
          8.767029492219054,
          -26.308953044363626,
          -7.286518395003117,
          -24.681940931228244,
          18.625653353777444,
          -9.049478123084944,
          7.764707329890338,
          -23.681645588952797,
          30.482870204078715,
          16.06749266691017,
          -45.998959770466044,
          -53.545641381401026,
          -14.788424726188822,
          -47.433040982631624,
          17.24459671878387,
          -31.087747515472344,
          -9.867869104014359,
          -8.131821033645226,
          -13.030543572601056,
          47.52745924535483,
          -45.0759637796165,
          41.850856358572486,
          54.14936369787899,
          35.689820526597096,
          23.866402206277066,
          -12.608057970516152,
          -49.2261572354899,
          -4.779047832918845,
          -42.96350228636243,
          15.683810368317305,
          -18.673808439493367,
          -46.43965341770475,
          4.819432664004149,
          -5.947018834000897,
          32.67938501068238,
          16.668920543096633,
          10.778304910023286,
          16.192500629729953,
          -38.881612645907445,
          -47.68699081735415,
          15.499148339997237,
          9.848395268382903,
          23.958340046172278,
          -43.379991348742024,
          -20.89359971412597,
          -5.876905774886779,
          18.120342002807728,
          0.07566928875908005,
          35.461556732076104,
          -2.5226319809909867,
          -47.27549824444363,
          -26.506507740976765,
          -3.2780442878706437,
          -8.550704668663608,
          -17.97293745948426,
          -2.3822890543375808,
          -1.803898246847688,
          34.82771414462634,
          -15.50636653590871,
          1.2158538485047348,
          41.42927517011767,
          -20.079155730081936,
          33.91203627785569,
          48.201512903323,
          14.712268000689914,
          35.789383158606036,
          -36.217962352739306,
          -24.668181817034068,
          -1.0633411181232448,
          43.41147541939694,
          13.106134240861344,
          -15.670186141861667,
          -23.801705518528095,
          4.175285884467126,
          36.51835222542245,
          -0.038999918559430184,
          -14.166352551764266,
          -43.359382518298965,
          -9.252044528621571,
          11.906681972178687,
          -50.64550446758889,
          -41.40821149121295,
          -9.685308719915225,
          35.94136425453528,
          -12.900082419584331,
          -7.415832451442176,
          -16.44355947027886,
          19.78941873454378,
          4.63738116844818,
          -22.056040887065738,
          16.03656681263143,
          -28.596966632329657,
          2.6837010894453948,
          11.012580464257598,
          -13.34026146211979,
          -14.125606994949115,
          17.85831926042881,
          -33.33354703630936,
          -38.79055332289655,
          8.709430349267633,
          null,
          null,
          null,
          null,
          null,
          null,
          null,
          null,
          null,
          null,
          null,
          null,
          null,
          null,
          null,
          null,
          null,
          null,
          null,
          null,
          null,
          null
         ],
         "z": [
          0.7126276945098894,
          2.156491167846338,
          -1.7210575364498346,
          3.0039990311685307,
          -1.9946815994048608,
          0.4854823090103597,
          3.6208352338267975,
          2.9870130896781317,
          2.5211302110549183,
          0.6345218354828491,
          3.6131763456844146,
          -1.1263642111980123,
          -0.43067699473799714,
          -0.4761432595289019,
          -1.4043110907291787,
          1.212156864283354,
          -6.087351495106708,
          2.273540398570518,
          -3.4664212693534573,
          -1.8715826324777913,
          -6.2525417441438345,
          1.027806830442045,
          -3.526376545879675,
          -2.3164477892158137,
          -2.507408563101444,
          -3.9843590622943728,
          -3.1675661676359606,
          1.5900449542020423,
          -4.459414611062299,
          0.9670096951035272,
          0.1992460743091918,
          -0.5241548547765167,
          -2.816535234752401,
          -2.712834478156467,
          -4.214300714667672,
          -0.982312311928713,
          -2.796892828490717,
          0.8719934926800803,
          -2.2869295270413494,
          0.9271769842031646,
          -0.601242567687447,
          0.5900149749731938,
          -4.522471488576038,
          0.5258907588735868,
          -0.5771091470242296,
          0.12847565031127084,
          2.5101049163143223,
          -2.0307322751946857,
          1.44568948733462,
          2.9539365828962922,
          -6.186746616676319,
          -0.5505896939092164,
          2.030976323752564,
          0.3948906184069641,
          3.465332603436852,
          0.64957058535448,
          1.8685890056377863,
          6.121330234720155,
          -4.3350863379336415,
          -1.2489435610943973,
          -2.3201480339203684,
          -3.9169527659762204,
          -1.7132512195949883,
          6.308760460231691,
          0.9651659369813951,
          3.935116052881787,
          3.3173472982141154,
          6.298093849624326,
          8.754372987232784,
          3.9571907037377545,
          4.8217082058297915,
          1.0120092298693653,
          0.8076625860839379,
          4.377051002487742,
          6.337815299277268,
          1.502815833647917,
          3.2290069195315807,
          1.7347344876620132,
          0.5329408400133322,
          0.2564882716479203,
          1.833440885252801,
          0.4205530423378015,
          2.4080605392031793,
          -1.6217201355200688,
          -3.1039994406160947,
          0.6603464784548672,
          -2.502706982421838,
          1.2298703398297692,
          0.10335679886273329,
          2.0047395033180755,
          1.421628619036101,
          -1.1846867870557807,
          1.3435468314284364,
          3.236619290961604,
          5.273265235136221,
          2.2594634092322177,
          2.2350797019974427,
          2.60617356455496,
          -3.377567912356795,
          1.9012291135875388,
          -1.0430532461601776,
          -1.9119290861871787,
          3.7131375336473784,
          -2.696859342482299,
          -0.40132854934667095,
          0.7342998177587433,
          0.4346924775088931,
          0.8048453186417848,
          1.2275782925375323,
          -1.2396174657198484,
          0.8758725760738775,
          3.547426791592455,
          -2.3445860387461246,
          -9.93360158275874,
          -7.134127547478644,
          12.88318715831143,
          -8.487090612090643,
          -0.7231393672253073,
          43.45726296491359,
          -10.338699852836664,
          26.41581445047593,
          -10.735363439569387,
          0.0666435269229013,
          0.40331418861034757,
          -2.5016712531458336,
          2.574909751753796,
          -7.875039390614685,
          -3.7506424020194027,
          -5.788294286551586,
          -0.5624317898718469,
          -4.499235545439079,
          -9.04833604606582,
          -2.868573366056334,
          14.199058123502814,
          -14.118099542002657,
          -4.715382907669389,
          -5.324548467534393,
          1.5371642900758937,
          0.5612149231127295,
          4.299399749008807,
          -2.0477195537657233,
          -0.6389913852250819,
          -4.175327575577822,
          -2.428763758325385,
          3.842694164709755,
          2.7188753390959697,
          3.400837311818171,
          -10.291381967827288,
          -12.446838208774288,
          -4.933123353212313,
          -2.911630306333482,
          -8.587526210780613,
          -2.131125691242766,
          -5.441163483099327,
          -2.4577004046068693,
          -0.8099968082006977,
          0.32250178291440224,
          1.2112541443327083,
          1.2989016854316895,
          6.738560937839292,
          7.53283673643425,
          7.729017944094454,
          -10.891913311370825,
          -15.801281204145983,
          -0.9670108277419822,
          3.708128450843475,
          -8.736803956794953,
          -2.203140491344945,
          -0.6809206715683818,
          0.016339298465434304,
          -0.5490088078813721,
          -3.260729370197306,
          -6.10937918985089,
          -9.162533414563814,
          -10.557152935467617,
          1.3035810394232261,
          -11.979929378192427,
          -5.761205123996994,
          -4.163726396391752,
          29.777183969012718,
          2.5238776067953133,
          -1.5319151345787638,
          0.1547453317188496,
          -6.86898461224958,
          8.892059479751072,
          2.136496559737719,
          1.6574440619721493,
          -1.2733321773133326,
          -5.243018995895208,
          -11.490320564409567,
          -3.087750698691602,
          -1.36298092845908,
          -15.259590374783718,
          -5.701832491184874,
          -12.959384748091265,
          -1.546796544141818,
          -1.1634027722237024,
          2.5003748624933366,
          -6.867155726588394,
          -1.0982616669402212,
          -1.71627037210674,
          1.5216506090517574,
          0.052311286431930136,
          -8.296949274964712,
          -1.3176169210544528,
          -3.7886227950760656,
          0.3280062925049409,
          -1.5632688197989253,
          -2.3173034855569474,
          -11.404845346668916,
          -1.7569508717824132,
          -3.7742703948193754,
          -9.803048715168982,
          26.0040458296531,
          13.518023337000987,
          -5.322231482035965,
          -9.13850404953869,
          -14.273139542649288,
          19.235677191948284,
          3.4000225947001774,
          0.28011896798084696,
          -0.2817528878552411,
          7.260191096768259,
          6.256973203896219,
          -4.940289523962566,
          -6.076195997410097,
          31.50107030170248,
          4.588134932249004,
          -10.094536434450282,
          -3.4733109494900174,
          -9.446153490735862,
          -11.0066574408307,
          -3.0770811890986316,
          -0.6730376326758023,
          -0.8097909493628438,
          -0.9218936521696192,
          -9.038408507332553,
          2.505296788034131,
          -8.687711975212556,
          -5.880298896590357,
          -2.1847002304271554,
          -4.7384199354952505,
          -2.6995325056853536,
          -0.419932842111684,
          -0.16887198843574683,
          -12.159395943944014,
          35.37504065251503,
          3.159822989999023,
          -6.985248866709208,
          -0.3427904338623271,
          -9.485411375796833,
          -2.964142863083703,
          -8.97967696755963,
          -0.7220972528891075,
          -13.628967650476017,
          -7.726574855787119,
          -11.446415489812178,
          -9.049861301676561,
          -0.03174191988466061,
          -8.27160504932027,
          -10.539755732410743,
          -7.183825418163977,
          -3.395374691055591,
          -4.399824417487539,
          0.862381441575377,
          -4.727110389924282,
          0.20712608720506293,
          9.97937811291058,
          5.606705063601376,
          6.085371473784028,
          0.7879327498130507,
          -3.0337815657473146,
          1.7430840005942208,
          1.1902313211658968,
          -2.9002521201007947,
          -1.0980650576517135,
          -1.4592690920209705,
          -0.9070381964179806,
          -2.2952422306460436,
          2.0569739432159286,
          3.4389416396327186,
          -0.7676178100455651,
          -4.532773351397954,
          -5.5961005509530395,
          -4.548432925243521,
          -1.5173945775504347,
          -2.1535705354222294,
          -9.579096083132622,
          -5.270313686321065,
          -3.902838450149744,
          -2.9631099940743777,
          -6.8023611694203,
          0.3406665384099338,
          22.299640804851087,
          55.94404858980905,
          7.186701022020616,
          32.311476222408494,
          -5.62309852691849,
          -12.86381845336707,
          -6.144203947595097,
          1.4235593954726158,
          13.008911772411922,
          1.577540711769856,
          5.894022792203188,
          9.065930249094155,
          3.746765302213454,
          7.89444712516726,
          3.5250671034585612,
          -1.607208742096507,
          5.728602815452336,
          -10.505708228884817,
          -6.301737447346242,
          9.538936039628398,
          1.4215371713243194,
          23.645058819433803,
          20.694095704213304,
          -0.8743543210433495,
          null,
          null,
          null,
          null,
          null,
          null,
          null,
          null,
          null,
          null,
          null,
          null,
          null,
          null,
          null,
          null,
          null,
          null,
          null,
          null,
          null,
          null
         ]
        }
       ],
       "layout": {
        "legend": {
         "itemsizing": "constant",
         "title": {
          "text": "app_group"
         },
         "tracegroupgap": 0
        },
        "margin": {
         "b": 0,
         "l": 0,
         "r": 0,
         "t": 0
        },
        "scene": {
         "domain": {
          "x": [
           0,
           1
          ],
          "y": [
           0,
           1
          ]
         },
         "xaxis": {
          "showaxeslabels": false,
          "showbackground": false,
          "showticklabels": false,
          "title": {
           "text": ""
          }
         },
         "yaxis": {
          "showaxeslabels": false,
          "showbackground": false,
          "showticklabels": false,
          "title": {
           "text": ""
          }
         },
         "zaxis": {
          "showaxeslabels": false,
          "showbackground": false,
          "showticklabels": false,
          "title": {
           "text": ""
          }
         }
        },
        "template": {
         "data": {
          "bar": [
           {
            "error_x": {
             "color": "#2a3f5f"
            },
            "error_y": {
             "color": "#2a3f5f"
            },
            "marker": {
             "line": {
              "color": "#E5ECF6",
              "width": 0.5
             },
             "pattern": {
              "fillmode": "overlay",
              "size": 10,
              "solidity": 0.2
             }
            },
            "type": "bar"
           }
          ],
          "barpolar": [
           {
            "marker": {
             "line": {
              "color": "#E5ECF6",
              "width": 0.5
             },
             "pattern": {
              "fillmode": "overlay",
              "size": 10,
              "solidity": 0.2
             }
            },
            "type": "barpolar"
           }
          ],
          "carpet": [
           {
            "aaxis": {
             "endlinecolor": "#2a3f5f",
             "gridcolor": "white",
             "linecolor": "white",
             "minorgridcolor": "white",
             "startlinecolor": "#2a3f5f"
            },
            "baxis": {
             "endlinecolor": "#2a3f5f",
             "gridcolor": "white",
             "linecolor": "white",
             "minorgridcolor": "white",
             "startlinecolor": "#2a3f5f"
            },
            "type": "carpet"
           }
          ],
          "choropleth": [
           {
            "colorbar": {
             "outlinewidth": 0,
             "ticks": ""
            },
            "type": "choropleth"
           }
          ],
          "contour": [
           {
            "colorbar": {
             "outlinewidth": 0,
             "ticks": ""
            },
            "colorscale": [
             [
              0,
              "#0d0887"
             ],
             [
              0.1111111111111111,
              "#46039f"
             ],
             [
              0.2222222222222222,
              "#7201a8"
             ],
             [
              0.3333333333333333,
              "#9c179e"
             ],
             [
              0.4444444444444444,
              "#bd3786"
             ],
             [
              0.5555555555555556,
              "#d8576b"
             ],
             [
              0.6666666666666666,
              "#ed7953"
             ],
             [
              0.7777777777777778,
              "#fb9f3a"
             ],
             [
              0.8888888888888888,
              "#fdca26"
             ],
             [
              1,
              "#f0f921"
             ]
            ],
            "type": "contour"
           }
          ],
          "contourcarpet": [
           {
            "colorbar": {
             "outlinewidth": 0,
             "ticks": ""
            },
            "type": "contourcarpet"
           }
          ],
          "heatmap": [
           {
            "colorbar": {
             "outlinewidth": 0,
             "ticks": ""
            },
            "colorscale": [
             [
              0,
              "#0d0887"
             ],
             [
              0.1111111111111111,
              "#46039f"
             ],
             [
              0.2222222222222222,
              "#7201a8"
             ],
             [
              0.3333333333333333,
              "#9c179e"
             ],
             [
              0.4444444444444444,
              "#bd3786"
             ],
             [
              0.5555555555555556,
              "#d8576b"
             ],
             [
              0.6666666666666666,
              "#ed7953"
             ],
             [
              0.7777777777777778,
              "#fb9f3a"
             ],
             [
              0.8888888888888888,
              "#fdca26"
             ],
             [
              1,
              "#f0f921"
             ]
            ],
            "type": "heatmap"
           }
          ],
          "heatmapgl": [
           {
            "colorbar": {
             "outlinewidth": 0,
             "ticks": ""
            },
            "colorscale": [
             [
              0,
              "#0d0887"
             ],
             [
              0.1111111111111111,
              "#46039f"
             ],
             [
              0.2222222222222222,
              "#7201a8"
             ],
             [
              0.3333333333333333,
              "#9c179e"
             ],
             [
              0.4444444444444444,
              "#bd3786"
             ],
             [
              0.5555555555555556,
              "#d8576b"
             ],
             [
              0.6666666666666666,
              "#ed7953"
             ],
             [
              0.7777777777777778,
              "#fb9f3a"
             ],
             [
              0.8888888888888888,
              "#fdca26"
             ],
             [
              1,
              "#f0f921"
             ]
            ],
            "type": "heatmapgl"
           }
          ],
          "histogram": [
           {
            "marker": {
             "pattern": {
              "fillmode": "overlay",
              "size": 10,
              "solidity": 0.2
             }
            },
            "type": "histogram"
           }
          ],
          "histogram2d": [
           {
            "colorbar": {
             "outlinewidth": 0,
             "ticks": ""
            },
            "colorscale": [
             [
              0,
              "#0d0887"
             ],
             [
              0.1111111111111111,
              "#46039f"
             ],
             [
              0.2222222222222222,
              "#7201a8"
             ],
             [
              0.3333333333333333,
              "#9c179e"
             ],
             [
              0.4444444444444444,
              "#bd3786"
             ],
             [
              0.5555555555555556,
              "#d8576b"
             ],
             [
              0.6666666666666666,
              "#ed7953"
             ],
             [
              0.7777777777777778,
              "#fb9f3a"
             ],
             [
              0.8888888888888888,
              "#fdca26"
             ],
             [
              1,
              "#f0f921"
             ]
            ],
            "type": "histogram2d"
           }
          ],
          "histogram2dcontour": [
           {
            "colorbar": {
             "outlinewidth": 0,
             "ticks": ""
            },
            "colorscale": [
             [
              0,
              "#0d0887"
             ],
             [
              0.1111111111111111,
              "#46039f"
             ],
             [
              0.2222222222222222,
              "#7201a8"
             ],
             [
              0.3333333333333333,
              "#9c179e"
             ],
             [
              0.4444444444444444,
              "#bd3786"
             ],
             [
              0.5555555555555556,
              "#d8576b"
             ],
             [
              0.6666666666666666,
              "#ed7953"
             ],
             [
              0.7777777777777778,
              "#fb9f3a"
             ],
             [
              0.8888888888888888,
              "#fdca26"
             ],
             [
              1,
              "#f0f921"
             ]
            ],
            "type": "histogram2dcontour"
           }
          ],
          "mesh3d": [
           {
            "colorbar": {
             "outlinewidth": 0,
             "ticks": ""
            },
            "type": "mesh3d"
           }
          ],
          "parcoords": [
           {
            "line": {
             "colorbar": {
              "outlinewidth": 0,
              "ticks": ""
             }
            },
            "type": "parcoords"
           }
          ],
          "pie": [
           {
            "automargin": true,
            "type": "pie"
           }
          ],
          "scatter": [
           {
            "fillpattern": {
             "fillmode": "overlay",
             "size": 10,
             "solidity": 0.2
            },
            "type": "scatter"
           }
          ],
          "scatter3d": [
           {
            "line": {
             "colorbar": {
              "outlinewidth": 0,
              "ticks": ""
             }
            },
            "marker": {
             "colorbar": {
              "outlinewidth": 0,
              "ticks": ""
             }
            },
            "type": "scatter3d"
           }
          ],
          "scattercarpet": [
           {
            "marker": {
             "colorbar": {
              "outlinewidth": 0,
              "ticks": ""
             }
            },
            "type": "scattercarpet"
           }
          ],
          "scattergeo": [
           {
            "marker": {
             "colorbar": {
              "outlinewidth": 0,
              "ticks": ""
             }
            },
            "type": "scattergeo"
           }
          ],
          "scattergl": [
           {
            "marker": {
             "colorbar": {
              "outlinewidth": 0,
              "ticks": ""
             }
            },
            "type": "scattergl"
           }
          ],
          "scattermapbox": [
           {
            "marker": {
             "colorbar": {
              "outlinewidth": 0,
              "ticks": ""
             }
            },
            "type": "scattermapbox"
           }
          ],
          "scatterpolar": [
           {
            "marker": {
             "colorbar": {
              "outlinewidth": 0,
              "ticks": ""
             }
            },
            "type": "scatterpolar"
           }
          ],
          "scatterpolargl": [
           {
            "marker": {
             "colorbar": {
              "outlinewidth": 0,
              "ticks": ""
             }
            },
            "type": "scatterpolargl"
           }
          ],
          "scatterternary": [
           {
            "marker": {
             "colorbar": {
              "outlinewidth": 0,
              "ticks": ""
             }
            },
            "type": "scatterternary"
           }
          ],
          "surface": [
           {
            "colorbar": {
             "outlinewidth": 0,
             "ticks": ""
            },
            "colorscale": [
             [
              0,
              "#0d0887"
             ],
             [
              0.1111111111111111,
              "#46039f"
             ],
             [
              0.2222222222222222,
              "#7201a8"
             ],
             [
              0.3333333333333333,
              "#9c179e"
             ],
             [
              0.4444444444444444,
              "#bd3786"
             ],
             [
              0.5555555555555556,
              "#d8576b"
             ],
             [
              0.6666666666666666,
              "#ed7953"
             ],
             [
              0.7777777777777778,
              "#fb9f3a"
             ],
             [
              0.8888888888888888,
              "#fdca26"
             ],
             [
              1,
              "#f0f921"
             ]
            ],
            "type": "surface"
           }
          ],
          "table": [
           {
            "cells": {
             "fill": {
              "color": "#EBF0F8"
             },
             "line": {
              "color": "white"
             }
            },
            "header": {
             "fill": {
              "color": "#C8D4E3"
             },
             "line": {
              "color": "white"
             }
            },
            "type": "table"
           }
          ]
         },
         "layout": {
          "annotationdefaults": {
           "arrowcolor": "#2a3f5f",
           "arrowhead": 0,
           "arrowwidth": 1
          },
          "autotypenumbers": "strict",
          "coloraxis": {
           "colorbar": {
            "outlinewidth": 0,
            "ticks": ""
           }
          },
          "colorscale": {
           "diverging": [
            [
             0,
             "#8e0152"
            ],
            [
             0.1,
             "#c51b7d"
            ],
            [
             0.2,
             "#de77ae"
            ],
            [
             0.3,
             "#f1b6da"
            ],
            [
             0.4,
             "#fde0ef"
            ],
            [
             0.5,
             "#f7f7f7"
            ],
            [
             0.6,
             "#e6f5d0"
            ],
            [
             0.7,
             "#b8e186"
            ],
            [
             0.8,
             "#7fbc41"
            ],
            [
             0.9,
             "#4d9221"
            ],
            [
             1,
             "#276419"
            ]
           ],
           "sequential": [
            [
             0,
             "#0d0887"
            ],
            [
             0.1111111111111111,
             "#46039f"
            ],
            [
             0.2222222222222222,
             "#7201a8"
            ],
            [
             0.3333333333333333,
             "#9c179e"
            ],
            [
             0.4444444444444444,
             "#bd3786"
            ],
            [
             0.5555555555555556,
             "#d8576b"
            ],
            [
             0.6666666666666666,
             "#ed7953"
            ],
            [
             0.7777777777777778,
             "#fb9f3a"
            ],
            [
             0.8888888888888888,
             "#fdca26"
            ],
            [
             1,
             "#f0f921"
            ]
           ],
           "sequentialminus": [
            [
             0,
             "#0d0887"
            ],
            [
             0.1111111111111111,
             "#46039f"
            ],
            [
             0.2222222222222222,
             "#7201a8"
            ],
            [
             0.3333333333333333,
             "#9c179e"
            ],
            [
             0.4444444444444444,
             "#bd3786"
            ],
            [
             0.5555555555555556,
             "#d8576b"
            ],
            [
             0.6666666666666666,
             "#ed7953"
            ],
            [
             0.7777777777777778,
             "#fb9f3a"
            ],
            [
             0.8888888888888888,
             "#fdca26"
            ],
            [
             1,
             "#f0f921"
            ]
           ]
          },
          "colorway": [
           "#636efa",
           "#EF553B",
           "#00cc96",
           "#ab63fa",
           "#FFA15A",
           "#19d3f3",
           "#FF6692",
           "#B6E880",
           "#FF97FF",
           "#FECB52"
          ],
          "font": {
           "color": "#2a3f5f"
          },
          "geo": {
           "bgcolor": "white",
           "lakecolor": "white",
           "landcolor": "#E5ECF6",
           "showlakes": true,
           "showland": true,
           "subunitcolor": "white"
          },
          "hoverlabel": {
           "align": "left"
          },
          "hovermode": "closest",
          "mapbox": {
           "style": "light"
          },
          "paper_bgcolor": "white",
          "plot_bgcolor": "#E5ECF6",
          "polar": {
           "angularaxis": {
            "gridcolor": "white",
            "linecolor": "white",
            "ticks": ""
           },
           "bgcolor": "#E5ECF6",
           "radialaxis": {
            "gridcolor": "white",
            "linecolor": "white",
            "ticks": ""
           }
          },
          "scene": {
           "xaxis": {
            "backgroundcolor": "#E5ECF6",
            "gridcolor": "white",
            "gridwidth": 2,
            "linecolor": "white",
            "showbackground": true,
            "ticks": "",
            "zerolinecolor": "white"
           },
           "yaxis": {
            "backgroundcolor": "#E5ECF6",
            "gridcolor": "white",
            "gridwidth": 2,
            "linecolor": "white",
            "showbackground": true,
            "ticks": "",
            "zerolinecolor": "white"
           },
           "zaxis": {
            "backgroundcolor": "#E5ECF6",
            "gridcolor": "white",
            "gridwidth": 2,
            "linecolor": "white",
            "showbackground": true,
            "ticks": "",
            "zerolinecolor": "white"
           }
          },
          "shapedefaults": {
           "line": {
            "color": "#2a3f5f"
           }
          },
          "ternary": {
           "aaxis": {
            "gridcolor": "white",
            "linecolor": "white",
            "ticks": ""
           },
           "baxis": {
            "gridcolor": "white",
            "linecolor": "white",
            "ticks": ""
           },
           "bgcolor": "#E5ECF6",
           "caxis": {
            "gridcolor": "white",
            "linecolor": "white",
            "ticks": ""
           }
          },
          "title": {
           "x": 0.05
          },
          "xaxis": {
           "automargin": true,
           "gridcolor": "white",
           "linecolor": "white",
           "ticks": "",
           "title": {
            "standoff": 15
           },
           "zerolinecolor": "white",
           "zerolinewidth": 2
          },
          "yaxis": {
           "automargin": true,
           "gridcolor": "white",
           "linecolor": "white",
           "ticks": "",
           "title": {
            "standoff": 15
           },
           "zerolinecolor": "white",
           "zerolinewidth": 2
          }
         }
        }
       }
      }
     },
     "metadata": {},
     "output_type": "display_data"
    }
   ],
   "source": [
    "group_factor = 'app_group'\n",
    "\n",
    "if n_components == 2:\n",
    "    fig = px.scatter(pca_df,\n",
    "                     x='x', y='y',\n",
    "                     color=group_factor,\n",
    "                     symbol=group_factor)\n",
    "    dot_size = 6\n",
    "elif n_components == 3:\n",
    "    fig = px.scatter_3d(pca_df,\n",
    "                        x='x', y='y', z='z',\n",
    "                        color=group_factor,\n",
    "                        symbol=group_factor)\n",
    "    dot_size = 2\n",
    "else:\n",
    "    logging.fatal('Incorrect n')\n",
    "\n",
    "fig.update_traces(marker=dict(size=8,\n",
    "                              line=dict(width=2,\n",
    "                                        color='DarkSlateGrey')),\n",
    "                  selector=dict(mode='markers'))\n",
    "fig.update_layout(margin=dict(l=0, r=0, b=0, t=0),\n",
    "                  legend= {'itemsizing': 'constant'},\n",
    "                  scene=dict(xaxis=dict(showaxeslabels=False, showticklabels=False, showbackground=False, title=''),\n",
    "                             yaxis=dict(showaxeslabels=False, showticklabels=False, showbackground=False, title=''), \n",
    "                             zaxis=dict(showaxeslabels=False, showticklabels=False, showbackground=False, title='')))\n",
    "fig.show()"
   ]
  },
  {
   "attachments": {},
   "cell_type": "markdown",
   "metadata": {},
   "source": [
    "## LDA"
   ]
  },
  {
   "attachments": {},
   "cell_type": "markdown",
   "metadata": {},
   "source": [
    "#### LDA calc"
   ]
  },
  {
   "cell_type": "code",
   "execution_count": 88,
   "metadata": {},
   "outputs": [
    {
     "name": "stdout",
     "output_type": "stream",
     "text": [
      "  sample  comp app_group      lda1      lda2\n",
      "0  C0002   0.0      ctrl -0.652355  1.230962\n",
      "1  C0002   0.0      ctrl  0.276538  0.543102\n",
      "2  C0002   0.0      ctrl -1.130058  0.716101\n",
      "3  C0002   0.0      ctrl -0.058700  0.434058\n",
      "4  C0002   0.0      ctrl -0.931150 -0.003209\n"
     ]
    },
    {
     "data": {
      "application/vnd.plotly.v1+json": {
       "config": {
        "plotlyServerURL": "https://plot.ly"
       },
       "data": [
        {
         "hovertemplate": "app_group=ctrl<br>lda1=%{x}<br>lda2=%{y}<extra></extra>",
         "legendgroup": "ctrl",
         "marker": {
          "color": "#636efa",
          "line": {
           "color": "DarkSlateGrey",
           "width": 2
          },
          "size": 12,
          "symbol": "circle"
         },
         "mode": "markers",
         "name": "ctrl",
         "orientation": "v",
         "showlegend": true,
         "type": "scatter",
         "x": [
          -0.6523553923033232,
          0.2765384072555575,
          -1.130058141234002,
          -0.05870047800170362,
          -0.9311496900343047,
          0.3827818107889589,
          0.6659351689381576,
          -0.3148220247372092,
          -0.545236350626241,
          0.5484051440473445,
          -0.5700940973546783,
          0.5653026770526238,
          -0.4197963296528161,
          -0.010987788943581872,
          0.6667523709805521,
          0.37663637544376716,
          -0.4523016066346534,
          -0.13477710987618743,
          -0.3162892695238324,
          -1.0305919657243843,
          -0.9139407109874603,
          -0.6133577951766368,
          -0.3551140374423785,
          -0.5508345645051463,
          -0.6635356062930522,
          -0.04030439028698255,
          0.35785934764315513,
          0.15891132463749738,
          -0.34542124973955446,
          0.17929135148877362,
          -0.11124763045553449,
          -0.6548467499258178,
          -2.715226955917902,
          -1.5057736027869677,
          -0.3485736422717433,
          -0.8969792961537011,
          -1.8771853671945484,
          0.856690279011038,
          0.06863659062072003,
          8.279334037931608,
          -0.9038916905152192,
          -0.3345881015814712,
          -0.6411028795296041,
          0.8525253234467967,
          -0.7381831851096299,
          0.21550705073150492,
          0.4414836295680704,
          -0.11952169170556401,
          -1.2702280330485745,
          -0.5845879491869002,
          -0.5699718922767677,
          -0.16683026880313787,
          -1.0391802902982883,
          -0.23406372062429162,
          0.05018639168452542,
          0.17009892206299074,
          0.03299253430060747,
          -1.9451435666974848,
          -0.5787946116312354,
          1.0014815795235659,
          -1.0379178967005689,
          0.17773680130788141,
          0.9101541817832499,
          -0.109060185325421,
          1.0831900880976393,
          0.8056971664202792,
          0.6939160844932721,
          1.1748427449076175,
          2.6568589471641193,
          0.9041831086665159,
          0.2195889470840016,
          0.0380571828651474,
          1.1672057425729163,
          -0.3253991916044896,
          0.8089324803880247,
          -0.3660363465065143,
          0.661062016086909,
          -0.9276170024682098,
          -0.4601989560293982,
          0.10592710614785723,
          -0.2822488742428141,
          0.8213700364856144,
          0.3337238550486768,
          0.6801400750408639,
          0.5488143078893708,
          0.4532677750877838,
          -0.013446366639436403,
          0.1534078502466833,
          -0.719008493152047,
          -0.007798243350630007,
          0.6760749440626633,
          -0.7577133862206089,
          -0.37194819890687414,
          null,
          null,
          null
         ],
         "xaxis": "x",
         "y": [
          1.2309621289323238,
          0.5431022690197004,
          0.7161011563284244,
          0.43405824035767115,
          -0.003208750743484135,
          -0.5964949451349175,
          0.11758386508953353,
          0.9871217259671425,
          -0.6000995315279397,
          -0.3011790198537529,
          -0.2795620640352866,
          -0.7423519395479463,
          -0.9905474237523699,
          -0.6146820380339401,
          -0.21040797700862537,
          0.9199556764500499,
          1.1228306054332207,
          -0.039177742051930725,
          0.022928192300434334,
          -0.14339196514283245,
          0.06630147534734898,
          -0.6160443924910745,
          0.009291929582408456,
          -0.7037704531117936,
          1.3207085349290673,
          -0.8154483958150861,
          -0.9289034728110183,
          0.45316290064811743,
          0.23914770629526239,
          0.30760091157029873,
          0.5586464890775594,
          -0.13102512379052234,
          -0.7025275283519407,
          3.5375161748540616,
          0.329499201946672,
          1.603403748388544,
          0.3923608731061696,
          1.140044131809635,
          0.5851561223341152,
          1.051033292996537,
          0.2738262552678606,
          -1.2888637407697205,
          -1.5598392862934318,
          -0.8833745334848007,
          0.3930313885824604,
          -2.199160675061682,
          -0.5470937962938207,
          -0.729299137880237,
          0.5832706064908606,
          -0.03225555520547946,
          1.0231404609343617,
          1.3863223143210408,
          -0.7663081585160584,
          -0.5541495088921862,
          -0.25917740727739563,
          1.519912146736188,
          0.7849882139793168,
          -0.6094249259898514,
          -2.0277486232987822,
          -0.07361325094478086,
          -0.8486917133356652,
          0.9051667526163628,
          0.21314897408247205,
          -0.02256948635284046,
          -0.22175028065215033,
          -0.14014487760306477,
          -0.15478098869286694,
          0.5115944802808792,
          2.588112683451654,
          -0.5882535299462075,
          -1.386527029838047,
          -0.2084271257080816,
          -0.04866853152037126,
          0.02154897875613584,
          0.05681620220845354,
          -1.7568316921730773,
          0.8054125576171134,
          -0.24260602845953677,
          -1.427515225387391,
          1.8850749697191906,
          -1.30380968120387,
          0.5067994841367625,
          -0.687564173560655,
          -0.32996746832630736,
          0.7319189444613627,
          -0.3529545106723472,
          -1.0188897979969076,
          0.7407387052933436,
          -1.9017896519082362,
          -1.5755601739024558,
          1.502633690699865,
          -1.2340126893013947,
          -0.9634837401671431,
          null,
          null,
          null
         ],
         "yaxis": "y"
        },
        {
         "hovertemplate": "app_group=C5a<br>lda1=%{x}<br>lda2=%{y}<extra></extra>",
         "legendgroup": "C5a",
         "marker": {
          "color": "#EF553B",
          "line": {
           "color": "DarkSlateGrey",
           "width": 2
          },
          "size": 12,
          "symbol": "diamond"
         },
         "mode": "markers",
         "name": "C5a",
         "orientation": "v",
         "showlegend": true,
         "type": "scatter",
         "x": [
          -0.10772193964137189,
          -1.25354322966611,
          -0.6980159952354495,
          -0.5802022750505086,
          0.8031833807196083,
          0.564432376726693,
          -0.1453920516772882,
          -1.0369355256456823,
          -1.2673903484633249,
          0.1884884114511036,
          -0.2344675291625732,
          0.008544029395517927,
          0.02782021578534723,
          0.4397605284776572,
          0.2775780923577583,
          -0.23670608126984194,
          -0.1602954071813298,
          -0.4729817732390343,
          0.3491255291068245,
          0.5653541523140125,
          0.11590640336715861,
          0.4676372165008435,
          0.6383756340081277,
          -0.6480627793153932,
          0.28297907059696903,
          -0.7374222040523487,
          0.8640706999775923,
          0.3988381774720969,
          0.5927645065536069,
          0.6864642517362228,
          0.08214721348720627,
          0.5188939999154205,
          -0.6257008183970906,
          -0.6490744195476482,
          -0.36900563395891745,
          -0.7296156022124135,
          -0.18057741023346202,
          -0.30020238020039497,
          -0.8107228442989814,
          -0.860648059716767,
          -0.8186502749675089,
          -0.17953661809207122,
          -0.7032306879861628,
          0.5275141416507603,
          -0.8200813055175058,
          -0.27857752760452853,
          1.1664283503635784,
          0.6443671876317666,
          0.20687069808363803,
          0.2185491649971248,
          0.06768634963393654,
          1.0566780046432391,
          0.31044598354664255,
          -0.14727163014197772,
          -0.3438328616342671,
          -0.4166005596638241,
          -0.32701610545769594,
          0.1304455152687923,
          -0.03394686166192573,
          0.501506620186908,
          1.2610133902144138,
          -0.7630719303500735,
          0.6656757898080982,
          2.0067788253828676,
          -0.27476265410699113,
          0.8801770252817055,
          0.7672809094050043,
          0.8580550970305904,
          0.03242684899344696,
          -2.17977619909821,
          -1.2874092379800706,
          -1.4948870850789613,
          0.4616132307082518,
          -0.5259020533237948,
          0.33318153825262314,
          -0.5699512180292077,
          -0.9822780631264031,
          -0.6032410666903825,
          -0.8036046007618469,
          0.022739804215904515,
          0.9338518440169808,
          -0.22896047268259628,
          0.11003637481726121,
          -2.7397836360258245,
          -0.0082120457946988,
          0.7679131694547418,
          -1.3296500444444823,
          -1.0595326430834626,
          -0.9829796667811778,
          -0.8378334716697783,
          0.8692950032184407,
          -0.8039295229865334,
          0.23319283512063413,
          0.5739202496772455,
          0.8298113351303139,
          0.8885700030027209,
          1.1919758987639524,
          0.6333899339936016,
          -1.0051241088292406,
          -0.47079366293047614,
          0.8357688764236819,
          1.1486945761272331,
          -0.23165227664630858,
          0.6815203252086394,
          0.5074322271372226,
          0.948687245281055,
          0.12534458153694358,
          -0.6043718769480558,
          -0.07627173580756211,
          0.5779395628801105,
          -0.053312966688204726,
          0.3107058099560366,
          0.13237953725944807,
          0.25038484923077353,
          0.8899887883280736,
          3.078745372922494,
          3.127544961875877,
          1.0853476044489172,
          1.9909176305767657,
          1.3175807625876002,
          1.6330152557798947,
          0.970733403127048,
          0.24801137069222073,
          1.4372984716874342,
          -0.2943892470502417,
          0.6366093519704712,
          1.1365554798510933,
          1.2059011654045786,
          null,
          null,
          null,
          null,
          null,
          null,
          null,
          null
         ],
         "xaxis": "x",
         "y": [
          0.8742824030176534,
          0.6233689240215767,
          0.5785479807876401,
          0.11059914292265983,
          -0.22394895288210662,
          0.39208157586121534,
          -0.020916108085764433,
          0.4959900170728275,
          -0.27775950303280333,
          -0.12752569804960212,
          -0.3808083358544633,
          -0.04545712893859729,
          -0.08208660692235513,
          0.04868147411505732,
          -0.018001915287789896,
          -0.5134584282698655,
          -0.08948000772881942,
          -0.27883696522338725,
          -0.4089916301941973,
          -0.32889253281688186,
          0.8192167050968325,
          -0.5481360608887992,
          -0.19047556108237804,
          -0.7367858741879993,
          -0.23410098153871503,
          0.006002883550869088,
          0.04082497006532846,
          -0.2282681460587693,
          -0.34366864129740804,
          0.17521849867882733,
          -0.5339328209614931,
          0.22296365180370614,
          0.6777823761250148,
          0.9496597385410585,
          -0.5240498007411396,
          -0.44060293792738475,
          0.19017718369116807,
          1.9095618173052078,
          1.4773254420800772,
          0.6523813896884664,
          1.3309153857533937,
          1.0280241692563334,
          -0.05140980650353476,
          -0.23894285957250472,
          0.6758546884523541,
          -0.2641241727600507,
          0.19916349064369002,
          -0.2500114925216138,
          -0.030265292828567467,
          0.2785451711413072,
          -1.0786331510095721,
          -0.30972620299330983,
          -0.9625807726352363,
          0.858483290061444,
          0.4448359259870469,
          0.9888957540577468,
          1.3763278162912551,
          0.6512698554806025,
          0.26637284507403736,
          -0.2647502268155073,
          -0.7246127212741024,
          -1.8486527496134504,
          0.04310990070176249,
          0.815552297059765,
          1.027720064352808,
          -0.6826522960906646,
          -0.31955000166268227,
          0.4815135014518962,
          0.6731878819770217,
          -0.10266609291195612,
          1.3323664505093558,
          1.0285415854044493,
          -0.8145443841382709,
          0.7330869735284353,
          -0.44720404366465444,
          1.860603398869187,
          -2.3605559767168125,
          -2.2723658068137924,
          -0.9349064367106662,
          1.329882448629249,
          -0.26777966088484834,
          -0.8509060991357603,
          1.0947559270439542,
          -1.1573915639246641,
          0.1406924376211513,
          -0.5551152554358152,
          -0.37937691556538905,
          -0.4921878459839425,
          -1.8057463101810551,
          -1.4061451750289418,
          -0.430470863889457,
          -1.4624002519507613,
          -0.7553165896606377,
          0.892688676152205,
          -0.2334221200207596,
          -0.7880859746223475,
          -0.3214066286599087,
          0.2513622960803258,
          0.05863043783111065,
          -1.9900255480283695,
          -0.48116585220447894,
          0.10497209177264041,
          -1.0196655014334854,
          -0.12950718514010406,
          2.0186965953331844,
          1.899800637243563,
          1.6872377865985162,
          0.006364943470810665,
          -1.690794079886334,
          -0.9924524187100721,
          -1.8907574165424452,
          -1.5584922819312759,
          -0.04047897414815361,
          1.239593571366446,
          -1.0670877256726365,
          0.16509657406779016,
          0.1850452044088791,
          0.210145274086798,
          1.016439781386583,
          0.014373236608615272,
          0.34692099701835855,
          -1.4736396645291225,
          -1.6512197987804855,
          -0.038755598134055935,
          -0.3473775817957799,
          -0.7633535380785761,
          0.9640798764644352,
          -0.20429215682753743,
          null,
          null,
          null,
          null,
          null,
          null,
          null,
          null
         ],
         "yaxis": "y"
        },
        {
         "hovertemplate": "app_group=wash<br>lda1=%{x}<br>lda2=%{y}<extra></extra>",
         "legendgroup": "wash",
         "marker": {
          "color": "#00cc96",
          "line": {
           "color": "DarkSlateGrey",
           "width": 2
          },
          "size": 12,
          "symbol": "square"
         },
         "mode": "markers",
         "name": "wash",
         "orientation": "v",
         "showlegend": true,
         "type": "scatter",
         "x": [
          0.44750403946809986,
          -0.20542960955342854,
          -0.5722176011532504,
          -0.33587322641788914,
          -0.4328934251049649,
          -0.42126941091419706,
          0.006855247973730639,
          0.139552386304583,
          -0.12597402807904948,
          -0.49097284136976527,
          -0.06034675708262034,
          0.5699084316668047,
          -0.737321477069972,
          0.5116946666674327,
          -0.36985875181307387,
          -0.07846495531594024,
          -1.1649956058012247,
          0.48327419814330325,
          -0.47727676967726607,
          0.15517635224469756,
          -0.7386952921801732,
          0.5422085147800201,
          -0.12744622886647894,
          -0.054196824628651295,
          -0.19792657187187332,
          -0.12499946012115336,
          -0.07074811905978787,
          0.22621398806088353,
          -0.2729979707737128,
          0.38550188954235015,
          0.36236968134704384,
          0.30625177735486403,
          0.21425336536200243,
          0.3729216784256476,
          -0.15554881325862163,
          0.49763823478767244,
          -1.2592805717950077,
          0.6058011357646083,
          0.14893893655778312,
          0.819192380028147,
          0.38916728191458955,
          0.6068999756854553,
          -0.15219660388767406,
          0.834281778444013,
          0.5640723051440895,
          0.5771511769952401,
          0.1167889799104668,
          -0.10092829831859872,
          0.8072067609991261,
          0.633548709436369,
          -0.3538184797957458,
          -0.7764457444097317,
          -0.5140241402785141,
          0.1034142538143083,
          0.7012961433751328,
          -0.44506448613543054,
          -0.4170137034227176,
          0.008372482014161407,
          -1.2950617213426354,
          0.2933669178047785,
          0.23770566244972421,
          0.30610363295956744,
          -1.181233969649431,
          -0.3615348594134105,
          -0.43709970510365037,
          -0.3799210010052745,
          0.4341781780612761,
          0.09772849744885,
          0.16703213056178237,
          -0.7172372134449908,
          -0.3596038226012898,
          -0.6090209538033492,
          -0.9064819850584308,
          -0.7168690230190449,
          -0.07883402067099726,
          -0.8449039983823451,
          -0.46829545603353717,
          -0.2981104432934649,
          -0.38841131702788,
          0.43732299728814944,
          1.0254301123460956,
          0.30076649285162294,
          0.4779198665091106,
          0.6519111914990532,
          0.3556850681029098,
          0.881941018302868,
          -0.019120466629904315,
          1.0330399308070952,
          0.06804635320170029,
          0.07171409529748875,
          0.3342107609025079,
          -0.0981770345021231,
          1.1144685086014288,
          0.16217551770616095,
          0.5746119578411151,
          -0.0872182925886313,
          0.15862450227022112,
          -0.361660511548178,
          0.19076559475908386,
          0.40249562591507015,
          -0.8950775841447226,
          -0.6967107324225503,
          0.2996665318775939,
          -0.29286355168040173,
          0.12389032525996319,
          -0.3680676413552413,
          0.19901136807959252,
          0.5979801327445291,
          -0.6409387698223429,
          0.1558016980933479,
          0.6433043888770243,
          -0.526159355928966,
          -1.799782514074839,
          -0.9616760798923809,
          -0.4543276065976474,
          -1.0895976763360742,
          -1.0683567570915702,
          0.43195888854357056,
          4.8961264699033595,
          -1.1693866145623608,
          1.3167097446866578,
          -1.1490509737939287,
          -0.7515654323259907,
          -0.4458783729778755,
          -0.9741535379001992,
          -0.27640531667300117,
          -1.4093808442297624,
          0.14348921222795488,
          0.054151509861570954,
          0.8217567138894745,
          0.652814495730585,
          0.08378951752055264,
          0.7362277184757172,
          1.0728510927626984,
          -0.7693603953287756,
          -1.8816712579919512,
          -1.7856466588861362,
          0.6433187207628428,
          0.061591978033255744,
          -1.856380520204834,
          0.3142261174560394,
          -0.13009811728127355,
          -1.1847270692954905,
          -0.9548027843988899,
          -0.4626477674730585,
          0.14899586909540008,
          -0.5226306642720048,
          -1.8650330689830463,
          -1.184443394717328,
          -1.6953241082076176,
          -1.3302843110867673,
          -0.9832451079659507,
          0.6116408944744337,
          -1.6222180717476689,
          -1.0253042760491493,
          1.0374888552497747,
          -0.4356101371459422,
          0.9826736950557725,
          -2.5095606646438062,
          -1.6696126428463498,
          -1.9886810087031472,
          -1.613228266156089,
          -3.734154932167469,
          -1.3372215294452128,
          -0.221811105780236,
          1.2644339340763144,
          -0.7057005272190628,
          0.6002098461325327,
          -1.4709929033615636,
          0.7493032730040284,
          0.9021018420368413,
          0.7615336511774933,
          0.34203720276162963,
          0.24134245921699554,
          -0.29943602636773736,
          1.1789800222390185,
          -0.6763116313145258,
          0.38296470654176273,
          0.9505714853387631,
          2.749541330026428,
          0.8299894447463115,
          1.01981994619446,
          1.088496638511621,
          -0.7544614660977063,
          1.3803844915367238,
          0.6269403379866091,
          0.9351632321485468,
          0.7163806439758069,
          0.20907711333572465,
          -1.4528852917364021,
          0.8825584088730207,
          0.9562213384853832,
          -1.0923926929911845,
          0.35934662789456595,
          -0.7275110215329668,
          0.17359637967699593,
          0.210465868243353,
          0.25095711405263227,
          -0.9271083916528585,
          0.8813417358529636,
          0.7751198729257632,
          -0.22210001944759616,
          1.070269190956208,
          -0.18063965302706533,
          0.770956050593493,
          0.7283122392278184,
          1.087678392919635,
          1.0389039005534535,
          0.782510276521036,
          -0.40065343041100443,
          1.0476995625468655,
          0.40808333654501033,
          -0.9769605525573282,
          0.4710791033402743,
          2.0809633371832796,
          -0.06428289419329748,
          -0.006333428590827048,
          -1.1319760871153615,
          0.5875588415938799,
          0.646877648100544,
          0.06714642022274438,
          0.6705830114801167,
          0.12204691643733902,
          1.532743731053711,
          0.1822507590358106,
          0.37453073674048826,
          1.939359256238018,
          -0.9258747434246128,
          -1.183922908380685,
          -0.03276288364812157,
          -0.8425696507084538,
          -0.2251188194741357,
          -1.8757256550313275,
          0.748981117355788,
          0.7250685408903313,
          0.7763619413261401,
          -0.019056731210377906,
          -2.011867504781925,
          0.144295143935234,
          0.5591859570811237,
          -0.15575046094642284,
          0.273996340902856,
          0.6652551557198519,
          -0.024008481391572162,
          0.5368693210554115,
          -1.1322992382128825,
          1.4405652463633363,
          0.7330728553983613,
          -0.5720293636508256,
          0.9854589974166453,
          -0.5896387583207539,
          0.9799897431214295,
          0.08412988672174408,
          0.9648028852233572,
          -0.49580482967540407,
          -0.554477265545421,
          -0.9108694729550005,
          -0.17677447250239856,
          0.8645367754951437,
          0.04967966630195938,
          -0.49564662453428915,
          0.19712626134004407,
          0.731809296578937,
          0.6846643641015203,
          1.2334180033416742,
          -0.7363278008523368,
          1.2110638516508367,
          0.6720324466684137,
          0.4875651445242468,
          1.5182867691714204,
          0.46464474028585184,
          0.2958361220801319,
          1.183177205236527,
          0.9985411246328902,
          -0.1797378366906592,
          0.4162542537535308,
          0.8700023449903785,
          1.0509333934861103,
          0.007489420265824775,
          1.1950108010908465,
          1.433887704324191,
          0.9957987572376044,
          0.6014355114978135,
          -1.228047087586112,
          0.2107846945290023,
          0.8740383114670622,
          1.0073316234567087,
          -0.15651797942418597,
          0.3835587881877287,
          0.41276149673465123,
          0.8108104415319307,
          0.3339298207155925,
          0.8988785726074551,
          1.7649861043448245,
          3.8476418103909884,
          0.44735857001242646,
          2.908888475978139,
          -0.17072062307618516,
          -0.9342426928555162,
          0.23284898831333523,
          -0.025547128128051856,
          -1.4016542256616449,
          1.016428066439142,
          -2.507609123640473,
          -1.8883816661320818,
          -1.5570429005064594,
          -2.577840769909665,
          -1.6658233611330504,
          -0.7806141210213701,
          -1.9033629076611351,
          -0.7159500205223358,
          -0.2747868835946593,
          -1.7654101475927233,
          -2.463392155647007,
          -3.4693884700690485,
          -3.996488677595513,
          0.2211085963355689,
          null,
          null,
          null,
          null,
          null,
          null,
          null,
          null,
          null,
          null,
          null,
          null,
          null,
          null,
          null,
          null,
          null,
          null,
          null,
          null,
          null,
          null
         ],
         "xaxis": "x",
         "y": [
          -0.037423010643525025,
          0.8187127371647595,
          -0.19952403591665452,
          0.756229031979655,
          -0.16331588095644828,
          0.18793491161152404,
          1.0734183927988612,
          0.9256795488652262,
          0.9293495903241552,
          0.07103728729083654,
          0.5674398109906436,
          0.06054187770994812,
          0.9977393985083003,
          -0.6824413977070892,
          0.13502587256107185,
          -0.5000868379595714,
          -0.5701763037905602,
          0.5465835690673594,
          -0.6749394310053519,
          -0.5446572703763667,
          -0.3408940116754618,
          -0.36389492820095093,
          0.397495664046372,
          -0.22677173763023606,
          -0.44083892243990824,
          -0.8495802086991713,
          0.4475354851059147,
          -0.08003324685277428,
          -1.0711406478049728,
          0.6839871592745955,
          0.06765640640739165,
          0.512475307991196,
          -0.9730209165607088,
          -0.45102704643452,
          -1.3373083384056303,
          -0.43417740394116394,
          -0.40564949671156864,
          -0.27771653561372606,
          -0.9455315978769981,
          -0.2945235111804497,
          -0.043211049112510405,
          -0.5189088168850226,
          -0.9409811284340043,
          -0.18382889137958808,
          0.36370510441252557,
          -0.6723301000079314,
          0.8020486701640351,
          -0.6282194902860693,
          -0.33115437241576284,
          0.20792774070244893,
          -1.2235241788820965,
          0.4855254156193937,
          0.4670752124859335,
          0.5401022360765284,
          0.01424574035032527,
          0.4817839913647652,
          0.40571951538660145,
          1.2550940959091152,
          -0.48249118587610634,
          -0.5475342657725114,
          -0.6970585208894025,
          0.26568644714598316,
          1.08158644648419,
          1.1038553067282457,
          1.0168939719949872,
          0.6984053247654014,
          0.2583487387893918,
          1.1681732194190404,
          1.5458696716740976,
          0.6833922557462001,
          1.1657166714955847,
          0.7450406294900844,
          1.2224189557157177,
          0.1436854708212494,
          0.8065472312541714,
          0.9582026601219077,
          0.1867345550976367,
          0.038143200400321514,
          1.2091220782561318,
          0.3228928944547914,
          0.1756574454126581,
          0.336327340579304,
          0.8365503310589298,
          -0.6385080549249564,
          -0.06081151719169493,
          -0.41939804074118014,
          -0.2017835278781637,
          -0.3256050222167311,
          0.561052961274073,
          0.8362514016625755,
          0.5131262082975031,
          -0.46256471625617607,
          -0.23479175014964104,
          1.0350330368839984,
          0.765996985397597,
          1.0182664211964985,
          0.16611693254093668,
          0.6348480583882494,
          -0.8289086378471049,
          0.06848407147856848,
          0.20204717654451348,
          -0.09695532894365191,
          1.3137621482748143,
          0.30366060124791294,
          -0.4528493726115639,
          0.9158149807847239,
          0.20852207607943316,
          0.5137726642232385,
          0.8421623376050361,
          -0.9203679440326833,
          -0.3750664112101705,
          0.4960914114219177,
          2.5515994484789393,
          -0.032822763202408255,
          -0.6870097684573963,
          0.8755398514276997,
          -1.7773077846650056,
          -0.31776267413446063,
          2.056636511986471,
          -0.9406401403922172,
          3.3860857393880917,
          0.043655287752300015,
          1.2058875141873042,
          1.3774214969751357,
          0.29223293945573403,
          1.241544880372618,
          0.14772903820567082,
          -1.1293230141112027,
          0.29471165818091827,
          -0.4576870513624953,
          0.45476736890178837,
          0.5845444158704172,
          -0.5535627578226704,
          -0.5364092553498108,
          -1.854303642888946,
          -0.8747209298852024,
          -0.7613843404143472,
          -0.20526833608218226,
          0.6335734867034086,
          1.1729462594533735,
          0.03177959145636733,
          0.6776766715286778,
          0.36155213371041217,
          -0.33380578599157074,
          0.38615569658652976,
          0.24126417577618336,
          0.2383480241889982,
          -1.544476109169233,
          -1.7692222759548286,
          -0.6871225385040147,
          -0.7882096664233798,
          -0.1856925816494565,
          0.029667540573940485,
          -0.05641308338549711,
          -0.6329881366186876,
          0.035918431666121325,
          0.4173035644430956,
          -0.4969645912987871,
          1.431179301788846,
          1.8278241477120745,
          2.3378653552577693,
          1.2624100038950903,
          0.24519683623640046,
          -0.9308368903900816,
          0.05405993080693862,
          1.1537584124787927,
          0.06966017453105132,
          0.39349212020854807,
          0.7070224629231557,
          -0.26516016543321674,
          -1.075358635842229,
          -0.26994152554009615,
          -0.8337388663287906,
          0.5309988699903798,
          -0.5281587717825479,
          -0.5772620325436902,
          -2.0331774860646923,
          0.5435329416544334,
          1.1786658852396779,
          1.660663228399986,
          -0.610180958843898,
          -0.13972017746189033,
          -0.41396057504407907,
          -0.7229722504341927,
          1.6530012413447848,
          -0.3908671169861063,
          -0.13441660619318274,
          -0.5469631150848513,
          -1.666582457598779,
          -2.179235194063731,
          0.27598393194602994,
          -0.3078811361250259,
          -1.5631479587388764,
          -0.9066724991772166,
          -1.6043045851767488,
          1.5791286890627478,
          1.445480592932207,
          1.3510257213832353,
          -0.20865742386196034,
          -0.7968383837893281,
          0.3246139893902349,
          1.904659665519046,
          -0.360590475230996,
          -0.16975301602413828,
          -0.7225116711445322,
          -0.02508457553900806,
          0.275125527231258,
          0.04751067037667628,
          -0.043293676231998035,
          -0.43268328939718004,
          0.342430624991993,
          -0.38253742515241296,
          -1.3111090268078103,
          1.0900213791654465,
          0.8564532003114017,
          -0.6604971335149363,
          -0.49138640688649315,
          -0.8611974039898205,
          0.7037332276464635,
          -0.3115996272362,
          -0.6505476413108485,
          0.2084028349613829,
          0.0702114501553932,
          0.09482443021314016,
          -1.5365189319108306,
          -0.08643231876778311,
          2.1531899324175927,
          -0.7439825253055996,
          -2.1902649216670707,
          0.17756722257767407,
          -1.9639007966102826,
          -0.04958343323588021,
          -0.16056258379845226,
          -0.4728985765574664,
          -0.7506369775072171,
          -0.6435981301719027,
          0.7119263188399724,
          -0.0612150071987905,
          0.838972751556477,
          1.0032269423344062,
          1.1472676633096939,
          -0.24762904183019357,
          -0.4934696415446662,
          -1.7379948720407281,
          -0.5974867420028959,
          -1.6775314807937685,
          3.630894478927203,
          -0.9354122153799973,
          -2.1348544505803075,
          0.056103313303918885,
          -0.9534398571623838,
          1.1273321133041887,
          -0.5401858873340345,
          -0.5596095754078891,
          -0.8996273999679701,
          -1.7839114006374825,
          -2.1729471385689796,
          -0.394409601662389,
          -0.2792392604185419,
          -0.49293736809776695,
          -2.1333929700286736,
          -1.1993659890306085,
          -0.8641027817379987,
          -0.2698136073247348,
          -0.6877964611334086,
          0.909459713228667,
          -0.34620076701606634,
          -1.9834366417928657,
          -1.308622712885328,
          0.6760294003175171,
          -0.2897304103820623,
          -1.1281675502140993,
          -0.38330941700768234,
          -0.44324051073137105,
          0.45358222393178055,
          -0.6424139503773256,
          -0.6222294456629079,
          0.8502015626300847,
          -0.6034855517329953,
          0.20835520756720755,
          1.1340663686705015,
          -0.11947969989008464,
          0.9409257455528044,
          -1.0971332835601277,
          -1.3070735820735657,
          -0.34204753081490086,
          1.0426103035477408,
          -0.38869026205122975,
          -0.524851274975242,
          -1.2018059871505578,
          0.031735831197894304,
          0.40576333784240076,
          -0.5411480271561868,
          1.4706743279478791,
          -0.6117299088812393,
          -0.004485017849504913,
          -0.08653097378496723,
          -2.0988595171327074,
          -2.4588399444113263,
          -1.2530757437150846,
          1.3020867186351817,
          1.235129340269829,
          -0.33185529743235986,
          1.913045018274855,
          2.932885847969228,
          1.5277286128551166,
          1.5495670905888381,
          1.914867262366333,
          -0.6557621094798183,
          2.1571061200324597,
          -0.9054029073234173,
          -1.3401228922723014,
          1.9309258127371807,
          1.7558091948730614,
          3.4796875556554436,
          3.3357187037845426,
          0.39759011043146564,
          null,
          null,
          null,
          null,
          null,
          null,
          null,
          null,
          null,
          null,
          null,
          null,
          null,
          null,
          null,
          null,
          null,
          null,
          null,
          null,
          null,
          null
         ],
         "yaxis": "y"
        }
       ],
       "layout": {
        "height": 500,
        "legend": {
         "title": {
          "text": "app_group"
         },
         "tracegroupgap": 0
        },
        "margin": {
         "t": 60
        },
        "template": {
         "data": {
          "bar": [
           {
            "error_x": {
             "color": "#2a3f5f"
            },
            "error_y": {
             "color": "#2a3f5f"
            },
            "marker": {
             "line": {
              "color": "#E5ECF6",
              "width": 0.5
             },
             "pattern": {
              "fillmode": "overlay",
              "size": 10,
              "solidity": 0.2
             }
            },
            "type": "bar"
           }
          ],
          "barpolar": [
           {
            "marker": {
             "line": {
              "color": "#E5ECF6",
              "width": 0.5
             },
             "pattern": {
              "fillmode": "overlay",
              "size": 10,
              "solidity": 0.2
             }
            },
            "type": "barpolar"
           }
          ],
          "carpet": [
           {
            "aaxis": {
             "endlinecolor": "#2a3f5f",
             "gridcolor": "white",
             "linecolor": "white",
             "minorgridcolor": "white",
             "startlinecolor": "#2a3f5f"
            },
            "baxis": {
             "endlinecolor": "#2a3f5f",
             "gridcolor": "white",
             "linecolor": "white",
             "minorgridcolor": "white",
             "startlinecolor": "#2a3f5f"
            },
            "type": "carpet"
           }
          ],
          "choropleth": [
           {
            "colorbar": {
             "outlinewidth": 0,
             "ticks": ""
            },
            "type": "choropleth"
           }
          ],
          "contour": [
           {
            "colorbar": {
             "outlinewidth": 0,
             "ticks": ""
            },
            "colorscale": [
             [
              0,
              "#0d0887"
             ],
             [
              0.1111111111111111,
              "#46039f"
             ],
             [
              0.2222222222222222,
              "#7201a8"
             ],
             [
              0.3333333333333333,
              "#9c179e"
             ],
             [
              0.4444444444444444,
              "#bd3786"
             ],
             [
              0.5555555555555556,
              "#d8576b"
             ],
             [
              0.6666666666666666,
              "#ed7953"
             ],
             [
              0.7777777777777778,
              "#fb9f3a"
             ],
             [
              0.8888888888888888,
              "#fdca26"
             ],
             [
              1,
              "#f0f921"
             ]
            ],
            "type": "contour"
           }
          ],
          "contourcarpet": [
           {
            "colorbar": {
             "outlinewidth": 0,
             "ticks": ""
            },
            "type": "contourcarpet"
           }
          ],
          "heatmap": [
           {
            "colorbar": {
             "outlinewidth": 0,
             "ticks": ""
            },
            "colorscale": [
             [
              0,
              "#0d0887"
             ],
             [
              0.1111111111111111,
              "#46039f"
             ],
             [
              0.2222222222222222,
              "#7201a8"
             ],
             [
              0.3333333333333333,
              "#9c179e"
             ],
             [
              0.4444444444444444,
              "#bd3786"
             ],
             [
              0.5555555555555556,
              "#d8576b"
             ],
             [
              0.6666666666666666,
              "#ed7953"
             ],
             [
              0.7777777777777778,
              "#fb9f3a"
             ],
             [
              0.8888888888888888,
              "#fdca26"
             ],
             [
              1,
              "#f0f921"
             ]
            ],
            "type": "heatmap"
           }
          ],
          "heatmapgl": [
           {
            "colorbar": {
             "outlinewidth": 0,
             "ticks": ""
            },
            "colorscale": [
             [
              0,
              "#0d0887"
             ],
             [
              0.1111111111111111,
              "#46039f"
             ],
             [
              0.2222222222222222,
              "#7201a8"
             ],
             [
              0.3333333333333333,
              "#9c179e"
             ],
             [
              0.4444444444444444,
              "#bd3786"
             ],
             [
              0.5555555555555556,
              "#d8576b"
             ],
             [
              0.6666666666666666,
              "#ed7953"
             ],
             [
              0.7777777777777778,
              "#fb9f3a"
             ],
             [
              0.8888888888888888,
              "#fdca26"
             ],
             [
              1,
              "#f0f921"
             ]
            ],
            "type": "heatmapgl"
           }
          ],
          "histogram": [
           {
            "marker": {
             "pattern": {
              "fillmode": "overlay",
              "size": 10,
              "solidity": 0.2
             }
            },
            "type": "histogram"
           }
          ],
          "histogram2d": [
           {
            "colorbar": {
             "outlinewidth": 0,
             "ticks": ""
            },
            "colorscale": [
             [
              0,
              "#0d0887"
             ],
             [
              0.1111111111111111,
              "#46039f"
             ],
             [
              0.2222222222222222,
              "#7201a8"
             ],
             [
              0.3333333333333333,
              "#9c179e"
             ],
             [
              0.4444444444444444,
              "#bd3786"
             ],
             [
              0.5555555555555556,
              "#d8576b"
             ],
             [
              0.6666666666666666,
              "#ed7953"
             ],
             [
              0.7777777777777778,
              "#fb9f3a"
             ],
             [
              0.8888888888888888,
              "#fdca26"
             ],
             [
              1,
              "#f0f921"
             ]
            ],
            "type": "histogram2d"
           }
          ],
          "histogram2dcontour": [
           {
            "colorbar": {
             "outlinewidth": 0,
             "ticks": ""
            },
            "colorscale": [
             [
              0,
              "#0d0887"
             ],
             [
              0.1111111111111111,
              "#46039f"
             ],
             [
              0.2222222222222222,
              "#7201a8"
             ],
             [
              0.3333333333333333,
              "#9c179e"
             ],
             [
              0.4444444444444444,
              "#bd3786"
             ],
             [
              0.5555555555555556,
              "#d8576b"
             ],
             [
              0.6666666666666666,
              "#ed7953"
             ],
             [
              0.7777777777777778,
              "#fb9f3a"
             ],
             [
              0.8888888888888888,
              "#fdca26"
             ],
             [
              1,
              "#f0f921"
             ]
            ],
            "type": "histogram2dcontour"
           }
          ],
          "mesh3d": [
           {
            "colorbar": {
             "outlinewidth": 0,
             "ticks": ""
            },
            "type": "mesh3d"
           }
          ],
          "parcoords": [
           {
            "line": {
             "colorbar": {
              "outlinewidth": 0,
              "ticks": ""
             }
            },
            "type": "parcoords"
           }
          ],
          "pie": [
           {
            "automargin": true,
            "type": "pie"
           }
          ],
          "scatter": [
           {
            "fillpattern": {
             "fillmode": "overlay",
             "size": 10,
             "solidity": 0.2
            },
            "type": "scatter"
           }
          ],
          "scatter3d": [
           {
            "line": {
             "colorbar": {
              "outlinewidth": 0,
              "ticks": ""
             }
            },
            "marker": {
             "colorbar": {
              "outlinewidth": 0,
              "ticks": ""
             }
            },
            "type": "scatter3d"
           }
          ],
          "scattercarpet": [
           {
            "marker": {
             "colorbar": {
              "outlinewidth": 0,
              "ticks": ""
             }
            },
            "type": "scattercarpet"
           }
          ],
          "scattergeo": [
           {
            "marker": {
             "colorbar": {
              "outlinewidth": 0,
              "ticks": ""
             }
            },
            "type": "scattergeo"
           }
          ],
          "scattergl": [
           {
            "marker": {
             "colorbar": {
              "outlinewidth": 0,
              "ticks": ""
             }
            },
            "type": "scattergl"
           }
          ],
          "scattermapbox": [
           {
            "marker": {
             "colorbar": {
              "outlinewidth": 0,
              "ticks": ""
             }
            },
            "type": "scattermapbox"
           }
          ],
          "scatterpolar": [
           {
            "marker": {
             "colorbar": {
              "outlinewidth": 0,
              "ticks": ""
             }
            },
            "type": "scatterpolar"
           }
          ],
          "scatterpolargl": [
           {
            "marker": {
             "colorbar": {
              "outlinewidth": 0,
              "ticks": ""
             }
            },
            "type": "scatterpolargl"
           }
          ],
          "scatterternary": [
           {
            "marker": {
             "colorbar": {
              "outlinewidth": 0,
              "ticks": ""
             }
            },
            "type": "scatterternary"
           }
          ],
          "surface": [
           {
            "colorbar": {
             "outlinewidth": 0,
             "ticks": ""
            },
            "colorscale": [
             [
              0,
              "#0d0887"
             ],
             [
              0.1111111111111111,
              "#46039f"
             ],
             [
              0.2222222222222222,
              "#7201a8"
             ],
             [
              0.3333333333333333,
              "#9c179e"
             ],
             [
              0.4444444444444444,
              "#bd3786"
             ],
             [
              0.5555555555555556,
              "#d8576b"
             ],
             [
              0.6666666666666666,
              "#ed7953"
             ],
             [
              0.7777777777777778,
              "#fb9f3a"
             ],
             [
              0.8888888888888888,
              "#fdca26"
             ],
             [
              1,
              "#f0f921"
             ]
            ],
            "type": "surface"
           }
          ],
          "table": [
           {
            "cells": {
             "fill": {
              "color": "#EBF0F8"
             },
             "line": {
              "color": "white"
             }
            },
            "header": {
             "fill": {
              "color": "#C8D4E3"
             },
             "line": {
              "color": "white"
             }
            },
            "type": "table"
           }
          ]
         },
         "layout": {
          "annotationdefaults": {
           "arrowcolor": "#2a3f5f",
           "arrowhead": 0,
           "arrowwidth": 1
          },
          "autotypenumbers": "strict",
          "coloraxis": {
           "colorbar": {
            "outlinewidth": 0,
            "ticks": ""
           }
          },
          "colorscale": {
           "diverging": [
            [
             0,
             "#8e0152"
            ],
            [
             0.1,
             "#c51b7d"
            ],
            [
             0.2,
             "#de77ae"
            ],
            [
             0.3,
             "#f1b6da"
            ],
            [
             0.4,
             "#fde0ef"
            ],
            [
             0.5,
             "#f7f7f7"
            ],
            [
             0.6,
             "#e6f5d0"
            ],
            [
             0.7,
             "#b8e186"
            ],
            [
             0.8,
             "#7fbc41"
            ],
            [
             0.9,
             "#4d9221"
            ],
            [
             1,
             "#276419"
            ]
           ],
           "sequential": [
            [
             0,
             "#0d0887"
            ],
            [
             0.1111111111111111,
             "#46039f"
            ],
            [
             0.2222222222222222,
             "#7201a8"
            ],
            [
             0.3333333333333333,
             "#9c179e"
            ],
            [
             0.4444444444444444,
             "#bd3786"
            ],
            [
             0.5555555555555556,
             "#d8576b"
            ],
            [
             0.6666666666666666,
             "#ed7953"
            ],
            [
             0.7777777777777778,
             "#fb9f3a"
            ],
            [
             0.8888888888888888,
             "#fdca26"
            ],
            [
             1,
             "#f0f921"
            ]
           ],
           "sequentialminus": [
            [
             0,
             "#0d0887"
            ],
            [
             0.1111111111111111,
             "#46039f"
            ],
            [
             0.2222222222222222,
             "#7201a8"
            ],
            [
             0.3333333333333333,
             "#9c179e"
            ],
            [
             0.4444444444444444,
             "#bd3786"
            ],
            [
             0.5555555555555556,
             "#d8576b"
            ],
            [
             0.6666666666666666,
             "#ed7953"
            ],
            [
             0.7777777777777778,
             "#fb9f3a"
            ],
            [
             0.8888888888888888,
             "#fdca26"
            ],
            [
             1,
             "#f0f921"
            ]
           ]
          },
          "colorway": [
           "#636efa",
           "#EF553B",
           "#00cc96",
           "#ab63fa",
           "#FFA15A",
           "#19d3f3",
           "#FF6692",
           "#B6E880",
           "#FF97FF",
           "#FECB52"
          ],
          "font": {
           "color": "#2a3f5f"
          },
          "geo": {
           "bgcolor": "white",
           "lakecolor": "white",
           "landcolor": "#E5ECF6",
           "showlakes": true,
           "showland": true,
           "subunitcolor": "white"
          },
          "hoverlabel": {
           "align": "left"
          },
          "hovermode": "closest",
          "mapbox": {
           "style": "light"
          },
          "paper_bgcolor": "white",
          "plot_bgcolor": "#E5ECF6",
          "polar": {
           "angularaxis": {
            "gridcolor": "white",
            "linecolor": "white",
            "ticks": ""
           },
           "bgcolor": "#E5ECF6",
           "radialaxis": {
            "gridcolor": "white",
            "linecolor": "white",
            "ticks": ""
           }
          },
          "scene": {
           "xaxis": {
            "backgroundcolor": "#E5ECF6",
            "gridcolor": "white",
            "gridwidth": 2,
            "linecolor": "white",
            "showbackground": true,
            "ticks": "",
            "zerolinecolor": "white"
           },
           "yaxis": {
            "backgroundcolor": "#E5ECF6",
            "gridcolor": "white",
            "gridwidth": 2,
            "linecolor": "white",
            "showbackground": true,
            "ticks": "",
            "zerolinecolor": "white"
           },
           "zaxis": {
            "backgroundcolor": "#E5ECF6",
            "gridcolor": "white",
            "gridwidth": 2,
            "linecolor": "white",
            "showbackground": true,
            "ticks": "",
            "zerolinecolor": "white"
           }
          },
          "shapedefaults": {
           "line": {
            "color": "#2a3f5f"
           }
          },
          "ternary": {
           "aaxis": {
            "gridcolor": "white",
            "linecolor": "white",
            "ticks": ""
           },
           "baxis": {
            "gridcolor": "white",
            "linecolor": "white",
            "ticks": ""
           },
           "bgcolor": "#E5ECF6",
           "caxis": {
            "gridcolor": "white",
            "linecolor": "white",
            "ticks": ""
           }
          },
          "title": {
           "x": 0.05
          },
          "xaxis": {
           "automargin": true,
           "gridcolor": "white",
           "linecolor": "white",
           "ticks": "",
           "title": {
            "standoff": 15
           },
           "zerolinecolor": "white",
           "zerolinewidth": 2
          },
          "yaxis": {
           "automargin": true,
           "gridcolor": "white",
           "linecolor": "white",
           "ticks": "",
           "title": {
            "standoff": 15
           },
           "zerolinecolor": "white",
           "zerolinewidth": 2
          }
         }
        },
        "width": 700,
        "xaxis": {
         "anchor": "y",
         "domain": [
          0,
          1
         ],
         "title": {
          "text": "lda1"
         }
        },
        "yaxis": {
         "anchor": "x",
         "domain": [
          0,
          1
         ],
         "title": {
          "text": "lda2"
         }
        }
       }
      }
     },
     "metadata": {},
     "output_type": "display_data"
    }
   ],
   "source": [
    "def LDA_calc(features_vals, factor_df, group_column=None):\n",
    "    tic = time.perf_counter()\n",
    "\n",
    "    group_vals = factor_df.loc[:,group_column].values\n",
    "\n",
    "    lda = LDA()\n",
    "    lda_fit = lda.fit_transform(X=features_vals, y=group_vals)\n",
    "    df_lda = pd.DataFrame({'lda1':lda_fit[:,0], 'lda2':lda_fit[:,1]})\n",
    "    df_lda = pd.concat([factor_df, df_lda], axis = 1)\n",
    "\n",
    "    toc = time.perf_counter()\n",
    "    logging.info(f'PCA calc in {toc - tic:0.4f} seconds')\n",
    "    return df_lda\n",
    "\n",
    "features_vals = work_df[feature_col_list].values\n",
    "factor_df = work_df[factor_col_list]\n",
    "lda_df = LDA_calc(features_vals=features_vals, factor_df=factor_df, group_column='app_group')\n",
    "\n",
    "\n",
    "print(lda_df.head())\n",
    "\n",
    "# plotting\n",
    "# fig = px.box(lda_df, x=\"app_group\", y=\"lda\", color='app_group', points='all')\n",
    "fig = px.scatter(lda_df, x=\"lda1\", y=\"lda2\", color='app_group', symbol='app_group', width=700, height=500)\n",
    "\n",
    "fig.update_traces(marker=dict(size=12,\n",
    "                              line=dict(width=2,\n",
    "                                        color='DarkSlateGrey')),\n",
    "                  selector=dict(mode='markers'))\n",
    "\n",
    "fig.show()"
   ]
  },
  {
   "attachments": {},
   "cell_type": "markdown",
   "metadata": {},
   "source": [
    "## Clustergram"
   ]
  },
  {
   "cell_type": "code",
   "execution_count": 91,
   "metadata": {},
   "outputs": [
    {
     "name": "stdout",
     "output_type": "stream",
     "text": [
      "K=1 skipped. Mean computed from data directly.\n",
      "K=2 fitted in 1.7650501728057861 seconds.\n",
      "K=3 fitted in 1.792292594909668 seconds.\n",
      "K=4 fitted in 1.762009620666504 seconds.\n",
      "K=5 fitted in 1.979600191116333 seconds.\n",
      "K=6 fitted in 2.402402400970459 seconds.\n",
      "K=7 fitted in 2.223613977432251 seconds.\n",
      "K=8 fitted in 2.5536320209503174 seconds.\n",
      "K=9 fitted in 2.5706470012664795 seconds.\n"
     ]
    }
   ],
   "source": [
    "cgram = CGram(range(1, 10), n_init=1000)\n",
    "\n",
    "cgram.fit(work_df[feature_col_list])"
   ]
  },
  {
   "cell_type": "code",
   "execution_count": 92,
   "metadata": {},
   "outputs": [
    {
     "data": {
      "image/png": "[encoded data removed]",
      "text/plain": [
       "<Figure size 1000x800 with 1 Axes>"
      ]
     },
     "metadata": {},
     "output_type": "display_data"
    }
   ],
   "source": [
    "ax = cgram.plot(figsize=(10, 8))\n",
    "ax.yaxis.grid(False)"
   ]
  }
 ],
 "metadata": {
  "kernelspec": {
   "display_name": "caiman",
   "language": "python",
   "name": "python3"
  },
  "language_info": {
   "codemirror_mode": {
    "name": "ipython",
    "version": 3
   },
   "file_extension": ".py",
   "mimetype": "text/x-python",
   "name": "python",
   "nbconvert_exporter": "python",
   "pygments_lexer": "ipython3",
   "version": "3.10.8"
  },
  "orig_nbformat": 4,
  "vscode": {
   "interpreter": {
    "hash": "29b2b70970d54890c2ecd25b23b96024fbcef9a6a76cf3bb8bb780f56e497e25"
   }
  }
 },
 "nbformat": 4,
 "nbformat_minor": 2
}
