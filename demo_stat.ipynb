{
 "cells": [
  {
   "attachments": {},
   "cell_type": "markdown",
   "metadata": {},
   "source": [
    "# Statistical analysis\n",
    "\n",
    "---"
   ]
  },
  {
   "cell_type": "code",
   "execution_count": 1,
   "metadata": {},
   "outputs": [],
   "source": [
    "import os\n",
    "import glob\n",
    "import logging\n",
    "import time\n",
    "\n",
    "import matplotlib.pyplot as plt\n",
    "import plotly.express as px\n",
    "\n",
    "import numpy as np\n",
    "import pandas as pd\n",
    "from clustergram import Clustergram as CGram\n",
    "\n",
    "import scipy\n",
    "from scipy import signal\n",
    "from scipy import stats\n",
    "\n",
    "from sklearn.decomposition import PCA\n",
    "from sklearn.discriminant_analysis import LinearDiscriminantAnalysis as LDA\n",
    "from sklearn.manifold import TSNE\n",
    "from sklearn.linear_model import LogisticRegression as LR"
   ]
  },
  {
   "attachments": {},
   "cell_type": "markdown",
   "metadata": {},
   "source": [
    "# Dim. reduction and clasterization"
   ]
  },
  {
   "attachments": {},
   "cell_type": "markdown",
   "metadata": {},
   "source": [
    "## Preprocessing"
   ]
  },
  {
   "attachments": {},
   "cell_type": "markdown",
   "metadata": {},
   "source": [
    "#### Raw/norm data frames"
   ]
  },
  {
   "cell_type": "code",
   "execution_count": 24,
   "metadata": {},
   "outputs": [
    {
     "name": "stdout",
     "output_type": "stream",
     "text": [
      "        FWHM    amp_dF app_group  comp      decay  integral_abs  peak_i  \\\n",
      "0   6.688466  0.229228      ctrl     1  33.645333  16121.706034     200   \n",
      "1   4.375158  0.199253       BSA     1  14.109333   5428.249887     508   \n",
      "2   9.280221  0.272256   BSA+C5a     1  10.853333   6497.623084     661   \n",
      "3  19.375967  1.198913   BSA+C5a     1  32.560000  21308.982278    1019   \n",
      "4  21.286804  0.218768   BSA+C5a     1  41.242667  18907.216631    1205   \n",
      "\n",
      "     peak_time       rise sample  \n",
      "0   217.211474  28.218667    F_7  \n",
      "1   551.717145   7.597333    F_7  \n",
      "2   717.883923  14.109333    F_7  \n",
      "3  1106.692462  33.645333    F_7  \n",
      "4  1308.699133  32.560000    F_7  \n"
     ]
    }
   ],
   "source": [
    "pf_df = pd.read_csv('/home/wisstock/bio/scripts/microca/output/F_7_output.csv')\n",
    "\n",
    "abs_df = pf_df.copy()\n",
    "abs_df = abs_df.iloc[:,:12]\n",
    "\n",
    "norm_df = pf_df.copy()\n",
    "norm_df = norm_df.drop(list(norm_df.columns[9:12]), axis=1)\n",
    "\n",
    "opti_col = ['sample', 'comp', 'app_group', 'peak_i', 'peak_time', 'rise', 'decay', 'FWHM', 'integral_abs', 'amp_dF']\n",
    "opti_df = pf_df.copy()\n",
    "opti_df = opti_df[np.intersect1d(opti_df.columns, opti_col)]\n",
    "print(opti_df.head())\n",
    "\n",
    "work_df = opti_df"
   ]
  },
  {
   "attachments": {},
   "cell_type": "markdown",
   "metadata": {},
   "source": [
    "#### Features importance estimation"
   ]
  },
  {
   "cell_type": "code",
   "execution_count": 3,
   "metadata": {},
   "outputs": [
    {
     "name": "stdout",
     "output_type": "stream",
     "text": [
      "PCA()\n"
     ]
    },
    {
     "data": {
      "image/png": "[encoded data removed]",
      "text/plain": [
       "<Figure size 640x480 with 1 Axes>"
      ]
     },
     "metadata": {},
     "output_type": "display_data"
    }
   ],
   "source": [
    "# https://python-bloggers.com/2021/01/3-essential-ways-to-calculate-feature-importance-in-python/\n",
    "\n",
    "abs_features_vals = abs_df.iloc[:,6:].values\n",
    "\n",
    "abs_pca = PCA()\n",
    "abs_features_pca = abs_pca.fit(X=abs_features_vals)\n",
    "\n",
    "print(abs_features_pca)\n",
    "\n",
    "plt.plot(abs_features_pca.explained_variance_ratio_.cumsum(), lw=3, color='#087E8B')\n",
    "plt.show()\n"
   ]
  },
  {
   "attachments": {},
   "cell_type": "markdown",
   "metadata": {},
   "source": [
    "## PCA"
   ]
  },
  {
   "attachments": {},
   "cell_type": "markdown",
   "metadata": {},
   "source": [
    "#### PCA calc"
   ]
  },
  {
   "cell_type": "code",
   "execution_count": 25,
   "metadata": {},
   "outputs": [],
   "source": [
    "def PCA_calc(features_vals, factor_df, n=2):\n",
    "    tic = time.perf_counter()\n",
    "\n",
    "    if n == 2:\n",
    "        ax_list = ['x', 'y']\n",
    "    elif n == 3:\n",
    "        ax_list = ['x', 'y', 'z']\n",
    "    else:\n",
    "        logging.fatal('Incorrect dimension number!')\n",
    "\n",
    "    pca = PCA(n_components=n)\n",
    "    principal_res = pca.fit_transform(features_vals)\n",
    "    df_principal = pd.DataFrame(data = principal_res,\n",
    "                                columns = ax_list)\n",
    "    df_principal = pd.concat([factor_df, df_principal], axis = 1)\n",
    "\n",
    "    toc = time.perf_counter()\n",
    "    logging.info(f'PCA calc in {toc - tic:0.4f} seconds')\n",
    "    return df_principal\n",
    "\n",
    "n_components = 3\n",
    "features_vals = work_df[['rise', 'decay', 'FWHM', 'integral_abs', 'amp_dF']].values\n",
    "factor_df = work_df[['sample', 'comp', 'app_group', 'peak_i', 'peak_time', ]]\n",
    "\n",
    "pca_df = PCA_calc(features_vals=features_vals, factor_df=factor_df, n=n_components)"
   ]
  },
  {
   "attachments": {},
   "cell_type": "markdown",
   "metadata": {},
   "source": [
    "#### PCA plot"
   ]
  },
  {
   "cell_type": "code",
   "execution_count": 26,
   "metadata": {},
   "outputs": [
    {
     "data": {
      "application/vnd.plotly.v1+json": {
       "config": {
        "plotlyServerURL": "https://plot.ly"
       },
       "data": [
        {
         "hovertemplate": "app_group=ctrl<br>x=%{x}<br>y=%{y}<br>z=%{z}<extra></extra>",
         "legendgroup": "ctrl",
         "marker": {
          "color": "#636efa",
          "size": 5,
          "symbol": "circle"
         },
         "mode": "markers",
         "name": "ctrl",
         "scene": "scene",
         "showlegend": true,
         "type": "scatter3d",
         "x": [
          7874.455943452652,
          -4607.9328671126395,
          6036.049777430021,
          -4444.887264691924,
          -4281.257449804266,
          3145.4267994626302,
          -6872.3440146076755,
          -4458.901679152203,
          -7035.084863300153,
          -2028.3476888543676,
          -635.1327563298795,
          4518.0842031777065,
          -2035.0039472607625,
          10652.939893819317,
          17333.74061047979
         ],
         "y": [
          3.671662321573943,
          5.849270921077226,
          9.348755772462592,
          -9.930727035824086,
          -1.4947539255657842,
          3.5006732472096287,
          -1.1137932236341763,
          -5.302168546671134,
          2.7621315049682322,
          21.065572809508776,
          24.339974033642143,
          -12.26332241308206,
          8.842053844336336,
          7.331717160599463,
          4.577460452571289
         ],
         "z": [
          4.317256384647916,
          3.8268906311884208,
          -7.185326563436665,
          1.791343686370547,
          1.0228433274220718,
          -13.766679007341297,
          5.9564251430043536,
          1.3107950542123539,
          5.765083950017996,
          -4.56653113708401,
          -7.3660791345843615,
          6.864657279246899,
          4.971368817190308,
          1.9167114864186958,
          25.542937038224874
         ]
        },
        {
         "hovertemplate": "app_group=BSA<br>x=%{x}<br>y=%{y}<br>z=%{z}<extra></extra>",
         "legendgroup": "BSA",
         "marker": {
          "color": "#EF553B",
          "size": 5,
          "symbol": "diamond"
         },
         "mode": "markers",
         "name": "BSA",
         "scene": "scene",
         "showlegend": true,
         "type": "scatter3d",
         "x": [
          -2819.036601058843,
          2127.619315475436,
          793.3734142257659,
          3129.1753724945956,
          2264.3881255343704,
          -1197.6377440790586,
          -3954.738087337637,
          102.34628867096725,
          5085.636478831377,
          -3481.6395796516063,
          -6523.895985136702,
          -5235.677527504489,
          4404.541281408233,
          -1027.998125438049,
          -785.028067208039,
          -5612.426270718589,
          3593.656115072852,
          -908.5693631375718,
          -4049.022169327944,
          2925.024558493737,
          2856.86923196938,
          18070.33984868495
         ],
         "y": [
          0.10219698675532965,
          -9.637795061282326,
          1.2592055932225286,
          -12.816983982549116,
          11.660215136176495,
          -9.338315332991057,
          15.394940748691415,
          32.30214038418392,
          -8.326786827074388,
          -6.467490335199538,
          2.1264063057158245,
          0.8386634725038189,
          -4.236939352506589,
          -16.746620579666136,
          -24.55930200154959,
          -6.281534758572149,
          -8.025201090569698,
          -22.834437914475693,
          4.71334542869576,
          -14.07637727131064,
          3.534422823541406,
          14.242140930600716
         ],
         "z": [
          6.413616994791792,
          0.86460729303988,
          -1.9000213471440497,
          -3.735096325912146,
          -2.9315280873921417,
          -4.20355442924933,
          -0.6048362105643351,
          -5.96760597710677,
          -5.281671086705538,
          3.9854014752903373,
          6.483315307049705,
          5.2669375947773975,
          -6.1081880846472165,
          -0.32018104999085417,
          -1.974509416833201,
          4.091477546618036,
          -13.482323117033443,
          -1.6026420728086201,
          -0.6357187006777708,
          1.9475074096125584,
          -19.156531209718842,
          13.023927133316882
         ]
        },
        {
         "hovertemplate": "app_group=BSA+C5a<br>x=%{x}<br>y=%{y}<br>z=%{z}<extra></extra>",
         "legendgroup": "BSA+C5a",
         "marker": {
          "color": "#00cc96",
          "size": 5,
          "symbol": "square"
         },
         "mode": "markers",
         "name": "BSA+C5a",
         "scene": "scene",
         "showlegend": true,
         "type": "scatter3d",
         "x": [
          -1749.660438581992,
          13061.729091812334,
          10659.98701933096,
          4295.450198282711,
          -3264.1391870220414,
          5522.643583174187,
          3396.674240526253,
          3215.3362108034407,
          4277.293316856648,
          1671.1667371820229,
          -4681.067235116522,
          5669.097037010372,
          15.668449992303557,
          -4702.195519225052,
          167.24088482373452,
          -4161.506165657452,
          -2249.8196299125684,
          -303.047011899375,
          -1533.3174427410445,
          -4744.541274360025,
          -785.7060975710851,
          -5398.229893353562,
          -3302.633319100372,
          7665.577403486776,
          -1832.3120055035138,
          -7612.687237262196,
          -4918.096304787987,
          -7411.207922166906,
          -5466.940455613297,
          -4379.5410733636045,
          1445.4953446137993,
          -6106.803488907703,
          -7178.878432627446,
          -7383.217838168747,
          4309.991781320336,
          737.2110481405631,
          1306.5178174346493,
          570.5362809114022,
          -3577.8184605176975,
          -966.3171045153033,
          -5077.97164102244,
          -3659.0128338238383,
          3862.7149711068178,
          -2829.80946183959,
          -6160.684509417419,
          -4453.885964772718,
          2872.030412851677,
          -4469.179392918078,
          -768.9842436601833,
          -4829.929540752081,
          782.4624272884352,
          -2820.382442813841,
          457.63197425968076,
          -3895.4997616508103,
          -406.79048244903794,
          -5998.335842590505,
          2347.70068100058,
          8263.392909644388,
          4102.633682267068,
          6431.39367231862,
          19053.46727227481
         ],
         "y": [
          7.448213007094994,
          10.615776602422521,
          2.4677397336318143,
          -1.5885687109782682,
          6.7459707521607735,
          4.182923354083769,
          -16.94373489400202,
          7.420864042138929,
          1.480880685698613,
          -20.624785493907883,
          8.625311398315196,
          -3.772462112036814,
          -23.358380439801294,
          5.434907152557438,
          -2.2714151117340724,
          10.000138675091545,
          20.236621926754072,
          -20.05008932957871,
          -24.069404831272703,
          3.0052676466456894,
          -2.9420384494752074,
          11.619059962817474,
          8.985128908046986,
          10.398002926128248,
          10.73294404670849,
          2.642481547611845,
          -0.6627935476156593,
          3.45538271997731,
          12.260274147040413,
          16.301433696017817,
          3.0016339318313947,
          2.190012780455654,
          4.3306121269456845,
          1.9086760007091688,
          -10.923922909611976,
          -20.873544333341048,
          -21.474755671838054,
          -20.165600572168113,
          -11.101776134135514,
          -15.893365058794796,
          6.364944664884729,
          15.025967885963102,
          4.163668664575891,
          -6.39111493649203,
          0.6150118969415469,
          16.25545657826461,
          -9.891287038609732,
          -9.09439572100224,
          -6.3600881739843,
          -7.665520814639535,
          -4.727355454515657,
          -11.30536069896063,
          24.332099879828938,
          -10.574070696776802,
          11.181955357641305,
          12.75839619422086,
          -8.500285866524752,
          14.134012087311634,
          -1.664236031541057,
          7.526313602544435,
          1.031868224762976
         ],
         "z": [
          5.66393255820662,
          11.917235894357725,
          0.7774337494188369,
          -1.5619587101358907,
          4.2828713104436575,
          -5.251153074439732,
          -0.6562546469137388,
          -4.091203672239365,
          -1.859768305918217,
          0.6844034742677155,
          4.74340245357801,
          -4.673299288176687,
          0.4236139700216863,
          1.5126971419394164,
          -6.1782820126084985,
          -0.08982804347926787,
          -4.226990948958311,
          -5.530451721041263,
          -3.040794691314363,
          1.1183841699841395,
          -2.0505860514976963,
          3.6559277052680086,
          1.3119169682071463,
          -10.138454150221973,
          0.8836321245757853,
          7.685985934669191,
          4.667603760136933,
          7.335594190462441,
          4.901386493837332,
          3.6259178198480218,
          -2.055510512499947,
          6.081786213609483,
          6.8168638764126,
          7.6200996364384235,
          -2.2542442908204148,
          1.638637600733905,
          0.4833958012795816,
          0.14912210714748322,
          3.9992826448374146,
          0.4666263335856138,
          3.88363704896279,
          1.7590636293060908,
          -5.947186770387019,
          2.612220718110858,
          6.137723991813323,
          3.517840828028105,
          -8.314075988929565,
          0.30937455745310716,
          -7.918579888606591,
          1.0734204686922633,
          -11.343963601130108,
          -3.379096836846129,
          -12.235117848657254,
          -1.2114542820416456,
          -9.85025520314612,
          2.8062982176717903,
          0.9460559349339661,
          -6.997036992860238,
          -4.037275372636917,
          -20.40072993786787,
          25.226082920924934
         ]
        }
       ],
       "layout": {
        "legend": {
         "itemsizing": "constant",
         "title": {
          "text": "app_group"
         },
         "tracegroupgap": 0
        },
        "margin": {
         "b": 0,
         "l": 0,
         "r": 0,
         "t": 0
        },
        "scene": {
         "domain": {
          "x": [
           0,
           1
          ],
          "y": [
           0,
           1
          ]
         },
         "xaxis": {
          "showaxeslabels": false,
          "showbackground": false,
          "showticklabels": false,
          "title": {
           "text": ""
          }
         },
         "yaxis": {
          "showaxeslabels": false,
          "showbackground": false,
          "showticklabels": false,
          "title": {
           "text": ""
          }
         },
         "zaxis": {
          "showaxeslabels": false,
          "showbackground": false,
          "showticklabels": false,
          "title": {
           "text": ""
          }
         }
        },
        "template": {
         "data": {
          "bar": [
           {
            "error_x": {
             "color": "#2a3f5f"
            },
            "error_y": {
             "color": "#2a3f5f"
            },
            "marker": {
             "line": {
              "color": "#E5ECF6",
              "width": 0.5
             },
             "pattern": {
              "fillmode": "overlay",
              "size": 10,
              "solidity": 0.2
             }
            },
            "type": "bar"
           }
          ],
          "barpolar": [
           {
            "marker": {
             "line": {
              "color": "#E5ECF6",
              "width": 0.5
             },
             "pattern": {
              "fillmode": "overlay",
              "size": 10,
              "solidity": 0.2
             }
            },
            "type": "barpolar"
           }
          ],
          "carpet": [
           {
            "aaxis": {
             "endlinecolor": "#2a3f5f",
             "gridcolor": "white",
             "linecolor": "white",
             "minorgridcolor": "white",
             "startlinecolor": "#2a3f5f"
            },
            "baxis": {
             "endlinecolor": "#2a3f5f",
             "gridcolor": "white",
             "linecolor": "white",
             "minorgridcolor": "white",
             "startlinecolor": "#2a3f5f"
            },
            "type": "carpet"
           }
          ],
          "choropleth": [
           {
            "colorbar": {
             "outlinewidth": 0,
             "ticks": ""
            },
            "type": "choropleth"
           }
          ],
          "contour": [
           {
            "colorbar": {
             "outlinewidth": 0,
             "ticks": ""
            },
            "colorscale": [
             [
              0,
              "#0d0887"
             ],
             [
              0.1111111111111111,
              "#46039f"
             ],
             [
              0.2222222222222222,
              "#7201a8"
             ],
             [
              0.3333333333333333,
              "#9c179e"
             ],
             [
              0.4444444444444444,
              "#bd3786"
             ],
             [
              0.5555555555555556,
              "#d8576b"
             ],
             [
              0.6666666666666666,
              "#ed7953"
             ],
             [
              0.7777777777777778,
              "#fb9f3a"
             ],
             [
              0.8888888888888888,
              "#fdca26"
             ],
             [
              1,
              "#f0f921"
             ]
            ],
            "type": "contour"
           }
          ],
          "contourcarpet": [
           {
            "colorbar": {
             "outlinewidth": 0,
             "ticks": ""
            },
            "type": "contourcarpet"
           }
          ],
          "heatmap": [
           {
            "colorbar": {
             "outlinewidth": 0,
             "ticks": ""
            },
            "colorscale": [
             [
              0,
              "#0d0887"
             ],
             [
              0.1111111111111111,
              "#46039f"
             ],
             [
              0.2222222222222222,
              "#7201a8"
             ],
             [
              0.3333333333333333,
              "#9c179e"
             ],
             [
              0.4444444444444444,
              "#bd3786"
             ],
             [
              0.5555555555555556,
              "#d8576b"
             ],
             [
              0.6666666666666666,
              "#ed7953"
             ],
             [
              0.7777777777777778,
              "#fb9f3a"
             ],
             [
              0.8888888888888888,
              "#fdca26"
             ],
             [
              1,
              "#f0f921"
             ]
            ],
            "type": "heatmap"
           }
          ],
          "heatmapgl": [
           {
            "colorbar": {
             "outlinewidth": 0,
             "ticks": ""
            },
            "colorscale": [
             [
              0,
              "#0d0887"
             ],
             [
              0.1111111111111111,
              "#46039f"
             ],
             [
              0.2222222222222222,
              "#7201a8"
             ],
             [
              0.3333333333333333,
              "#9c179e"
             ],
             [
              0.4444444444444444,
              "#bd3786"
             ],
             [
              0.5555555555555556,
              "#d8576b"
             ],
             [
              0.6666666666666666,
              "#ed7953"
             ],
             [
              0.7777777777777778,
              "#fb9f3a"
             ],
             [
              0.8888888888888888,
              "#fdca26"
             ],
             [
              1,
              "#f0f921"
             ]
            ],
            "type": "heatmapgl"
           }
          ],
          "histogram": [
           {
            "marker": {
             "pattern": {
              "fillmode": "overlay",
              "size": 10,
              "solidity": 0.2
             }
            },
            "type": "histogram"
           }
          ],
          "histogram2d": [
           {
            "colorbar": {
             "outlinewidth": 0,
             "ticks": ""
            },
            "colorscale": [
             [
              0,
              "#0d0887"
             ],
             [
              0.1111111111111111,
              "#46039f"
             ],
             [
              0.2222222222222222,
              "#7201a8"
             ],
             [
              0.3333333333333333,
              "#9c179e"
             ],
             [
              0.4444444444444444,
              "#bd3786"
             ],
             [
              0.5555555555555556,
              "#d8576b"
             ],
             [
              0.6666666666666666,
              "#ed7953"
             ],
             [
              0.7777777777777778,
              "#fb9f3a"
             ],
             [
              0.8888888888888888,
              "#fdca26"
             ],
             [
              1,
              "#f0f921"
             ]
            ],
            "type": "histogram2d"
           }
          ],
          "histogram2dcontour": [
           {
            "colorbar": {
             "outlinewidth": 0,
             "ticks": ""
            },
            "colorscale": [
             [
              0,
              "#0d0887"
             ],
             [
              0.1111111111111111,
              "#46039f"
             ],
             [
              0.2222222222222222,
              "#7201a8"
             ],
             [
              0.3333333333333333,
              "#9c179e"
             ],
             [
              0.4444444444444444,
              "#bd3786"
             ],
             [
              0.5555555555555556,
              "#d8576b"
             ],
             [
              0.6666666666666666,
              "#ed7953"
             ],
             [
              0.7777777777777778,
              "#fb9f3a"
             ],
             [
              0.8888888888888888,
              "#fdca26"
             ],
             [
              1,
              "#f0f921"
             ]
            ],
            "type": "histogram2dcontour"
           }
          ],
          "mesh3d": [
           {
            "colorbar": {
             "outlinewidth": 0,
             "ticks": ""
            },
            "type": "mesh3d"
           }
          ],
          "parcoords": [
           {
            "line": {
             "colorbar": {
              "outlinewidth": 0,
              "ticks": ""
             }
            },
            "type": "parcoords"
           }
          ],
          "pie": [
           {
            "automargin": true,
            "type": "pie"
           }
          ],
          "scatter": [
           {
            "fillpattern": {
             "fillmode": "overlay",
             "size": 10,
             "solidity": 0.2
            },
            "type": "scatter"
           }
          ],
          "scatter3d": [
           {
            "line": {
             "colorbar": {
              "outlinewidth": 0,
              "ticks": ""
             }
            },
            "marker": {
             "colorbar": {
              "outlinewidth": 0,
              "ticks": ""
             }
            },
            "type": "scatter3d"
           }
          ],
          "scattercarpet": [
           {
            "marker": {
             "colorbar": {
              "outlinewidth": 0,
              "ticks": ""
             }
            },
            "type": "scattercarpet"
           }
          ],
          "scattergeo": [
           {
            "marker": {
             "colorbar": {
              "outlinewidth": 0,
              "ticks": ""
             }
            },
            "type": "scattergeo"
           }
          ],
          "scattergl": [
           {
            "marker": {
             "colorbar": {
              "outlinewidth": 0,
              "ticks": ""
             }
            },
            "type": "scattergl"
           }
          ],
          "scattermapbox": [
           {
            "marker": {
             "colorbar": {
              "outlinewidth": 0,
              "ticks": ""
             }
            },
            "type": "scattermapbox"
           }
          ],
          "scatterpolar": [
           {
            "marker": {
             "colorbar": {
              "outlinewidth": 0,
              "ticks": ""
             }
            },
            "type": "scatterpolar"
           }
          ],
          "scatterpolargl": [
           {
            "marker": {
             "colorbar": {
              "outlinewidth": 0,
              "ticks": ""
             }
            },
            "type": "scatterpolargl"
           }
          ],
          "scatterternary": [
           {
            "marker": {
             "colorbar": {
              "outlinewidth": 0,
              "ticks": ""
             }
            },
            "type": "scatterternary"
           }
          ],
          "surface": [
           {
            "colorbar": {
             "outlinewidth": 0,
             "ticks": ""
            },
            "colorscale": [
             [
              0,
              "#0d0887"
             ],
             [
              0.1111111111111111,
              "#46039f"
             ],
             [
              0.2222222222222222,
              "#7201a8"
             ],
             [
              0.3333333333333333,
              "#9c179e"
             ],
             [
              0.4444444444444444,
              "#bd3786"
             ],
             [
              0.5555555555555556,
              "#d8576b"
             ],
             [
              0.6666666666666666,
              "#ed7953"
             ],
             [
              0.7777777777777778,
              "#fb9f3a"
             ],
             [
              0.8888888888888888,
              "#fdca26"
             ],
             [
              1,
              "#f0f921"
             ]
            ],
            "type": "surface"
           }
          ],
          "table": [
           {
            "cells": {
             "fill": {
              "color": "#EBF0F8"
             },
             "line": {
              "color": "white"
             }
            },
            "header": {
             "fill": {
              "color": "#C8D4E3"
             },
             "line": {
              "color": "white"
             }
            },
            "type": "table"
           }
          ]
         },
         "layout": {
          "annotationdefaults": {
           "arrowcolor": "#2a3f5f",
           "arrowhead": 0,
           "arrowwidth": 1
          },
          "autotypenumbers": "strict",
          "coloraxis": {
           "colorbar": {
            "outlinewidth": 0,
            "ticks": ""
           }
          },
          "colorscale": {
           "diverging": [
            [
             0,
             "#8e0152"
            ],
            [
             0.1,
             "#c51b7d"
            ],
            [
             0.2,
             "#de77ae"
            ],
            [
             0.3,
             "#f1b6da"
            ],
            [
             0.4,
             "#fde0ef"
            ],
            [
             0.5,
             "#f7f7f7"
            ],
            [
             0.6,
             "#e6f5d0"
            ],
            [
             0.7,
             "#b8e186"
            ],
            [
             0.8,
             "#7fbc41"
            ],
            [
             0.9,
             "#4d9221"
            ],
            [
             1,
             "#276419"
            ]
           ],
           "sequential": [
            [
             0,
             "#0d0887"
            ],
            [
             0.1111111111111111,
             "#46039f"
            ],
            [
             0.2222222222222222,
             "#7201a8"
            ],
            [
             0.3333333333333333,
             "#9c179e"
            ],
            [
             0.4444444444444444,
             "#bd3786"
            ],
            [
             0.5555555555555556,
             "#d8576b"
            ],
            [
             0.6666666666666666,
             "#ed7953"
            ],
            [
             0.7777777777777778,
             "#fb9f3a"
            ],
            [
             0.8888888888888888,
             "#fdca26"
            ],
            [
             1,
             "#f0f921"
            ]
           ],
           "sequentialminus": [
            [
             0,
             "#0d0887"
            ],
            [
             0.1111111111111111,
             "#46039f"
            ],
            [
             0.2222222222222222,
             "#7201a8"
            ],
            [
             0.3333333333333333,
             "#9c179e"
            ],
            [
             0.4444444444444444,
             "#bd3786"
            ],
            [
             0.5555555555555556,
             "#d8576b"
            ],
            [
             0.6666666666666666,
             "#ed7953"
            ],
            [
             0.7777777777777778,
             "#fb9f3a"
            ],
            [
             0.8888888888888888,
             "#fdca26"
            ],
            [
             1,
             "#f0f921"
            ]
           ]
          },
          "colorway": [
           "#636efa",
           "#EF553B",
           "#00cc96",
           "#ab63fa",
           "#FFA15A",
           "#19d3f3",
           "#FF6692",
           "#B6E880",
           "#FF97FF",
           "#FECB52"
          ],
          "font": {
           "color": "#2a3f5f"
          },
          "geo": {
           "bgcolor": "white",
           "lakecolor": "white",
           "landcolor": "#E5ECF6",
           "showlakes": true,
           "showland": true,
           "subunitcolor": "white"
          },
          "hoverlabel": {
           "align": "left"
          },
          "hovermode": "closest",
          "mapbox": {
           "style": "light"
          },
          "paper_bgcolor": "white",
          "plot_bgcolor": "#E5ECF6",
          "polar": {
           "angularaxis": {
            "gridcolor": "white",
            "linecolor": "white",
            "ticks": ""
           },
           "bgcolor": "#E5ECF6",
           "radialaxis": {
            "gridcolor": "white",
            "linecolor": "white",
            "ticks": ""
           }
          },
          "scene": {
           "xaxis": {
            "backgroundcolor": "#E5ECF6",
            "gridcolor": "white",
            "gridwidth": 2,
            "linecolor": "white",
            "showbackground": true,
            "ticks": "",
            "zerolinecolor": "white"
           },
           "yaxis": {
            "backgroundcolor": "#E5ECF6",
            "gridcolor": "white",
            "gridwidth": 2,
            "linecolor": "white",
            "showbackground": true,
            "ticks": "",
            "zerolinecolor": "white"
           },
           "zaxis": {
            "backgroundcolor": "#E5ECF6",
            "gridcolor": "white",
            "gridwidth": 2,
            "linecolor": "white",
            "showbackground": true,
            "ticks": "",
            "zerolinecolor": "white"
           }
          },
          "shapedefaults": {
           "line": {
            "color": "#2a3f5f"
           }
          },
          "ternary": {
           "aaxis": {
            "gridcolor": "white",
            "linecolor": "white",
            "ticks": ""
           },
           "baxis": {
            "gridcolor": "white",
            "linecolor": "white",
            "ticks": ""
           },
           "bgcolor": "#E5ECF6",
           "caxis": {
            "gridcolor": "white",
            "linecolor": "white",
            "ticks": ""
           }
          },
          "title": {
           "x": 0.05
          },
          "xaxis": {
           "automargin": true,
           "gridcolor": "white",
           "linecolor": "white",
           "ticks": "",
           "title": {
            "standoff": 15
           },
           "zerolinecolor": "white",
           "zerolinewidth": 2
          },
          "yaxis": {
           "automargin": true,
           "gridcolor": "white",
           "linecolor": "white",
           "ticks": "",
           "title": {
            "standoff": 15
           },
           "zerolinecolor": "white",
           "zerolinewidth": 2
          }
         }
        }
       }
      }
     },
     "metadata": {},
     "output_type": "display_data"
    }
   ],
   "source": [
    "group_factor = 'app_group'\n",
    "\n",
    "if n_components == 2:\n",
    "    fig = px.scatter(pca_df,\n",
    "                     x='x', y='y',\n",
    "                     color=group_factor,\n",
    "                     symbol=group_factor)\n",
    "    dot_size = 6\n",
    "elif n_components == 3:\n",
    "    fig = px.scatter_3d(pca_df,\n",
    "                        x='x', y='y', z='z',\n",
    "                        color=group_factor,\n",
    "                        symbol=group_factor)\n",
    "    dot_size = 2\n",
    "else:\n",
    "    logging.fatal('Incorrect n')\n",
    "\n",
    "fig.update_traces(marker=dict(size=5))\n",
    "fig.update_layout(margin=dict(l=0, r=0, b=0, t=0),\n",
    "                  legend= {'itemsizing': 'constant'},\n",
    "                  scene=dict(xaxis=dict(showaxeslabels=False, showticklabels=False, showbackground=False, title=''),\n",
    "                             yaxis=dict(showaxeslabels=False, showticklabels=False, showbackground=False, title=''), \n",
    "                             zaxis=dict(showaxeslabels=False, showticklabels=False, showbackground=False, title='')))\n",
    "fig.show()"
   ]
  },
  {
   "attachments": {},
   "cell_type": "markdown",
   "metadata": {},
   "source": [
    "## LDA"
   ]
  },
  {
   "attachments": {},
   "cell_type": "markdown",
   "metadata": {},
   "source": [
    "#### LDA calc"
   ]
  },
  {
   "cell_type": "code",
   "execution_count": 27,
   "metadata": {},
   "outputs": [
    {
     "name": "stdout",
     "output_type": "stream",
     "text": [
      "  sample  comp app_group  peak_i    peak_time      lda1      lda2\n",
      "0    F_7     1      ctrl     200   217.211474  1.322437  0.942129\n",
      "1    F_7     1       BSA     508   551.717145  0.439960 -0.392011\n",
      "2    F_7     1   BSA+C5a     661   717.883923  0.660320 -0.085072\n",
      "3    F_7     1   BSA+C5a    1019  1106.692462  0.839148  3.092482\n",
      "4    F_7     1   BSA+C5a    1205  1308.699133  0.741152  1.671788\n"
     ]
    },
    {
     "data": {
      "application/vnd.plotly.v1+json": {
       "config": {
        "plotlyServerURL": "https://plot.ly"
       },
       "data": [
        {
         "hovertemplate": "app_group=ctrl<br>lda1=%{x}<br>lda2=%{y}<extra></extra>",
         "legendgroup": "ctrl",
         "marker": {
          "color": "#636efa",
          "symbol": "circle"
         },
         "mode": "markers",
         "name": "ctrl",
         "orientation": "v",
         "showlegend": true,
         "type": "scatter",
         "x": [
          1.3224371148364165,
          0.19890574049298518,
          0.19783504739583938,
          -0.5832686106935188,
          -0.07748435624527031,
          -0.7801989996543158,
          0.23819790455598813,
          -0.4713745379274835,
          0.3827063457912683,
          0.9800815997802577,
          0.9650982449865095,
          -0.23542978739531648,
          0.979435899398294,
          1.799438589048264,
          2.577599421955479
         ],
         "xaxis": "x",
         "y": [
          0.942128663138817,
          -0.4586738356015335,
          0.8345371224786733,
          -0.6857847751613936,
          -0.7388398288811848,
          0.31444479195916136,
          -1.0838296205004974,
          -0.6110740231508388,
          -1.062210029428204,
          -0.5725606407474887,
          -0.3706533074329805,
          1.0117058979876963,
          -0.35844346542346245,
          1.090312680557824,
          3.2755621332997205
         ],
         "yaxis": "y"
        },
        {
         "hovertemplate": "app_group=BSA<br>lda1=%{x}<br>lda2=%{y}<extra></extra>",
         "legendgroup": "BSA",
         "marker": {
          "color": "#EF553B",
          "symbol": "circle"
         },
         "mode": "markers",
         "name": "BSA",
         "orientation": "v",
         "showlegend": true,
         "type": "scatter",
         "x": [
          0.4399596611351877,
          -2.1804153639649746,
          0.02723143709631464,
          -0.9178738809383349,
          0.26105177013481234,
          -0.8880148252976794,
          0.8898044245014013,
          1.763269209712911,
          -0.5517733326777274,
          0.013452361444758454,
          0.5442413159449009,
          0.46154105649026406,
          -0.2626780670170346,
          -0.9720557012761366,
          -1.5383789859504795,
          -0.1689658149745712,
          -2.741826200962715,
          -1.543706181827516,
          0.040900817070266215,
          -0.2728522354419608,
          -2.272319771090991,
          3.1408733179810713
         ],
         "xaxis": "x",
         "y": [
          -0.3920108739158494,
          1.6050912169118954,
          0.027145207560976364,
          0.44914574744967894,
          0.47825725163360466,
          -0.2465975736660733,
          -0.8152856517689088,
          -0.39550666985504535,
          0.6554906100521789,
          -0.6481642238087767,
          -1.067309832108963,
          -0.9104513064438498,
          0.38093210542258876,
          -0.18290569859195369,
          -0.1710901906911072,
          -0.8965395152458546,
          1.5914996413276592,
          -0.06333474453731314,
          -0.6336759379451364,
          0.2904520507104377,
          1.0255336402062858,
          2.5850936318194018
         ],
         "yaxis": "y"
        },
        {
         "hovertemplate": "app_group=BSA+C5a<br>lda1=%{x}<br>lda2=%{y}<extra></extra>",
         "legendgroup": "BSA+C5a",
         "marker": {
          "color": "#00cc96",
          "symbol": "circle"
         },
         "mode": "markers",
         "name": "BSA+C5a",
         "orientation": "v",
         "showlegend": true,
         "type": "scatter",
         "x": [
          0.660319584573704,
          0.8391482101812889,
          0.7411519017235576,
          -1.0130930309607737,
          -0.079806266902783,
          -0.013499922340564624,
          -1.0557052514180723,
          0.4916651739801542,
          0.6038434652789741,
          -0.7690009881858246,
          0.9650374903002211,
          0.0715044285982927,
          -1.1467458782273166,
          0.3628397768725237,
          -0.4695438966470767,
          0.5487376956177717,
          0.9398794081663157,
          -1.629118652785226,
          -1.7110010101640944,
          0.17085224656807207,
          -0.2612664653029874,
          0.7722303353718993,
          0.5641256478775684,
          0.38547539618754184,
          0.8793106842240288,
          0.6067515885826554,
          0.23559986439483638,
          0.6530615783298036,
          1.1292355640359444,
          1.3728413510291282,
          0.28033056649366844,
          0.5473171428279379,
          0.6169916966128399,
          0.615321383093624,
          -0.31963984915843435,
          -0.7560637648850663,
          -0.9433623091488895,
          -0.9512495339684984,
          -0.29378556968275993,
          -0.8297531424109527,
          0.46408104655306814,
          1.00643626028177,
          0.22500643023554362,
          -0.0833727526906907,
          0.43604753764498094,
          1.3852358210212945,
          -1.3284580766381664,
          -0.8210983491489661,
          -1.121201999491478,
          -0.6157292576266099,
          -1.2418439687297458,
          -1.1047479319800744,
          0.5154502919824469,
          -1.0082997457467064,
          -0.10131919886442402,
          0.781438486430688,
          -0.9221686938721178,
          0.2299167015020372,
          -0.10631288895366807,
          -1.9860010999095117,
          1.82056011285013
         ],
         "xaxis": "x",
         "y": [
          -0.08507177106934301,
          3.09248171907358,
          1.6717884320256073,
          1.3151751602229467,
          0.0025274049064237694,
          0.8603732617484672,
          0.681575274584395,
          0.2789362404924272,
          0.276533743473913,
          0.07400488092010007,
          -0.8994655459536561,
          0.49757865155626635,
          -0.07989015510816971,
          -0.8065663179002358,
          -0.1680452665258011,
          -0.7860675432900964,
          -0.5976399094492695,
          -0.08700128177553722,
          -0.24112702505960226,
          -0.8155386424362783,
          -0.21781548642530144,
          -0.8206505743355917,
          -0.5494206016966082,
          0.844781466675385,
          -0.4918347592428014,
          -1.214218302964443,
          -0.7946616673011971,
          -1.200174619204194,
          -1.0074805888246454,
          -0.9127490118876417,
          0.031919107880812814,
          -1.0222846005763042,
          -1.1203240984560643,
          -1.2153514076828835,
          0.407894050033998,
          -0.06022983679766867,
          0.08867838100492535,
          -0.013313249179680948,
          -0.6281521264831945,
          -0.18204267595472706,
          -0.729618251840011,
          -0.6676297342929894,
          0.2903970878757617,
          -0.5536294756382494,
          -1.0158478858106585,
          -0.9474676380275437,
          0.5303408727515773,
          -0.5618507821308053,
          -0.1369422768862166,
          -0.6750729445706491,
          0.043224808576151366,
          -0.4181599416789914,
          -0.1850066936242431,
          -0.48642453211320813,
          -0.2577232062451017,
          -0.9816867181877817,
          0.8626042876082108,
          1.4740355469390045,
          0.4941453401483805,
          1.6856322790191078,
          3.9371585014997486
         ],
         "yaxis": "y"
        }
       ],
       "layout": {
        "legend": {
         "title": {
          "text": "app_group"
         },
         "tracegroupgap": 0
        },
        "margin": {
         "t": 60
        },
        "template": {
         "data": {
          "bar": [
           {
            "error_x": {
             "color": "#2a3f5f"
            },
            "error_y": {
             "color": "#2a3f5f"
            },
            "marker": {
             "line": {
              "color": "#E5ECF6",
              "width": 0.5
             },
             "pattern": {
              "fillmode": "overlay",
              "size": 10,
              "solidity": 0.2
             }
            },
            "type": "bar"
           }
          ],
          "barpolar": [
           {
            "marker": {
             "line": {
              "color": "#E5ECF6",
              "width": 0.5
             },
             "pattern": {
              "fillmode": "overlay",
              "size": 10,
              "solidity": 0.2
             }
            },
            "type": "barpolar"
           }
          ],
          "carpet": [
           {
            "aaxis": {
             "endlinecolor": "#2a3f5f",
             "gridcolor": "white",
             "linecolor": "white",
             "minorgridcolor": "white",
             "startlinecolor": "#2a3f5f"
            },
            "baxis": {
             "endlinecolor": "#2a3f5f",
             "gridcolor": "white",
             "linecolor": "white",
             "minorgridcolor": "white",
             "startlinecolor": "#2a3f5f"
            },
            "type": "carpet"
           }
          ],
          "choropleth": [
           {
            "colorbar": {
             "outlinewidth": 0,
             "ticks": ""
            },
            "type": "choropleth"
           }
          ],
          "contour": [
           {
            "colorbar": {
             "outlinewidth": 0,
             "ticks": ""
            },
            "colorscale": [
             [
              0,
              "#0d0887"
             ],
             [
              0.1111111111111111,
              "#46039f"
             ],
             [
              0.2222222222222222,
              "#7201a8"
             ],
             [
              0.3333333333333333,
              "#9c179e"
             ],
             [
              0.4444444444444444,
              "#bd3786"
             ],
             [
              0.5555555555555556,
              "#d8576b"
             ],
             [
              0.6666666666666666,
              "#ed7953"
             ],
             [
              0.7777777777777778,
              "#fb9f3a"
             ],
             [
              0.8888888888888888,
              "#fdca26"
             ],
             [
              1,
              "#f0f921"
             ]
            ],
            "type": "contour"
           }
          ],
          "contourcarpet": [
           {
            "colorbar": {
             "outlinewidth": 0,
             "ticks": ""
            },
            "type": "contourcarpet"
           }
          ],
          "heatmap": [
           {
            "colorbar": {
             "outlinewidth": 0,
             "ticks": ""
            },
            "colorscale": [
             [
              0,
              "#0d0887"
             ],
             [
              0.1111111111111111,
              "#46039f"
             ],
             [
              0.2222222222222222,
              "#7201a8"
             ],
             [
              0.3333333333333333,
              "#9c179e"
             ],
             [
              0.4444444444444444,
              "#bd3786"
             ],
             [
              0.5555555555555556,
              "#d8576b"
             ],
             [
              0.6666666666666666,
              "#ed7953"
             ],
             [
              0.7777777777777778,
              "#fb9f3a"
             ],
             [
              0.8888888888888888,
              "#fdca26"
             ],
             [
              1,
              "#f0f921"
             ]
            ],
            "type": "heatmap"
           }
          ],
          "heatmapgl": [
           {
            "colorbar": {
             "outlinewidth": 0,
             "ticks": ""
            },
            "colorscale": [
             [
              0,
              "#0d0887"
             ],
             [
              0.1111111111111111,
              "#46039f"
             ],
             [
              0.2222222222222222,
              "#7201a8"
             ],
             [
              0.3333333333333333,
              "#9c179e"
             ],
             [
              0.4444444444444444,
              "#bd3786"
             ],
             [
              0.5555555555555556,
              "#d8576b"
             ],
             [
              0.6666666666666666,
              "#ed7953"
             ],
             [
              0.7777777777777778,
              "#fb9f3a"
             ],
             [
              0.8888888888888888,
              "#fdca26"
             ],
             [
              1,
              "#f0f921"
             ]
            ],
            "type": "heatmapgl"
           }
          ],
          "histogram": [
           {
            "marker": {
             "pattern": {
              "fillmode": "overlay",
              "size": 10,
              "solidity": 0.2
             }
            },
            "type": "histogram"
           }
          ],
          "histogram2d": [
           {
            "colorbar": {
             "outlinewidth": 0,
             "ticks": ""
            },
            "colorscale": [
             [
              0,
              "#0d0887"
             ],
             [
              0.1111111111111111,
              "#46039f"
             ],
             [
              0.2222222222222222,
              "#7201a8"
             ],
             [
              0.3333333333333333,
              "#9c179e"
             ],
             [
              0.4444444444444444,
              "#bd3786"
             ],
             [
              0.5555555555555556,
              "#d8576b"
             ],
             [
              0.6666666666666666,
              "#ed7953"
             ],
             [
              0.7777777777777778,
              "#fb9f3a"
             ],
             [
              0.8888888888888888,
              "#fdca26"
             ],
             [
              1,
              "#f0f921"
             ]
            ],
            "type": "histogram2d"
           }
          ],
          "histogram2dcontour": [
           {
            "colorbar": {
             "outlinewidth": 0,
             "ticks": ""
            },
            "colorscale": [
             [
              0,
              "#0d0887"
             ],
             [
              0.1111111111111111,
              "#46039f"
             ],
             [
              0.2222222222222222,
              "#7201a8"
             ],
             [
              0.3333333333333333,
              "#9c179e"
             ],
             [
              0.4444444444444444,
              "#bd3786"
             ],
             [
              0.5555555555555556,
              "#d8576b"
             ],
             [
              0.6666666666666666,
              "#ed7953"
             ],
             [
              0.7777777777777778,
              "#fb9f3a"
             ],
             [
              0.8888888888888888,
              "#fdca26"
             ],
             [
              1,
              "#f0f921"
             ]
            ],
            "type": "histogram2dcontour"
           }
          ],
          "mesh3d": [
           {
            "colorbar": {
             "outlinewidth": 0,
             "ticks": ""
            },
            "type": "mesh3d"
           }
          ],
          "parcoords": [
           {
            "line": {
             "colorbar": {
              "outlinewidth": 0,
              "ticks": ""
             }
            },
            "type": "parcoords"
           }
          ],
          "pie": [
           {
            "automargin": true,
            "type": "pie"
           }
          ],
          "scatter": [
           {
            "fillpattern": {
             "fillmode": "overlay",
             "size": 10,
             "solidity": 0.2
            },
            "type": "scatter"
           }
          ],
          "scatter3d": [
           {
            "line": {
             "colorbar": {
              "outlinewidth": 0,
              "ticks": ""
             }
            },
            "marker": {
             "colorbar": {
              "outlinewidth": 0,
              "ticks": ""
             }
            },
            "type": "scatter3d"
           }
          ],
          "scattercarpet": [
           {
            "marker": {
             "colorbar": {
              "outlinewidth": 0,
              "ticks": ""
             }
            },
            "type": "scattercarpet"
           }
          ],
          "scattergeo": [
           {
            "marker": {
             "colorbar": {
              "outlinewidth": 0,
              "ticks": ""
             }
            },
            "type": "scattergeo"
           }
          ],
          "scattergl": [
           {
            "marker": {
             "colorbar": {
              "outlinewidth": 0,
              "ticks": ""
             }
            },
            "type": "scattergl"
           }
          ],
          "scattermapbox": [
           {
            "marker": {
             "colorbar": {
              "outlinewidth": 0,
              "ticks": ""
             }
            },
            "type": "scattermapbox"
           }
          ],
          "scatterpolar": [
           {
            "marker": {
             "colorbar": {
              "outlinewidth": 0,
              "ticks": ""
             }
            },
            "type": "scatterpolar"
           }
          ],
          "scatterpolargl": [
           {
            "marker": {
             "colorbar": {
              "outlinewidth": 0,
              "ticks": ""
             }
            },
            "type": "scatterpolargl"
           }
          ],
          "scatterternary": [
           {
            "marker": {
             "colorbar": {
              "outlinewidth": 0,
              "ticks": ""
             }
            },
            "type": "scatterternary"
           }
          ],
          "surface": [
           {
            "colorbar": {
             "outlinewidth": 0,
             "ticks": ""
            },
            "colorscale": [
             [
              0,
              "#0d0887"
             ],
             [
              0.1111111111111111,
              "#46039f"
             ],
             [
              0.2222222222222222,
              "#7201a8"
             ],
             [
              0.3333333333333333,
              "#9c179e"
             ],
             [
              0.4444444444444444,
              "#bd3786"
             ],
             [
              0.5555555555555556,
              "#d8576b"
             ],
             [
              0.6666666666666666,
              "#ed7953"
             ],
             [
              0.7777777777777778,
              "#fb9f3a"
             ],
             [
              0.8888888888888888,
              "#fdca26"
             ],
             [
              1,
              "#f0f921"
             ]
            ],
            "type": "surface"
           }
          ],
          "table": [
           {
            "cells": {
             "fill": {
              "color": "#EBF0F8"
             },
             "line": {
              "color": "white"
             }
            },
            "header": {
             "fill": {
              "color": "#C8D4E3"
             },
             "line": {
              "color": "white"
             }
            },
            "type": "table"
           }
          ]
         },
         "layout": {
          "annotationdefaults": {
           "arrowcolor": "#2a3f5f",
           "arrowhead": 0,
           "arrowwidth": 1
          },
          "autotypenumbers": "strict",
          "coloraxis": {
           "colorbar": {
            "outlinewidth": 0,
            "ticks": ""
           }
          },
          "colorscale": {
           "diverging": [
            [
             0,
             "#8e0152"
            ],
            [
             0.1,
             "#c51b7d"
            ],
            [
             0.2,
             "#de77ae"
            ],
            [
             0.3,
             "#f1b6da"
            ],
            [
             0.4,
             "#fde0ef"
            ],
            [
             0.5,
             "#f7f7f7"
            ],
            [
             0.6,
             "#e6f5d0"
            ],
            [
             0.7,
             "#b8e186"
            ],
            [
             0.8,
             "#7fbc41"
            ],
            [
             0.9,
             "#4d9221"
            ],
            [
             1,
             "#276419"
            ]
           ],
           "sequential": [
            [
             0,
             "#0d0887"
            ],
            [
             0.1111111111111111,
             "#46039f"
            ],
            [
             0.2222222222222222,
             "#7201a8"
            ],
            [
             0.3333333333333333,
             "#9c179e"
            ],
            [
             0.4444444444444444,
             "#bd3786"
            ],
            [
             0.5555555555555556,
             "#d8576b"
            ],
            [
             0.6666666666666666,
             "#ed7953"
            ],
            [
             0.7777777777777778,
             "#fb9f3a"
            ],
            [
             0.8888888888888888,
             "#fdca26"
            ],
            [
             1,
             "#f0f921"
            ]
           ],
           "sequentialminus": [
            [
             0,
             "#0d0887"
            ],
            [
             0.1111111111111111,
             "#46039f"
            ],
            [
             0.2222222222222222,
             "#7201a8"
            ],
            [
             0.3333333333333333,
             "#9c179e"
            ],
            [
             0.4444444444444444,
             "#bd3786"
            ],
            [
             0.5555555555555556,
             "#d8576b"
            ],
            [
             0.6666666666666666,
             "#ed7953"
            ],
            [
             0.7777777777777778,
             "#fb9f3a"
            ],
            [
             0.8888888888888888,
             "#fdca26"
            ],
            [
             1,
             "#f0f921"
            ]
           ]
          },
          "colorway": [
           "#636efa",
           "#EF553B",
           "#00cc96",
           "#ab63fa",
           "#FFA15A",
           "#19d3f3",
           "#FF6692",
           "#B6E880",
           "#FF97FF",
           "#FECB52"
          ],
          "font": {
           "color": "#2a3f5f"
          },
          "geo": {
           "bgcolor": "white",
           "lakecolor": "white",
           "landcolor": "#E5ECF6",
           "showlakes": true,
           "showland": true,
           "subunitcolor": "white"
          },
          "hoverlabel": {
           "align": "left"
          },
          "hovermode": "closest",
          "mapbox": {
           "style": "light"
          },
          "paper_bgcolor": "white",
          "plot_bgcolor": "#E5ECF6",
          "polar": {
           "angularaxis": {
            "gridcolor": "white",
            "linecolor": "white",
            "ticks": ""
           },
           "bgcolor": "#E5ECF6",
           "radialaxis": {
            "gridcolor": "white",
            "linecolor": "white",
            "ticks": ""
           }
          },
          "scene": {
           "xaxis": {
            "backgroundcolor": "#E5ECF6",
            "gridcolor": "white",
            "gridwidth": 2,
            "linecolor": "white",
            "showbackground": true,
            "ticks": "",
            "zerolinecolor": "white"
           },
           "yaxis": {
            "backgroundcolor": "#E5ECF6",
            "gridcolor": "white",
            "gridwidth": 2,
            "linecolor": "white",
            "showbackground": true,
            "ticks": "",
            "zerolinecolor": "white"
           },
           "zaxis": {
            "backgroundcolor": "#E5ECF6",
            "gridcolor": "white",
            "gridwidth": 2,
            "linecolor": "white",
            "showbackground": true,
            "ticks": "",
            "zerolinecolor": "white"
           }
          },
          "shapedefaults": {
           "line": {
            "color": "#2a3f5f"
           }
          },
          "ternary": {
           "aaxis": {
            "gridcolor": "white",
            "linecolor": "white",
            "ticks": ""
           },
           "baxis": {
            "gridcolor": "white",
            "linecolor": "white",
            "ticks": ""
           },
           "bgcolor": "#E5ECF6",
           "caxis": {
            "gridcolor": "white",
            "linecolor": "white",
            "ticks": ""
           }
          },
          "title": {
           "x": 0.05
          },
          "xaxis": {
           "automargin": true,
           "gridcolor": "white",
           "linecolor": "white",
           "ticks": "",
           "title": {
            "standoff": 15
           },
           "zerolinecolor": "white",
           "zerolinewidth": 2
          },
          "yaxis": {
           "automargin": true,
           "gridcolor": "white",
           "linecolor": "white",
           "ticks": "",
           "title": {
            "standoff": 15
           },
           "zerolinecolor": "white",
           "zerolinewidth": 2
          }
         }
        },
        "xaxis": {
         "anchor": "y",
         "domain": [
          0,
          1
         ],
         "title": {
          "text": "lda1"
         }
        },
        "yaxis": {
         "anchor": "x",
         "domain": [
          0,
          1
         ],
         "title": {
          "text": "lda2"
         }
        }
       }
      }
     },
     "metadata": {},
     "output_type": "display_data"
    }
   ],
   "source": [
    "def LDA_calc(features_vals, factor_df, group_column=None):\n",
    "    tic = time.perf_counter()\n",
    "\n",
    "    group_vals = factor_df.loc[:,group_column].values\n",
    "\n",
    "    lda = LDA()\n",
    "    lda_fit = lda.fit_transform(X=features_vals, y=group_vals)\n",
    "    df_lda = pd.DataFrame({'lda1':lda_fit[:,0], 'lda2':lda_fit[:,1]})\n",
    "    df_lda = pd.concat([factor_df, df_lda], axis = 1)\n",
    "\n",
    "    toc = time.perf_counter()\n",
    "    logging.info(f'PCA calc in {toc - tic:0.4f} seconds')\n",
    "    return df_lda\n",
    "\n",
    "features_vals = work_df[['rise', 'decay', 'FWHM', 'integral_abs', 'amp_dF']].values\n",
    "factor_df = work_df[['sample', 'comp', 'app_group', 'peak_i', 'peak_time', ]]\n",
    "lda_df = LDA_calc(features_vals=features_vals, factor_df=factor_df, group_column='app_group')\n",
    "\n",
    "\n",
    "print(lda_df.head())\n",
    "\n",
    "# plotting\n",
    "# fig = px.box(lda_df, x=\"app_group\", y=\"lda\", color='app_group', points='all')\n",
    "fig = px.scatter(lda_df, x=\"lda1\", y=\"lda2\", color='app_group')\n",
    "fig.show()"
   ]
  },
  {
   "attachments": {},
   "cell_type": "markdown",
   "metadata": {},
   "source": [
    "## Clustergram"
   ]
  },
  {
   "cell_type": "code",
   "execution_count": null,
   "metadata": {},
   "outputs": [],
   "source": [
    "cgram = CGram(range(1, 16), n_init=1000)\n",
    "\n",
    "cgram.fit(norm_df.iloc[:,6:])"
   ]
  },
  {
   "cell_type": "code",
   "execution_count": null,
   "metadata": {},
   "outputs": [],
   "source": [
    "ax = cgram.plot(figsize=(10, 8))\n",
    "ax.yaxis.grid(False)"
   ]
  }
 ],
 "metadata": {
  "kernelspec": {
   "display_name": "caiman",
   "language": "python",
   "name": "python3"
  },
  "language_info": {
   "codemirror_mode": {
    "name": "ipython",
    "version": 3
   },
   "file_extension": ".py",
   "mimetype": "text/x-python",
   "name": "python",
   "nbconvert_exporter": "python",
   "pygments_lexer": "ipython3",
   "version": "3.10.8"
  },
  "orig_nbformat": 4,
  "vscode": {
   "interpreter": {
    "hash": "29b2b70970d54890c2ecd25b23b96024fbcef9a6a76cf3bb8bb780f56e497e25"
   }
  }
 },
 "nbformat": 4,
 "nbformat_minor": 2
}
