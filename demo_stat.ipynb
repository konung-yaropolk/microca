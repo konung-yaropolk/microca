{
 "cells": [
  {
   "cell_type": "code",
   "execution_count": null,
   "metadata": {},
   "outputs": [],
   "source": [
    "import os\n",
    "import glob\n",
    "import logging\n",
    "import time\n",
    "\n",
    "import matplotlib.pyplot as plt\n",
    "import plotly.express as px\n",
    "\n",
    "import numpy as np\n",
    "import pandas as pd\n",
    "from clustergram import Clustergram as CGram\n",
    "\n",
    "import scipy\n",
    "from scipy import signal\n",
    "from scipy import stats\n",
    "\n",
    "from sklearn.decomposition import PCA\n",
    "from sklearn.discriminant_analysis import LinearDiscriminantAnalysis as LDA\n",
    "from sklearn.manifold import TSNE\n",
    "from sklearn.linear_model import LogisticRegression as LR"
   ]
  },
  {
   "attachments": {},
   "cell_type": "markdown",
   "metadata": {},
   "source": [
    "# Dim. reduction and clasterization"
   ]
  },
  {
   "attachments": {},
   "cell_type": "markdown",
   "metadata": {},
   "source": [
    "## Preprocessing"
   ]
  },
  {
   "attachments": {},
   "cell_type": "markdown",
   "metadata": {},
   "source": [
    "#### Raw/norm data frames"
   ]
  },
  {
   "cell_type": "code",
   "execution_count": null,
   "metadata": {},
   "outputs": [],
   "source": [
    "pf_df = pd.read_csv('???')\n",
    "\n",
    "abs_df = pf_df.copy()\n",
    "abs_df = abs_df.iloc[:,:12]\n",
    "\n",
    "norm_df = pf_df.copy()\n",
    "norm_df = norm_df.drop(list(norm_df.columns[9:12]), axis=1)\n",
    "\n",
    "opti_df = pf_df.copy()\n",
    "\n",
    "\n",
    "work_df = abs_df"
   ]
  },
  {
   "attachments": {},
   "cell_type": "markdown",
   "metadata": {},
   "source": [
    "#### Features importance estimation"
   ]
  },
  {
   "cell_type": "code",
   "execution_count": null,
   "metadata": {},
   "outputs": [],
   "source": [
    "# https://python-bloggers.com/2021/01/3-essential-ways-to-calculate-feature-importance-in-python/\n",
    "\n",
    "abs_features_vals = abs_df.iloc[:,6:].values\n",
    "\n",
    "abs_pca = PCA()\n",
    "abs_features_pca = abs_pca.fit(X=abs_features_vals)\n",
    "\n",
    "print(abs_features_pca)\n",
    "\n",
    "plt.plot(abs_features_pca.explained_variance_ratio_.cumsum(), lw=3, color='#087E8B')\n",
    "plt.show()\n"
   ]
  },
  {
   "attachments": {},
   "cell_type": "markdown",
   "metadata": {},
   "source": [
    "## PCA"
   ]
  },
  {
   "attachments": {},
   "cell_type": "markdown",
   "metadata": {},
   "source": [
    "#### PCA calc"
   ]
  },
  {
   "cell_type": "code",
   "execution_count": null,
   "metadata": {},
   "outputs": [],
   "source": [
    "def PCA_calc(features_vals, factor_df, n=2):\n",
    "    tic = time.perf_counter()\n",
    "\n",
    "    if n == 2:\n",
    "        ax_list = ['x', 'y']\n",
    "    elif n == 3:\n",
    "        ax_list = ['x', 'y', 'z']\n",
    "    else:\n",
    "        logging.fatal('Incorrect dimension number!')\n",
    "\n",
    "    pca = PCA(n_components=n)\n",
    "    principal_res = pca.fit_transform(features_vals)\n",
    "    df_principal = pd.DataFrame(data = principal_res,\n",
    "                                columns = ax_list)\n",
    "    df_principal = pd.concat([factor_df, df_principal], axis = 1)\n",
    "\n",
    "    toc = time.perf_counter()\n",
    "    logging.info(f'PCA calc in {toc - tic:0.4f} seconds')\n",
    "    return df_principal\n",
    "\n",
    "n_components = 3\n",
    "features_vals = abs_df.iloc[:,6:].values\n",
    "factor_df = abs_df.iloc[:,:6]\n",
    "\n",
    "pca_df = PCA_calc(features_vals=features_vals, factor_df=factor_df, n=n_components)"
   ]
  },
  {
   "attachments": {},
   "cell_type": "markdown",
   "metadata": {},
   "source": [
    "#### PCA plot"
   ]
  },
  {
   "cell_type": "code",
   "execution_count": null,
   "metadata": {},
   "outputs": [],
   "source": [
    "group_factor = 'app_group'\n",
    "\n",
    "if n_components == 2:\n",
    "    fig = px.scatter(pca_df,\n",
    "                     x='x', y='y',\n",
    "                     color=group_factor,\n",
    "                     symbol=group_factor)\n",
    "    dot_size = 6\n",
    "elif n_components == 3:\n",
    "    fig = px.scatter_3d(pca_df,\n",
    "                        x='x', y='y', z='z',\n",
    "                        color=group_factor,\n",
    "                        symbol=group_factor)\n",
    "    dot_size = 2\n",
    "else:\n",
    "    logging.fatal('Incorrect n')\n",
    "\n",
    "fig.update_traces(marker=dict(size=5))\n",
    "fig.update_layout(margin=dict(l=0, r=0, b=0, t=0),\n",
    "                  legend= {'itemsizing': 'constant'},\n",
    "                  scene=dict(xaxis=dict(showaxeslabels=False, showticklabels=False, showbackground=False, title=''),\n",
    "                             yaxis=dict(showaxeslabels=False, showticklabels=False, showbackground=False, title=''), \n",
    "                             zaxis=dict(showaxeslabels=False, showticklabels=False, showbackground=False, title='')))\n",
    "fig.show()"
   ]
  },
  {
   "attachments": {},
   "cell_type": "markdown",
   "metadata": {},
   "source": [
    "## LDA"
   ]
  },
  {
   "attachments": {},
   "cell_type": "markdown",
   "metadata": {},
   "source": [
    "#### LDA calc"
   ]
  },
  {
   "cell_type": "code",
   "execution_count": null,
   "metadata": {},
   "outputs": [],
   "source": [
    "def LDA_calc(features_vals, factor_df, group_column=None):\n",
    "    tic = time.perf_counter()\n",
    "\n",
    "    group_vals = factor_df.loc[:,group_column].values\n",
    "\n",
    "    lda = LDA()\n",
    "    lda_fit = lda.fit_transform(X=features_vals, y=group_vals)\n",
    "    df_lda = pd.DataFrame({'lda':lda_fit[:,0]})\n",
    "    df_lda = pd.concat([factor_df, df_lda], axis = 1)\n",
    "\n",
    "    toc = time.perf_counter()\n",
    "    logging.info(f'PCA calc in {toc - tic:0.4f} seconds')\n",
    "    return df_lda\n",
    "\n",
    "features_vals = norm_df.iloc[:,6:].values\n",
    "lda_df = LDA_calc(features_vals=features_vals, factor_df=norm_df.iloc[:,:6], group_column='app_group')\n",
    "\n",
    "# plotting\n",
    "fig = px.box(lda_df, x=\"app_group\", y=\"lda\", color='app_group', points='all')\n",
    "fig.show()"
   ]
  },
  {
   "attachments": {},
   "cell_type": "markdown",
   "metadata": {},
   "source": [
    "## Clustergram"
   ]
  },
  {
   "cell_type": "code",
   "execution_count": null,
   "metadata": {},
   "outputs": [],
   "source": [
    "cgram = CGram(range(1, 16), n_init=1000)\n",
    "\n",
    "cgram.fit(norm_df.iloc[:,6:])"
   ]
  },
  {
   "cell_type": "code",
   "execution_count": null,
   "metadata": {},
   "outputs": [],
   "source": [
    "ax = cgram.plot(figsize=(10, 8))\n",
    "ax.yaxis.grid(False)"
   ]
  }
 ],
 "metadata": {
  "kernelspec": {
   "display_name": "caiman",
   "language": "python",
   "name": "python3"
  },
  "language_info": {
   "name": "python",
   "version": "3.10.8"
  },
  "orig_nbformat": 4,
  "vscode": {
   "interpreter": {
    "hash": "29b2b70970d54890c2ecd25b23b96024fbcef9a6a76cf3bb8bb780f56e497e25"
   }
  }
 },
 "nbformat": 4,
 "nbformat_minor": 2
}
